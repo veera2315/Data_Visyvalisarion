{
 "cells": [
  {
   "cell_type": "code",
   "execution_count": 1,
   "id": "db7c3bae",
   "metadata": {},
   "outputs": [],
   "source": [
    "import pandas as pd\n",
    "import sys,os\n",
    "import numpy as np\n",
    "%matplotlib inline\n",
    "import matplotlib.pyplot as plt\n",
    "import seaborn as sns"
   ]
  },
  {
   "cell_type": "code",
   "execution_count": 2,
   "id": "2d639210",
   "metadata": {},
   "outputs": [
    {
     "data": {
      "text/plain": [
       "'C:\\\\Users\\\\EFNYM'"
      ]
     },
     "execution_count": 2,
     "metadata": {},
     "output_type": "execute_result"
    }
   ],
   "source": [
    "os.getcwd()"
   ]
  },
  {
   "cell_type": "code",
   "execution_count": 3,
   "id": "cecf4b21",
   "metadata": {},
   "outputs": [],
   "source": [
    "os.chdir('C:\\\\krish workspace\\\\Indian Advisors')"
   ]
  },
  {
   "cell_type": "code",
   "execution_count": 4,
   "id": "dd6c1561",
   "metadata": {},
   "outputs": [
    {
     "data": {
      "text/plain": [
       "['Advisors2021_80Sale.xlsx',\n",
       " 'India Advisor Details 2021.xlsx',\n",
       " 'India Advisor Details 2022.xlsx']"
      ]
     },
     "execution_count": 4,
     "metadata": {},
     "output_type": "execute_result"
    }
   ],
   "source": [
    "os.listdir()"
   ]
  },
  {
   "cell_type": "markdown",
   "id": "bdd67514",
   "metadata": {},
   "source": [
    "# Reading source file"
   ]
  },
  {
   "cell_type": "code",
   "execution_count": 5,
   "id": "d66ee5e3",
   "metadata": {},
   "outputs": [],
   "source": [
    "DATA = pd.read_excel(r'India Advisor Details 2022.xlsx',sheet_name='Sheet 1')"
   ]
  },
  {
   "cell_type": "code",
   "execution_count": 6,
   "id": "b3e09321",
   "metadata": {},
   "outputs": [
    {
     "data": {
      "text/plain": [
       "(182671, 35)"
      ]
     },
     "execution_count": 6,
     "metadata": {},
     "output_type": "execute_result"
    }
   ],
   "source": [
    "DATA.shape"
   ]
  },
  {
   "cell_type": "code",
   "execution_count": 7,
   "id": "114d1a07",
   "metadata": {},
   "outputs": [
    {
     "data": {
      "text/plain": [
       "index                                                 object\n",
       "Advisor name                                          object\n",
       "Retailer Name                                         object\n",
       "Retailer ID                                           object\n",
       "Advisor ID                                            object\n",
       "Month of Order Intent Created Date                    object\n",
       "Advisor Phone Number                                   int64\n",
       "Country Code                                          object\n",
       "Hierarchy Level 3                                     object\n",
       "Hierarchy Level 2                                     object\n",
       "Hierarchy Level 1                                     object\n",
       "Advisor Type                                          object\n",
       "Product category                                      object\n",
       "Product Brand                                         object\n",
       "Product Name                                          object\n",
       "Unit                                                  object\n",
       "Total Order Intents                                    int64\n",
       "Distinct count of Cancelled Order Intents              int64\n",
       "Farmers with Intent                                    int64\n",
       "Farmers with multiple Intents                          int64\n",
       "Farmers with Purchase                                  int64\n",
       "Distinct count of Farmers with multiple purchases      int64\n",
       "Farmer Conversion                                    float64\n",
       "Active Retailers                                       int64\n",
       "Volume Intent                                        float64\n",
       "Volume Cancelled                                     float64\n",
       "Volume Purchased                                     float64\n",
       "Returned Volume                                      float64\n",
       "Avg Volume Sold per Farmers                          float64\n",
       "Total Intent Value                                   float64\n",
       "Cancelled Order Value                                float64\n",
       "Sales Value                                          float64\n",
       "Avg Sales per Farmer                                 float64\n",
       "Actual Commission                                    float64\n",
       "Intended Commission                                  float64\n",
       "dtype: object"
      ]
     },
     "execution_count": 7,
     "metadata": {},
     "output_type": "execute_result"
    }
   ],
   "source": [
    "DATA.dtypes"
   ]
  },
  {
   "cell_type": "markdown",
   "id": "9e5f5fb3",
   "metadata": {},
   "source": [
    "# first finding total sales value from the dataset"
   ]
  },
  {
   "cell_type": "code",
   "execution_count": 8,
   "id": "425755fe",
   "metadata": {},
   "outputs": [],
   "source": [
    "#adv=DATA.groupby([\"Advisor name\"])[\"Sales Value\"].sum().rename(\"SumSales\").reset_index()"
   ]
  },
  {
   "cell_type": "code",
   "execution_count": 9,
   "id": "0346b163",
   "metadata": {},
   "outputs": [
    {
     "data": {
      "text/html": [
       "<div>\n",
       "<style scoped>\n",
       "    .dataframe tbody tr th:only-of-type {\n",
       "        vertical-align: middle;\n",
       "    }\n",
       "\n",
       "    .dataframe tbody tr th {\n",
       "        vertical-align: top;\n",
       "    }\n",
       "\n",
       "    .dataframe thead th {\n",
       "        text-align: right;\n",
       "    }\n",
       "</style>\n",
       "<table border=\"1\" class=\"dataframe\">\n",
       "  <thead>\n",
       "    <tr style=\"text-align: right;\">\n",
       "      <th></th>\n",
       "      <th>Advisor name</th>\n",
       "      <th>SumSales</th>\n",
       "    </tr>\n",
       "  </thead>\n",
       "  <tbody>\n",
       "    <tr>\n",
       "      <th>0</th>\n",
       "      <td>A Bharath</td>\n",
       "      <td>5188.0</td>\n",
       "    </tr>\n",
       "    <tr>\n",
       "      <th>1</th>\n",
       "      <td>A Nagaraju</td>\n",
       "      <td>4191686.0</td>\n",
       "    </tr>\n",
       "    <tr>\n",
       "      <th>2</th>\n",
       "      <td>A PRASAD</td>\n",
       "      <td>90162.0</td>\n",
       "    </tr>\n",
       "    <tr>\n",
       "      <th>3</th>\n",
       "      <td>A S MAHENDRAGOUDA</td>\n",
       "      <td>2980.0</td>\n",
       "    </tr>\n",
       "    <tr>\n",
       "      <th>4</th>\n",
       "      <td>A Swamy</td>\n",
       "      <td>959.0</td>\n",
       "    </tr>\n",
       "    <tr>\n",
       "      <th>...</th>\n",
       "      <td>...</td>\n",
       "      <td>...</td>\n",
       "    </tr>\n",
       "    <tr>\n",
       "      <th>3762</th>\n",
       "      <td>yogesh khadak</td>\n",
       "      <td>92430.0</td>\n",
       "    </tr>\n",
       "    <tr>\n",
       "      <th>3763</th>\n",
       "      <td>yogesh kumar</td>\n",
       "      <td>3454216.0</td>\n",
       "    </tr>\n",
       "    <tr>\n",
       "      <th>3764</th>\n",
       "      <td>yogesh saini</td>\n",
       "      <td>576575.0</td>\n",
       "    </tr>\n",
       "    <tr>\n",
       "      <th>3765</th>\n",
       "      <td>जितेंद्र गुप्ता</td>\n",
       "      <td>10592.0</td>\n",
       "    </tr>\n",
       "    <tr>\n",
       "      <th>3766</th>\n",
       "      <td>शोभा वैष्णव</td>\n",
       "      <td>10544.0</td>\n",
       "    </tr>\n",
       "  </tbody>\n",
       "</table>\n",
       "<p>3767 rows × 2 columns</p>\n",
       "</div>"
      ],
      "text/plain": [
       "           Advisor name   SumSales\n",
       "0             A Bharath     5188.0\n",
       "1            A Nagaraju  4191686.0\n",
       "2              A PRASAD    90162.0\n",
       "3     A S MAHENDRAGOUDA     2980.0\n",
       "4               A Swamy      959.0\n",
       "...                 ...        ...\n",
       "3762      yogesh khadak    92430.0\n",
       "3763       yogesh kumar  3454216.0\n",
       "3764       yogesh saini   576575.0\n",
       "3765    जितेंद्र गुप्ता    10592.0\n",
       "3766        शोभा वैष्णव    10544.0\n",
       "\n",
       "[3767 rows x 2 columns]"
      ]
     },
     "execution_count": 9,
     "metadata": {},
     "output_type": "execute_result"
    }
   ],
   "source": [
    "#adv"
   ]
  },
  {
   "cell_type": "code",
   "execution_count": 10,
   "id": "f886ab38",
   "metadata": {},
   "outputs": [],
   "source": [
    "total_sales=DATA[\"Sales Value\"].sum()"
   ]
  },
  {
   "cell_type": "code",
   "execution_count": 11,
   "id": "e1a93f8c",
   "metadata": {},
   "outputs": [
    {
     "data": {
      "text/plain": [
       "3362276288.8239317"
      ]
     },
     "execution_count": 11,
     "metadata": {},
     "output_type": "execute_result"
    }
   ],
   "source": [
    "total_sales"
   ]
  },
  {
   "cell_type": "markdown",
   "id": "bc51758c",
   "metadata": {},
   "source": [
    "# method sorting & filter out using CUMSUM & Numpy"
   ]
  },
  {
   "cell_type": "code",
   "execution_count": 14,
   "id": "db09c59c",
   "metadata": {},
   "outputs": [],
   "source": [
    "Advisorslist = pd.DataFrame().assign(Advisor=DATA['Advisor name'], salesvalue=DATA['Sales Value'])"
   ]
  },
  {
   "cell_type": "code",
   "execution_count": 15,
   "id": "6c87f256",
   "metadata": {},
   "outputs": [
    {
     "data": {
      "text/html": [
       "<div>\n",
       "<style scoped>\n",
       "    .dataframe tbody tr th:only-of-type {\n",
       "        vertical-align: middle;\n",
       "    }\n",
       "\n",
       "    .dataframe tbody tr th {\n",
       "        vertical-align: top;\n",
       "    }\n",
       "\n",
       "    .dataframe thead th {\n",
       "        text-align: right;\n",
       "    }\n",
       "</style>\n",
       "<table border=\"1\" class=\"dataframe\">\n",
       "  <thead>\n",
       "    <tr style=\"text-align: right;\">\n",
       "      <th></th>\n",
       "      <th>Advisor</th>\n",
       "      <th>salesvalue</th>\n",
       "    </tr>\n",
       "  </thead>\n",
       "  <tbody>\n",
       "    <tr>\n",
       "      <th>0</th>\n",
       "      <td>A Bharath</td>\n",
       "      <td>0.0</td>\n",
       "    </tr>\n",
       "    <tr>\n",
       "      <th>1</th>\n",
       "      <td>A Bharath</td>\n",
       "      <td>4908.0</td>\n",
       "    </tr>\n",
       "    <tr>\n",
       "      <th>2</th>\n",
       "      <td>A Bharath</td>\n",
       "      <td>280.0</td>\n",
       "    </tr>\n",
       "    <tr>\n",
       "      <th>3</th>\n",
       "      <td>A Nagaraju</td>\n",
       "      <td>0.0</td>\n",
       "    </tr>\n",
       "    <tr>\n",
       "      <th>4</th>\n",
       "      <td>A Nagaraju</td>\n",
       "      <td>0.0</td>\n",
       "    </tr>\n",
       "    <tr>\n",
       "      <th>...</th>\n",
       "      <td>...</td>\n",
       "      <td>...</td>\n",
       "    </tr>\n",
       "    <tr>\n",
       "      <th>182666</th>\n",
       "      <td>शोभा वैष्णव</td>\n",
       "      <td>225.0</td>\n",
       "    </tr>\n",
       "    <tr>\n",
       "      <th>182667</th>\n",
       "      <td>शोभा वैष्णव</td>\n",
       "      <td>2730.0</td>\n",
       "    </tr>\n",
       "    <tr>\n",
       "      <th>182668</th>\n",
       "      <td>शोभा वैष्णव</td>\n",
       "      <td>649.0</td>\n",
       "    </tr>\n",
       "    <tr>\n",
       "      <th>182669</th>\n",
       "      <td>शोभा वैष्णव</td>\n",
       "      <td>2324.0</td>\n",
       "    </tr>\n",
       "    <tr>\n",
       "      <th>182670</th>\n",
       "      <td>शोभा वैष्णव</td>\n",
       "      <td>835.0</td>\n",
       "    </tr>\n",
       "  </tbody>\n",
       "</table>\n",
       "<p>182671 rows × 2 columns</p>\n",
       "</div>"
      ],
      "text/plain": [
       "            Advisor  salesvalue\n",
       "0         A Bharath         0.0\n",
       "1         A Bharath      4908.0\n",
       "2         A Bharath       280.0\n",
       "3        A Nagaraju         0.0\n",
       "4        A Nagaraju         0.0\n",
       "...             ...         ...\n",
       "182666  शोभा वैष्णव       225.0\n",
       "182667  शोभा वैष्णव      2730.0\n",
       "182668  शोभा वैष्णव       649.0\n",
       "182669  शोभा वैष्णव      2324.0\n",
       "182670  शोभा वैष्णव       835.0\n",
       "\n",
       "[182671 rows x 2 columns]"
      ]
     },
     "execution_count": 15,
     "metadata": {},
     "output_type": "execute_result"
    }
   ],
   "source": [
    "Advisorslist "
   ]
  },
  {
   "cell_type": "code",
   "execution_count": 18,
   "id": "57c7a190",
   "metadata": {},
   "outputs": [],
   "source": [
    "cumsum=(Advisorslist[\"salesvalue\"]/Advisorslist[\"salesvalue\"].sum()).sort_values().cumsum()"
   ]
  },
  {
   "cell_type": "code",
   "execution_count": 19,
   "id": "fa27bb1e",
   "metadata": {},
   "outputs": [],
   "source": [
    "Advisorslist[\"label\"]=pd.Series(0, index=cumsum.index).where(cumsum <= 0.2, 1)"
   ]
  },
  {
   "cell_type": "code",
   "execution_count": 20,
   "id": "bec8c247",
   "metadata": {},
   "outputs": [
    {
     "name": "stdout",
     "output_type": "stream",
     "text": [
      "            Advisor  salesvalue  label\n",
      "0         A Bharath         0.0      0\n",
      "1         A Bharath      4908.0      0\n",
      "2         A Bharath       280.0      0\n",
      "3        A Nagaraju         0.0      0\n",
      "4        A Nagaraju         0.0      0\n",
      "...             ...         ...    ...\n",
      "182666  शोभा वैष्णव       225.0      0\n",
      "182667  शोभा वैष्णव      2730.0      0\n",
      "182668  शोभा वैष्णव       649.0      0\n",
      "182669  शोभा वैष्णव      2324.0      0\n",
      "182670  शोभा वैष्णव       835.0      0\n",
      "\n",
      "[182671 rows x 3 columns]\n"
     ]
    }
   ],
   "source": [
    "print(Advisorslist)"
   ]
  },
  {
   "cell_type": "code",
   "execution_count": 21,
   "id": "3ef46403",
   "metadata": {},
   "outputs": [],
   "source": [
    "idx=np.where(Advisorslist['label']==1)"
   ]
  },
  {
   "cell_type": "code",
   "execution_count": 22,
   "id": "9bdbebfb",
   "metadata": {},
   "outputs": [
    {
     "data": {
      "text/plain": [
       "(array([    20,     21,     25, ..., 182592, 182603, 182605], dtype=int64),)"
      ]
     },
     "execution_count": 22,
     "metadata": {},
     "output_type": "execute_result"
    }
   ],
   "source": [
    "idx"
   ]
  },
  {
   "cell_type": "code",
   "execution_count": 23,
   "id": "7d62da92",
   "metadata": {},
   "outputs": [],
   "source": [
    "advisorsinfo=Advisorslist.loc[idx].reset_index()"
   ]
  },
  {
   "cell_type": "code",
   "execution_count": 24,
   "id": "68b61f46",
   "metadata": {},
   "outputs": [
    {
     "data": {
      "text/html": [
       "<div>\n",
       "<style scoped>\n",
       "    .dataframe tbody tr th:only-of-type {\n",
       "        vertical-align: middle;\n",
       "    }\n",
       "\n",
       "    .dataframe tbody tr th {\n",
       "        vertical-align: top;\n",
       "    }\n",
       "\n",
       "    .dataframe thead th {\n",
       "        text-align: right;\n",
       "    }\n",
       "</style>\n",
       "<table border=\"1\" class=\"dataframe\">\n",
       "  <thead>\n",
       "    <tr style=\"text-align: right;\">\n",
       "      <th></th>\n",
       "      <th>index</th>\n",
       "      <th>Advisor</th>\n",
       "      <th>salesvalue</th>\n",
       "      <th>label</th>\n",
       "    </tr>\n",
       "  </thead>\n",
       "  <tbody>\n",
       "    <tr>\n",
       "      <th>0</th>\n",
       "      <td>20</td>\n",
       "      <td>A Nagaraju</td>\n",
       "      <td>114700.0</td>\n",
       "      <td>1</td>\n",
       "    </tr>\n",
       "    <tr>\n",
       "      <th>1</th>\n",
       "      <td>21</td>\n",
       "      <td>A Nagaraju</td>\n",
       "      <td>60200.0</td>\n",
       "      <td>1</td>\n",
       "    </tr>\n",
       "    <tr>\n",
       "      <th>2</th>\n",
       "      <td>25</td>\n",
       "      <td>A Nagaraju</td>\n",
       "      <td>228000.0</td>\n",
       "      <td>1</td>\n",
       "    </tr>\n",
       "    <tr>\n",
       "      <th>3</th>\n",
       "      <td>26</td>\n",
       "      <td>A Nagaraju</td>\n",
       "      <td>27600.0</td>\n",
       "      <td>1</td>\n",
       "    </tr>\n",
       "    <tr>\n",
       "      <th>4</th>\n",
       "      <td>29</td>\n",
       "      <td>A Nagaraju</td>\n",
       "      <td>64428.0</td>\n",
       "      <td>1</td>\n",
       "    </tr>\n",
       "    <tr>\n",
       "      <th>...</th>\n",
       "      <td>...</td>\n",
       "      <td>...</td>\n",
       "      <td>...</td>\n",
       "      <td>...</td>\n",
       "    </tr>\n",
       "    <tr>\n",
       "      <th>26230</th>\n",
       "      <td>182563</td>\n",
       "      <td>Yuvrajsinh Hanubha Gohil</td>\n",
       "      <td>34615.0</td>\n",
       "      <td>1</td>\n",
       "    </tr>\n",
       "    <tr>\n",
       "      <th>26231</th>\n",
       "      <td>182591</td>\n",
       "      <td>Yuvrajsinh Hanubha Gohil</td>\n",
       "      <td>92880.0</td>\n",
       "      <td>1</td>\n",
       "    </tr>\n",
       "    <tr>\n",
       "      <th>26232</th>\n",
       "      <td>182592</td>\n",
       "      <td>Yuvrajsinh Hanubha Gohil</td>\n",
       "      <td>27375.0</td>\n",
       "      <td>1</td>\n",
       "    </tr>\n",
       "    <tr>\n",
       "      <th>26233</th>\n",
       "      <td>182603</td>\n",
       "      <td>Yuvrajsinh Hanubha Gohil</td>\n",
       "      <td>71195.0</td>\n",
       "      <td>1</td>\n",
       "    </tr>\n",
       "    <tr>\n",
       "      <th>26234</th>\n",
       "      <td>182605</td>\n",
       "      <td>Yuvrajsinh Hanubha Gohil</td>\n",
       "      <td>51840.0</td>\n",
       "      <td>1</td>\n",
       "    </tr>\n",
       "  </tbody>\n",
       "</table>\n",
       "<p>26235 rows × 4 columns</p>\n",
       "</div>"
      ],
      "text/plain": [
       "        index                   Advisor  salesvalue  label\n",
       "0          20                A Nagaraju    114700.0      1\n",
       "1          21                A Nagaraju     60200.0      1\n",
       "2          25                A Nagaraju    228000.0      1\n",
       "3          26                A Nagaraju     27600.0      1\n",
       "4          29                A Nagaraju     64428.0      1\n",
       "...       ...                       ...         ...    ...\n",
       "26230  182563  Yuvrajsinh Hanubha Gohil     34615.0      1\n",
       "26231  182591  Yuvrajsinh Hanubha Gohil     92880.0      1\n",
       "26232  182592  Yuvrajsinh Hanubha Gohil     27375.0      1\n",
       "26233  182603  Yuvrajsinh Hanubha Gohil     71195.0      1\n",
       "26234  182605  Yuvrajsinh Hanubha Gohil     51840.0      1\n",
       "\n",
       "[26235 rows x 4 columns]"
      ]
     },
     "execution_count": 24,
     "metadata": {},
     "output_type": "execute_result"
    }
   ],
   "source": [
    "advisorsinfo"
   ]
  }
 ],
 "metadata": {
  "kernelspec": {
   "display_name": "Python 3 (ipykernel)",
   "language": "python",
   "name": "python3"
  },
  "language_info": {
   "codemirror_mode": {
    "name": "ipython",
    "version": 3
   },
   "file_extension": ".py",
   "mimetype": "text/x-python",
   "name": "python",
   "nbconvert_exporter": "python",
   "pygments_lexer": "ipython3",
   "version": "3.9.13"
  }
 },
 "nbformat": 4,
 "nbformat_minor": 5
}
