{
 "cells": [
  {
   "cell_type": "code",
   "execution_count": 53,
   "id": "8f5e8273",
   "metadata": {},
   "outputs": [],
   "source": [
    "import pandas as pd\n",
    "import sys,os\n",
    "import numpy as np\n",
    "%matplotlib inline\n",
    "import matplotlib.pyplot as plt\n",
    "import seaborn as sns"
   ]
  },
  {
   "cell_type": "code",
   "execution_count": 54,
   "id": "2ea8f611",
   "metadata": {},
   "outputs": [
    {
     "data": {
      "text/plain": [
       "'C:\\\\krish workspace\\\\Indian Advisors'"
      ]
     },
     "execution_count": 54,
     "metadata": {},
     "output_type": "execute_result"
    }
   ],
   "source": [
    "os.getcwd()"
   ]
  },
  {
   "cell_type": "code",
   "execution_count": 55,
   "id": "f2475a1e",
   "metadata": {},
   "outputs": [],
   "source": [
    "os.chdir('C:\\\\krish workspace\\\\Indian Advisors')"
   ]
  },
  {
   "cell_type": "code",
   "execution_count": 56,
   "id": "ef4d4c40",
   "metadata": {},
   "outputs": [
    {
     "data": {
      "text/plain": [
       "['2021',\n",
       " '2022',\n",
       " 'Advisors2021_20Sale.xlsx',\n",
       " 'Advisors2021_80Sale.xlsx',\n",
       " 'advisors2021_analysis.pptx',\n",
       " 'advisors2021_update.pptx',\n",
       " 'advisors2022_analysis.pptx',\n",
       " 'colors for discrete plotly',\n",
       " 'India Advisor Details 2021.xlsx',\n",
       " 'India Advisor Details 2022.xlsx',\n",
       " '~$advisors2021_update.pptx']"
      ]
     },
     "execution_count": 56,
     "metadata": {},
     "output_type": "execute_result"
    }
   ],
   "source": [
    "os.listdir()"
   ]
  },
  {
   "cell_type": "markdown",
   "id": "450945b8",
   "metadata": {},
   "source": [
    "# Reading source file"
   ]
  },
  {
   "cell_type": "code",
   "execution_count": 6,
   "id": "9b23ce18",
   "metadata": {},
   "outputs": [],
   "source": [
    "data1 = pd.read_excel(r'India Advisor Details 2021.xlsx',sheet_name='Sheet 1')"
   ]
  },
  {
   "cell_type": "code",
   "execution_count": 57,
   "id": "1d1b1d4e",
   "metadata": {},
   "outputs": [],
   "source": [
    "data2= pd.read_excel(r'India Advisor Details 2022.xlsx',sheet_name='Sheet 1')"
   ]
  },
  {
   "cell_type": "code",
   "execution_count": 6,
   "id": "00cec9f5",
   "metadata": {},
   "outputs": [
    {
     "data": {
      "text/html": [
       "<div>\n",
       "<style scoped>\n",
       "    .dataframe tbody tr th:only-of-type {\n",
       "        vertical-align: middle;\n",
       "    }\n",
       "\n",
       "    .dataframe tbody tr th {\n",
       "        vertical-align: top;\n",
       "    }\n",
       "\n",
       "    .dataframe thead th {\n",
       "        text-align: right;\n",
       "    }\n",
       "</style>\n",
       "<table border=\"1\" class=\"dataframe\">\n",
       "  <thead>\n",
       "    <tr style=\"text-align: right;\">\n",
       "      <th></th>\n",
       "      <th>index</th>\n",
       "      <th>Advisor name</th>\n",
       "      <th>Retailer Name</th>\n",
       "      <th>Retailer ID</th>\n",
       "      <th>Advisor ID</th>\n",
       "      <th>Month of Order Intent Created Date</th>\n",
       "      <th>Advisor Phone Number</th>\n",
       "      <th>Country Code</th>\n",
       "      <th>Hierarchy Level 3</th>\n",
       "      <th>Hierarchy Level 2</th>\n",
       "      <th>...</th>\n",
       "      <th>Volume Cancelled</th>\n",
       "      <th>Volume Purchased</th>\n",
       "      <th>Returned Volume</th>\n",
       "      <th>Avg Volume Sold per Farmers</th>\n",
       "      <th>Total Intent Value</th>\n",
       "      <th>Cancelled Order Value</th>\n",
       "      <th>Sales Value</th>\n",
       "      <th>Avg Sales per Farmer</th>\n",
       "      <th>Actual Commission</th>\n",
       "      <th>Intended Commission</th>\n",
       "    </tr>\n",
       "  </thead>\n",
       "  <tbody>\n",
       "    <tr>\n",
       "      <th>0</th>\n",
       "      <td>1</td>\n",
       "      <td>A Nagaraju</td>\n",
       "      <td>NaN</td>\n",
       "      <td>NaN</td>\n",
       "      <td>47071 IN</td>\n",
       "      <td>August</td>\n",
       "      <td>9000696331</td>\n",
       "      <td>IN</td>\n",
       "      <td>NaN</td>\n",
       "      <td>NaN</td>\n",
       "      <td>...</td>\n",
       "      <td>0.0</td>\n",
       "      <td>0.00</td>\n",
       "      <td>0.0</td>\n",
       "      <td>0.000</td>\n",
       "      <td>4140.0</td>\n",
       "      <td>0.0</td>\n",
       "      <td>0.0</td>\n",
       "      <td>NaN</td>\n",
       "      <td>0.00</td>\n",
       "      <td>102.00</td>\n",
       "    </tr>\n",
       "    <tr>\n",
       "      <th>1</th>\n",
       "      <td>2</td>\n",
       "      <td>A Nagaraju</td>\n",
       "      <td>NaN</td>\n",
       "      <td>NaN</td>\n",
       "      <td>47071 IN</td>\n",
       "      <td>August</td>\n",
       "      <td>9000696331</td>\n",
       "      <td>IN</td>\n",
       "      <td>NaN</td>\n",
       "      <td>NaN</td>\n",
       "      <td>...</td>\n",
       "      <td>3.0</td>\n",
       "      <td>0.00</td>\n",
       "      <td>0.0</td>\n",
       "      <td>0.000</td>\n",
       "      <td>6294.0</td>\n",
       "      <td>6294.0</td>\n",
       "      <td>0.0</td>\n",
       "      <td>NaN</td>\n",
       "      <td>0.00</td>\n",
       "      <td>156.00</td>\n",
       "    </tr>\n",
       "    <tr>\n",
       "      <th>2</th>\n",
       "      <td>3</td>\n",
       "      <td>A Nagaraju</td>\n",
       "      <td>NaN</td>\n",
       "      <td>NaN</td>\n",
       "      <td>47071 IN</td>\n",
       "      <td>August</td>\n",
       "      <td>9000696331</td>\n",
       "      <td>IN</td>\n",
       "      <td>NaN</td>\n",
       "      <td>NaN</td>\n",
       "      <td>...</td>\n",
       "      <td>0.0</td>\n",
       "      <td>0.00</td>\n",
       "      <td>0.0</td>\n",
       "      <td>0.000</td>\n",
       "      <td>1062.0</td>\n",
       "      <td>0.0</td>\n",
       "      <td>0.0</td>\n",
       "      <td>NaN</td>\n",
       "      <td>0.00</td>\n",
       "      <td>26.00</td>\n",
       "    </tr>\n",
       "    <tr>\n",
       "      <th>3</th>\n",
       "      <td>4</td>\n",
       "      <td>A Nagaraju</td>\n",
       "      <td>NaN</td>\n",
       "      <td>NaN</td>\n",
       "      <td>47071 IN</td>\n",
       "      <td>September</td>\n",
       "      <td>9000696331</td>\n",
       "      <td>IN</td>\n",
       "      <td>NaN</td>\n",
       "      <td>NaN</td>\n",
       "      <td>...</td>\n",
       "      <td>0.0</td>\n",
       "      <td>0.00</td>\n",
       "      <td>0.0</td>\n",
       "      <td>0.000</td>\n",
       "      <td>4140.0</td>\n",
       "      <td>0.0</td>\n",
       "      <td>0.0</td>\n",
       "      <td>NaN</td>\n",
       "      <td>0.00</td>\n",
       "      <td>102.00</td>\n",
       "    </tr>\n",
       "    <tr>\n",
       "      <th>4</th>\n",
       "      <td>5</td>\n",
       "      <td>A Nagaraju</td>\n",
       "      <td>NaN</td>\n",
       "      <td>NaN</td>\n",
       "      <td>47071 IN</td>\n",
       "      <td>October</td>\n",
       "      <td>9000696331</td>\n",
       "      <td>IN</td>\n",
       "      <td>NaN</td>\n",
       "      <td>NaN</td>\n",
       "      <td>...</td>\n",
       "      <td>0.0</td>\n",
       "      <td>0.00</td>\n",
       "      <td>0.0</td>\n",
       "      <td>0.000</td>\n",
       "      <td>10490.0</td>\n",
       "      <td>0.0</td>\n",
       "      <td>0.0</td>\n",
       "      <td>NaN</td>\n",
       "      <td>0.00</td>\n",
       "      <td>260.00</td>\n",
       "    </tr>\n",
       "    <tr>\n",
       "      <th>...</th>\n",
       "      <td>...</td>\n",
       "      <td>...</td>\n",
       "      <td>...</td>\n",
       "      <td>...</td>\n",
       "      <td>...</td>\n",
       "      <td>...</td>\n",
       "      <td>...</td>\n",
       "      <td>...</td>\n",
       "      <td>...</td>\n",
       "      <td>...</td>\n",
       "      <td>...</td>\n",
       "      <td>...</td>\n",
       "      <td>...</td>\n",
       "      <td>...</td>\n",
       "      <td>...</td>\n",
       "      <td>...</td>\n",
       "      <td>...</td>\n",
       "      <td>...</td>\n",
       "      <td>...</td>\n",
       "      <td>...</td>\n",
       "      <td>...</td>\n",
       "    </tr>\n",
       "    <tr>\n",
       "      <th>68442</th>\n",
       "      <td>68,443</td>\n",
       "      <td>Yogeshwar Chandra</td>\n",
       "      <td>RAMESH TRADERS</td>\n",
       "      <td>CG70801 IN</td>\n",
       "      <td>44155 IN</td>\n",
       "      <td>October</td>\n",
       "      <td>9827883826</td>\n",
       "      <td>IN</td>\n",
       "      <td>East</td>\n",
       "      <td>Bilaspur</td>\n",
       "      <td>...</td>\n",
       "      <td>0.0</td>\n",
       "      <td>6.00</td>\n",
       "      <td>0.0</td>\n",
       "      <td>3.000</td>\n",
       "      <td>NaN</td>\n",
       "      <td>0.0</td>\n",
       "      <td>36072.0</td>\n",
       "      <td>18036.0</td>\n",
       "      <td>888.00</td>\n",
       "      <td>0.00</td>\n",
       "    </tr>\n",
       "    <tr>\n",
       "      <th>68443</th>\n",
       "      <td>68,444</td>\n",
       "      <td>Yogeshwar Chandra</td>\n",
       "      <td>RAMESH TRADERS</td>\n",
       "      <td>CG70801 IN</td>\n",
       "      <td>44155 IN</td>\n",
       "      <td>October</td>\n",
       "      <td>9827883826</td>\n",
       "      <td>IN</td>\n",
       "      <td>East</td>\n",
       "      <td>Bilaspur</td>\n",
       "      <td>...</td>\n",
       "      <td>0.0</td>\n",
       "      <td>14.00</td>\n",
       "      <td>0.0</td>\n",
       "      <td>2.000</td>\n",
       "      <td>61278.0</td>\n",
       "      <td>0.0</td>\n",
       "      <td>81704.0</td>\n",
       "      <td>11672.0</td>\n",
       "      <td>2044.00</td>\n",
       "      <td>1533.00</td>\n",
       "    </tr>\n",
       "    <tr>\n",
       "      <th>68444</th>\n",
       "      <td>68,445</td>\n",
       "      <td>Yogeshwar Chandra</td>\n",
       "      <td>RAMESH TRADERS</td>\n",
       "      <td>CG70801 IN</td>\n",
       "      <td>44155 IN</td>\n",
       "      <td>October</td>\n",
       "      <td>9827883826</td>\n",
       "      <td>IN</td>\n",
       "      <td>East</td>\n",
       "      <td>Bilaspur</td>\n",
       "      <td>...</td>\n",
       "      <td>0.0</td>\n",
       "      <td>0.50</td>\n",
       "      <td>0.0</td>\n",
       "      <td>0.250</td>\n",
       "      <td>3684.0</td>\n",
       "      <td>0.0</td>\n",
       "      <td>4605.0</td>\n",
       "      <td>2302.5</td>\n",
       "      <td>115.00</td>\n",
       "      <td>92.00</td>\n",
       "    </tr>\n",
       "    <tr>\n",
       "      <th>68445</th>\n",
       "      <td>68,446</td>\n",
       "      <td>Yogeshwar Chandra</td>\n",
       "      <td>RAMESH TRADERS</td>\n",
       "      <td>CG70801 IN</td>\n",
       "      <td>44155 IN</td>\n",
       "      <td>October</td>\n",
       "      <td>9827883826</td>\n",
       "      <td>IN</td>\n",
       "      <td>East</td>\n",
       "      <td>Bilaspur</td>\n",
       "      <td>...</td>\n",
       "      <td>0.0</td>\n",
       "      <td>1.25</td>\n",
       "      <td>0.0</td>\n",
       "      <td>0.625</td>\n",
       "      <td>24904.0</td>\n",
       "      <td>0.0</td>\n",
       "      <td>11320.0</td>\n",
       "      <td>5660.0</td>\n",
       "      <td>285.00</td>\n",
       "      <td>627.00</td>\n",
       "    </tr>\n",
       "    <tr>\n",
       "      <th>68446</th>\n",
       "      <td>68,447</td>\n",
       "      <td>Yogeshwar Chandra</td>\n",
       "      <td>Yogesh Chandram</td>\n",
       "      <td>3826 IN</td>\n",
       "      <td>44155 IN</td>\n",
       "      <td>February</td>\n",
       "      <td>9827883826</td>\n",
       "      <td>IN</td>\n",
       "      <td>East</td>\n",
       "      <td>Bilaspur</td>\n",
       "      <td>...</td>\n",
       "      <td>0.0</td>\n",
       "      <td>7.00</td>\n",
       "      <td>0.0</td>\n",
       "      <td>3.500</td>\n",
       "      <td>40110.0</td>\n",
       "      <td>0.0</td>\n",
       "      <td>40110.0</td>\n",
       "      <td>20055.0</td>\n",
       "      <td>1320.41</td>\n",
       "      <td>1320.41</td>\n",
       "    </tr>\n",
       "  </tbody>\n",
       "</table>\n",
       "<p>68447 rows × 35 columns</p>\n",
       "</div>"
      ],
      "text/plain": [
       "        index       Advisor name    Retailer Name Retailer ID Advisor ID  \\\n",
       "0           1         A Nagaraju              NaN         NaN   47071 IN   \n",
       "1           2         A Nagaraju              NaN         NaN   47071 IN   \n",
       "2           3         A Nagaraju              NaN         NaN   47071 IN   \n",
       "3           4         A Nagaraju              NaN         NaN   47071 IN   \n",
       "4           5         A Nagaraju              NaN         NaN   47071 IN   \n",
       "...       ...                ...              ...         ...        ...   \n",
       "68442  68,443  Yogeshwar Chandra   RAMESH TRADERS  CG70801 IN   44155 IN   \n",
       "68443  68,444  Yogeshwar Chandra   RAMESH TRADERS  CG70801 IN   44155 IN   \n",
       "68444  68,445  Yogeshwar Chandra   RAMESH TRADERS  CG70801 IN   44155 IN   \n",
       "68445  68,446  Yogeshwar Chandra   RAMESH TRADERS  CG70801 IN   44155 IN   \n",
       "68446  68,447  Yogeshwar Chandra  Yogesh Chandram     3826 IN   44155 IN   \n",
       "\n",
       "      Month of Order Intent Created Date  Advisor Phone Number Country Code   \\\n",
       "0                                 August            9000696331            IN   \n",
       "1                                 August            9000696331            IN   \n",
       "2                                 August            9000696331            IN   \n",
       "3                              September            9000696331            IN   \n",
       "4                                October            9000696331            IN   \n",
       "...                                  ...                   ...           ...   \n",
       "68442                            October            9827883826            IN   \n",
       "68443                            October            9827883826            IN   \n",
       "68444                            October            9827883826            IN   \n",
       "68445                            October            9827883826            IN   \n",
       "68446                           February            9827883826            IN   \n",
       "\n",
       "      Hierarchy Level 3 Hierarchy Level 2  ... Volume Cancelled  \\\n",
       "0                   NaN               NaN  ...              0.0   \n",
       "1                   NaN               NaN  ...              3.0   \n",
       "2                   NaN               NaN  ...              0.0   \n",
       "3                   NaN               NaN  ...              0.0   \n",
       "4                   NaN               NaN  ...              0.0   \n",
       "...                 ...               ...  ...              ...   \n",
       "68442              East          Bilaspur  ...              0.0   \n",
       "68443              East          Bilaspur  ...              0.0   \n",
       "68444              East          Bilaspur  ...              0.0   \n",
       "68445              East          Bilaspur  ...              0.0   \n",
       "68446              East          Bilaspur  ...              0.0   \n",
       "\n",
       "      Volume Purchased Returned Volume Avg Volume Sold per Farmers  \\\n",
       "0                 0.00             0.0                       0.000   \n",
       "1                 0.00             0.0                       0.000   \n",
       "2                 0.00             0.0                       0.000   \n",
       "3                 0.00             0.0                       0.000   \n",
       "4                 0.00             0.0                       0.000   \n",
       "...                ...             ...                         ...   \n",
       "68442             6.00             0.0                       3.000   \n",
       "68443            14.00             0.0                       2.000   \n",
       "68444             0.50             0.0                       0.250   \n",
       "68445             1.25             0.0                       0.625   \n",
       "68446             7.00             0.0                       3.500   \n",
       "\n",
       "      Total Intent Value Cancelled Order Value  Sales Value  \\\n",
       "0                 4140.0                   0.0          0.0   \n",
       "1                 6294.0                6294.0          0.0   \n",
       "2                 1062.0                   0.0          0.0   \n",
       "3                 4140.0                   0.0          0.0   \n",
       "4                10490.0                   0.0          0.0   \n",
       "...                  ...                   ...          ...   \n",
       "68442                NaN                   0.0      36072.0   \n",
       "68443            61278.0                   0.0      81704.0   \n",
       "68444             3684.0                   0.0       4605.0   \n",
       "68445            24904.0                   0.0      11320.0   \n",
       "68446            40110.0                   0.0      40110.0   \n",
       "\n",
       "       Avg Sales per Farmer  Actual Commission  Intended Commission  \n",
       "0                       NaN               0.00               102.00  \n",
       "1                       NaN               0.00               156.00  \n",
       "2                       NaN               0.00                26.00  \n",
       "3                       NaN               0.00               102.00  \n",
       "4                       NaN               0.00               260.00  \n",
       "...                     ...                ...                  ...  \n",
       "68442               18036.0             888.00                 0.00  \n",
       "68443               11672.0            2044.00              1533.00  \n",
       "68444                2302.5             115.00                92.00  \n",
       "68445                5660.0             285.00               627.00  \n",
       "68446               20055.0            1320.41              1320.41  \n",
       "\n",
       "[68447 rows x 35 columns]"
      ]
     },
     "execution_count": 6,
     "metadata": {},
     "output_type": "execute_result"
    }
   ],
   "source": [
    "data1"
   ]
  },
  {
   "cell_type": "code",
   "execution_count": 7,
   "id": "cf026b31",
   "metadata": {},
   "outputs": [
    {
     "data": {
      "text/plain": [
       "(68447, 35)"
      ]
     },
     "execution_count": 7,
     "metadata": {},
     "output_type": "execute_result"
    }
   ],
   "source": [
    "data1.shape"
   ]
  },
  {
   "cell_type": "code",
   "execution_count": 8,
   "id": "6a367ad3",
   "metadata": {},
   "outputs": [
    {
     "data": {
      "text/plain": [
       "index                                                 object\n",
       "Advisor name                                          object\n",
       "Retailer Name                                         object\n",
       "Retailer ID                                           object\n",
       "Advisor ID                                            object\n",
       "Month of Order Intent Created Date                    object\n",
       "Advisor Phone Number                                   int64\n",
       "Country Code                                          object\n",
       "Hierarchy Level 3                                     object\n",
       "Hierarchy Level 2                                     object\n",
       "Hierarchy Level 1                                     object\n",
       "Advisor Type                                          object\n",
       "Product category                                      object\n",
       "Product Brand                                         object\n",
       "Product Name                                          object\n",
       "Unit                                                  object\n",
       "Total Order Intents                                    int64\n",
       "Distinct count of Cancelled Order Intents              int64\n",
       "Farmers with Intent                                    int64\n",
       "Farmers with multiple Intents                          int64\n",
       "Farmers with Purchase                                  int64\n",
       "Distinct count of Farmers with multiple purchases      int64\n",
       "Farmer Conversion                                    float64\n",
       "Active Retailers                                       int64\n",
       "Volume Intent                                        float64\n",
       "Volume Cancelled                                     float64\n",
       "Volume Purchased                                     float64\n",
       "Returned Volume                                      float64\n",
       "Avg Volume Sold per Farmers                          float64\n",
       "Total Intent Value                                   float64\n",
       "Cancelled Order Value                                float64\n",
       "Sales Value                                          float64\n",
       "Avg Sales per Farmer                                 float64\n",
       "Actual Commission                                    float64\n",
       "Intended Commission                                  float64\n",
       "dtype: object"
      ]
     },
     "execution_count": 8,
     "metadata": {},
     "output_type": "execute_result"
    }
   ],
   "source": [
    "data1.dtypes"
   ]
  },
  {
   "cell_type": "markdown",
   "id": "28a10e96",
   "metadata": {},
   "source": [
    "# advisors year 2021-> with 80% sales value using cumulative sum"
   ]
  },
  {
   "cell_type": "code",
   "execution_count": 99,
   "id": "c1868375",
   "metadata": {},
   "outputs": [
    {
     "data": {
      "text/plain": [
       "(182671, 35)"
      ]
     },
     "execution_count": 99,
     "metadata": {},
     "output_type": "execute_result"
    }
   ],
   "source": [
    "data2.shape"
   ]
  },
  {
   "cell_type": "code",
   "execution_count": 91,
   "id": "923bed4b",
   "metadata": {
    "scrolled": false
   },
   "outputs": [
    {
     "data": {
      "text/html": [
       "<div>\n",
       "<style scoped>\n",
       "    .dataframe tbody tr th:only-of-type {\n",
       "        vertical-align: middle;\n",
       "    }\n",
       "\n",
       "    .dataframe tbody tr th {\n",
       "        vertical-align: top;\n",
       "    }\n",
       "\n",
       "    .dataframe thead th {\n",
       "        text-align: right;\n",
       "    }\n",
       "</style>\n",
       "<table border=\"1\" class=\"dataframe\">\n",
       "  <thead>\n",
       "    <tr style=\"text-align: right;\">\n",
       "      <th></th>\n",
       "      <th>index</th>\n",
       "      <th>Advisor name</th>\n",
       "      <th>Retailer Name</th>\n",
       "      <th>Retailer ID</th>\n",
       "      <th>Advisor ID</th>\n",
       "      <th>Month of Order Intent Created Date</th>\n",
       "      <th>Advisor Phone Number</th>\n",
       "      <th>Country Code</th>\n",
       "      <th>Hierarchy Level 3</th>\n",
       "      <th>Hierarchy Level 2</th>\n",
       "      <th>...</th>\n",
       "      <th>Volume Cancelled</th>\n",
       "      <th>Volume Purchased</th>\n",
       "      <th>Returned Volume</th>\n",
       "      <th>Avg Volume Sold per Farmers</th>\n",
       "      <th>Total Intent Value</th>\n",
       "      <th>Cancelled Order Value</th>\n",
       "      <th>Sales Value</th>\n",
       "      <th>Avg Sales per Farmer</th>\n",
       "      <th>Actual Commission</th>\n",
       "      <th>Intended Commission</th>\n",
       "    </tr>\n",
       "  </thead>\n",
       "  <tbody>\n",
       "    <tr>\n",
       "      <th>0</th>\n",
       "      <td>1</td>\n",
       "      <td>A Bharath</td>\n",
       "      <td>NaN</td>\n",
       "      <td>NaN</td>\n",
       "      <td>281922 IN</td>\n",
       "      <td>June</td>\n",
       "      <td>8220054234</td>\n",
       "      <td>IN</td>\n",
       "      <td>South</td>\n",
       "      <td>Salem</td>\n",
       "      <td>...</td>\n",
       "      <td>0.0</td>\n",
       "      <td>0.00</td>\n",
       "      <td>0.0</td>\n",
       "      <td>0.000</td>\n",
       "      <td>430.0</td>\n",
       "      <td>0.0</td>\n",
       "      <td>0.0</td>\n",
       "      <td>NaN</td>\n",
       "      <td>0.0</td>\n",
       "      <td>10.0</td>\n",
       "    </tr>\n",
       "    <tr>\n",
       "      <th>1</th>\n",
       "      <td>2</td>\n",
       "      <td>A Bharath</td>\n",
       "      <td>BHARATHI AGRO TRADERS</td>\n",
       "      <td>TN01923 IN</td>\n",
       "      <td>281922 IN</td>\n",
       "      <td>June</td>\n",
       "      <td>8220054234</td>\n",
       "      <td>IN</td>\n",
       "      <td>South</td>\n",
       "      <td>Salem</td>\n",
       "      <td>...</td>\n",
       "      <td>0.0</td>\n",
       "      <td>0.46</td>\n",
       "      <td>0.0</td>\n",
       "      <td>0.115</td>\n",
       "      <td>6135.0</td>\n",
       "      <td>0.0</td>\n",
       "      <td>4908.0</td>\n",
       "      <td>1227.0</td>\n",
       "      <td>120.0</td>\n",
       "      <td>150.0</td>\n",
       "    </tr>\n",
       "    <tr>\n",
       "      <th>2</th>\n",
       "      <td>3</td>\n",
       "      <td>A Bharath</td>\n",
       "      <td>BHARATHI AGRO TRADERS</td>\n",
       "      <td>TN01923 IN</td>\n",
       "      <td>281922 IN</td>\n",
       "      <td>June</td>\n",
       "      <td>8220054234</td>\n",
       "      <td>IN</td>\n",
       "      <td>South</td>\n",
       "      <td>Salem</td>\n",
       "      <td>...</td>\n",
       "      <td>0.0</td>\n",
       "      <td>0.10</td>\n",
       "      <td>0.0</td>\n",
       "      <td>0.100</td>\n",
       "      <td>280.0</td>\n",
       "      <td>0.0</td>\n",
       "      <td>280.0</td>\n",
       "      <td>280.0</td>\n",
       "      <td>7.0</td>\n",
       "      <td>7.0</td>\n",
       "    </tr>\n",
       "    <tr>\n",
       "      <th>3</th>\n",
       "      <td>4</td>\n",
       "      <td>A Nagaraju</td>\n",
       "      <td>NaN</td>\n",
       "      <td>NaN</td>\n",
       "      <td>47071 IN</td>\n",
       "      <td>January</td>\n",
       "      <td>9000696331</td>\n",
       "      <td>IN</td>\n",
       "      <td>NaN</td>\n",
       "      <td>NaN</td>\n",
       "      <td>...</td>\n",
       "      <td>6.0</td>\n",
       "      <td>0.00</td>\n",
       "      <td>0.0</td>\n",
       "      <td>0.000</td>\n",
       "      <td>12588.0</td>\n",
       "      <td>12588.0</td>\n",
       "      <td>0.0</td>\n",
       "      <td>NaN</td>\n",
       "      <td>0.0</td>\n",
       "      <td>312.0</td>\n",
       "    </tr>\n",
       "    <tr>\n",
       "      <th>4</th>\n",
       "      <td>5</td>\n",
       "      <td>A Nagaraju</td>\n",
       "      <td>NaN</td>\n",
       "      <td>NaN</td>\n",
       "      <td>47071 IN</td>\n",
       "      <td>January</td>\n",
       "      <td>9000696331</td>\n",
       "      <td>IN</td>\n",
       "      <td>NaN</td>\n",
       "      <td>NaN</td>\n",
       "      <td>...</td>\n",
       "      <td>0.0</td>\n",
       "      <td>0.00</td>\n",
       "      <td>0.0</td>\n",
       "      <td>0.000</td>\n",
       "      <td>2290.0</td>\n",
       "      <td>0.0</td>\n",
       "      <td>0.0</td>\n",
       "      <td>NaN</td>\n",
       "      <td>0.0</td>\n",
       "      <td>50.0</td>\n",
       "    </tr>\n",
       "    <tr>\n",
       "      <th>...</th>\n",
       "      <td>...</td>\n",
       "      <td>...</td>\n",
       "      <td>...</td>\n",
       "      <td>...</td>\n",
       "      <td>...</td>\n",
       "      <td>...</td>\n",
       "      <td>...</td>\n",
       "      <td>...</td>\n",
       "      <td>...</td>\n",
       "      <td>...</td>\n",
       "      <td>...</td>\n",
       "      <td>...</td>\n",
       "      <td>...</td>\n",
       "      <td>...</td>\n",
       "      <td>...</td>\n",
       "      <td>...</td>\n",
       "      <td>...</td>\n",
       "      <td>...</td>\n",
       "      <td>...</td>\n",
       "      <td>...</td>\n",
       "      <td>...</td>\n",
       "    </tr>\n",
       "    <tr>\n",
       "      <th>182666</th>\n",
       "      <td>182,667</td>\n",
       "      <td>शोभा वैष्णव</td>\n",
       "      <td>Ma bamleshwari</td>\n",
       "      <td>6936448 IN</td>\n",
       "      <td>511578 IN</td>\n",
       "      <td>October</td>\n",
       "      <td>9098505339</td>\n",
       "      <td>IN</td>\n",
       "      <td>East</td>\n",
       "      <td>Raipur</td>\n",
       "      <td>...</td>\n",
       "      <td>0.0</td>\n",
       "      <td>0.25</td>\n",
       "      <td>0.0</td>\n",
       "      <td>0.250</td>\n",
       "      <td>NaN</td>\n",
       "      <td>0.0</td>\n",
       "      <td>225.0</td>\n",
       "      <td>225.0</td>\n",
       "      <td>5.0</td>\n",
       "      <td>0.0</td>\n",
       "    </tr>\n",
       "    <tr>\n",
       "      <th>182667</th>\n",
       "      <td>182,668</td>\n",
       "      <td>शोभा वैष्णव</td>\n",
       "      <td>Ma bamleshwari</td>\n",
       "      <td>6936448 IN</td>\n",
       "      <td>511578 IN</td>\n",
       "      <td>October</td>\n",
       "      <td>9098505339</td>\n",
       "      <td>IN</td>\n",
       "      <td>East</td>\n",
       "      <td>Raipur</td>\n",
       "      <td>...</td>\n",
       "      <td>0.0</td>\n",
       "      <td>1.75</td>\n",
       "      <td>0.0</td>\n",
       "      <td>0.250</td>\n",
       "      <td>1560.0</td>\n",
       "      <td>0.0</td>\n",
       "      <td>2730.0</td>\n",
       "      <td>390.0</td>\n",
       "      <td>63.0</td>\n",
       "      <td>36.0</td>\n",
       "    </tr>\n",
       "    <tr>\n",
       "      <th>182668</th>\n",
       "      <td>182,669</td>\n",
       "      <td>शोभा वैष्णव</td>\n",
       "      <td>Ma bamleshwari</td>\n",
       "      <td>6936448 IN</td>\n",
       "      <td>511578 IN</td>\n",
       "      <td>October</td>\n",
       "      <td>9098505339</td>\n",
       "      <td>IN</td>\n",
       "      <td>East</td>\n",
       "      <td>Raipur</td>\n",
       "      <td>...</td>\n",
       "      <td>0.0</td>\n",
       "      <td>0.25</td>\n",
       "      <td>0.0</td>\n",
       "      <td>0.250</td>\n",
       "      <td>NaN</td>\n",
       "      <td>0.0</td>\n",
       "      <td>649.0</td>\n",
       "      <td>649.0</td>\n",
       "      <td>16.0</td>\n",
       "      <td>0.0</td>\n",
       "    </tr>\n",
       "    <tr>\n",
       "      <th>182669</th>\n",
       "      <td>182,670</td>\n",
       "      <td>शोभा वैष्णव</td>\n",
       "      <td>Ma bamleshwari</td>\n",
       "      <td>6936448 IN</td>\n",
       "      <td>511578 IN</td>\n",
       "      <td>October</td>\n",
       "      <td>9098505339</td>\n",
       "      <td>IN</td>\n",
       "      <td>East</td>\n",
       "      <td>Raipur</td>\n",
       "      <td>...</td>\n",
       "      <td>0.0</td>\n",
       "      <td>1.00</td>\n",
       "      <td>0.0</td>\n",
       "      <td>0.250</td>\n",
       "      <td>1743.0</td>\n",
       "      <td>0.0</td>\n",
       "      <td>2324.0</td>\n",
       "      <td>581.0</td>\n",
       "      <td>56.0</td>\n",
       "      <td>42.0</td>\n",
       "    </tr>\n",
       "    <tr>\n",
       "      <th>182670</th>\n",
       "      <td>182,671</td>\n",
       "      <td>शोभा वैष्णव</td>\n",
       "      <td>Ma bamleshwari</td>\n",
       "      <td>6936448 IN</td>\n",
       "      <td>511578 IN</td>\n",
       "      <td>October</td>\n",
       "      <td>9098505339</td>\n",
       "      <td>IN</td>\n",
       "      <td>East</td>\n",
       "      <td>Raipur</td>\n",
       "      <td>...</td>\n",
       "      <td>0.0</td>\n",
       "      <td>0.10</td>\n",
       "      <td>0.0</td>\n",
       "      <td>0.100</td>\n",
       "      <td>NaN</td>\n",
       "      <td>0.0</td>\n",
       "      <td>835.0</td>\n",
       "      <td>835.0</td>\n",
       "      <td>21.0</td>\n",
       "      <td>0.0</td>\n",
       "    </tr>\n",
       "  </tbody>\n",
       "</table>\n",
       "<p>182671 rows × 35 columns</p>\n",
       "</div>"
      ],
      "text/plain": [
       "          index Advisor name          Retailer Name Retailer ID Advisor ID  \\\n",
       "0             1    A Bharath                    NaN         NaN  281922 IN   \n",
       "1             2    A Bharath  BHARATHI AGRO TRADERS  TN01923 IN  281922 IN   \n",
       "2             3    A Bharath  BHARATHI AGRO TRADERS  TN01923 IN  281922 IN   \n",
       "3             4   A Nagaraju                    NaN         NaN   47071 IN   \n",
       "4             5   A Nagaraju                    NaN         NaN   47071 IN   \n",
       "...         ...          ...                    ...         ...        ...   \n",
       "182666  182,667  शोभा वैष्णव         Ma bamleshwari  6936448 IN  511578 IN   \n",
       "182667  182,668  शोभा वैष्णव         Ma bamleshwari  6936448 IN  511578 IN   \n",
       "182668  182,669  शोभा वैष्णव         Ma bamleshwari  6936448 IN  511578 IN   \n",
       "182669  182,670  शोभा वैष्णव         Ma bamleshwari  6936448 IN  511578 IN   \n",
       "182670  182,671  शोभा वैष्णव         Ma bamleshwari  6936448 IN  511578 IN   \n",
       "\n",
       "       Month of Order Intent Created Date  Advisor Phone Number Country Code   \\\n",
       "0                                    June            8220054234            IN   \n",
       "1                                    June            8220054234            IN   \n",
       "2                                    June            8220054234            IN   \n",
       "3                                 January            9000696331            IN   \n",
       "4                                 January            9000696331            IN   \n",
       "...                                   ...                   ...           ...   \n",
       "182666                            October            9098505339            IN   \n",
       "182667                            October            9098505339            IN   \n",
       "182668                            October            9098505339            IN   \n",
       "182669                            October            9098505339            IN   \n",
       "182670                            October            9098505339            IN   \n",
       "\n",
       "       Hierarchy Level 3 Hierarchy Level 2  ... Volume Cancelled  \\\n",
       "0                  South             Salem  ...              0.0   \n",
       "1                  South             Salem  ...              0.0   \n",
       "2                  South             Salem  ...              0.0   \n",
       "3                    NaN               NaN  ...              6.0   \n",
       "4                    NaN               NaN  ...              0.0   \n",
       "...                  ...               ...  ...              ...   \n",
       "182666              East            Raipur  ...              0.0   \n",
       "182667              East            Raipur  ...              0.0   \n",
       "182668              East            Raipur  ...              0.0   \n",
       "182669              East            Raipur  ...              0.0   \n",
       "182670              East            Raipur  ...              0.0   \n",
       "\n",
       "       Volume Purchased Returned Volume Avg Volume Sold per Farmers  \\\n",
       "0                  0.00             0.0                       0.000   \n",
       "1                  0.46             0.0                       0.115   \n",
       "2                  0.10             0.0                       0.100   \n",
       "3                  0.00             0.0                       0.000   \n",
       "4                  0.00             0.0                       0.000   \n",
       "...                 ...             ...                         ...   \n",
       "182666             0.25             0.0                       0.250   \n",
       "182667             1.75             0.0                       0.250   \n",
       "182668             0.25             0.0                       0.250   \n",
       "182669             1.00             0.0                       0.250   \n",
       "182670             0.10             0.0                       0.100   \n",
       "\n",
       "       Total Intent Value Cancelled Order Value  Sales Value  \\\n",
       "0                   430.0                   0.0          0.0   \n",
       "1                  6135.0                   0.0       4908.0   \n",
       "2                   280.0                   0.0        280.0   \n",
       "3                 12588.0               12588.0          0.0   \n",
       "4                  2290.0                   0.0          0.0   \n",
       "...                   ...                   ...          ...   \n",
       "182666                NaN                   0.0        225.0   \n",
       "182667             1560.0                   0.0       2730.0   \n",
       "182668                NaN                   0.0        649.0   \n",
       "182669             1743.0                   0.0       2324.0   \n",
       "182670                NaN                   0.0        835.0   \n",
       "\n",
       "        Avg Sales per Farmer  Actual Commission  Intended Commission  \n",
       "0                        NaN                0.0                 10.0  \n",
       "1                     1227.0              120.0                150.0  \n",
       "2                      280.0                7.0                  7.0  \n",
       "3                        NaN                0.0                312.0  \n",
       "4                        NaN                0.0                 50.0  \n",
       "...                      ...                ...                  ...  \n",
       "182666                 225.0                5.0                  0.0  \n",
       "182667                 390.0               63.0                 36.0  \n",
       "182668                 649.0               16.0                  0.0  \n",
       "182669                 581.0               56.0                 42.0  \n",
       "182670                 835.0               21.0                  0.0  \n",
       "\n",
       "[182671 rows x 35 columns]"
      ]
     },
     "execution_count": 91,
     "metadata": {},
     "output_type": "execute_result"
    }
   ],
   "source": [
    "data2"
   ]
  },
  {
   "cell_type": "code",
   "execution_count": 94,
   "id": "237ac8fa",
   "metadata": {
    "scrolled": true
   },
   "outputs": [],
   "source": [
    "Advisorslist = pd.DataFrame().assign(Advisor=data2['Advisor name'],AdvisorID=data2['Advisor ID'],salesvalue=data2['Sales Value'])"
   ]
  },
  {
   "cell_type": "code",
   "execution_count": 11,
   "id": "dff502f7",
   "metadata": {},
   "outputs": [
    {
     "data": {
      "text/html": [
       "<div>\n",
       "<style scoped>\n",
       "    .dataframe tbody tr th:only-of-type {\n",
       "        vertical-align: middle;\n",
       "    }\n",
       "\n",
       "    .dataframe tbody tr th {\n",
       "        vertical-align: top;\n",
       "    }\n",
       "\n",
       "    .dataframe thead th {\n",
       "        text-align: right;\n",
       "    }\n",
       "</style>\n",
       "<table border=\"1\" class=\"dataframe\">\n",
       "  <thead>\n",
       "    <tr style=\"text-align: right;\">\n",
       "      <th></th>\n",
       "      <th>Advisor</th>\n",
       "      <th>salesvalue</th>\n",
       "    </tr>\n",
       "  </thead>\n",
       "  <tbody>\n",
       "    <tr>\n",
       "      <th>0</th>\n",
       "      <td>A Nagaraju</td>\n",
       "      <td>0.0</td>\n",
       "    </tr>\n",
       "    <tr>\n",
       "      <th>1</th>\n",
       "      <td>A Nagaraju</td>\n",
       "      <td>0.0</td>\n",
       "    </tr>\n",
       "    <tr>\n",
       "      <th>2</th>\n",
       "      <td>A Nagaraju</td>\n",
       "      <td>0.0</td>\n",
       "    </tr>\n",
       "    <tr>\n",
       "      <th>3</th>\n",
       "      <td>A Nagaraju</td>\n",
       "      <td>0.0</td>\n",
       "    </tr>\n",
       "    <tr>\n",
       "      <th>4</th>\n",
       "      <td>A Nagaraju</td>\n",
       "      <td>0.0</td>\n",
       "    </tr>\n",
       "    <tr>\n",
       "      <th>...</th>\n",
       "      <td>...</td>\n",
       "      <td>...</td>\n",
       "    </tr>\n",
       "    <tr>\n",
       "      <th>68442</th>\n",
       "      <td>Yogeshwar Chandra</td>\n",
       "      <td>36072.0</td>\n",
       "    </tr>\n",
       "    <tr>\n",
       "      <th>68443</th>\n",
       "      <td>Yogeshwar Chandra</td>\n",
       "      <td>81704.0</td>\n",
       "    </tr>\n",
       "    <tr>\n",
       "      <th>68444</th>\n",
       "      <td>Yogeshwar Chandra</td>\n",
       "      <td>4605.0</td>\n",
       "    </tr>\n",
       "    <tr>\n",
       "      <th>68445</th>\n",
       "      <td>Yogeshwar Chandra</td>\n",
       "      <td>11320.0</td>\n",
       "    </tr>\n",
       "    <tr>\n",
       "      <th>68446</th>\n",
       "      <td>Yogeshwar Chandra</td>\n",
       "      <td>40110.0</td>\n",
       "    </tr>\n",
       "  </tbody>\n",
       "</table>\n",
       "<p>68447 rows × 2 columns</p>\n",
       "</div>"
      ],
      "text/plain": [
       "                 Advisor  salesvalue\n",
       "0             A Nagaraju         0.0\n",
       "1             A Nagaraju         0.0\n",
       "2             A Nagaraju         0.0\n",
       "3             A Nagaraju         0.0\n",
       "4             A Nagaraju         0.0\n",
       "...                  ...         ...\n",
       "68442  Yogeshwar Chandra     36072.0\n",
       "68443  Yogeshwar Chandra     81704.0\n",
       "68444  Yogeshwar Chandra      4605.0\n",
       "68445  Yogeshwar Chandra     11320.0\n",
       "68446  Yogeshwar Chandra     40110.0\n",
       "\n",
       "[68447 rows x 2 columns]"
      ]
     },
     "execution_count": 11,
     "metadata": {},
     "output_type": "execute_result"
    }
   ],
   "source": [
    "Advisorslist"
   ]
  },
  {
   "cell_type": "code",
   "execution_count": 103,
   "id": "22c1f11d",
   "metadata": {},
   "outputs": [],
   "source": [
    "adv_sort=Advisorslist.sort_values(by='salesvalue', ascending=False).reset_index()"
   ]
  },
  {
   "cell_type": "code",
   "execution_count": 104,
   "id": "05faf0c0",
   "metadata": {},
   "outputs": [
    {
     "data": {
      "text/html": [
       "<div>\n",
       "<style scoped>\n",
       "    .dataframe tbody tr th:only-of-type {\n",
       "        vertical-align: middle;\n",
       "    }\n",
       "\n",
       "    .dataframe tbody tr th {\n",
       "        vertical-align: top;\n",
       "    }\n",
       "\n",
       "    .dataframe thead th {\n",
       "        text-align: right;\n",
       "    }\n",
       "</style>\n",
       "<table border=\"1\" class=\"dataframe\">\n",
       "  <thead>\n",
       "    <tr style=\"text-align: right;\">\n",
       "      <th></th>\n",
       "      <th>index</th>\n",
       "      <th>Advisor</th>\n",
       "      <th>salesvalue</th>\n",
       "    </tr>\n",
       "  </thead>\n",
       "  <tbody>\n",
       "    <tr>\n",
       "      <th>0</th>\n",
       "      <td>50998</td>\n",
       "      <td>Gurvinder Gurvinder</td>\n",
       "      <td>6196075.0</td>\n",
       "    </tr>\n",
       "    <tr>\n",
       "      <th>1</th>\n",
       "      <td>96515</td>\n",
       "      <td>Naveen Kumar</td>\n",
       "      <td>4785975.0</td>\n",
       "    </tr>\n",
       "    <tr>\n",
       "      <th>2</th>\n",
       "      <td>18746</td>\n",
       "      <td>Asim Kundu</td>\n",
       "      <td>4552350.0</td>\n",
       "    </tr>\n",
       "    <tr>\n",
       "      <th>3</th>\n",
       "      <td>60431</td>\n",
       "      <td>Jasmeet Singh</td>\n",
       "      <td>3980112.0</td>\n",
       "    </tr>\n",
       "    <tr>\n",
       "      <th>4</th>\n",
       "      <td>33680</td>\n",
       "      <td>Debashis Dey</td>\n",
       "      <td>3970890.0</td>\n",
       "    </tr>\n",
       "    <tr>\n",
       "      <th>...</th>\n",
       "      <td>...</td>\n",
       "      <td>...</td>\n",
       "      <td>...</td>\n",
       "    </tr>\n",
       "    <tr>\n",
       "      <th>182666</th>\n",
       "      <td>90485</td>\n",
       "      <td>molendra singh</td>\n",
       "      <td>0.0</td>\n",
       "    </tr>\n",
       "    <tr>\n",
       "      <th>182667</th>\n",
       "      <td>90484</td>\n",
       "      <td>molendra singh</td>\n",
       "      <td>0.0</td>\n",
       "    </tr>\n",
       "    <tr>\n",
       "      <th>182668</th>\n",
       "      <td>90483</td>\n",
       "      <td>molendra singh</td>\n",
       "      <td>0.0</td>\n",
       "    </tr>\n",
       "    <tr>\n",
       "      <th>182669</th>\n",
       "      <td>90482</td>\n",
       "      <td>molendra singh</td>\n",
       "      <td>0.0</td>\n",
       "    </tr>\n",
       "    <tr>\n",
       "      <th>182670</th>\n",
       "      <td>91335</td>\n",
       "      <td>Mudala Ayyappareddy</td>\n",
       "      <td>0.0</td>\n",
       "    </tr>\n",
       "  </tbody>\n",
       "</table>\n",
       "<p>182671 rows × 3 columns</p>\n",
       "</div>"
      ],
      "text/plain": [
       "        index              Advisor  salesvalue\n",
       "0       50998  Gurvinder Gurvinder   6196075.0\n",
       "1       96515         Naveen Kumar   4785975.0\n",
       "2       18746           Asim Kundu   4552350.0\n",
       "3       60431        Jasmeet Singh   3980112.0\n",
       "4       33680         Debashis Dey   3970890.0\n",
       "...       ...                  ...         ...\n",
       "182666  90485       molendra singh         0.0\n",
       "182667  90484       molendra singh         0.0\n",
       "182668  90483       molendra singh         0.0\n",
       "182669  90482       molendra singh         0.0\n",
       "182670  91335  Mudala Ayyappareddy         0.0\n",
       "\n",
       "[182671 rows x 3 columns]"
      ]
     },
     "execution_count": 104,
     "metadata": {},
     "output_type": "execute_result"
    }
   ],
   "source": [
    "adv_sort"
   ]
  },
  {
   "cell_type": "code",
   "execution_count": 105,
   "id": "02159a52",
   "metadata": {},
   "outputs": [],
   "source": [
    "top_adv=adv_sort[~adv_sort.loc[:, 'salesvalue'].cumsum().ge(adv_sort.loc[:,'salesvalue'].sum()*.8).shift(1, fill_value=False)]"
   ]
  },
  {
   "cell_type": "code",
   "execution_count": 106,
   "id": "f0f2c2c1",
   "metadata": {},
   "outputs": [
    {
     "name": "stdout",
     "output_type": "stream",
     "text": [
      "        index              Advisor  salesvalue\n",
      "0       50998  Gurvinder Gurvinder   6196075.0\n",
      "1       96515         Naveen Kumar   4785975.0\n",
      "2       18746           Asim Kundu   4552350.0\n",
      "3       60431        Jasmeet Singh   3980112.0\n",
      "4       33680         Debashis Dey   3970890.0\n",
      "...       ...                  ...         ...\n",
      "26230   57592            IYAPPAN G     26244.0\n",
      "26231  172036  UMESH CHANDRAVANSHI     26240.0\n",
      "26232  147059     SEKH SAHIL HASAN     26230.0\n",
      "26233  171950         Ujjwal Ghosh     26230.0\n",
      "26234  154917    SK ROMJAN HOSSAIN     26230.0\n",
      "\n",
      "[26235 rows x 3 columns]\n"
     ]
    }
   ],
   "source": [
    "print(top_adv)"
   ]
  },
  {
   "cell_type": "markdown",
   "id": "c8d686c1",
   "metadata": {},
   "source": [
    "# second method sorting & filter out using numpy & CUMSUM"
   ]
  },
  {
   "cell_type": "code",
   "execution_count": 95,
   "id": "a5751679",
   "metadata": {},
   "outputs": [
    {
     "data": {
      "text/html": [
       "<div>\n",
       "<style scoped>\n",
       "    .dataframe tbody tr th:only-of-type {\n",
       "        vertical-align: middle;\n",
       "    }\n",
       "\n",
       "    .dataframe tbody tr th {\n",
       "        vertical-align: top;\n",
       "    }\n",
       "\n",
       "    .dataframe thead th {\n",
       "        text-align: right;\n",
       "    }\n",
       "</style>\n",
       "<table border=\"1\" class=\"dataframe\">\n",
       "  <thead>\n",
       "    <tr style=\"text-align: right;\">\n",
       "      <th></th>\n",
       "      <th>index</th>\n",
       "      <th>Advisor name</th>\n",
       "      <th>Retailer Name</th>\n",
       "      <th>Retailer ID</th>\n",
       "      <th>Advisor ID</th>\n",
       "      <th>Month of Order Intent Created Date</th>\n",
       "      <th>Advisor Phone Number</th>\n",
       "      <th>Country Code</th>\n",
       "      <th>Hierarchy Level 3</th>\n",
       "      <th>Hierarchy Level 2</th>\n",
       "      <th>...</th>\n",
       "      <th>Volume Cancelled</th>\n",
       "      <th>Volume Purchased</th>\n",
       "      <th>Returned Volume</th>\n",
       "      <th>Avg Volume Sold per Farmers</th>\n",
       "      <th>Total Intent Value</th>\n",
       "      <th>Cancelled Order Value</th>\n",
       "      <th>Sales Value</th>\n",
       "      <th>Avg Sales per Farmer</th>\n",
       "      <th>Actual Commission</th>\n",
       "      <th>Intended Commission</th>\n",
       "    </tr>\n",
       "  </thead>\n",
       "  <tbody>\n",
       "    <tr>\n",
       "      <th>0</th>\n",
       "      <td>1</td>\n",
       "      <td>A Bharath</td>\n",
       "      <td>NaN</td>\n",
       "      <td>NaN</td>\n",
       "      <td>281922 IN</td>\n",
       "      <td>June</td>\n",
       "      <td>8220054234</td>\n",
       "      <td>IN</td>\n",
       "      <td>South</td>\n",
       "      <td>Salem</td>\n",
       "      <td>...</td>\n",
       "      <td>0.0</td>\n",
       "      <td>0.00</td>\n",
       "      <td>0.0</td>\n",
       "      <td>0.000</td>\n",
       "      <td>430.0</td>\n",
       "      <td>0.0</td>\n",
       "      <td>0.0</td>\n",
       "      <td>NaN</td>\n",
       "      <td>0.0</td>\n",
       "      <td>10.0</td>\n",
       "    </tr>\n",
       "    <tr>\n",
       "      <th>1</th>\n",
       "      <td>2</td>\n",
       "      <td>A Bharath</td>\n",
       "      <td>BHARATHI AGRO TRADERS</td>\n",
       "      <td>TN01923 IN</td>\n",
       "      <td>281922 IN</td>\n",
       "      <td>June</td>\n",
       "      <td>8220054234</td>\n",
       "      <td>IN</td>\n",
       "      <td>South</td>\n",
       "      <td>Salem</td>\n",
       "      <td>...</td>\n",
       "      <td>0.0</td>\n",
       "      <td>0.46</td>\n",
       "      <td>0.0</td>\n",
       "      <td>0.115</td>\n",
       "      <td>6135.0</td>\n",
       "      <td>0.0</td>\n",
       "      <td>4908.0</td>\n",
       "      <td>1227.0</td>\n",
       "      <td>120.0</td>\n",
       "      <td>150.0</td>\n",
       "    </tr>\n",
       "    <tr>\n",
       "      <th>2</th>\n",
       "      <td>3</td>\n",
       "      <td>A Bharath</td>\n",
       "      <td>BHARATHI AGRO TRADERS</td>\n",
       "      <td>TN01923 IN</td>\n",
       "      <td>281922 IN</td>\n",
       "      <td>June</td>\n",
       "      <td>8220054234</td>\n",
       "      <td>IN</td>\n",
       "      <td>South</td>\n",
       "      <td>Salem</td>\n",
       "      <td>...</td>\n",
       "      <td>0.0</td>\n",
       "      <td>0.10</td>\n",
       "      <td>0.0</td>\n",
       "      <td>0.100</td>\n",
       "      <td>280.0</td>\n",
       "      <td>0.0</td>\n",
       "      <td>280.0</td>\n",
       "      <td>280.0</td>\n",
       "      <td>7.0</td>\n",
       "      <td>7.0</td>\n",
       "    </tr>\n",
       "    <tr>\n",
       "      <th>3</th>\n",
       "      <td>4</td>\n",
       "      <td>A Nagaraju</td>\n",
       "      <td>NaN</td>\n",
       "      <td>NaN</td>\n",
       "      <td>47071 IN</td>\n",
       "      <td>January</td>\n",
       "      <td>9000696331</td>\n",
       "      <td>IN</td>\n",
       "      <td>NaN</td>\n",
       "      <td>NaN</td>\n",
       "      <td>...</td>\n",
       "      <td>6.0</td>\n",
       "      <td>0.00</td>\n",
       "      <td>0.0</td>\n",
       "      <td>0.000</td>\n",
       "      <td>12588.0</td>\n",
       "      <td>12588.0</td>\n",
       "      <td>0.0</td>\n",
       "      <td>NaN</td>\n",
       "      <td>0.0</td>\n",
       "      <td>312.0</td>\n",
       "    </tr>\n",
       "    <tr>\n",
       "      <th>4</th>\n",
       "      <td>5</td>\n",
       "      <td>A Nagaraju</td>\n",
       "      <td>NaN</td>\n",
       "      <td>NaN</td>\n",
       "      <td>47071 IN</td>\n",
       "      <td>January</td>\n",
       "      <td>9000696331</td>\n",
       "      <td>IN</td>\n",
       "      <td>NaN</td>\n",
       "      <td>NaN</td>\n",
       "      <td>...</td>\n",
       "      <td>0.0</td>\n",
       "      <td>0.00</td>\n",
       "      <td>0.0</td>\n",
       "      <td>0.000</td>\n",
       "      <td>2290.0</td>\n",
       "      <td>0.0</td>\n",
       "      <td>0.0</td>\n",
       "      <td>NaN</td>\n",
       "      <td>0.0</td>\n",
       "      <td>50.0</td>\n",
       "    </tr>\n",
       "    <tr>\n",
       "      <th>...</th>\n",
       "      <td>...</td>\n",
       "      <td>...</td>\n",
       "      <td>...</td>\n",
       "      <td>...</td>\n",
       "      <td>...</td>\n",
       "      <td>...</td>\n",
       "      <td>...</td>\n",
       "      <td>...</td>\n",
       "      <td>...</td>\n",
       "      <td>...</td>\n",
       "      <td>...</td>\n",
       "      <td>...</td>\n",
       "      <td>...</td>\n",
       "      <td>...</td>\n",
       "      <td>...</td>\n",
       "      <td>...</td>\n",
       "      <td>...</td>\n",
       "      <td>...</td>\n",
       "      <td>...</td>\n",
       "      <td>...</td>\n",
       "      <td>...</td>\n",
       "    </tr>\n",
       "    <tr>\n",
       "      <th>182666</th>\n",
       "      <td>182,667</td>\n",
       "      <td>शोभा वैष्णव</td>\n",
       "      <td>Ma bamleshwari</td>\n",
       "      <td>6936448 IN</td>\n",
       "      <td>511578 IN</td>\n",
       "      <td>October</td>\n",
       "      <td>9098505339</td>\n",
       "      <td>IN</td>\n",
       "      <td>East</td>\n",
       "      <td>Raipur</td>\n",
       "      <td>...</td>\n",
       "      <td>0.0</td>\n",
       "      <td>0.25</td>\n",
       "      <td>0.0</td>\n",
       "      <td>0.250</td>\n",
       "      <td>NaN</td>\n",
       "      <td>0.0</td>\n",
       "      <td>225.0</td>\n",
       "      <td>225.0</td>\n",
       "      <td>5.0</td>\n",
       "      <td>0.0</td>\n",
       "    </tr>\n",
       "    <tr>\n",
       "      <th>182667</th>\n",
       "      <td>182,668</td>\n",
       "      <td>शोभा वैष्णव</td>\n",
       "      <td>Ma bamleshwari</td>\n",
       "      <td>6936448 IN</td>\n",
       "      <td>511578 IN</td>\n",
       "      <td>October</td>\n",
       "      <td>9098505339</td>\n",
       "      <td>IN</td>\n",
       "      <td>East</td>\n",
       "      <td>Raipur</td>\n",
       "      <td>...</td>\n",
       "      <td>0.0</td>\n",
       "      <td>1.75</td>\n",
       "      <td>0.0</td>\n",
       "      <td>0.250</td>\n",
       "      <td>1560.0</td>\n",
       "      <td>0.0</td>\n",
       "      <td>2730.0</td>\n",
       "      <td>390.0</td>\n",
       "      <td>63.0</td>\n",
       "      <td>36.0</td>\n",
       "    </tr>\n",
       "    <tr>\n",
       "      <th>182668</th>\n",
       "      <td>182,669</td>\n",
       "      <td>शोभा वैष्णव</td>\n",
       "      <td>Ma bamleshwari</td>\n",
       "      <td>6936448 IN</td>\n",
       "      <td>511578 IN</td>\n",
       "      <td>October</td>\n",
       "      <td>9098505339</td>\n",
       "      <td>IN</td>\n",
       "      <td>East</td>\n",
       "      <td>Raipur</td>\n",
       "      <td>...</td>\n",
       "      <td>0.0</td>\n",
       "      <td>0.25</td>\n",
       "      <td>0.0</td>\n",
       "      <td>0.250</td>\n",
       "      <td>NaN</td>\n",
       "      <td>0.0</td>\n",
       "      <td>649.0</td>\n",
       "      <td>649.0</td>\n",
       "      <td>16.0</td>\n",
       "      <td>0.0</td>\n",
       "    </tr>\n",
       "    <tr>\n",
       "      <th>182669</th>\n",
       "      <td>182,670</td>\n",
       "      <td>शोभा वैष्णव</td>\n",
       "      <td>Ma bamleshwari</td>\n",
       "      <td>6936448 IN</td>\n",
       "      <td>511578 IN</td>\n",
       "      <td>October</td>\n",
       "      <td>9098505339</td>\n",
       "      <td>IN</td>\n",
       "      <td>East</td>\n",
       "      <td>Raipur</td>\n",
       "      <td>...</td>\n",
       "      <td>0.0</td>\n",
       "      <td>1.00</td>\n",
       "      <td>0.0</td>\n",
       "      <td>0.250</td>\n",
       "      <td>1743.0</td>\n",
       "      <td>0.0</td>\n",
       "      <td>2324.0</td>\n",
       "      <td>581.0</td>\n",
       "      <td>56.0</td>\n",
       "      <td>42.0</td>\n",
       "    </tr>\n",
       "    <tr>\n",
       "      <th>182670</th>\n",
       "      <td>182,671</td>\n",
       "      <td>शोभा वैष्णव</td>\n",
       "      <td>Ma bamleshwari</td>\n",
       "      <td>6936448 IN</td>\n",
       "      <td>511578 IN</td>\n",
       "      <td>October</td>\n",
       "      <td>9098505339</td>\n",
       "      <td>IN</td>\n",
       "      <td>East</td>\n",
       "      <td>Raipur</td>\n",
       "      <td>...</td>\n",
       "      <td>0.0</td>\n",
       "      <td>0.10</td>\n",
       "      <td>0.0</td>\n",
       "      <td>0.100</td>\n",
       "      <td>NaN</td>\n",
       "      <td>0.0</td>\n",
       "      <td>835.0</td>\n",
       "      <td>835.0</td>\n",
       "      <td>21.0</td>\n",
       "      <td>0.0</td>\n",
       "    </tr>\n",
       "  </tbody>\n",
       "</table>\n",
       "<p>182671 rows × 35 columns</p>\n",
       "</div>"
      ],
      "text/plain": [
       "          index Advisor name          Retailer Name Retailer ID Advisor ID  \\\n",
       "0             1    A Bharath                    NaN         NaN  281922 IN   \n",
       "1             2    A Bharath  BHARATHI AGRO TRADERS  TN01923 IN  281922 IN   \n",
       "2             3    A Bharath  BHARATHI AGRO TRADERS  TN01923 IN  281922 IN   \n",
       "3             4   A Nagaraju                    NaN         NaN   47071 IN   \n",
       "4             5   A Nagaraju                    NaN         NaN   47071 IN   \n",
       "...         ...          ...                    ...         ...        ...   \n",
       "182666  182,667  शोभा वैष्णव         Ma bamleshwari  6936448 IN  511578 IN   \n",
       "182667  182,668  शोभा वैष्णव         Ma bamleshwari  6936448 IN  511578 IN   \n",
       "182668  182,669  शोभा वैष्णव         Ma bamleshwari  6936448 IN  511578 IN   \n",
       "182669  182,670  शोभा वैष्णव         Ma bamleshwari  6936448 IN  511578 IN   \n",
       "182670  182,671  शोभा वैष्णव         Ma bamleshwari  6936448 IN  511578 IN   \n",
       "\n",
       "       Month of Order Intent Created Date  Advisor Phone Number Country Code   \\\n",
       "0                                    June            8220054234            IN   \n",
       "1                                    June            8220054234            IN   \n",
       "2                                    June            8220054234            IN   \n",
       "3                                 January            9000696331            IN   \n",
       "4                                 January            9000696331            IN   \n",
       "...                                   ...                   ...           ...   \n",
       "182666                            October            9098505339            IN   \n",
       "182667                            October            9098505339            IN   \n",
       "182668                            October            9098505339            IN   \n",
       "182669                            October            9098505339            IN   \n",
       "182670                            October            9098505339            IN   \n",
       "\n",
       "       Hierarchy Level 3 Hierarchy Level 2  ... Volume Cancelled  \\\n",
       "0                  South             Salem  ...              0.0   \n",
       "1                  South             Salem  ...              0.0   \n",
       "2                  South             Salem  ...              0.0   \n",
       "3                    NaN               NaN  ...              6.0   \n",
       "4                    NaN               NaN  ...              0.0   \n",
       "...                  ...               ...  ...              ...   \n",
       "182666              East            Raipur  ...              0.0   \n",
       "182667              East            Raipur  ...              0.0   \n",
       "182668              East            Raipur  ...              0.0   \n",
       "182669              East            Raipur  ...              0.0   \n",
       "182670              East            Raipur  ...              0.0   \n",
       "\n",
       "       Volume Purchased Returned Volume Avg Volume Sold per Farmers  \\\n",
       "0                  0.00             0.0                       0.000   \n",
       "1                  0.46             0.0                       0.115   \n",
       "2                  0.10             0.0                       0.100   \n",
       "3                  0.00             0.0                       0.000   \n",
       "4                  0.00             0.0                       0.000   \n",
       "...                 ...             ...                         ...   \n",
       "182666             0.25             0.0                       0.250   \n",
       "182667             1.75             0.0                       0.250   \n",
       "182668             0.25             0.0                       0.250   \n",
       "182669             1.00             0.0                       0.250   \n",
       "182670             0.10             0.0                       0.100   \n",
       "\n",
       "       Total Intent Value Cancelled Order Value  Sales Value  \\\n",
       "0                   430.0                   0.0          0.0   \n",
       "1                  6135.0                   0.0       4908.0   \n",
       "2                   280.0                   0.0        280.0   \n",
       "3                 12588.0               12588.0          0.0   \n",
       "4                  2290.0                   0.0          0.0   \n",
       "...                   ...                   ...          ...   \n",
       "182666                NaN                   0.0        225.0   \n",
       "182667             1560.0                   0.0       2730.0   \n",
       "182668                NaN                   0.0        649.0   \n",
       "182669             1743.0                   0.0       2324.0   \n",
       "182670                NaN                   0.0        835.0   \n",
       "\n",
       "        Avg Sales per Farmer  Actual Commission  Intended Commission  \n",
       "0                        NaN                0.0                 10.0  \n",
       "1                     1227.0              120.0                150.0  \n",
       "2                      280.0                7.0                  7.0  \n",
       "3                        NaN                0.0                312.0  \n",
       "4                        NaN                0.0                 50.0  \n",
       "...                      ...                ...                  ...  \n",
       "182666                 225.0                5.0                  0.0  \n",
       "182667                 390.0               63.0                 36.0  \n",
       "182668                 649.0               16.0                  0.0  \n",
       "182669                 581.0               56.0                 42.0  \n",
       "182670                 835.0               21.0                  0.0  \n",
       "\n",
       "[182671 rows x 35 columns]"
      ]
     },
     "execution_count": 95,
     "metadata": {},
     "output_type": "execute_result"
    }
   ],
   "source": [
    "data2"
   ]
  },
  {
   "cell_type": "code",
   "execution_count": 96,
   "id": "f4d35d9e",
   "metadata": {
    "scrolled": false
   },
   "outputs": [
    {
     "data": {
      "text/html": [
       "<div>\n",
       "<style scoped>\n",
       "    .dataframe tbody tr th:only-of-type {\n",
       "        vertical-align: middle;\n",
       "    }\n",
       "\n",
       "    .dataframe tbody tr th {\n",
       "        vertical-align: top;\n",
       "    }\n",
       "\n",
       "    .dataframe thead th {\n",
       "        text-align: right;\n",
       "    }\n",
       "</style>\n",
       "<table border=\"1\" class=\"dataframe\">\n",
       "  <thead>\n",
       "    <tr style=\"text-align: right;\">\n",
       "      <th></th>\n",
       "      <th>Advisor</th>\n",
       "      <th>AdvisorID</th>\n",
       "      <th>salesvalue</th>\n",
       "    </tr>\n",
       "  </thead>\n",
       "  <tbody>\n",
       "    <tr>\n",
       "      <th>0</th>\n",
       "      <td>A Bharath</td>\n",
       "      <td>281922 IN</td>\n",
       "      <td>0.0</td>\n",
       "    </tr>\n",
       "    <tr>\n",
       "      <th>1</th>\n",
       "      <td>A Bharath</td>\n",
       "      <td>281922 IN</td>\n",
       "      <td>4908.0</td>\n",
       "    </tr>\n",
       "    <tr>\n",
       "      <th>2</th>\n",
       "      <td>A Bharath</td>\n",
       "      <td>281922 IN</td>\n",
       "      <td>280.0</td>\n",
       "    </tr>\n",
       "    <tr>\n",
       "      <th>3</th>\n",
       "      <td>A Nagaraju</td>\n",
       "      <td>47071 IN</td>\n",
       "      <td>0.0</td>\n",
       "    </tr>\n",
       "    <tr>\n",
       "      <th>4</th>\n",
       "      <td>A Nagaraju</td>\n",
       "      <td>47071 IN</td>\n",
       "      <td>0.0</td>\n",
       "    </tr>\n",
       "    <tr>\n",
       "      <th>...</th>\n",
       "      <td>...</td>\n",
       "      <td>...</td>\n",
       "      <td>...</td>\n",
       "    </tr>\n",
       "    <tr>\n",
       "      <th>182666</th>\n",
       "      <td>शोभा वैष्णव</td>\n",
       "      <td>511578 IN</td>\n",
       "      <td>225.0</td>\n",
       "    </tr>\n",
       "    <tr>\n",
       "      <th>182667</th>\n",
       "      <td>शोभा वैष्णव</td>\n",
       "      <td>511578 IN</td>\n",
       "      <td>2730.0</td>\n",
       "    </tr>\n",
       "    <tr>\n",
       "      <th>182668</th>\n",
       "      <td>शोभा वैष्णव</td>\n",
       "      <td>511578 IN</td>\n",
       "      <td>649.0</td>\n",
       "    </tr>\n",
       "    <tr>\n",
       "      <th>182669</th>\n",
       "      <td>शोभा वैष्णव</td>\n",
       "      <td>511578 IN</td>\n",
       "      <td>2324.0</td>\n",
       "    </tr>\n",
       "    <tr>\n",
       "      <th>182670</th>\n",
       "      <td>शोभा वैष्णव</td>\n",
       "      <td>511578 IN</td>\n",
       "      <td>835.0</td>\n",
       "    </tr>\n",
       "  </tbody>\n",
       "</table>\n",
       "<p>182671 rows × 3 columns</p>\n",
       "</div>"
      ],
      "text/plain": [
       "            Advisor  AdvisorID  salesvalue\n",
       "0         A Bharath  281922 IN         0.0\n",
       "1         A Bharath  281922 IN      4908.0\n",
       "2         A Bharath  281922 IN       280.0\n",
       "3        A Nagaraju   47071 IN         0.0\n",
       "4        A Nagaraju   47071 IN         0.0\n",
       "...             ...        ...         ...\n",
       "182666  शोभा वैष्णव  511578 IN       225.0\n",
       "182667  शोभा वैष्णव  511578 IN      2730.0\n",
       "182668  शोभा वैष्णव  511578 IN       649.0\n",
       "182669  शोभा वैष्णव  511578 IN      2324.0\n",
       "182670  शोभा वैष्णव  511578 IN       835.0\n",
       "\n",
       "[182671 rows x 3 columns]"
      ]
     },
     "execution_count": 96,
     "metadata": {},
     "output_type": "execute_result"
    }
   ],
   "source": [
    "Advisorslist"
   ]
  },
  {
   "cell_type": "code",
   "execution_count": 61,
   "id": "6a7bc86b",
   "metadata": {},
   "outputs": [],
   "source": [
    "cumsum=(Advisorslist[\"salesvalue\"]/Advisorslist[\"salesvalue\"].sum()).sort_values().cumsum()"
   ]
  },
  {
   "cell_type": "code",
   "execution_count": 62,
   "id": "0dd5bab9",
   "metadata": {},
   "outputs": [],
   "source": [
    "Advisorslist[\"label\"]=pd.Series(0, index=cumsum.index).where(cumsum <= 0.2, 1)"
   ]
  },
  {
   "cell_type": "code",
   "execution_count": 63,
   "id": "56b63c0f",
   "metadata": {},
   "outputs": [
    {
     "name": "stdout",
     "output_type": "stream",
     "text": [
      "            Advisor  salesvalue  label\n",
      "0         A Bharath         0.0      0\n",
      "1         A Bharath      4908.0      0\n",
      "2         A Bharath       280.0      0\n",
      "3        A Nagaraju         0.0      0\n",
      "4        A Nagaraju         0.0      0\n",
      "...             ...         ...    ...\n",
      "182666  शोभा वैष्णव       225.0      0\n",
      "182667  शोभा वैष्णव      2730.0      0\n",
      "182668  शोभा वैष्णव       649.0      0\n",
      "182669  शोभा वैष्णव      2324.0      0\n",
      "182670  शोभा वैष्णव       835.0      0\n",
      "\n",
      "[182671 rows x 3 columns]\n"
     ]
    }
   ],
   "source": [
    "print(Advisorslist)"
   ]
  },
  {
   "cell_type": "code",
   "execution_count": 64,
   "id": "06481857",
   "metadata": {},
   "outputs": [
    {
     "data": {
      "text/html": [
       "<div>\n",
       "<style scoped>\n",
       "    .dataframe tbody tr th:only-of-type {\n",
       "        vertical-align: middle;\n",
       "    }\n",
       "\n",
       "    .dataframe tbody tr th {\n",
       "        vertical-align: top;\n",
       "    }\n",
       "\n",
       "    .dataframe thead th {\n",
       "        text-align: right;\n",
       "    }\n",
       "</style>\n",
       "<table border=\"1\" class=\"dataframe\">\n",
       "  <thead>\n",
       "    <tr style=\"text-align: right;\">\n",
       "      <th></th>\n",
       "      <th>Advisor</th>\n",
       "      <th>salesvalue</th>\n",
       "      <th>label</th>\n",
       "    </tr>\n",
       "  </thead>\n",
       "  <tbody>\n",
       "    <tr>\n",
       "      <th>182371</th>\n",
       "      <td>YOGESH YOGESH</td>\n",
       "      <td>0.0</td>\n",
       "      <td>0</td>\n",
       "    </tr>\n",
       "    <tr>\n",
       "      <th>182372</th>\n",
       "      <td>YOGESH YOGESH</td>\n",
       "      <td>0.0</td>\n",
       "      <td>0</td>\n",
       "    </tr>\n",
       "    <tr>\n",
       "      <th>182373</th>\n",
       "      <td>YOGESH YOGESH</td>\n",
       "      <td>0.0</td>\n",
       "      <td>0</td>\n",
       "    </tr>\n",
       "    <tr>\n",
       "      <th>182374</th>\n",
       "      <td>YOGESH YOGESH</td>\n",
       "      <td>0.0</td>\n",
       "      <td>0</td>\n",
       "    </tr>\n",
       "    <tr>\n",
       "      <th>182375</th>\n",
       "      <td>YOGESH YOGESH</td>\n",
       "      <td>0.0</td>\n",
       "      <td>0</td>\n",
       "    </tr>\n",
       "    <tr>\n",
       "      <th>...</th>\n",
       "      <td>...</td>\n",
       "      <td>...</td>\n",
       "      <td>...</td>\n",
       "    </tr>\n",
       "    <tr>\n",
       "      <th>182666</th>\n",
       "      <td>शोभा वैष्णव</td>\n",
       "      <td>225.0</td>\n",
       "      <td>0</td>\n",
       "    </tr>\n",
       "    <tr>\n",
       "      <th>182667</th>\n",
       "      <td>शोभा वैष्णव</td>\n",
       "      <td>2730.0</td>\n",
       "      <td>0</td>\n",
       "    </tr>\n",
       "    <tr>\n",
       "      <th>182668</th>\n",
       "      <td>शोभा वैष्णव</td>\n",
       "      <td>649.0</td>\n",
       "      <td>0</td>\n",
       "    </tr>\n",
       "    <tr>\n",
       "      <th>182669</th>\n",
       "      <td>शोभा वैष्णव</td>\n",
       "      <td>2324.0</td>\n",
       "      <td>0</td>\n",
       "    </tr>\n",
       "    <tr>\n",
       "      <th>182670</th>\n",
       "      <td>शोभा वैष्णव</td>\n",
       "      <td>835.0</td>\n",
       "      <td>0</td>\n",
       "    </tr>\n",
       "  </tbody>\n",
       "</table>\n",
       "<p>300 rows × 3 columns</p>\n",
       "</div>"
      ],
      "text/plain": [
       "              Advisor  salesvalue  label\n",
       "182371  YOGESH YOGESH         0.0      0\n",
       "182372  YOGESH YOGESH         0.0      0\n",
       "182373  YOGESH YOGESH         0.0      0\n",
       "182374  YOGESH YOGESH         0.0      0\n",
       "182375  YOGESH YOGESH         0.0      0\n",
       "...               ...         ...    ...\n",
       "182666    शोभा वैष्णव       225.0      0\n",
       "182667    शोभा वैष्णव      2730.0      0\n",
       "182668    शोभा वैष्णव       649.0      0\n",
       "182669    शोभा वैष्णव      2324.0      0\n",
       "182670    शोभा वैष्णव       835.0      0\n",
       "\n",
       "[300 rows x 3 columns]"
      ]
     },
     "execution_count": 64,
     "metadata": {},
     "output_type": "execute_result"
    }
   ],
   "source": [
    "Advisorslist.tail(300)"
   ]
  },
  {
   "cell_type": "code",
   "execution_count": 65,
   "id": "ebf1fa17",
   "metadata": {},
   "outputs": [],
   "source": [
    "dataa=Advisorslist"
   ]
  },
  {
   "cell_type": "code",
   "execution_count": 19,
   "id": "26f760a5",
   "metadata": {},
   "outputs": [
    {
     "data": {
      "text/plain": [
       "Advisor        object\n",
       "salesvalue    float64\n",
       "label           int64\n",
       "dtype: object"
      ]
     },
     "execution_count": 19,
     "metadata": {},
     "output_type": "execute_result"
    }
   ],
   "source": [
    "dataa.dtypes"
   ]
  },
  {
   "cell_type": "code",
   "execution_count": 66,
   "id": "7d0c9354",
   "metadata": {},
   "outputs": [],
   "source": [
    "idx=np.where(dataa['label']==1)"
   ]
  },
  {
   "cell_type": "code",
   "execution_count": 67,
   "id": "a117b605",
   "metadata": {},
   "outputs": [
    {
     "data": {
      "text/plain": [
       "(array([    20,     21,     25, ..., 182592, 182603, 182605], dtype=int64),)"
      ]
     },
     "execution_count": 67,
     "metadata": {},
     "output_type": "execute_result"
    }
   ],
   "source": [
    "idx"
   ]
  },
  {
   "cell_type": "code",
   "execution_count": 68,
   "id": "a76ae3c2",
   "metadata": {},
   "outputs": [],
   "source": [
    "advisorsinfo=dataa.loc[idx].reset_index()"
   ]
  },
  {
   "cell_type": "code",
   "execution_count": 69,
   "id": "dd8c72f7",
   "metadata": {},
   "outputs": [
    {
     "data": {
      "text/html": [
       "<div>\n",
       "<style scoped>\n",
       "    .dataframe tbody tr th:only-of-type {\n",
       "        vertical-align: middle;\n",
       "    }\n",
       "\n",
       "    .dataframe tbody tr th {\n",
       "        vertical-align: top;\n",
       "    }\n",
       "\n",
       "    .dataframe thead th {\n",
       "        text-align: right;\n",
       "    }\n",
       "</style>\n",
       "<table border=\"1\" class=\"dataframe\">\n",
       "  <thead>\n",
       "    <tr style=\"text-align: right;\">\n",
       "      <th></th>\n",
       "      <th>index</th>\n",
       "      <th>Advisor</th>\n",
       "      <th>salesvalue</th>\n",
       "      <th>label</th>\n",
       "    </tr>\n",
       "  </thead>\n",
       "  <tbody>\n",
       "    <tr>\n",
       "      <th>0</th>\n",
       "      <td>20</td>\n",
       "      <td>A Nagaraju</td>\n",
       "      <td>114700.0</td>\n",
       "      <td>1</td>\n",
       "    </tr>\n",
       "    <tr>\n",
       "      <th>1</th>\n",
       "      <td>21</td>\n",
       "      <td>A Nagaraju</td>\n",
       "      <td>60200.0</td>\n",
       "      <td>1</td>\n",
       "    </tr>\n",
       "    <tr>\n",
       "      <th>2</th>\n",
       "      <td>25</td>\n",
       "      <td>A Nagaraju</td>\n",
       "      <td>228000.0</td>\n",
       "      <td>1</td>\n",
       "    </tr>\n",
       "    <tr>\n",
       "      <th>3</th>\n",
       "      <td>26</td>\n",
       "      <td>A Nagaraju</td>\n",
       "      <td>27600.0</td>\n",
       "      <td>1</td>\n",
       "    </tr>\n",
       "    <tr>\n",
       "      <th>4</th>\n",
       "      <td>29</td>\n",
       "      <td>A Nagaraju</td>\n",
       "      <td>64428.0</td>\n",
       "      <td>1</td>\n",
       "    </tr>\n",
       "    <tr>\n",
       "      <th>...</th>\n",
       "      <td>...</td>\n",
       "      <td>...</td>\n",
       "      <td>...</td>\n",
       "      <td>...</td>\n",
       "    </tr>\n",
       "    <tr>\n",
       "      <th>26230</th>\n",
       "      <td>182563</td>\n",
       "      <td>Yuvrajsinh Hanubha Gohil</td>\n",
       "      <td>34615.0</td>\n",
       "      <td>1</td>\n",
       "    </tr>\n",
       "    <tr>\n",
       "      <th>26231</th>\n",
       "      <td>182591</td>\n",
       "      <td>Yuvrajsinh Hanubha Gohil</td>\n",
       "      <td>92880.0</td>\n",
       "      <td>1</td>\n",
       "    </tr>\n",
       "    <tr>\n",
       "      <th>26232</th>\n",
       "      <td>182592</td>\n",
       "      <td>Yuvrajsinh Hanubha Gohil</td>\n",
       "      <td>27375.0</td>\n",
       "      <td>1</td>\n",
       "    </tr>\n",
       "    <tr>\n",
       "      <th>26233</th>\n",
       "      <td>182603</td>\n",
       "      <td>Yuvrajsinh Hanubha Gohil</td>\n",
       "      <td>71195.0</td>\n",
       "      <td>1</td>\n",
       "    </tr>\n",
       "    <tr>\n",
       "      <th>26234</th>\n",
       "      <td>182605</td>\n",
       "      <td>Yuvrajsinh Hanubha Gohil</td>\n",
       "      <td>51840.0</td>\n",
       "      <td>1</td>\n",
       "    </tr>\n",
       "  </tbody>\n",
       "</table>\n",
       "<p>26235 rows × 4 columns</p>\n",
       "</div>"
      ],
      "text/plain": [
       "        index                   Advisor  salesvalue  label\n",
       "0          20                A Nagaraju    114700.0      1\n",
       "1          21                A Nagaraju     60200.0      1\n",
       "2          25                A Nagaraju    228000.0      1\n",
       "3          26                A Nagaraju     27600.0      1\n",
       "4          29                A Nagaraju     64428.0      1\n",
       "...       ...                       ...         ...    ...\n",
       "26230  182563  Yuvrajsinh Hanubha Gohil     34615.0      1\n",
       "26231  182591  Yuvrajsinh Hanubha Gohil     92880.0      1\n",
       "26232  182592  Yuvrajsinh Hanubha Gohil     27375.0      1\n",
       "26233  182603  Yuvrajsinh Hanubha Gohil     71195.0      1\n",
       "26234  182605  Yuvrajsinh Hanubha Gohil     51840.0      1\n",
       "\n",
       "[26235 rows x 4 columns]"
      ]
     },
     "execution_count": 69,
     "metadata": {},
     "output_type": "execute_result"
    }
   ],
   "source": [
    "advisorsinfo"
   ]
  },
  {
   "cell_type": "code",
   "execution_count": 70,
   "id": "7889b7e1",
   "metadata": {},
   "outputs": [],
   "source": [
    "TOPADVISOR80=advisorsinfo.sort_values(by='salesvalue', ascending=False).reset_index()"
   ]
  },
  {
   "cell_type": "code",
   "execution_count": 71,
   "id": "3baebbd8",
   "metadata": {},
   "outputs": [
    {
     "data": {
      "text/html": [
       "<div>\n",
       "<style scoped>\n",
       "    .dataframe tbody tr th:only-of-type {\n",
       "        vertical-align: middle;\n",
       "    }\n",
       "\n",
       "    .dataframe tbody tr th {\n",
       "        vertical-align: top;\n",
       "    }\n",
       "\n",
       "    .dataframe thead th {\n",
       "        text-align: right;\n",
       "    }\n",
       "</style>\n",
       "<table border=\"1\" class=\"dataframe\">\n",
       "  <thead>\n",
       "    <tr style=\"text-align: right;\">\n",
       "      <th></th>\n",
       "      <th>level_0</th>\n",
       "      <th>index</th>\n",
       "      <th>Advisor</th>\n",
       "      <th>salesvalue</th>\n",
       "      <th>label</th>\n",
       "    </tr>\n",
       "  </thead>\n",
       "  <tbody>\n",
       "    <tr>\n",
       "      <th>0</th>\n",
       "      <td>7259</td>\n",
       "      <td>50998</td>\n",
       "      <td>Gurvinder Gurvinder</td>\n",
       "      <td>6196075.0</td>\n",
       "      <td>1</td>\n",
       "    </tr>\n",
       "    <tr>\n",
       "      <th>1</th>\n",
       "      <td>14094</td>\n",
       "      <td>96515</td>\n",
       "      <td>Naveen Kumar</td>\n",
       "      <td>4785975.0</td>\n",
       "      <td>1</td>\n",
       "    </tr>\n",
       "    <tr>\n",
       "      <th>2</th>\n",
       "      <td>2907</td>\n",
       "      <td>18746</td>\n",
       "      <td>Asim Kundu</td>\n",
       "      <td>4552350.0</td>\n",
       "      <td>1</td>\n",
       "    </tr>\n",
       "    <tr>\n",
       "      <th>3</th>\n",
       "      <td>8914</td>\n",
       "      <td>60431</td>\n",
       "      <td>Jasmeet Singh</td>\n",
       "      <td>3980112.0</td>\n",
       "      <td>1</td>\n",
       "    </tr>\n",
       "    <tr>\n",
       "      <th>4</th>\n",
       "      <td>5069</td>\n",
       "      <td>33680</td>\n",
       "      <td>Debashis Dey</td>\n",
       "      <td>3970890.0</td>\n",
       "      <td>1</td>\n",
       "    </tr>\n",
       "    <tr>\n",
       "      <th>...</th>\n",
       "      <td>...</td>\n",
       "      <td>...</td>\n",
       "      <td>...</td>\n",
       "      <td>...</td>\n",
       "      <td>...</td>\n",
       "    </tr>\n",
       "    <tr>\n",
       "      <th>26230</th>\n",
       "      <td>8397</td>\n",
       "      <td>57592</td>\n",
       "      <td>IYAPPAN G</td>\n",
       "      <td>26244.0</td>\n",
       "      <td>1</td>\n",
       "    </tr>\n",
       "    <tr>\n",
       "      <th>26231</th>\n",
       "      <td>24883</td>\n",
       "      <td>172036</td>\n",
       "      <td>UMESH CHANDRAVANSHI</td>\n",
       "      <td>26240.0</td>\n",
       "      <td>1</td>\n",
       "    </tr>\n",
       "    <tr>\n",
       "      <th>26232</th>\n",
       "      <td>22192</td>\n",
       "      <td>154917</td>\n",
       "      <td>SK ROMJAN HOSSAIN</td>\n",
       "      <td>26230.0</td>\n",
       "      <td>1</td>\n",
       "    </tr>\n",
       "    <tr>\n",
       "      <th>26233</th>\n",
       "      <td>24872</td>\n",
       "      <td>171950</td>\n",
       "      <td>Ujjwal Ghosh</td>\n",
       "      <td>26230.0</td>\n",
       "      <td>1</td>\n",
       "    </tr>\n",
       "    <tr>\n",
       "      <th>26234</th>\n",
       "      <td>21354</td>\n",
       "      <td>147059</td>\n",
       "      <td>SEKH SAHIL HASAN</td>\n",
       "      <td>26230.0</td>\n",
       "      <td>1</td>\n",
       "    </tr>\n",
       "  </tbody>\n",
       "</table>\n",
       "<p>26235 rows × 5 columns</p>\n",
       "</div>"
      ],
      "text/plain": [
       "       level_0   index              Advisor  salesvalue  label\n",
       "0         7259   50998  Gurvinder Gurvinder   6196075.0      1\n",
       "1        14094   96515         Naveen Kumar   4785975.0      1\n",
       "2         2907   18746           Asim Kundu   4552350.0      1\n",
       "3         8914   60431        Jasmeet Singh   3980112.0      1\n",
       "4         5069   33680         Debashis Dey   3970890.0      1\n",
       "...        ...     ...                  ...         ...    ...\n",
       "26230     8397   57592            IYAPPAN G     26244.0      1\n",
       "26231    24883  172036  UMESH CHANDRAVANSHI     26240.0      1\n",
       "26232    22192  154917    SK ROMJAN HOSSAIN     26230.0      1\n",
       "26233    24872  171950         Ujjwal Ghosh     26230.0      1\n",
       "26234    21354  147059     SEKH SAHIL HASAN     26230.0      1\n",
       "\n",
       "[26235 rows x 5 columns]"
      ]
     },
     "execution_count": 71,
     "metadata": {},
     "output_type": "execute_result"
    }
   ],
   "source": [
    "TOPADVISOR80"
   ]
  },
  {
   "cell_type": "code",
   "execution_count": 72,
   "id": "9bd087f2",
   "metadata": {},
   "outputs": [],
   "source": [
    "ADVISORS2021=TOPADVISOR80.groupby([\"Advisor\"])[\"salesvalue\"].sum().rename(\"Salesvalue\").reset_index()"
   ]
  },
  {
   "cell_type": "code",
   "execution_count": 73,
   "id": "cabdb6c3",
   "metadata": {},
   "outputs": [
    {
     "data": {
      "text/html": [
       "<div>\n",
       "<style scoped>\n",
       "    .dataframe tbody tr th:only-of-type {\n",
       "        vertical-align: middle;\n",
       "    }\n",
       "\n",
       "    .dataframe tbody tr th {\n",
       "        vertical-align: top;\n",
       "    }\n",
       "\n",
       "    .dataframe thead th {\n",
       "        text-align: right;\n",
       "    }\n",
       "</style>\n",
       "<table border=\"1\" class=\"dataframe\">\n",
       "  <thead>\n",
       "    <tr style=\"text-align: right;\">\n",
       "      <th></th>\n",
       "      <th>Advisor</th>\n",
       "      <th>Salesvalue</th>\n",
       "    </tr>\n",
       "  </thead>\n",
       "  <tbody>\n",
       "    <tr>\n",
       "      <th>0</th>\n",
       "      <td>A Nagaraju</td>\n",
       "      <td>3764740.0</td>\n",
       "    </tr>\n",
       "    <tr>\n",
       "      <th>1</th>\n",
       "      <td>A PRASAD</td>\n",
       "      <td>29700.0</td>\n",
       "    </tr>\n",
       "    <tr>\n",
       "      <th>2</th>\n",
       "      <td>ADAPA NAGA SRINU</td>\n",
       "      <td>3106612.0</td>\n",
       "    </tr>\n",
       "    <tr>\n",
       "      <th>3</th>\n",
       "      <td>ADURI AKHIL TEJA</td>\n",
       "      <td>6458469.0</td>\n",
       "    </tr>\n",
       "    <tr>\n",
       "      <th>4</th>\n",
       "      <td>AJAY VISHKARMA</td>\n",
       "      <td>604410.0</td>\n",
       "    </tr>\n",
       "    <tr>\n",
       "      <th>...</th>\n",
       "      <td>...</td>\n",
       "      <td>...</td>\n",
       "    </tr>\n",
       "    <tr>\n",
       "      <th>2107</th>\n",
       "      <td>vinod kumar</td>\n",
       "      <td>64240.0</td>\n",
       "    </tr>\n",
       "    <tr>\n",
       "      <th>2108</th>\n",
       "      <td>vipin dadich</td>\n",
       "      <td>225230.0</td>\n",
       "    </tr>\n",
       "    <tr>\n",
       "      <th>2109</th>\n",
       "      <td>vishnu Makwana</td>\n",
       "      <td>143040.0</td>\n",
       "    </tr>\n",
       "    <tr>\n",
       "      <th>2110</th>\n",
       "      <td>yogesh kumar</td>\n",
       "      <td>3257666.0</td>\n",
       "    </tr>\n",
       "    <tr>\n",
       "      <th>2111</th>\n",
       "      <td>yogesh saini</td>\n",
       "      <td>244410.0</td>\n",
       "    </tr>\n",
       "  </tbody>\n",
       "</table>\n",
       "<p>2112 rows × 2 columns</p>\n",
       "</div>"
      ],
      "text/plain": [
       "               Advisor  Salesvalue\n",
       "0           A Nagaraju   3764740.0\n",
       "1             A PRASAD     29700.0\n",
       "2     ADAPA NAGA SRINU   3106612.0\n",
       "3     ADURI AKHIL TEJA   6458469.0\n",
       "4       AJAY VISHKARMA    604410.0\n",
       "...                ...         ...\n",
       "2107       vinod kumar     64240.0\n",
       "2108      vipin dadich    225230.0\n",
       "2109    vishnu Makwana    143040.0\n",
       "2110      yogesh kumar   3257666.0\n",
       "2111      yogesh saini    244410.0\n",
       "\n",
       "[2112 rows x 2 columns]"
      ]
     },
     "execution_count": 73,
     "metadata": {},
     "output_type": "execute_result"
    }
   ],
   "source": [
    "ADVISORS2021"
   ]
  },
  {
   "cell_type": "code",
   "execution_count": 74,
   "id": "6496ab22",
   "metadata": {},
   "outputs": [],
   "source": [
    "TOPADVIS2021_80=ADVISORS2021.sort_values(by='Salesvalue', ascending=False).reset_index()"
   ]
  },
  {
   "cell_type": "code",
   "execution_count": 76,
   "id": "45c3d7b6",
   "metadata": {
    "scrolled": true
   },
   "outputs": [
    {
     "data": {
      "text/html": [
       "<div>\n",
       "<style scoped>\n",
       "    .dataframe tbody tr th:only-of-type {\n",
       "        vertical-align: middle;\n",
       "    }\n",
       "\n",
       "    .dataframe tbody tr th {\n",
       "        vertical-align: top;\n",
       "    }\n",
       "\n",
       "    .dataframe thead th {\n",
       "        text-align: right;\n",
       "    }\n",
       "</style>\n",
       "<table border=\"1\" class=\"dataframe\">\n",
       "  <thead>\n",
       "    <tr style=\"text-align: right;\">\n",
       "      <th></th>\n",
       "      <th>index</th>\n",
       "      <th>Advisor</th>\n",
       "      <th>Salesvalue</th>\n",
       "    </tr>\n",
       "  </thead>\n",
       "  <tbody>\n",
       "    <tr>\n",
       "      <th>0</th>\n",
       "      <td>81</td>\n",
       "      <td>Akhilesh Garg</td>\n",
       "      <td>27930316.0</td>\n",
       "    </tr>\n",
       "    <tr>\n",
       "      <th>1</th>\n",
       "      <td>665</td>\n",
       "      <td>Jasmeet Singh</td>\n",
       "      <td>17873212.0</td>\n",
       "    </tr>\n",
       "    <tr>\n",
       "      <th>2</th>\n",
       "      <td>463</td>\n",
       "      <td>Faruk Ahamed Sardar</td>\n",
       "      <td>14365991.0</td>\n",
       "    </tr>\n",
       "    <tr>\n",
       "      <th>3</th>\n",
       "      <td>1499</td>\n",
       "      <td>Sanjay Kumar</td>\n",
       "      <td>14250462.0</td>\n",
       "    </tr>\n",
       "    <tr>\n",
       "      <th>4</th>\n",
       "      <td>624</td>\n",
       "      <td>Inderjeet Singh</td>\n",
       "      <td>12997360.0</td>\n",
       "    </tr>\n",
       "    <tr>\n",
       "      <th>...</th>\n",
       "      <td>...</td>\n",
       "      <td>...</td>\n",
       "      <td>...</td>\n",
       "    </tr>\n",
       "    <tr>\n",
       "      <th>2107</th>\n",
       "      <td>725</td>\n",
       "      <td>KUCHIPUDI  VENKATA NAGARAJU</td>\n",
       "      <td>26763.0</td>\n",
       "    </tr>\n",
       "    <tr>\n",
       "      <th>2108</th>\n",
       "      <td>1997</td>\n",
       "      <td>patel jayantibhai</td>\n",
       "      <td>26726.0</td>\n",
       "    </tr>\n",
       "    <tr>\n",
       "      <th>2109</th>\n",
       "      <td>1804</td>\n",
       "      <td>Vikram Kumar</td>\n",
       "      <td>26640.0</td>\n",
       "    </tr>\n",
       "    <tr>\n",
       "      <th>2110</th>\n",
       "      <td>1865</td>\n",
       "      <td>Yogesh Bhagawant Borole</td>\n",
       "      <td>26350.0</td>\n",
       "    </tr>\n",
       "    <tr>\n",
       "      <th>2111</th>\n",
       "      <td>380</td>\n",
       "      <td>Darmpal Singh</td>\n",
       "      <td>26280.0</td>\n",
       "    </tr>\n",
       "  </tbody>\n",
       "</table>\n",
       "<p>2112 rows × 3 columns</p>\n",
       "</div>"
      ],
      "text/plain": [
       "      index                      Advisor  Salesvalue\n",
       "0        81                Akhilesh Garg  27930316.0\n",
       "1       665                Jasmeet Singh  17873212.0\n",
       "2       463          Faruk Ahamed Sardar  14365991.0\n",
       "3      1499                 Sanjay Kumar  14250462.0\n",
       "4       624              Inderjeet Singh  12997360.0\n",
       "...     ...                          ...         ...\n",
       "2107    725  KUCHIPUDI  VENKATA NAGARAJU     26763.0\n",
       "2108   1997            patel jayantibhai     26726.0\n",
       "2109   1804                 Vikram Kumar     26640.0\n",
       "2110   1865      Yogesh Bhagawant Borole     26350.0\n",
       "2111    380                Darmpal Singh     26280.0\n",
       "\n",
       "[2112 rows x 3 columns]"
      ]
     },
     "execution_count": 76,
     "metadata": {},
     "output_type": "execute_result"
    }
   ],
   "source": [
    "#DATA of 80 percent sales value done by advisors\n",
    "TOPADVIS2021_80"
   ]
  },
  {
   "cell_type": "code",
   "execution_count": 77,
   "id": "547c6c75",
   "metadata": {},
   "outputs": [
    {
     "data": {
      "text/plain": [
       "2689827775.0"
      ]
     },
     "execution_count": 77,
     "metadata": {},
     "output_type": "execute_result"
    }
   ],
   "source": [
    "##to chek 80 percent sales value\n",
    "sumadv80=TOPADVIS2021_80[\"Salesvalue\"].sum()\n",
    "sumadv80"
   ]
  },
  {
   "cell_type": "code",
   "execution_count": null,
   "id": "e4bb0773",
   "metadata": {},
   "outputs": [],
   "source": [
    "# filtering 20% of sales value done by advisors"
   ]
  },
  {
   "cell_type": "code",
   "execution_count": 78,
   "id": "38ad47a6",
   "metadata": {},
   "outputs": [],
   "source": [
    "idx1=np.where(dataa['label']==0)"
   ]
  },
  {
   "cell_type": "code",
   "execution_count": 79,
   "id": "7dd6b2a0",
   "metadata": {},
   "outputs": [
    {
     "data": {
      "text/plain": [
       "(array([     0,      1,      2, ..., 182668, 182669, 182670], dtype=int64),)"
      ]
     },
     "execution_count": 79,
     "metadata": {},
     "output_type": "execute_result"
    }
   ],
   "source": [
    "idx1"
   ]
  },
  {
   "cell_type": "code",
   "execution_count": 80,
   "id": "084d07a7",
   "metadata": {},
   "outputs": [],
   "source": [
    "advisorsinfo1=dataa.loc[idx1].reset_index()"
   ]
  },
  {
   "cell_type": "code",
   "execution_count": 81,
   "id": "6b4e74ac",
   "metadata": {},
   "outputs": [
    {
     "data": {
      "text/html": [
       "<div>\n",
       "<style scoped>\n",
       "    .dataframe tbody tr th:only-of-type {\n",
       "        vertical-align: middle;\n",
       "    }\n",
       "\n",
       "    .dataframe tbody tr th {\n",
       "        vertical-align: top;\n",
       "    }\n",
       "\n",
       "    .dataframe thead th {\n",
       "        text-align: right;\n",
       "    }\n",
       "</style>\n",
       "<table border=\"1\" class=\"dataframe\">\n",
       "  <thead>\n",
       "    <tr style=\"text-align: right;\">\n",
       "      <th></th>\n",
       "      <th>index</th>\n",
       "      <th>Advisor</th>\n",
       "      <th>salesvalue</th>\n",
       "      <th>label</th>\n",
       "    </tr>\n",
       "  </thead>\n",
       "  <tbody>\n",
       "    <tr>\n",
       "      <th>0</th>\n",
       "      <td>0</td>\n",
       "      <td>A Bharath</td>\n",
       "      <td>0.0</td>\n",
       "      <td>0</td>\n",
       "    </tr>\n",
       "    <tr>\n",
       "      <th>1</th>\n",
       "      <td>1</td>\n",
       "      <td>A Bharath</td>\n",
       "      <td>4908.0</td>\n",
       "      <td>0</td>\n",
       "    </tr>\n",
       "    <tr>\n",
       "      <th>2</th>\n",
       "      <td>2</td>\n",
       "      <td>A Bharath</td>\n",
       "      <td>280.0</td>\n",
       "      <td>0</td>\n",
       "    </tr>\n",
       "    <tr>\n",
       "      <th>3</th>\n",
       "      <td>3</td>\n",
       "      <td>A Nagaraju</td>\n",
       "      <td>0.0</td>\n",
       "      <td>0</td>\n",
       "    </tr>\n",
       "    <tr>\n",
       "      <th>4</th>\n",
       "      <td>4</td>\n",
       "      <td>A Nagaraju</td>\n",
       "      <td>0.0</td>\n",
       "      <td>0</td>\n",
       "    </tr>\n",
       "    <tr>\n",
       "      <th>...</th>\n",
       "      <td>...</td>\n",
       "      <td>...</td>\n",
       "      <td>...</td>\n",
       "      <td>...</td>\n",
       "    </tr>\n",
       "    <tr>\n",
       "      <th>156431</th>\n",
       "      <td>182666</td>\n",
       "      <td>शोभा वैष्णव</td>\n",
       "      <td>225.0</td>\n",
       "      <td>0</td>\n",
       "    </tr>\n",
       "    <tr>\n",
       "      <th>156432</th>\n",
       "      <td>182667</td>\n",
       "      <td>शोभा वैष्णव</td>\n",
       "      <td>2730.0</td>\n",
       "      <td>0</td>\n",
       "    </tr>\n",
       "    <tr>\n",
       "      <th>156433</th>\n",
       "      <td>182668</td>\n",
       "      <td>शोभा वैष्णव</td>\n",
       "      <td>649.0</td>\n",
       "      <td>0</td>\n",
       "    </tr>\n",
       "    <tr>\n",
       "      <th>156434</th>\n",
       "      <td>182669</td>\n",
       "      <td>शोभा वैष्णव</td>\n",
       "      <td>2324.0</td>\n",
       "      <td>0</td>\n",
       "    </tr>\n",
       "    <tr>\n",
       "      <th>156435</th>\n",
       "      <td>182670</td>\n",
       "      <td>शोभा वैष्णव</td>\n",
       "      <td>835.0</td>\n",
       "      <td>0</td>\n",
       "    </tr>\n",
       "  </tbody>\n",
       "</table>\n",
       "<p>156436 rows × 4 columns</p>\n",
       "</div>"
      ],
      "text/plain": [
       "         index      Advisor  salesvalue  label\n",
       "0            0    A Bharath         0.0      0\n",
       "1            1    A Bharath      4908.0      0\n",
       "2            2    A Bharath       280.0      0\n",
       "3            3   A Nagaraju         0.0      0\n",
       "4            4   A Nagaraju         0.0      0\n",
       "...        ...          ...         ...    ...\n",
       "156431  182666  शोभा वैष्णव       225.0      0\n",
       "156432  182667  शोभा वैष्णव      2730.0      0\n",
       "156433  182668  शोभा वैष्णव       649.0      0\n",
       "156434  182669  शोभा वैष्णव      2324.0      0\n",
       "156435  182670  शोभा वैष्णव       835.0      0\n",
       "\n",
       "[156436 rows x 4 columns]"
      ]
     },
     "execution_count": 81,
     "metadata": {},
     "output_type": "execute_result"
    }
   ],
   "source": [
    "advisorsinfo1"
   ]
  },
  {
   "cell_type": "code",
   "execution_count": 35,
   "id": "abc7d4b3",
   "metadata": {},
   "outputs": [],
   "source": [
    "#ADVISOR_20=advisorsinfo1.sort_values(by='salesvalue', ascending=False).reset_index()"
   ]
  },
  {
   "cell_type": "code",
   "execution_count": 82,
   "id": "0228f652",
   "metadata": {},
   "outputs": [],
   "source": [
    "#ADVISOR_20"
   ]
  },
  {
   "cell_type": "code",
   "execution_count": 83,
   "id": "4bcd2c3e",
   "metadata": {},
   "outputs": [],
   "source": [
    "ADVISORS20percent1=advisorsinfo1.groupby([\"Advisor\"])[\"salesvalue\"].sum().rename(\"Salesvalue\").reset_index()"
   ]
  },
  {
   "cell_type": "code",
   "execution_count": 84,
   "id": "bce643e5",
   "metadata": {
    "scrolled": false
   },
   "outputs": [
    {
     "data": {
      "text/html": [
       "<div>\n",
       "<style scoped>\n",
       "    .dataframe tbody tr th:only-of-type {\n",
       "        vertical-align: middle;\n",
       "    }\n",
       "\n",
       "    .dataframe tbody tr th {\n",
       "        vertical-align: top;\n",
       "    }\n",
       "\n",
       "    .dataframe thead th {\n",
       "        text-align: right;\n",
       "    }\n",
       "</style>\n",
       "<table border=\"1\" class=\"dataframe\">\n",
       "  <thead>\n",
       "    <tr style=\"text-align: right;\">\n",
       "      <th></th>\n",
       "      <th>Advisor</th>\n",
       "      <th>Salesvalue</th>\n",
       "    </tr>\n",
       "  </thead>\n",
       "  <tbody>\n",
       "    <tr>\n",
       "      <th>0</th>\n",
       "      <td>A Bharath</td>\n",
       "      <td>5188.0</td>\n",
       "    </tr>\n",
       "    <tr>\n",
       "      <th>1</th>\n",
       "      <td>A Nagaraju</td>\n",
       "      <td>426946.0</td>\n",
       "    </tr>\n",
       "    <tr>\n",
       "      <th>2</th>\n",
       "      <td>A PRASAD</td>\n",
       "      <td>60462.0</td>\n",
       "    </tr>\n",
       "    <tr>\n",
       "      <th>3</th>\n",
       "      <td>A S MAHENDRAGOUDA</td>\n",
       "      <td>2980.0</td>\n",
       "    </tr>\n",
       "    <tr>\n",
       "      <th>4</th>\n",
       "      <td>A Swamy</td>\n",
       "      <td>959.0</td>\n",
       "    </tr>\n",
       "    <tr>\n",
       "      <th>...</th>\n",
       "      <td>...</td>\n",
       "      <td>...</td>\n",
       "    </tr>\n",
       "    <tr>\n",
       "      <th>3755</th>\n",
       "      <td>yogesh khadak</td>\n",
       "      <td>92430.0</td>\n",
       "    </tr>\n",
       "    <tr>\n",
       "      <th>3756</th>\n",
       "      <td>yogesh kumar</td>\n",
       "      <td>196550.0</td>\n",
       "    </tr>\n",
       "    <tr>\n",
       "      <th>3757</th>\n",
       "      <td>yogesh saini</td>\n",
       "      <td>332165.0</td>\n",
       "    </tr>\n",
       "    <tr>\n",
       "      <th>3758</th>\n",
       "      <td>जितेंद्र गुप्ता</td>\n",
       "      <td>10592.0</td>\n",
       "    </tr>\n",
       "    <tr>\n",
       "      <th>3759</th>\n",
       "      <td>शोभा वैष्णव</td>\n",
       "      <td>10544.0</td>\n",
       "    </tr>\n",
       "  </tbody>\n",
       "</table>\n",
       "<p>3760 rows × 2 columns</p>\n",
       "</div>"
      ],
      "text/plain": [
       "                Advisor  Salesvalue\n",
       "0             A Bharath      5188.0\n",
       "1            A Nagaraju    426946.0\n",
       "2              A PRASAD     60462.0\n",
       "3     A S MAHENDRAGOUDA      2980.0\n",
       "4               A Swamy       959.0\n",
       "...                 ...         ...\n",
       "3755      yogesh khadak     92430.0\n",
       "3756       yogesh kumar    196550.0\n",
       "3757       yogesh saini    332165.0\n",
       "3758    जितेंद्र गुप्ता     10592.0\n",
       "3759        शोभा वैष्णव     10544.0\n",
       "\n",
       "[3760 rows x 2 columns]"
      ]
     },
     "execution_count": 84,
     "metadata": {},
     "output_type": "execute_result"
    }
   ],
   "source": [
    "ADVISORS20percent1"
   ]
  },
  {
   "cell_type": "code",
   "execution_count": 85,
   "id": "58bf0aab",
   "metadata": {},
   "outputs": [],
   "source": [
    "TOPADVIS2021_20=ADVISORS20percent1.sort_values(by='Salesvalue', ascending=False).reset_index()"
   ]
  },
  {
   "cell_type": "code",
   "execution_count": 86,
   "id": "bd126b59",
   "metadata": {},
   "outputs": [
    {
     "data": {
      "text/html": [
       "<div>\n",
       "<style scoped>\n",
       "    .dataframe tbody tr th:only-of-type {\n",
       "        vertical-align: middle;\n",
       "    }\n",
       "\n",
       "    .dataframe tbody tr th {\n",
       "        vertical-align: top;\n",
       "    }\n",
       "\n",
       "    .dataframe thead th {\n",
       "        text-align: right;\n",
       "    }\n",
       "</style>\n",
       "<table border=\"1\" class=\"dataframe\">\n",
       "  <thead>\n",
       "    <tr style=\"text-align: right;\">\n",
       "      <th></th>\n",
       "      <th>index</th>\n",
       "      <th>Advisor</th>\n",
       "      <th>Salesvalue</th>\n",
       "    </tr>\n",
       "  </thead>\n",
       "  <tbody>\n",
       "    <tr>\n",
       "      <th>0</th>\n",
       "      <td>687</td>\n",
       "      <td>Devendra Kumar</td>\n",
       "      <td>7845339.0</td>\n",
       "    </tr>\n",
       "    <tr>\n",
       "      <th>1</th>\n",
       "      <td>2601</td>\n",
       "      <td>Saidulu Malladi</td>\n",
       "      <td>4967077.0</td>\n",
       "    </tr>\n",
       "    <tr>\n",
       "      <th>2</th>\n",
       "      <td>2573</td>\n",
       "      <td>SYED FAZULUDDIN</td>\n",
       "      <td>4507022.0</td>\n",
       "    </tr>\n",
       "    <tr>\n",
       "      <th>3</th>\n",
       "      <td>613</td>\n",
       "      <td>DEVARASHETTI RAJESH</td>\n",
       "      <td>3364266.0</td>\n",
       "    </tr>\n",
       "    <tr>\n",
       "      <th>4</th>\n",
       "      <td>2588</td>\n",
       "      <td>Sagar Belsare</td>\n",
       "      <td>3329003.0</td>\n",
       "    </tr>\n",
       "    <tr>\n",
       "      <th>...</th>\n",
       "      <td>...</td>\n",
       "      <td>...</td>\n",
       "      <td>...</td>\n",
       "    </tr>\n",
       "    <tr>\n",
       "      <th>3755</th>\n",
       "      <td>1620</td>\n",
       "      <td>Manmohan singh</td>\n",
       "      <td>0.0</td>\n",
       "    </tr>\n",
       "    <tr>\n",
       "      <th>3756</th>\n",
       "      <td>3168</td>\n",
       "      <td>Vaibhav Rohidas Khatode</td>\n",
       "      <td>0.0</td>\n",
       "    </tr>\n",
       "    <tr>\n",
       "      <th>3757</th>\n",
       "      <td>3169</td>\n",
       "      <td>Vaibhav Singh</td>\n",
       "      <td>0.0</td>\n",
       "    </tr>\n",
       "    <tr>\n",
       "      <th>3758</th>\n",
       "      <td>1618</td>\n",
       "      <td>Manjusha Moreshwar Tarone</td>\n",
       "      <td>0.0</td>\n",
       "    </tr>\n",
       "    <tr>\n",
       "      <th>3759</th>\n",
       "      <td>1441</td>\n",
       "      <td>Libin Antony</td>\n",
       "      <td>0.0</td>\n",
       "    </tr>\n",
       "  </tbody>\n",
       "</table>\n",
       "<p>3760 rows × 3 columns</p>\n",
       "</div>"
      ],
      "text/plain": [
       "      index                    Advisor  Salesvalue\n",
       "0       687             Devendra Kumar   7845339.0\n",
       "1      2601            Saidulu Malladi   4967077.0\n",
       "2      2573            SYED FAZULUDDIN   4507022.0\n",
       "3       613        DEVARASHETTI RAJESH   3364266.0\n",
       "4      2588              Sagar Belsare   3329003.0\n",
       "...     ...                        ...         ...\n",
       "3755   1620             Manmohan singh         0.0\n",
       "3756   3168    Vaibhav Rohidas Khatode         0.0\n",
       "3757   3169              Vaibhav Singh         0.0\n",
       "3758   1618  Manjusha Moreshwar Tarone         0.0\n",
       "3759   1441               Libin Antony         0.0\n",
       "\n",
       "[3760 rows x 3 columns]"
      ]
     },
     "execution_count": 86,
     "metadata": {},
     "output_type": "execute_result"
    }
   ],
   "source": [
    "TOPADVIS2021_20"
   ]
  },
  {
   "cell_type": "code",
   "execution_count": 87,
   "id": "33f4fb3b",
   "metadata": {},
   "outputs": [],
   "source": [
    "TOPPEST_20=TOPADVIS2021_20.drop(TOPADVIS2021_20[TOPADVIS2021_20.Salesvalue == 0].index)"
   ]
  },
  {
   "cell_type": "code",
   "execution_count": 88,
   "id": "9a7db09a",
   "metadata": {},
   "outputs": [
    {
     "data": {
      "text/html": [
       "<div>\n",
       "<style scoped>\n",
       "    .dataframe tbody tr th:only-of-type {\n",
       "        vertical-align: middle;\n",
       "    }\n",
       "\n",
       "    .dataframe tbody tr th {\n",
       "        vertical-align: top;\n",
       "    }\n",
       "\n",
       "    .dataframe thead th {\n",
       "        text-align: right;\n",
       "    }\n",
       "</style>\n",
       "<table border=\"1\" class=\"dataframe\">\n",
       "  <thead>\n",
       "    <tr style=\"text-align: right;\">\n",
       "      <th></th>\n",
       "      <th>index</th>\n",
       "      <th>Advisor</th>\n",
       "      <th>Salesvalue</th>\n",
       "    </tr>\n",
       "  </thead>\n",
       "  <tbody>\n",
       "    <tr>\n",
       "      <th>0</th>\n",
       "      <td>687</td>\n",
       "      <td>Devendra Kumar</td>\n",
       "      <td>7845339.0</td>\n",
       "    </tr>\n",
       "    <tr>\n",
       "      <th>1</th>\n",
       "      <td>2601</td>\n",
       "      <td>Saidulu Malladi</td>\n",
       "      <td>4967077.0</td>\n",
       "    </tr>\n",
       "    <tr>\n",
       "      <th>2</th>\n",
       "      <td>2573</td>\n",
       "      <td>SYED FAZULUDDIN</td>\n",
       "      <td>4507022.0</td>\n",
       "    </tr>\n",
       "    <tr>\n",
       "      <th>3</th>\n",
       "      <td>613</td>\n",
       "      <td>DEVARASHETTI RAJESH</td>\n",
       "      <td>3364266.0</td>\n",
       "    </tr>\n",
       "    <tr>\n",
       "      <th>4</th>\n",
       "      <td>2588</td>\n",
       "      <td>Sagar Belsare</td>\n",
       "      <td>3329003.0</td>\n",
       "    </tr>\n",
       "    <tr>\n",
       "      <th>...</th>\n",
       "      <td>...</td>\n",
       "      <td>...</td>\n",
       "      <td>...</td>\n",
       "    </tr>\n",
       "    <tr>\n",
       "      <th>3025</th>\n",
       "      <td>94</td>\n",
       "      <td>Ajay Pratap</td>\n",
       "      <td>238.0</td>\n",
       "    </tr>\n",
       "    <tr>\n",
       "      <th>3026</th>\n",
       "      <td>894</td>\n",
       "      <td>Gopal Ram</td>\n",
       "      <td>157.0</td>\n",
       "    </tr>\n",
       "    <tr>\n",
       "      <th>3027</th>\n",
       "      <td>991</td>\n",
       "      <td>Harbhajan Yadav</td>\n",
       "      <td>92.0</td>\n",
       "    </tr>\n",
       "    <tr>\n",
       "      <th>3028</th>\n",
       "      <td>2682</td>\n",
       "      <td>Santosh Kumar</td>\n",
       "      <td>88.0</td>\n",
       "    </tr>\n",
       "    <tr>\n",
       "      <th>3029</th>\n",
       "      <td>1513</td>\n",
       "      <td>MOHIT JOLI</td>\n",
       "      <td>64.0</td>\n",
       "    </tr>\n",
       "  </tbody>\n",
       "</table>\n",
       "<p>3030 rows × 3 columns</p>\n",
       "</div>"
      ],
      "text/plain": [
       "      index              Advisor  Salesvalue\n",
       "0       687       Devendra Kumar   7845339.0\n",
       "1      2601      Saidulu Malladi   4967077.0\n",
       "2      2573      SYED FAZULUDDIN   4507022.0\n",
       "3       613  DEVARASHETTI RAJESH   3364266.0\n",
       "4      2588        Sagar Belsare   3329003.0\n",
       "...     ...                  ...         ...\n",
       "3025     94          Ajay Pratap       238.0\n",
       "3026    894            Gopal Ram       157.0\n",
       "3027    991      Harbhajan Yadav        92.0\n",
       "3028   2682        Santosh Kumar        88.0\n",
       "3029   1513           MOHIT JOLI        64.0\n",
       "\n",
       "[3030 rows x 3 columns]"
      ]
     },
     "execution_count": 88,
     "metadata": {},
     "output_type": "execute_result"
    }
   ],
   "source": [
    "TOPPEST_20"
   ]
  },
  {
   "cell_type": "code",
   "execution_count": 47,
   "id": "3920ba48",
   "metadata": {},
   "outputs": [],
   "source": [
    "sumadv20=TOPPEST_20[\"Salesvalue\"].sum()"
   ]
  },
  {
   "cell_type": "code",
   "execution_count": 48,
   "id": "617f87de",
   "metadata": {},
   "outputs": [
    {
     "data": {
      "text/plain": [
       "280578881.7027565"
      ]
     },
     "execution_count": 48,
     "metadata": {},
     "output_type": "execute_result"
    }
   ],
   "source": [
    "sumadv20"
   ]
  },
  {
   "cell_type": "code",
   "execution_count": 49,
   "id": "e9a50d98",
   "metadata": {},
   "outputs": [],
   "source": [
    "k1=sumadv20/1402966161.9716501*100"
   ]
  },
  {
   "cell_type": "code",
   "execution_count": 50,
   "id": "c8fac76c",
   "metadata": {},
   "outputs": [
    {
     "data": {
      "text/plain": [
       "19.998977117769304"
      ]
     },
     "execution_count": 50,
     "metadata": {},
     "output_type": "execute_result"
    }
   ],
   "source": [
    "k1"
   ]
  },
  {
   "cell_type": "code",
   "execution_count": 145,
   "id": "8f9ffd80",
   "metadata": {},
   "outputs": [],
   "source": [
    "file_name='Advisors2022_80Sale.xlsx'\n",
    "TOPADVIS2021_80.to_excel(file_name)"
   ]
  },
  {
   "cell_type": "code",
   "execution_count": 50,
   "id": "18b003b1",
   "metadata": {},
   "outputs": [],
   "source": []
  },
  {
   "cell_type": "code",
   "execution_count": 89,
   "id": "c1f87c70",
   "metadata": {},
   "outputs": [],
   "source": [
    "file_name2='Advisors2022_20Sale.xlsx'"
   ]
  },
  {
   "cell_type": "code",
   "execution_count": 90,
   "id": "b6194f0d",
   "metadata": {},
   "outputs": [],
   "source": [
    "TOPPEST_20.to_excel(file_name2)"
   ]
  },
  {
   "cell_type": "code",
   "execution_count": null,
   "id": "9564b9dd",
   "metadata": {},
   "outputs": [],
   "source": [
    "#plotting 80-20 percent sales"
   ]
  },
  {
   "cell_type": "code",
   "execution_count": 149,
   "id": "7a3f6c88",
   "metadata": {},
   "outputs": [
    {
     "data": {
      "text/html": [
       "<div>\n",
       "<style scoped>\n",
       "    .dataframe tbody tr th:only-of-type {\n",
       "        vertical-align: middle;\n",
       "    }\n",
       "\n",
       "    .dataframe tbody tr th {\n",
       "        vertical-align: top;\n",
       "    }\n",
       "\n",
       "    .dataframe thead th {\n",
       "        text-align: right;\n",
       "    }\n",
       "</style>\n",
       "<table border=\"1\" class=\"dataframe\">\n",
       "  <thead>\n",
       "    <tr style=\"text-align: right;\">\n",
       "      <th></th>\n",
       "      <th>Advisor</th>\n",
       "      <th>salesvalue</th>\n",
       "      <th>label</th>\n",
       "    </tr>\n",
       "  </thead>\n",
       "  <tbody>\n",
       "    <tr>\n",
       "      <th>0</th>\n",
       "      <td>A Nagaraju</td>\n",
       "      <td>0.0</td>\n",
       "      <td>0</td>\n",
       "    </tr>\n",
       "    <tr>\n",
       "      <th>1</th>\n",
       "      <td>A Nagaraju</td>\n",
       "      <td>0.0</td>\n",
       "      <td>0</td>\n",
       "    </tr>\n",
       "    <tr>\n",
       "      <th>2</th>\n",
       "      <td>A Nagaraju</td>\n",
       "      <td>0.0</td>\n",
       "      <td>0</td>\n",
       "    </tr>\n",
       "    <tr>\n",
       "      <th>3</th>\n",
       "      <td>A Nagaraju</td>\n",
       "      <td>0.0</td>\n",
       "      <td>0</td>\n",
       "    </tr>\n",
       "    <tr>\n",
       "      <th>4</th>\n",
       "      <td>A Nagaraju</td>\n",
       "      <td>0.0</td>\n",
       "      <td>0</td>\n",
       "    </tr>\n",
       "    <tr>\n",
       "      <th>...</th>\n",
       "      <td>...</td>\n",
       "      <td>...</td>\n",
       "      <td>...</td>\n",
       "    </tr>\n",
       "    <tr>\n",
       "      <th>68442</th>\n",
       "      <td>Yogeshwar Chandra</td>\n",
       "      <td>36072.0</td>\n",
       "      <td>1</td>\n",
       "    </tr>\n",
       "    <tr>\n",
       "      <th>68443</th>\n",
       "      <td>Yogeshwar Chandra</td>\n",
       "      <td>81704.0</td>\n",
       "      <td>1</td>\n",
       "    </tr>\n",
       "    <tr>\n",
       "      <th>68444</th>\n",
       "      <td>Yogeshwar Chandra</td>\n",
       "      <td>4605.0</td>\n",
       "      <td>0</td>\n",
       "    </tr>\n",
       "    <tr>\n",
       "      <th>68445</th>\n",
       "      <td>Yogeshwar Chandra</td>\n",
       "      <td>11320.0</td>\n",
       "      <td>0</td>\n",
       "    </tr>\n",
       "    <tr>\n",
       "      <th>68446</th>\n",
       "      <td>Yogeshwar Chandra</td>\n",
       "      <td>40110.0</td>\n",
       "      <td>1</td>\n",
       "    </tr>\n",
       "  </tbody>\n",
       "</table>\n",
       "<p>68447 rows × 3 columns</p>\n",
       "</div>"
      ],
      "text/plain": [
       "                 Advisor  salesvalue  label\n",
       "0             A Nagaraju         0.0      0\n",
       "1             A Nagaraju         0.0      0\n",
       "2             A Nagaraju         0.0      0\n",
       "3             A Nagaraju         0.0      0\n",
       "4             A Nagaraju         0.0      0\n",
       "...                  ...         ...    ...\n",
       "68442  Yogeshwar Chandra     36072.0      1\n",
       "68443  Yogeshwar Chandra     81704.0      1\n",
       "68444  Yogeshwar Chandra      4605.0      0\n",
       "68445  Yogeshwar Chandra     11320.0      0\n",
       "68446  Yogeshwar Chandra     40110.0      1\n",
       "\n",
       "[68447 rows x 3 columns]"
      ]
     },
     "execution_count": 149,
     "metadata": {},
     "output_type": "execute_result"
    }
   ],
   "source": [
    "Advisorslist"
   ]
  },
  {
   "cell_type": "code",
   "execution_count": 153,
   "id": "df39a128",
   "metadata": {},
   "outputs": [
    {
     "data": {
      "text/plain": [
       "(889, 3)"
      ]
     },
     "execution_count": 153,
     "metadata": {},
     "output_type": "execute_result"
    }
   ],
   "source": [
    "TOPADVIS2021_80.shape"
   ]
  },
  {
   "cell_type": "code",
   "execution_count": 154,
   "id": "e7aade74",
   "metadata": {},
   "outputs": [
    {
     "data": {
      "text/plain": [
       "(1786, 3)"
      ]
     },
     "execution_count": 154,
     "metadata": {},
     "output_type": "execute_result"
    }
   ],
   "source": [
    "TOPADVIS2021_20.shape"
   ]
  },
  {
   "cell_type": "code",
   "execution_count": null,
   "id": "0872096d",
   "metadata": {},
   "outputs": [],
   "source": []
  },
  {
   "cell_type": "markdown",
   "id": "3c168b91",
   "metadata": {},
   "source": [
    "# check for advisors who make 80% of sales value"
   ]
  },
  {
   "cell_type": "code",
   "execution_count": 146,
   "id": "d965224e",
   "metadata": {},
   "outputs": [],
   "source": [
    "sumadv80=TOPADVIS2021_80[\"Salesvalue\"].sum()"
   ]
  },
  {
   "cell_type": "code",
   "execution_count": 148,
   "id": "5c1ab2fb",
   "metadata": {},
   "outputs": [
    {
     "data": {
      "text/plain": [
       "2689827775.0"
      ]
     },
     "execution_count": 148,
     "metadata": {},
     "output_type": "execute_result"
    }
   ],
   "source": [
    "sumadv80"
   ]
  },
  {
   "cell_type": "code",
   "execution_count": 149,
   "id": "18351e47",
   "metadata": {},
   "outputs": [],
   "source": [
    "k=sumadv80/3362276288.8239317*100"
   ]
  },
  {
   "cell_type": "code",
   "execution_count": 150,
   "id": "79817674",
   "metadata": {},
   "outputs": [
    {
     "name": "stdout",
     "output_type": "stream",
     "text": [
      "80.0002005766414\n"
     ]
    }
   ],
   "source": [
    "print(k)"
   ]
  },
  {
   "cell_type": "markdown",
   "id": "239c971d",
   "metadata": {},
   "source": [
    "# Finding total sales from the advisor data"
   ]
  },
  {
   "cell_type": "code",
   "execution_count": 135,
   "id": "05686e05",
   "metadata": {},
   "outputs": [],
   "source": [
    "adv=data2.groupby([\"Advisor name\"])[\"Sales Value\"].sum().rename(\"SumSales\").reset_index()"
   ]
  },
  {
   "cell_type": "code",
   "execution_count": 136,
   "id": "417e6c0f",
   "metadata": {},
   "outputs": [
    {
     "data": {
      "text/html": [
       "<div>\n",
       "<style scoped>\n",
       "    .dataframe tbody tr th:only-of-type {\n",
       "        vertical-align: middle;\n",
       "    }\n",
       "\n",
       "    .dataframe tbody tr th {\n",
       "        vertical-align: top;\n",
       "    }\n",
       "\n",
       "    .dataframe thead th {\n",
       "        text-align: right;\n",
       "    }\n",
       "</style>\n",
       "<table border=\"1\" class=\"dataframe\">\n",
       "  <thead>\n",
       "    <tr style=\"text-align: right;\">\n",
       "      <th></th>\n",
       "      <th>Advisor name</th>\n",
       "      <th>SumSales</th>\n",
       "    </tr>\n",
       "  </thead>\n",
       "  <tbody>\n",
       "    <tr>\n",
       "      <th>0</th>\n",
       "      <td>A Bharath</td>\n",
       "      <td>5188.0</td>\n",
       "    </tr>\n",
       "    <tr>\n",
       "      <th>1</th>\n",
       "      <td>A Nagaraju</td>\n",
       "      <td>4191686.0</td>\n",
       "    </tr>\n",
       "    <tr>\n",
       "      <th>2</th>\n",
       "      <td>A PRASAD</td>\n",
       "      <td>90162.0</td>\n",
       "    </tr>\n",
       "    <tr>\n",
       "      <th>3</th>\n",
       "      <td>A S MAHENDRAGOUDA</td>\n",
       "      <td>2980.0</td>\n",
       "    </tr>\n",
       "    <tr>\n",
       "      <th>4</th>\n",
       "      <td>A Swamy</td>\n",
       "      <td>959.0</td>\n",
       "    </tr>\n",
       "    <tr>\n",
       "      <th>...</th>\n",
       "      <td>...</td>\n",
       "      <td>...</td>\n",
       "    </tr>\n",
       "    <tr>\n",
       "      <th>3762</th>\n",
       "      <td>yogesh khadak</td>\n",
       "      <td>92430.0</td>\n",
       "    </tr>\n",
       "    <tr>\n",
       "      <th>3763</th>\n",
       "      <td>yogesh kumar</td>\n",
       "      <td>3454216.0</td>\n",
       "    </tr>\n",
       "    <tr>\n",
       "      <th>3764</th>\n",
       "      <td>yogesh saini</td>\n",
       "      <td>576575.0</td>\n",
       "    </tr>\n",
       "    <tr>\n",
       "      <th>3765</th>\n",
       "      <td>जितेंद्र गुप्ता</td>\n",
       "      <td>10592.0</td>\n",
       "    </tr>\n",
       "    <tr>\n",
       "      <th>3766</th>\n",
       "      <td>शोभा वैष्णव</td>\n",
       "      <td>10544.0</td>\n",
       "    </tr>\n",
       "  </tbody>\n",
       "</table>\n",
       "<p>3767 rows × 2 columns</p>\n",
       "</div>"
      ],
      "text/plain": [
       "           Advisor name   SumSales\n",
       "0             A Bharath     5188.0\n",
       "1            A Nagaraju  4191686.0\n",
       "2              A PRASAD    90162.0\n",
       "3     A S MAHENDRAGOUDA     2980.0\n",
       "4               A Swamy      959.0\n",
       "...                 ...        ...\n",
       "3762      yogesh khadak    92430.0\n",
       "3763       yogesh kumar  3454216.0\n",
       "3764       yogesh saini   576575.0\n",
       "3765    जितेंद्र गुप्ता    10592.0\n",
       "3766        शोभा वैष्णव    10544.0\n",
       "\n",
       "[3767 rows x 2 columns]"
      ]
     },
     "execution_count": 136,
     "metadata": {},
     "output_type": "execute_result"
    }
   ],
   "source": [
    "adv"
   ]
  },
  {
   "cell_type": "code",
   "execution_count": 137,
   "id": "52758e2b",
   "metadata": {},
   "outputs": [],
   "source": [
    "# total sales \n",
    "total_sales=data2[\"Sales Value\"].sum()"
   ]
  },
  {
   "cell_type": "code",
   "execution_count": 138,
   "id": "6148eca2",
   "metadata": {},
   "outputs": [
    {
     "data": {
      "text/plain": [
       "3362276288.8239317"
      ]
     },
     "execution_count": 138,
     "metadata": {},
     "output_type": "execute_result"
    }
   ],
   "source": [
    "total_sales"
   ]
  },
  {
   "cell_type": "markdown",
   "id": "831be1a5",
   "metadata": {},
   "source": [
    "# advisors year 2022 -> with 80% sales value using cumulative sum"
   ]
  },
  {
   "cell_type": "code",
   "execution_count": null,
   "id": "3d7155cc",
   "metadata": {},
   "outputs": [],
   "source": [
    "data2"
   ]
  },
  {
   "cell_type": "markdown",
   "id": "6f03d33d",
   "metadata": {},
   "source": [
    "# advisors get 80% actual commission"
   ]
  },
  {
   "cell_type": "code",
   "execution_count": 164,
   "id": "2acb56d5",
   "metadata": {},
   "outputs": [
    {
     "data": {
      "text/html": [
       "<div>\n",
       "<style scoped>\n",
       "    .dataframe tbody tr th:only-of-type {\n",
       "        vertical-align: middle;\n",
       "    }\n",
       "\n",
       "    .dataframe tbody tr th {\n",
       "        vertical-align: top;\n",
       "    }\n",
       "\n",
       "    .dataframe thead th {\n",
       "        text-align: right;\n",
       "    }\n",
       "</style>\n",
       "<table border=\"1\" class=\"dataframe\">\n",
       "  <thead>\n",
       "    <tr style=\"text-align: right;\">\n",
       "      <th></th>\n",
       "      <th>index</th>\n",
       "      <th>Advisor name</th>\n",
       "      <th>Retailer Name</th>\n",
       "      <th>Retailer ID</th>\n",
       "      <th>Advisor ID</th>\n",
       "      <th>Month of Order Intent Created Date</th>\n",
       "      <th>Advisor Phone Number</th>\n",
       "      <th>Country Code</th>\n",
       "      <th>Hierarchy Level 3</th>\n",
       "      <th>Hierarchy Level 2</th>\n",
       "      <th>...</th>\n",
       "      <th>Volume Cancelled</th>\n",
       "      <th>Volume Purchased</th>\n",
       "      <th>Returned Volume</th>\n",
       "      <th>Avg Volume Sold per Farmers</th>\n",
       "      <th>Total Intent Value</th>\n",
       "      <th>Cancelled Order Value</th>\n",
       "      <th>Sales Value</th>\n",
       "      <th>Avg Sales per Farmer</th>\n",
       "      <th>Actual Commission</th>\n",
       "      <th>Intended Commission</th>\n",
       "    </tr>\n",
       "  </thead>\n",
       "  <tbody>\n",
       "    <tr>\n",
       "      <th>0</th>\n",
       "      <td>1</td>\n",
       "      <td>A Bharath</td>\n",
       "      <td>NaN</td>\n",
       "      <td>NaN</td>\n",
       "      <td>281922 IN</td>\n",
       "      <td>June</td>\n",
       "      <td>8220054234</td>\n",
       "      <td>IN</td>\n",
       "      <td>South</td>\n",
       "      <td>Salem</td>\n",
       "      <td>...</td>\n",
       "      <td>0.0</td>\n",
       "      <td>0.00</td>\n",
       "      <td>0.0</td>\n",
       "      <td>0.000</td>\n",
       "      <td>430.0</td>\n",
       "      <td>0.0</td>\n",
       "      <td>0.0</td>\n",
       "      <td>NaN</td>\n",
       "      <td>0.0</td>\n",
       "      <td>10.0</td>\n",
       "    </tr>\n",
       "    <tr>\n",
       "      <th>1</th>\n",
       "      <td>2</td>\n",
       "      <td>A Bharath</td>\n",
       "      <td>BHARATHI AGRO TRADERS</td>\n",
       "      <td>TN01923 IN</td>\n",
       "      <td>281922 IN</td>\n",
       "      <td>June</td>\n",
       "      <td>8220054234</td>\n",
       "      <td>IN</td>\n",
       "      <td>South</td>\n",
       "      <td>Salem</td>\n",
       "      <td>...</td>\n",
       "      <td>0.0</td>\n",
       "      <td>0.46</td>\n",
       "      <td>0.0</td>\n",
       "      <td>0.115</td>\n",
       "      <td>6135.0</td>\n",
       "      <td>0.0</td>\n",
       "      <td>4908.0</td>\n",
       "      <td>1227.0</td>\n",
       "      <td>120.0</td>\n",
       "      <td>150.0</td>\n",
       "    </tr>\n",
       "    <tr>\n",
       "      <th>2</th>\n",
       "      <td>3</td>\n",
       "      <td>A Bharath</td>\n",
       "      <td>BHARATHI AGRO TRADERS</td>\n",
       "      <td>TN01923 IN</td>\n",
       "      <td>281922 IN</td>\n",
       "      <td>June</td>\n",
       "      <td>8220054234</td>\n",
       "      <td>IN</td>\n",
       "      <td>South</td>\n",
       "      <td>Salem</td>\n",
       "      <td>...</td>\n",
       "      <td>0.0</td>\n",
       "      <td>0.10</td>\n",
       "      <td>0.0</td>\n",
       "      <td>0.100</td>\n",
       "      <td>280.0</td>\n",
       "      <td>0.0</td>\n",
       "      <td>280.0</td>\n",
       "      <td>280.0</td>\n",
       "      <td>7.0</td>\n",
       "      <td>7.0</td>\n",
       "    </tr>\n",
       "    <tr>\n",
       "      <th>3</th>\n",
       "      <td>4</td>\n",
       "      <td>A Nagaraju</td>\n",
       "      <td>NaN</td>\n",
       "      <td>NaN</td>\n",
       "      <td>47071 IN</td>\n",
       "      <td>January</td>\n",
       "      <td>9000696331</td>\n",
       "      <td>IN</td>\n",
       "      <td>NaN</td>\n",
       "      <td>NaN</td>\n",
       "      <td>...</td>\n",
       "      <td>6.0</td>\n",
       "      <td>0.00</td>\n",
       "      <td>0.0</td>\n",
       "      <td>0.000</td>\n",
       "      <td>12588.0</td>\n",
       "      <td>12588.0</td>\n",
       "      <td>0.0</td>\n",
       "      <td>NaN</td>\n",
       "      <td>0.0</td>\n",
       "      <td>312.0</td>\n",
       "    </tr>\n",
       "    <tr>\n",
       "      <th>4</th>\n",
       "      <td>5</td>\n",
       "      <td>A Nagaraju</td>\n",
       "      <td>NaN</td>\n",
       "      <td>NaN</td>\n",
       "      <td>47071 IN</td>\n",
       "      <td>January</td>\n",
       "      <td>9000696331</td>\n",
       "      <td>IN</td>\n",
       "      <td>NaN</td>\n",
       "      <td>NaN</td>\n",
       "      <td>...</td>\n",
       "      <td>0.0</td>\n",
       "      <td>0.00</td>\n",
       "      <td>0.0</td>\n",
       "      <td>0.000</td>\n",
       "      <td>2290.0</td>\n",
       "      <td>0.0</td>\n",
       "      <td>0.0</td>\n",
       "      <td>NaN</td>\n",
       "      <td>0.0</td>\n",
       "      <td>50.0</td>\n",
       "    </tr>\n",
       "    <tr>\n",
       "      <th>...</th>\n",
       "      <td>...</td>\n",
       "      <td>...</td>\n",
       "      <td>...</td>\n",
       "      <td>...</td>\n",
       "      <td>...</td>\n",
       "      <td>...</td>\n",
       "      <td>...</td>\n",
       "      <td>...</td>\n",
       "      <td>...</td>\n",
       "      <td>...</td>\n",
       "      <td>...</td>\n",
       "      <td>...</td>\n",
       "      <td>...</td>\n",
       "      <td>...</td>\n",
       "      <td>...</td>\n",
       "      <td>...</td>\n",
       "      <td>...</td>\n",
       "      <td>...</td>\n",
       "      <td>...</td>\n",
       "      <td>...</td>\n",
       "      <td>...</td>\n",
       "    </tr>\n",
       "    <tr>\n",
       "      <th>182666</th>\n",
       "      <td>182,667</td>\n",
       "      <td>शोभा वैष्णव</td>\n",
       "      <td>Ma bamleshwari</td>\n",
       "      <td>6936448 IN</td>\n",
       "      <td>511578 IN</td>\n",
       "      <td>October</td>\n",
       "      <td>9098505339</td>\n",
       "      <td>IN</td>\n",
       "      <td>East</td>\n",
       "      <td>Raipur</td>\n",
       "      <td>...</td>\n",
       "      <td>0.0</td>\n",
       "      <td>0.25</td>\n",
       "      <td>0.0</td>\n",
       "      <td>0.250</td>\n",
       "      <td>NaN</td>\n",
       "      <td>0.0</td>\n",
       "      <td>225.0</td>\n",
       "      <td>225.0</td>\n",
       "      <td>5.0</td>\n",
       "      <td>0.0</td>\n",
       "    </tr>\n",
       "    <tr>\n",
       "      <th>182667</th>\n",
       "      <td>182,668</td>\n",
       "      <td>शोभा वैष्णव</td>\n",
       "      <td>Ma bamleshwari</td>\n",
       "      <td>6936448 IN</td>\n",
       "      <td>511578 IN</td>\n",
       "      <td>October</td>\n",
       "      <td>9098505339</td>\n",
       "      <td>IN</td>\n",
       "      <td>East</td>\n",
       "      <td>Raipur</td>\n",
       "      <td>...</td>\n",
       "      <td>0.0</td>\n",
       "      <td>1.75</td>\n",
       "      <td>0.0</td>\n",
       "      <td>0.250</td>\n",
       "      <td>1560.0</td>\n",
       "      <td>0.0</td>\n",
       "      <td>2730.0</td>\n",
       "      <td>390.0</td>\n",
       "      <td>63.0</td>\n",
       "      <td>36.0</td>\n",
       "    </tr>\n",
       "    <tr>\n",
       "      <th>182668</th>\n",
       "      <td>182,669</td>\n",
       "      <td>शोभा वैष्णव</td>\n",
       "      <td>Ma bamleshwari</td>\n",
       "      <td>6936448 IN</td>\n",
       "      <td>511578 IN</td>\n",
       "      <td>October</td>\n",
       "      <td>9098505339</td>\n",
       "      <td>IN</td>\n",
       "      <td>East</td>\n",
       "      <td>Raipur</td>\n",
       "      <td>...</td>\n",
       "      <td>0.0</td>\n",
       "      <td>0.25</td>\n",
       "      <td>0.0</td>\n",
       "      <td>0.250</td>\n",
       "      <td>NaN</td>\n",
       "      <td>0.0</td>\n",
       "      <td>649.0</td>\n",
       "      <td>649.0</td>\n",
       "      <td>16.0</td>\n",
       "      <td>0.0</td>\n",
       "    </tr>\n",
       "    <tr>\n",
       "      <th>182669</th>\n",
       "      <td>182,670</td>\n",
       "      <td>शोभा वैष्णव</td>\n",
       "      <td>Ma bamleshwari</td>\n",
       "      <td>6936448 IN</td>\n",
       "      <td>511578 IN</td>\n",
       "      <td>October</td>\n",
       "      <td>9098505339</td>\n",
       "      <td>IN</td>\n",
       "      <td>East</td>\n",
       "      <td>Raipur</td>\n",
       "      <td>...</td>\n",
       "      <td>0.0</td>\n",
       "      <td>1.00</td>\n",
       "      <td>0.0</td>\n",
       "      <td>0.250</td>\n",
       "      <td>1743.0</td>\n",
       "      <td>0.0</td>\n",
       "      <td>2324.0</td>\n",
       "      <td>581.0</td>\n",
       "      <td>56.0</td>\n",
       "      <td>42.0</td>\n",
       "    </tr>\n",
       "    <tr>\n",
       "      <th>182670</th>\n",
       "      <td>182,671</td>\n",
       "      <td>शोभा वैष्णव</td>\n",
       "      <td>Ma bamleshwari</td>\n",
       "      <td>6936448 IN</td>\n",
       "      <td>511578 IN</td>\n",
       "      <td>October</td>\n",
       "      <td>9098505339</td>\n",
       "      <td>IN</td>\n",
       "      <td>East</td>\n",
       "      <td>Raipur</td>\n",
       "      <td>...</td>\n",
       "      <td>0.0</td>\n",
       "      <td>0.10</td>\n",
       "      <td>0.0</td>\n",
       "      <td>0.100</td>\n",
       "      <td>NaN</td>\n",
       "      <td>0.0</td>\n",
       "      <td>835.0</td>\n",
       "      <td>835.0</td>\n",
       "      <td>21.0</td>\n",
       "      <td>0.0</td>\n",
       "    </tr>\n",
       "  </tbody>\n",
       "</table>\n",
       "<p>182671 rows × 35 columns</p>\n",
       "</div>"
      ],
      "text/plain": [
       "          index Advisor name          Retailer Name Retailer ID Advisor ID  \\\n",
       "0             1    A Bharath                    NaN         NaN  281922 IN   \n",
       "1             2    A Bharath  BHARATHI AGRO TRADERS  TN01923 IN  281922 IN   \n",
       "2             3    A Bharath  BHARATHI AGRO TRADERS  TN01923 IN  281922 IN   \n",
       "3             4   A Nagaraju                    NaN         NaN   47071 IN   \n",
       "4             5   A Nagaraju                    NaN         NaN   47071 IN   \n",
       "...         ...          ...                    ...         ...        ...   \n",
       "182666  182,667  शोभा वैष्णव         Ma bamleshwari  6936448 IN  511578 IN   \n",
       "182667  182,668  शोभा वैष्णव         Ma bamleshwari  6936448 IN  511578 IN   \n",
       "182668  182,669  शोभा वैष्णव         Ma bamleshwari  6936448 IN  511578 IN   \n",
       "182669  182,670  शोभा वैष्णव         Ma bamleshwari  6936448 IN  511578 IN   \n",
       "182670  182,671  शोभा वैष्णव         Ma bamleshwari  6936448 IN  511578 IN   \n",
       "\n",
       "       Month of Order Intent Created Date  Advisor Phone Number Country Code   \\\n",
       "0                                    June            8220054234            IN   \n",
       "1                                    June            8220054234            IN   \n",
       "2                                    June            8220054234            IN   \n",
       "3                                 January            9000696331            IN   \n",
       "4                                 January            9000696331            IN   \n",
       "...                                   ...                   ...           ...   \n",
       "182666                            October            9098505339            IN   \n",
       "182667                            October            9098505339            IN   \n",
       "182668                            October            9098505339            IN   \n",
       "182669                            October            9098505339            IN   \n",
       "182670                            October            9098505339            IN   \n",
       "\n",
       "       Hierarchy Level 3 Hierarchy Level 2  ... Volume Cancelled  \\\n",
       "0                  South             Salem  ...              0.0   \n",
       "1                  South             Salem  ...              0.0   \n",
       "2                  South             Salem  ...              0.0   \n",
       "3                    NaN               NaN  ...              6.0   \n",
       "4                    NaN               NaN  ...              0.0   \n",
       "...                  ...               ...  ...              ...   \n",
       "182666              East            Raipur  ...              0.0   \n",
       "182667              East            Raipur  ...              0.0   \n",
       "182668              East            Raipur  ...              0.0   \n",
       "182669              East            Raipur  ...              0.0   \n",
       "182670              East            Raipur  ...              0.0   \n",
       "\n",
       "       Volume Purchased Returned Volume Avg Volume Sold per Farmers  \\\n",
       "0                  0.00             0.0                       0.000   \n",
       "1                  0.46             0.0                       0.115   \n",
       "2                  0.10             0.0                       0.100   \n",
       "3                  0.00             0.0                       0.000   \n",
       "4                  0.00             0.0                       0.000   \n",
       "...                 ...             ...                         ...   \n",
       "182666             0.25             0.0                       0.250   \n",
       "182667             1.75             0.0                       0.250   \n",
       "182668             0.25             0.0                       0.250   \n",
       "182669             1.00             0.0                       0.250   \n",
       "182670             0.10             0.0                       0.100   \n",
       "\n",
       "       Total Intent Value Cancelled Order Value  Sales Value  \\\n",
       "0                   430.0                   0.0          0.0   \n",
       "1                  6135.0                   0.0       4908.0   \n",
       "2                   280.0                   0.0        280.0   \n",
       "3                 12588.0               12588.0          0.0   \n",
       "4                  2290.0                   0.0          0.0   \n",
       "...                   ...                   ...          ...   \n",
       "182666                NaN                   0.0        225.0   \n",
       "182667             1560.0                   0.0       2730.0   \n",
       "182668                NaN                   0.0        649.0   \n",
       "182669             1743.0                   0.0       2324.0   \n",
       "182670                NaN                   0.0        835.0   \n",
       "\n",
       "        Avg Sales per Farmer  Actual Commission  Intended Commission  \n",
       "0                        NaN                0.0                 10.0  \n",
       "1                     1227.0              120.0                150.0  \n",
       "2                      280.0                7.0                  7.0  \n",
       "3                        NaN                0.0                312.0  \n",
       "4                        NaN                0.0                 50.0  \n",
       "...                      ...                ...                  ...  \n",
       "182666                 225.0                5.0                  0.0  \n",
       "182667                 390.0               63.0                 36.0  \n",
       "182668                 649.0               16.0                  0.0  \n",
       "182669                 581.0               56.0                 42.0  \n",
       "182670                 835.0               21.0                  0.0  \n",
       "\n",
       "[182671 rows x 35 columns]"
      ]
     },
     "execution_count": 164,
     "metadata": {},
     "output_type": "execute_result"
    }
   ],
   "source": [
    "data2"
   ]
  },
  {
   "cell_type": "code",
   "execution_count": 165,
   "id": "63d6751e",
   "metadata": {},
   "outputs": [],
   "source": [
    "Advisorslist1 = pd.DataFrame().assign(Advisor=data2['Advisor name'], AdvisorID=data2['Advisor ID'],commision=data2['Actual Commission'])"
   ]
  },
  {
   "cell_type": "code",
   "execution_count": 166,
   "id": "3c9054f4",
   "metadata": {},
   "outputs": [
    {
     "data": {
      "text/html": [
       "<div>\n",
       "<style scoped>\n",
       "    .dataframe tbody tr th:only-of-type {\n",
       "        vertical-align: middle;\n",
       "    }\n",
       "\n",
       "    .dataframe tbody tr th {\n",
       "        vertical-align: top;\n",
       "    }\n",
       "\n",
       "    .dataframe thead th {\n",
       "        text-align: right;\n",
       "    }\n",
       "</style>\n",
       "<table border=\"1\" class=\"dataframe\">\n",
       "  <thead>\n",
       "    <tr style=\"text-align: right;\">\n",
       "      <th></th>\n",
       "      <th>Advisor</th>\n",
       "      <th>AdvisorID</th>\n",
       "      <th>commision</th>\n",
       "    </tr>\n",
       "  </thead>\n",
       "  <tbody>\n",
       "    <tr>\n",
       "      <th>0</th>\n",
       "      <td>A Bharath</td>\n",
       "      <td>281922 IN</td>\n",
       "      <td>0.0</td>\n",
       "    </tr>\n",
       "    <tr>\n",
       "      <th>1</th>\n",
       "      <td>A Bharath</td>\n",
       "      <td>281922 IN</td>\n",
       "      <td>120.0</td>\n",
       "    </tr>\n",
       "    <tr>\n",
       "      <th>2</th>\n",
       "      <td>A Bharath</td>\n",
       "      <td>281922 IN</td>\n",
       "      <td>7.0</td>\n",
       "    </tr>\n",
       "    <tr>\n",
       "      <th>3</th>\n",
       "      <td>A Nagaraju</td>\n",
       "      <td>47071 IN</td>\n",
       "      <td>0.0</td>\n",
       "    </tr>\n",
       "    <tr>\n",
       "      <th>4</th>\n",
       "      <td>A Nagaraju</td>\n",
       "      <td>47071 IN</td>\n",
       "      <td>0.0</td>\n",
       "    </tr>\n",
       "    <tr>\n",
       "      <th>...</th>\n",
       "      <td>...</td>\n",
       "      <td>...</td>\n",
       "      <td>...</td>\n",
       "    </tr>\n",
       "    <tr>\n",
       "      <th>182666</th>\n",
       "      <td>शोभा वैष्णव</td>\n",
       "      <td>511578 IN</td>\n",
       "      <td>5.0</td>\n",
       "    </tr>\n",
       "    <tr>\n",
       "      <th>182667</th>\n",
       "      <td>शोभा वैष्णव</td>\n",
       "      <td>511578 IN</td>\n",
       "      <td>63.0</td>\n",
       "    </tr>\n",
       "    <tr>\n",
       "      <th>182668</th>\n",
       "      <td>शोभा वैष्णव</td>\n",
       "      <td>511578 IN</td>\n",
       "      <td>16.0</td>\n",
       "    </tr>\n",
       "    <tr>\n",
       "      <th>182669</th>\n",
       "      <td>शोभा वैष्णव</td>\n",
       "      <td>511578 IN</td>\n",
       "      <td>56.0</td>\n",
       "    </tr>\n",
       "    <tr>\n",
       "      <th>182670</th>\n",
       "      <td>शोभा वैष्णव</td>\n",
       "      <td>511578 IN</td>\n",
       "      <td>21.0</td>\n",
       "    </tr>\n",
       "  </tbody>\n",
       "</table>\n",
       "<p>182671 rows × 3 columns</p>\n",
       "</div>"
      ],
      "text/plain": [
       "            Advisor  AdvisorID  commision\n",
       "0         A Bharath  281922 IN        0.0\n",
       "1         A Bharath  281922 IN      120.0\n",
       "2         A Bharath  281922 IN        7.0\n",
       "3        A Nagaraju   47071 IN        0.0\n",
       "4        A Nagaraju   47071 IN        0.0\n",
       "...             ...        ...        ...\n",
       "182666  शोभा वैष्णव  511578 IN        5.0\n",
       "182667  शोभा वैष्णव  511578 IN       63.0\n",
       "182668  शोभा वैष्णव  511578 IN       16.0\n",
       "182669  शोभा वैष्णव  511578 IN       56.0\n",
       "182670  शोभा वैष्णव  511578 IN       21.0\n",
       "\n",
       "[182671 rows x 3 columns]"
      ]
     },
     "execution_count": 166,
     "metadata": {},
     "output_type": "execute_result"
    }
   ],
   "source": [
    "Advisorslist1"
   ]
  },
  {
   "cell_type": "code",
   "execution_count": 167,
   "id": "356b8977",
   "metadata": {},
   "outputs": [],
   "source": [
    "adv_sort1=Advisorslist1.sort_values(by='commision', ascending=False).reset_index()"
   ]
  },
  {
   "cell_type": "code",
   "execution_count": 168,
   "id": "9090a717",
   "metadata": {},
   "outputs": [
    {
     "data": {
      "text/html": [
       "<div>\n",
       "<style scoped>\n",
       "    .dataframe tbody tr th:only-of-type {\n",
       "        vertical-align: middle;\n",
       "    }\n",
       "\n",
       "    .dataframe tbody tr th {\n",
       "        vertical-align: top;\n",
       "    }\n",
       "\n",
       "    .dataframe thead th {\n",
       "        text-align: right;\n",
       "    }\n",
       "</style>\n",
       "<table border=\"1\" class=\"dataframe\">\n",
       "  <thead>\n",
       "    <tr style=\"text-align: right;\">\n",
       "      <th></th>\n",
       "      <th>index</th>\n",
       "      <th>Advisor</th>\n",
       "      <th>AdvisorID</th>\n",
       "      <th>commision</th>\n",
       "    </tr>\n",
       "  </thead>\n",
       "  <tbody>\n",
       "    <tr>\n",
       "      <th>0</th>\n",
       "      <td>50998</td>\n",
       "      <td>Gurvinder Gurvinder</td>\n",
       "      <td>351122 IN</td>\n",
       "      <td>155550.0</td>\n",
       "    </tr>\n",
       "    <tr>\n",
       "      <th>1</th>\n",
       "      <td>96515</td>\n",
       "      <td>Naveen Kumar</td>\n",
       "      <td>372594 IN</td>\n",
       "      <td>120150.0</td>\n",
       "    </tr>\n",
       "    <tr>\n",
       "      <th>2</th>\n",
       "      <td>18746</td>\n",
       "      <td>Asim Kundu</td>\n",
       "      <td>109505 IN</td>\n",
       "      <td>114543.0</td>\n",
       "    </tr>\n",
       "    <tr>\n",
       "      <th>3</th>\n",
       "      <td>60431</td>\n",
       "      <td>Jasmeet Singh</td>\n",
       "      <td>342525 IN</td>\n",
       "      <td>101880.0</td>\n",
       "    </tr>\n",
       "    <tr>\n",
       "      <th>4</th>\n",
       "      <td>33680</td>\n",
       "      <td>Debashis Dey</td>\n",
       "      <td>43468 IN</td>\n",
       "      <td>99792.0</td>\n",
       "    </tr>\n",
       "    <tr>\n",
       "      <th>...</th>\n",
       "      <td>...</td>\n",
       "      <td>...</td>\n",
       "      <td>...</td>\n",
       "      <td>...</td>\n",
       "    </tr>\n",
       "    <tr>\n",
       "      <th>182666</th>\n",
       "      <td>90361</td>\n",
       "      <td>Mohit Mohit</td>\n",
       "      <td>276600 IN</td>\n",
       "      <td>0.0</td>\n",
       "    </tr>\n",
       "    <tr>\n",
       "      <th>182667</th>\n",
       "      <td>90360</td>\n",
       "      <td>Mohit Mohit</td>\n",
       "      <td>276600 IN</td>\n",
       "      <td>0.0</td>\n",
       "    </tr>\n",
       "    <tr>\n",
       "      <th>182668</th>\n",
       "      <td>90359</td>\n",
       "      <td>Mohit Mohit</td>\n",
       "      <td>276600 IN</td>\n",
       "      <td>0.0</td>\n",
       "    </tr>\n",
       "    <tr>\n",
       "      <th>182669</th>\n",
       "      <td>90358</td>\n",
       "      <td>Mohit Mohit</td>\n",
       "      <td>48736 IN</td>\n",
       "      <td>0.0</td>\n",
       "    </tr>\n",
       "    <tr>\n",
       "      <th>182670</th>\n",
       "      <td>91335</td>\n",
       "      <td>Mudala Ayyappareddy</td>\n",
       "      <td>509978 IN</td>\n",
       "      <td>0.0</td>\n",
       "    </tr>\n",
       "  </tbody>\n",
       "</table>\n",
       "<p>182671 rows × 4 columns</p>\n",
       "</div>"
      ],
      "text/plain": [
       "        index              Advisor  AdvisorID  commision\n",
       "0       50998  Gurvinder Gurvinder  351122 IN   155550.0\n",
       "1       96515         Naveen Kumar  372594 IN   120150.0\n",
       "2       18746           Asim Kundu  109505 IN   114543.0\n",
       "3       60431        Jasmeet Singh  342525 IN   101880.0\n",
       "4       33680         Debashis Dey   43468 IN    99792.0\n",
       "...       ...                  ...        ...        ...\n",
       "182666  90361          Mohit Mohit  276600 IN        0.0\n",
       "182667  90360          Mohit Mohit  276600 IN        0.0\n",
       "182668  90359          Mohit Mohit  276600 IN        0.0\n",
       "182669  90358          Mohit Mohit   48736 IN        0.0\n",
       "182670  91335  Mudala Ayyappareddy  509978 IN        0.0\n",
       "\n",
       "[182671 rows x 4 columns]"
      ]
     },
     "execution_count": 168,
     "metadata": {},
     "output_type": "execute_result"
    }
   ],
   "source": [
    "adv_sort1"
   ]
  },
  {
   "cell_type": "code",
   "execution_count": 169,
   "id": "b3146263",
   "metadata": {},
   "outputs": [],
   "source": [
    "top_advcomm=adv_sort1[~adv_sort1.loc[:, 'commision'].cumsum().ge(adv_sort1.loc[:,'commision'].sum()*.8).shift(1, fill_value=False)]"
   ]
  },
  {
   "cell_type": "code",
   "execution_count": 170,
   "id": "77b421d8",
   "metadata": {},
   "outputs": [
    {
     "name": "stdout",
     "output_type": "stream",
     "text": [
      "        index                           Advisor  AdvisorID  commision\n",
      "0       50998               Gurvinder Gurvinder  351122 IN   155550.0\n",
      "1       96515                      Naveen Kumar  372594 IN   120150.0\n",
      "2       18746                        Asim Kundu  109505 IN   114543.0\n",
      "3       60431                     Jasmeet Singh  342525 IN   101880.0\n",
      "4       33680                      Debashis Dey   43468 IN    99792.0\n",
      "...       ...                               ...        ...        ...\n",
      "26106  155824         somashekar b somashekar b   47218 IN      648.0\n",
      "26107   41206                     dipak kumpavt  201032 IN      648.0\n",
      "26108  137168                   Saidulu Malladi  212246 IN      648.0\n",
      "26109  158329  SRINIVASA RAO P GODUGUVARI GUDEM   99433 IN      648.0\n",
      "26110  119059                Raja Singh Rajpoot  410947 IN      648.0\n",
      "\n",
      "[26111 rows x 4 columns]\n"
     ]
    }
   ],
   "source": [
    "print(top_advcomm)"
   ]
  },
  {
   "cell_type": "code",
   "execution_count": 171,
   "id": "40785b50",
   "metadata": {},
   "outputs": [],
   "source": [
    "ADVISORcomm2021=top_advcomm.groupby([\"Advisor\", \"AdvisorID\"])[\"commision\"].sum().rename(\"actualcommision\").reset_index()"
   ]
  },
  {
   "cell_type": "code",
   "execution_count": 172,
   "id": "5fb83491",
   "metadata": {},
   "outputs": [
    {
     "data": {
      "text/html": [
       "<div>\n",
       "<style scoped>\n",
       "    .dataframe tbody tr th:only-of-type {\n",
       "        vertical-align: middle;\n",
       "    }\n",
       "\n",
       "    .dataframe tbody tr th {\n",
       "        vertical-align: top;\n",
       "    }\n",
       "\n",
       "    .dataframe thead th {\n",
       "        text-align: right;\n",
       "    }\n",
       "</style>\n",
       "<table border=\"1\" class=\"dataframe\">\n",
       "  <thead>\n",
       "    <tr style=\"text-align: right;\">\n",
       "      <th></th>\n",
       "      <th>Advisor</th>\n",
       "      <th>AdvisorID</th>\n",
       "      <th>actualcommision</th>\n",
       "    </tr>\n",
       "  </thead>\n",
       "  <tbody>\n",
       "    <tr>\n",
       "      <th>0</th>\n",
       "      <td>A Nagaraju</td>\n",
       "      <td>47071 IN</td>\n",
       "      <td>92878.0</td>\n",
       "    </tr>\n",
       "    <tr>\n",
       "      <th>1</th>\n",
       "      <td>A PRASAD</td>\n",
       "      <td>390828 IN</td>\n",
       "      <td>729.0</td>\n",
       "    </tr>\n",
       "    <tr>\n",
       "      <th>2</th>\n",
       "      <td>ADAPA NAGA SRINU</td>\n",
       "      <td>390690 IN</td>\n",
       "      <td>79698.0</td>\n",
       "    </tr>\n",
       "    <tr>\n",
       "      <th>3</th>\n",
       "      <td>ADURI AKHIL TEJA</td>\n",
       "      <td>184616 IN</td>\n",
       "      <td>185631.0</td>\n",
       "    </tr>\n",
       "    <tr>\n",
       "      <th>4</th>\n",
       "      <td>AJAY VISHKARMA</td>\n",
       "      <td>449521 IN</td>\n",
       "      <td>15098.0</td>\n",
       "    </tr>\n",
       "    <tr>\n",
       "      <th>...</th>\n",
       "      <td>...</td>\n",
       "      <td>...</td>\n",
       "      <td>...</td>\n",
       "    </tr>\n",
       "    <tr>\n",
       "      <th>2241</th>\n",
       "      <td>vinod kumar sahu</td>\n",
       "      <td>315708 IN</td>\n",
       "      <td>2664.0</td>\n",
       "    </tr>\n",
       "    <tr>\n",
       "      <th>2242</th>\n",
       "      <td>vipin dadich</td>\n",
       "      <td>354848 IN</td>\n",
       "      <td>7948.0</td>\n",
       "    </tr>\n",
       "    <tr>\n",
       "      <th>2243</th>\n",
       "      <td>vishnu Makwana</td>\n",
       "      <td>48333 IN</td>\n",
       "      <td>3576.0</td>\n",
       "    </tr>\n",
       "    <tr>\n",
       "      <th>2244</th>\n",
       "      <td>yogesh kumar</td>\n",
       "      <td>310278 IN</td>\n",
       "      <td>82418.0</td>\n",
       "    </tr>\n",
       "    <tr>\n",
       "      <th>2245</th>\n",
       "      <td>yogesh saini</td>\n",
       "      <td>362318 IN</td>\n",
       "      <td>5638.0</td>\n",
       "    </tr>\n",
       "  </tbody>\n",
       "</table>\n",
       "<p>2246 rows × 3 columns</p>\n",
       "</div>"
      ],
      "text/plain": [
       "               Advisor  AdvisorID  actualcommision\n",
       "0           A Nagaraju   47071 IN          92878.0\n",
       "1             A PRASAD  390828 IN            729.0\n",
       "2     ADAPA NAGA SRINU  390690 IN          79698.0\n",
       "3     ADURI AKHIL TEJA  184616 IN         185631.0\n",
       "4       AJAY VISHKARMA  449521 IN          15098.0\n",
       "...                ...        ...              ...\n",
       "2241  vinod kumar sahu  315708 IN           2664.0\n",
       "2242      vipin dadich  354848 IN           7948.0\n",
       "2243    vishnu Makwana   48333 IN           3576.0\n",
       "2244      yogesh kumar  310278 IN          82418.0\n",
       "2245      yogesh saini  362318 IN           5638.0\n",
       "\n",
       "[2246 rows x 3 columns]"
      ]
     },
     "execution_count": 172,
     "metadata": {},
     "output_type": "execute_result"
    }
   ],
   "source": [
    "ADVISORcomm2021"
   ]
  },
  {
   "cell_type": "code",
   "execution_count": 173,
   "id": "51e81841",
   "metadata": {},
   "outputs": [],
   "source": [
    "# Verification\n",
    "sum1=ADVISORcomm2021['actualcommision'].sum()"
   ]
  },
  {
   "cell_type": "code",
   "execution_count": 174,
   "id": "8e87c69e",
   "metadata": {},
   "outputs": [],
   "source": [
    "sum2=Advisorslist1['commision'].sum()"
   ]
  },
  {
   "cell_type": "code",
   "execution_count": 175,
   "id": "571705d1",
   "metadata": {},
   "outputs": [
    {
     "name": "stdout",
     "output_type": "stream",
     "text": [
      "0.8000037524041647\n"
     ]
    }
   ],
   "source": [
    "print(sum1/sum2)"
   ]
  },
  {
   "cell_type": "code",
   "execution_count": 176,
   "id": "71cd9708",
   "metadata": {},
   "outputs": [],
   "source": [
    "TOPADVIScomm2021=ADVISORcomm2021.sort_values(by='actualcommision', ascending=False).reset_index()"
   ]
  },
  {
   "cell_type": "code",
   "execution_count": 177,
   "id": "b78a394d",
   "metadata": {},
   "outputs": [
    {
     "data": {
      "text/html": [
       "<div>\n",
       "<style scoped>\n",
       "    .dataframe tbody tr th:only-of-type {\n",
       "        vertical-align: middle;\n",
       "    }\n",
       "\n",
       "    .dataframe tbody tr th {\n",
       "        vertical-align: top;\n",
       "    }\n",
       "\n",
       "    .dataframe thead th {\n",
       "        text-align: right;\n",
       "    }\n",
       "</style>\n",
       "<table border=\"1\" class=\"dataframe\">\n",
       "  <thead>\n",
       "    <tr style=\"text-align: right;\">\n",
       "      <th></th>\n",
       "      <th>index</th>\n",
       "      <th>Advisor</th>\n",
       "      <th>AdvisorID</th>\n",
       "      <th>actualcommision</th>\n",
       "    </tr>\n",
       "  </thead>\n",
       "  <tbody>\n",
       "    <tr>\n",
       "      <th>0</th>\n",
       "      <td>82</td>\n",
       "      <td>Akhilesh Garg</td>\n",
       "      <td>44468 IN</td>\n",
       "      <td>677141.080</td>\n",
       "    </tr>\n",
       "    <tr>\n",
       "      <th>1</th>\n",
       "      <td>706</td>\n",
       "      <td>Jasmeet Singh</td>\n",
       "      <td>342525 IN</td>\n",
       "      <td>455161.000</td>\n",
       "    </tr>\n",
       "    <tr>\n",
       "      <th>2</th>\n",
       "      <td>489</td>\n",
       "      <td>Faruk Ahamed Sardar</td>\n",
       "      <td>132656 IN</td>\n",
       "      <td>339797.000</td>\n",
       "    </tr>\n",
       "    <tr>\n",
       "      <th>3</th>\n",
       "      <td>665</td>\n",
       "      <td>Inderjeet Singh</td>\n",
       "      <td>47543 IN</td>\n",
       "      <td>336593.728</td>\n",
       "    </tr>\n",
       "    <tr>\n",
       "      <th>4</th>\n",
       "      <td>124</td>\n",
       "      <td>Amit Korhale</td>\n",
       "      <td>46837 IN</td>\n",
       "      <td>316816.904</td>\n",
       "    </tr>\n",
       "    <tr>\n",
       "      <th>...</th>\n",
       "      <td>...</td>\n",
       "      <td>...</td>\n",
       "      <td>...</td>\n",
       "      <td>...</td>\n",
       "    </tr>\n",
       "    <tr>\n",
       "      <th>2241</th>\n",
       "      <td>1915</td>\n",
       "      <td>Vijai Singh</td>\n",
       "      <td>285864 IN</td>\n",
       "      <td>651.000</td>\n",
       "    </tr>\n",
       "    <tr>\n",
       "      <th>2242</th>\n",
       "      <td>1064</td>\n",
       "      <td>NITESH MEHTA</td>\n",
       "      <td>146531 IN</td>\n",
       "      <td>650.000</td>\n",
       "    </tr>\n",
       "    <tr>\n",
       "      <th>2243</th>\n",
       "      <td>375</td>\n",
       "      <td>Christopher Topno</td>\n",
       "      <td>284970 IN</td>\n",
       "      <td>650.000</td>\n",
       "    </tr>\n",
       "    <tr>\n",
       "      <th>2244</th>\n",
       "      <td>507</td>\n",
       "      <td>GOVIND SINGH LODHI</td>\n",
       "      <td>449492 IN</td>\n",
       "      <td>650.000</td>\n",
       "    </tr>\n",
       "    <tr>\n",
       "      <th>2245</th>\n",
       "      <td>2039</td>\n",
       "      <td>dipak kumpavt</td>\n",
       "      <td>201032 IN</td>\n",
       "      <td>648.000</td>\n",
       "    </tr>\n",
       "  </tbody>\n",
       "</table>\n",
       "<p>2246 rows × 4 columns</p>\n",
       "</div>"
      ],
      "text/plain": [
       "      index              Advisor  AdvisorID  actualcommision\n",
       "0        82        Akhilesh Garg   44468 IN       677141.080\n",
       "1       706        Jasmeet Singh  342525 IN       455161.000\n",
       "2       489  Faruk Ahamed Sardar  132656 IN       339797.000\n",
       "3       665      Inderjeet Singh   47543 IN       336593.728\n",
       "4       124         Amit Korhale   46837 IN       316816.904\n",
       "...     ...                  ...        ...              ...\n",
       "2241   1915          Vijai Singh  285864 IN          651.000\n",
       "2242   1064         NITESH MEHTA  146531 IN          650.000\n",
       "2243    375    Christopher Topno  284970 IN          650.000\n",
       "2244    507   GOVIND SINGH LODHI  449492 IN          650.000\n",
       "2245   2039        dipak kumpavt  201032 IN          648.000\n",
       "\n",
       "[2246 rows x 4 columns]"
      ]
     },
     "execution_count": 177,
     "metadata": {},
     "output_type": "execute_result"
    }
   ],
   "source": [
    "TOPADVIScomm2021"
   ]
  },
  {
   "cell_type": "code",
   "execution_count": 179,
   "id": "3361a442",
   "metadata": {},
   "outputs": [],
   "source": [
    "file_name1='Advisorscomm2022_80%.xlsx'"
   ]
  },
  {
   "cell_type": "code",
   "execution_count": 180,
   "id": "dc897c92",
   "metadata": {},
   "outputs": [],
   "source": [
    "TOPADVIScomm2021.to_excel(file_name1)"
   ]
  },
  {
   "cell_type": "markdown",
   "id": "24de0755",
   "metadata": {},
   "source": [
    "# advisors who have highest farmers conversion rate"
   ]
  },
  {
   "cell_type": "code",
   "execution_count": 181,
   "id": "c00b523c",
   "metadata": {},
   "outputs": [
    {
     "data": {
      "text/html": [
       "<div>\n",
       "<style scoped>\n",
       "    .dataframe tbody tr th:only-of-type {\n",
       "        vertical-align: middle;\n",
       "    }\n",
       "\n",
       "    .dataframe tbody tr th {\n",
       "        vertical-align: top;\n",
       "    }\n",
       "\n",
       "    .dataframe thead th {\n",
       "        text-align: right;\n",
       "    }\n",
       "</style>\n",
       "<table border=\"1\" class=\"dataframe\">\n",
       "  <thead>\n",
       "    <tr style=\"text-align: right;\">\n",
       "      <th></th>\n",
       "      <th>index</th>\n",
       "      <th>Advisor name</th>\n",
       "      <th>Retailer Name</th>\n",
       "      <th>Retailer ID</th>\n",
       "      <th>Advisor ID</th>\n",
       "      <th>Month of Order Intent Created Date</th>\n",
       "      <th>Advisor Phone Number</th>\n",
       "      <th>Country Code</th>\n",
       "      <th>Hierarchy Level 3</th>\n",
       "      <th>Hierarchy Level 2</th>\n",
       "      <th>...</th>\n",
       "      <th>Volume Cancelled</th>\n",
       "      <th>Volume Purchased</th>\n",
       "      <th>Returned Volume</th>\n",
       "      <th>Avg Volume Sold per Farmers</th>\n",
       "      <th>Total Intent Value</th>\n",
       "      <th>Cancelled Order Value</th>\n",
       "      <th>Sales Value</th>\n",
       "      <th>Avg Sales per Farmer</th>\n",
       "      <th>Actual Commission</th>\n",
       "      <th>Intended Commission</th>\n",
       "    </tr>\n",
       "  </thead>\n",
       "  <tbody>\n",
       "    <tr>\n",
       "      <th>0</th>\n",
       "      <td>1</td>\n",
       "      <td>A Bharath</td>\n",
       "      <td>NaN</td>\n",
       "      <td>NaN</td>\n",
       "      <td>281922 IN</td>\n",
       "      <td>June</td>\n",
       "      <td>8220054234</td>\n",
       "      <td>IN</td>\n",
       "      <td>South</td>\n",
       "      <td>Salem</td>\n",
       "      <td>...</td>\n",
       "      <td>0.0</td>\n",
       "      <td>0.00</td>\n",
       "      <td>0.0</td>\n",
       "      <td>0.000</td>\n",
       "      <td>430.0</td>\n",
       "      <td>0.0</td>\n",
       "      <td>0.0</td>\n",
       "      <td>NaN</td>\n",
       "      <td>0.0</td>\n",
       "      <td>10.0</td>\n",
       "    </tr>\n",
       "    <tr>\n",
       "      <th>1</th>\n",
       "      <td>2</td>\n",
       "      <td>A Bharath</td>\n",
       "      <td>BHARATHI AGRO TRADERS</td>\n",
       "      <td>TN01923 IN</td>\n",
       "      <td>281922 IN</td>\n",
       "      <td>June</td>\n",
       "      <td>8220054234</td>\n",
       "      <td>IN</td>\n",
       "      <td>South</td>\n",
       "      <td>Salem</td>\n",
       "      <td>...</td>\n",
       "      <td>0.0</td>\n",
       "      <td>0.46</td>\n",
       "      <td>0.0</td>\n",
       "      <td>0.115</td>\n",
       "      <td>6135.0</td>\n",
       "      <td>0.0</td>\n",
       "      <td>4908.0</td>\n",
       "      <td>1227.0</td>\n",
       "      <td>120.0</td>\n",
       "      <td>150.0</td>\n",
       "    </tr>\n",
       "    <tr>\n",
       "      <th>2</th>\n",
       "      <td>3</td>\n",
       "      <td>A Bharath</td>\n",
       "      <td>BHARATHI AGRO TRADERS</td>\n",
       "      <td>TN01923 IN</td>\n",
       "      <td>281922 IN</td>\n",
       "      <td>June</td>\n",
       "      <td>8220054234</td>\n",
       "      <td>IN</td>\n",
       "      <td>South</td>\n",
       "      <td>Salem</td>\n",
       "      <td>...</td>\n",
       "      <td>0.0</td>\n",
       "      <td>0.10</td>\n",
       "      <td>0.0</td>\n",
       "      <td>0.100</td>\n",
       "      <td>280.0</td>\n",
       "      <td>0.0</td>\n",
       "      <td>280.0</td>\n",
       "      <td>280.0</td>\n",
       "      <td>7.0</td>\n",
       "      <td>7.0</td>\n",
       "    </tr>\n",
       "    <tr>\n",
       "      <th>3</th>\n",
       "      <td>4</td>\n",
       "      <td>A Nagaraju</td>\n",
       "      <td>NaN</td>\n",
       "      <td>NaN</td>\n",
       "      <td>47071 IN</td>\n",
       "      <td>January</td>\n",
       "      <td>9000696331</td>\n",
       "      <td>IN</td>\n",
       "      <td>NaN</td>\n",
       "      <td>NaN</td>\n",
       "      <td>...</td>\n",
       "      <td>6.0</td>\n",
       "      <td>0.00</td>\n",
       "      <td>0.0</td>\n",
       "      <td>0.000</td>\n",
       "      <td>12588.0</td>\n",
       "      <td>12588.0</td>\n",
       "      <td>0.0</td>\n",
       "      <td>NaN</td>\n",
       "      <td>0.0</td>\n",
       "      <td>312.0</td>\n",
       "    </tr>\n",
       "    <tr>\n",
       "      <th>4</th>\n",
       "      <td>5</td>\n",
       "      <td>A Nagaraju</td>\n",
       "      <td>NaN</td>\n",
       "      <td>NaN</td>\n",
       "      <td>47071 IN</td>\n",
       "      <td>January</td>\n",
       "      <td>9000696331</td>\n",
       "      <td>IN</td>\n",
       "      <td>NaN</td>\n",
       "      <td>NaN</td>\n",
       "      <td>...</td>\n",
       "      <td>0.0</td>\n",
       "      <td>0.00</td>\n",
       "      <td>0.0</td>\n",
       "      <td>0.000</td>\n",
       "      <td>2290.0</td>\n",
       "      <td>0.0</td>\n",
       "      <td>0.0</td>\n",
       "      <td>NaN</td>\n",
       "      <td>0.0</td>\n",
       "      <td>50.0</td>\n",
       "    </tr>\n",
       "    <tr>\n",
       "      <th>...</th>\n",
       "      <td>...</td>\n",
       "      <td>...</td>\n",
       "      <td>...</td>\n",
       "      <td>...</td>\n",
       "      <td>...</td>\n",
       "      <td>...</td>\n",
       "      <td>...</td>\n",
       "      <td>...</td>\n",
       "      <td>...</td>\n",
       "      <td>...</td>\n",
       "      <td>...</td>\n",
       "      <td>...</td>\n",
       "      <td>...</td>\n",
       "      <td>...</td>\n",
       "      <td>...</td>\n",
       "      <td>...</td>\n",
       "      <td>...</td>\n",
       "      <td>...</td>\n",
       "      <td>...</td>\n",
       "      <td>...</td>\n",
       "      <td>...</td>\n",
       "    </tr>\n",
       "    <tr>\n",
       "      <th>182666</th>\n",
       "      <td>182,667</td>\n",
       "      <td>शोभा वैष्णव</td>\n",
       "      <td>Ma bamleshwari</td>\n",
       "      <td>6936448 IN</td>\n",
       "      <td>511578 IN</td>\n",
       "      <td>October</td>\n",
       "      <td>9098505339</td>\n",
       "      <td>IN</td>\n",
       "      <td>East</td>\n",
       "      <td>Raipur</td>\n",
       "      <td>...</td>\n",
       "      <td>0.0</td>\n",
       "      <td>0.25</td>\n",
       "      <td>0.0</td>\n",
       "      <td>0.250</td>\n",
       "      <td>NaN</td>\n",
       "      <td>0.0</td>\n",
       "      <td>225.0</td>\n",
       "      <td>225.0</td>\n",
       "      <td>5.0</td>\n",
       "      <td>0.0</td>\n",
       "    </tr>\n",
       "    <tr>\n",
       "      <th>182667</th>\n",
       "      <td>182,668</td>\n",
       "      <td>शोभा वैष्णव</td>\n",
       "      <td>Ma bamleshwari</td>\n",
       "      <td>6936448 IN</td>\n",
       "      <td>511578 IN</td>\n",
       "      <td>October</td>\n",
       "      <td>9098505339</td>\n",
       "      <td>IN</td>\n",
       "      <td>East</td>\n",
       "      <td>Raipur</td>\n",
       "      <td>...</td>\n",
       "      <td>0.0</td>\n",
       "      <td>1.75</td>\n",
       "      <td>0.0</td>\n",
       "      <td>0.250</td>\n",
       "      <td>1560.0</td>\n",
       "      <td>0.0</td>\n",
       "      <td>2730.0</td>\n",
       "      <td>390.0</td>\n",
       "      <td>63.0</td>\n",
       "      <td>36.0</td>\n",
       "    </tr>\n",
       "    <tr>\n",
       "      <th>182668</th>\n",
       "      <td>182,669</td>\n",
       "      <td>शोभा वैष्णव</td>\n",
       "      <td>Ma bamleshwari</td>\n",
       "      <td>6936448 IN</td>\n",
       "      <td>511578 IN</td>\n",
       "      <td>October</td>\n",
       "      <td>9098505339</td>\n",
       "      <td>IN</td>\n",
       "      <td>East</td>\n",
       "      <td>Raipur</td>\n",
       "      <td>...</td>\n",
       "      <td>0.0</td>\n",
       "      <td>0.25</td>\n",
       "      <td>0.0</td>\n",
       "      <td>0.250</td>\n",
       "      <td>NaN</td>\n",
       "      <td>0.0</td>\n",
       "      <td>649.0</td>\n",
       "      <td>649.0</td>\n",
       "      <td>16.0</td>\n",
       "      <td>0.0</td>\n",
       "    </tr>\n",
       "    <tr>\n",
       "      <th>182669</th>\n",
       "      <td>182,670</td>\n",
       "      <td>शोभा वैष्णव</td>\n",
       "      <td>Ma bamleshwari</td>\n",
       "      <td>6936448 IN</td>\n",
       "      <td>511578 IN</td>\n",
       "      <td>October</td>\n",
       "      <td>9098505339</td>\n",
       "      <td>IN</td>\n",
       "      <td>East</td>\n",
       "      <td>Raipur</td>\n",
       "      <td>...</td>\n",
       "      <td>0.0</td>\n",
       "      <td>1.00</td>\n",
       "      <td>0.0</td>\n",
       "      <td>0.250</td>\n",
       "      <td>1743.0</td>\n",
       "      <td>0.0</td>\n",
       "      <td>2324.0</td>\n",
       "      <td>581.0</td>\n",
       "      <td>56.0</td>\n",
       "      <td>42.0</td>\n",
       "    </tr>\n",
       "    <tr>\n",
       "      <th>182670</th>\n",
       "      <td>182,671</td>\n",
       "      <td>शोभा वैष्णव</td>\n",
       "      <td>Ma bamleshwari</td>\n",
       "      <td>6936448 IN</td>\n",
       "      <td>511578 IN</td>\n",
       "      <td>October</td>\n",
       "      <td>9098505339</td>\n",
       "      <td>IN</td>\n",
       "      <td>East</td>\n",
       "      <td>Raipur</td>\n",
       "      <td>...</td>\n",
       "      <td>0.0</td>\n",
       "      <td>0.10</td>\n",
       "      <td>0.0</td>\n",
       "      <td>0.100</td>\n",
       "      <td>NaN</td>\n",
       "      <td>0.0</td>\n",
       "      <td>835.0</td>\n",
       "      <td>835.0</td>\n",
       "      <td>21.0</td>\n",
       "      <td>0.0</td>\n",
       "    </tr>\n",
       "  </tbody>\n",
       "</table>\n",
       "<p>182671 rows × 35 columns</p>\n",
       "</div>"
      ],
      "text/plain": [
       "          index Advisor name          Retailer Name Retailer ID Advisor ID  \\\n",
       "0             1    A Bharath                    NaN         NaN  281922 IN   \n",
       "1             2    A Bharath  BHARATHI AGRO TRADERS  TN01923 IN  281922 IN   \n",
       "2             3    A Bharath  BHARATHI AGRO TRADERS  TN01923 IN  281922 IN   \n",
       "3             4   A Nagaraju                    NaN         NaN   47071 IN   \n",
       "4             5   A Nagaraju                    NaN         NaN   47071 IN   \n",
       "...         ...          ...                    ...         ...        ...   \n",
       "182666  182,667  शोभा वैष्णव         Ma bamleshwari  6936448 IN  511578 IN   \n",
       "182667  182,668  शोभा वैष्णव         Ma bamleshwari  6936448 IN  511578 IN   \n",
       "182668  182,669  शोभा वैष्णव         Ma bamleshwari  6936448 IN  511578 IN   \n",
       "182669  182,670  शोभा वैष्णव         Ma bamleshwari  6936448 IN  511578 IN   \n",
       "182670  182,671  शोभा वैष्णव         Ma bamleshwari  6936448 IN  511578 IN   \n",
       "\n",
       "       Month of Order Intent Created Date  Advisor Phone Number Country Code   \\\n",
       "0                                    June            8220054234            IN   \n",
       "1                                    June            8220054234            IN   \n",
       "2                                    June            8220054234            IN   \n",
       "3                                 January            9000696331            IN   \n",
       "4                                 January            9000696331            IN   \n",
       "...                                   ...                   ...           ...   \n",
       "182666                            October            9098505339            IN   \n",
       "182667                            October            9098505339            IN   \n",
       "182668                            October            9098505339            IN   \n",
       "182669                            October            9098505339            IN   \n",
       "182670                            October            9098505339            IN   \n",
       "\n",
       "       Hierarchy Level 3 Hierarchy Level 2  ... Volume Cancelled  \\\n",
       "0                  South             Salem  ...              0.0   \n",
       "1                  South             Salem  ...              0.0   \n",
       "2                  South             Salem  ...              0.0   \n",
       "3                    NaN               NaN  ...              6.0   \n",
       "4                    NaN               NaN  ...              0.0   \n",
       "...                  ...               ...  ...              ...   \n",
       "182666              East            Raipur  ...              0.0   \n",
       "182667              East            Raipur  ...              0.0   \n",
       "182668              East            Raipur  ...              0.0   \n",
       "182669              East            Raipur  ...              0.0   \n",
       "182670              East            Raipur  ...              0.0   \n",
       "\n",
       "       Volume Purchased Returned Volume Avg Volume Sold per Farmers  \\\n",
       "0                  0.00             0.0                       0.000   \n",
       "1                  0.46             0.0                       0.115   \n",
       "2                  0.10             0.0                       0.100   \n",
       "3                  0.00             0.0                       0.000   \n",
       "4                  0.00             0.0                       0.000   \n",
       "...                 ...             ...                         ...   \n",
       "182666             0.25             0.0                       0.250   \n",
       "182667             1.75             0.0                       0.250   \n",
       "182668             0.25             0.0                       0.250   \n",
       "182669             1.00             0.0                       0.250   \n",
       "182670             0.10             0.0                       0.100   \n",
       "\n",
       "       Total Intent Value Cancelled Order Value  Sales Value  \\\n",
       "0                   430.0                   0.0          0.0   \n",
       "1                  6135.0                   0.0       4908.0   \n",
       "2                   280.0                   0.0        280.0   \n",
       "3                 12588.0               12588.0          0.0   \n",
       "4                  2290.0                   0.0          0.0   \n",
       "...                   ...                   ...          ...   \n",
       "182666                NaN                   0.0        225.0   \n",
       "182667             1560.0                   0.0       2730.0   \n",
       "182668                NaN                   0.0        649.0   \n",
       "182669             1743.0                   0.0       2324.0   \n",
       "182670                NaN                   0.0        835.0   \n",
       "\n",
       "        Avg Sales per Farmer  Actual Commission  Intended Commission  \n",
       "0                        NaN                0.0                 10.0  \n",
       "1                     1227.0              120.0                150.0  \n",
       "2                      280.0                7.0                  7.0  \n",
       "3                        NaN                0.0                312.0  \n",
       "4                        NaN                0.0                 50.0  \n",
       "...                      ...                ...                  ...  \n",
       "182666                 225.0                5.0                  0.0  \n",
       "182667                 390.0               63.0                 36.0  \n",
       "182668                 649.0               16.0                  0.0  \n",
       "182669                 581.0               56.0                 42.0  \n",
       "182670                 835.0               21.0                  0.0  \n",
       "\n",
       "[182671 rows x 35 columns]"
      ]
     },
     "execution_count": 181,
     "metadata": {},
     "output_type": "execute_result"
    }
   ],
   "source": [
    "data2"
   ]
  },
  {
   "cell_type": "code",
   "execution_count": 183,
   "id": "6f6402e2",
   "metadata": {},
   "outputs": [],
   "source": [
    "Advisorslist2 = pd.DataFrame().assign(Advisor=data2['Advisor name'], AdvisorID=data2['Advisor ID'],\n",
    "                                      totalordersintents=data2['Total Order Intents'],\n",
    "                                      farmerspurchase=data2['Farmers with Purchase'])"
   ]
  },
  {
   "cell_type": "code",
   "execution_count": 184,
   "id": "f5a893f9",
   "metadata": {},
   "outputs": [
    {
     "data": {
      "text/html": [
       "<div>\n",
       "<style scoped>\n",
       "    .dataframe tbody tr th:only-of-type {\n",
       "        vertical-align: middle;\n",
       "    }\n",
       "\n",
       "    .dataframe tbody tr th {\n",
       "        vertical-align: top;\n",
       "    }\n",
       "\n",
       "    .dataframe thead th {\n",
       "        text-align: right;\n",
       "    }\n",
       "</style>\n",
       "<table border=\"1\" class=\"dataframe\">\n",
       "  <thead>\n",
       "    <tr style=\"text-align: right;\">\n",
       "      <th></th>\n",
       "      <th>Advisor</th>\n",
       "      <th>AdvisorID</th>\n",
       "      <th>totalordersintents</th>\n",
       "      <th>farmerspurchase</th>\n",
       "    </tr>\n",
       "  </thead>\n",
       "  <tbody>\n",
       "    <tr>\n",
       "      <th>0</th>\n",
       "      <td>A Bharath</td>\n",
       "      <td>281922 IN</td>\n",
       "      <td>1</td>\n",
       "      <td>0</td>\n",
       "    </tr>\n",
       "    <tr>\n",
       "      <th>1</th>\n",
       "      <td>A Bharath</td>\n",
       "      <td>281922 IN</td>\n",
       "      <td>4</td>\n",
       "      <td>4</td>\n",
       "    </tr>\n",
       "    <tr>\n",
       "      <th>2</th>\n",
       "      <td>A Bharath</td>\n",
       "      <td>281922 IN</td>\n",
       "      <td>1</td>\n",
       "      <td>1</td>\n",
       "    </tr>\n",
       "    <tr>\n",
       "      <th>3</th>\n",
       "      <td>A Nagaraju</td>\n",
       "      <td>47071 IN</td>\n",
       "      <td>2</td>\n",
       "      <td>0</td>\n",
       "    </tr>\n",
       "    <tr>\n",
       "      <th>4</th>\n",
       "      <td>A Nagaraju</td>\n",
       "      <td>47071 IN</td>\n",
       "      <td>1</td>\n",
       "      <td>0</td>\n",
       "    </tr>\n",
       "    <tr>\n",
       "      <th>...</th>\n",
       "      <td>...</td>\n",
       "      <td>...</td>\n",
       "      <td>...</td>\n",
       "      <td>...</td>\n",
       "    </tr>\n",
       "    <tr>\n",
       "      <th>182666</th>\n",
       "      <td>शोभा वैष्णव</td>\n",
       "      <td>511578 IN</td>\n",
       "      <td>1</td>\n",
       "      <td>1</td>\n",
       "    </tr>\n",
       "    <tr>\n",
       "      <th>182667</th>\n",
       "      <td>शोभा वैष्णव</td>\n",
       "      <td>511578 IN</td>\n",
       "      <td>7</td>\n",
       "      <td>7</td>\n",
       "    </tr>\n",
       "    <tr>\n",
       "      <th>182668</th>\n",
       "      <td>शोभा वैष्णव</td>\n",
       "      <td>511578 IN</td>\n",
       "      <td>1</td>\n",
       "      <td>1</td>\n",
       "    </tr>\n",
       "    <tr>\n",
       "      <th>182669</th>\n",
       "      <td>शोभा वैष्णव</td>\n",
       "      <td>511578 IN</td>\n",
       "      <td>4</td>\n",
       "      <td>4</td>\n",
       "    </tr>\n",
       "    <tr>\n",
       "      <th>182670</th>\n",
       "      <td>शोभा वैष्णव</td>\n",
       "      <td>511578 IN</td>\n",
       "      <td>1</td>\n",
       "      <td>1</td>\n",
       "    </tr>\n",
       "  </tbody>\n",
       "</table>\n",
       "<p>182671 rows × 4 columns</p>\n",
       "</div>"
      ],
      "text/plain": [
       "            Advisor  AdvisorID  totalordersintents  farmerspurchase\n",
       "0         A Bharath  281922 IN                   1                0\n",
       "1         A Bharath  281922 IN                   4                4\n",
       "2         A Bharath  281922 IN                   1                1\n",
       "3        A Nagaraju   47071 IN                   2                0\n",
       "4        A Nagaraju   47071 IN                   1                0\n",
       "...             ...        ...                 ...              ...\n",
       "182666  शोभा वैष्णव  511578 IN                   1                1\n",
       "182667  शोभा वैष्णव  511578 IN                   7                7\n",
       "182668  शोभा वैष्णव  511578 IN                   1                1\n",
       "182669  शोभा वैष्णव  511578 IN                   4                4\n",
       "182670  शोभा वैष्णव  511578 IN                   1                1\n",
       "\n",
       "[182671 rows x 4 columns]"
      ]
     },
     "execution_count": 184,
     "metadata": {},
     "output_type": "execute_result"
    }
   ],
   "source": [
    "Advisorslist2"
   ]
  },
  {
   "cell_type": "code",
   "execution_count": 48,
   "id": "e96981c7",
   "metadata": {},
   "outputs": [],
   "source": [
    "#Advisorslist2['Percentage']=Advisorslist2['farmerspurchase']/Advisorslist2['totalorders']*100"
   ]
  },
  {
   "cell_type": "code",
   "execution_count": 185,
   "id": "aea37875",
   "metadata": {},
   "outputs": [
    {
     "data": {
      "text/html": [
       "<div>\n",
       "<style scoped>\n",
       "    .dataframe tbody tr th:only-of-type {\n",
       "        vertical-align: middle;\n",
       "    }\n",
       "\n",
       "    .dataframe tbody tr th {\n",
       "        vertical-align: top;\n",
       "    }\n",
       "\n",
       "    .dataframe thead th {\n",
       "        text-align: right;\n",
       "    }\n",
       "</style>\n",
       "<table border=\"1\" class=\"dataframe\">\n",
       "  <thead>\n",
       "    <tr style=\"text-align: right;\">\n",
       "      <th></th>\n",
       "      <th>Advisor</th>\n",
       "      <th>AdvisorID</th>\n",
       "      <th>totalordersintents</th>\n",
       "      <th>farmerspurchase</th>\n",
       "    </tr>\n",
       "  </thead>\n",
       "  <tbody>\n",
       "    <tr>\n",
       "      <th>0</th>\n",
       "      <td>A Bharath</td>\n",
       "      <td>281922 IN</td>\n",
       "      <td>1</td>\n",
       "      <td>0</td>\n",
       "    </tr>\n",
       "    <tr>\n",
       "      <th>1</th>\n",
       "      <td>A Bharath</td>\n",
       "      <td>281922 IN</td>\n",
       "      <td>4</td>\n",
       "      <td>4</td>\n",
       "    </tr>\n",
       "    <tr>\n",
       "      <th>2</th>\n",
       "      <td>A Bharath</td>\n",
       "      <td>281922 IN</td>\n",
       "      <td>1</td>\n",
       "      <td>1</td>\n",
       "    </tr>\n",
       "    <tr>\n",
       "      <th>3</th>\n",
       "      <td>A Nagaraju</td>\n",
       "      <td>47071 IN</td>\n",
       "      <td>2</td>\n",
       "      <td>0</td>\n",
       "    </tr>\n",
       "    <tr>\n",
       "      <th>4</th>\n",
       "      <td>A Nagaraju</td>\n",
       "      <td>47071 IN</td>\n",
       "      <td>1</td>\n",
       "      <td>0</td>\n",
       "    </tr>\n",
       "    <tr>\n",
       "      <th>...</th>\n",
       "      <td>...</td>\n",
       "      <td>...</td>\n",
       "      <td>...</td>\n",
       "      <td>...</td>\n",
       "    </tr>\n",
       "    <tr>\n",
       "      <th>182666</th>\n",
       "      <td>शोभा वैष्णव</td>\n",
       "      <td>511578 IN</td>\n",
       "      <td>1</td>\n",
       "      <td>1</td>\n",
       "    </tr>\n",
       "    <tr>\n",
       "      <th>182667</th>\n",
       "      <td>शोभा वैष्णव</td>\n",
       "      <td>511578 IN</td>\n",
       "      <td>7</td>\n",
       "      <td>7</td>\n",
       "    </tr>\n",
       "    <tr>\n",
       "      <th>182668</th>\n",
       "      <td>शोभा वैष्णव</td>\n",
       "      <td>511578 IN</td>\n",
       "      <td>1</td>\n",
       "      <td>1</td>\n",
       "    </tr>\n",
       "    <tr>\n",
       "      <th>182669</th>\n",
       "      <td>शोभा वैष्णव</td>\n",
       "      <td>511578 IN</td>\n",
       "      <td>4</td>\n",
       "      <td>4</td>\n",
       "    </tr>\n",
       "    <tr>\n",
       "      <th>182670</th>\n",
       "      <td>शोभा वैष्णव</td>\n",
       "      <td>511578 IN</td>\n",
       "      <td>1</td>\n",
       "      <td>1</td>\n",
       "    </tr>\n",
       "  </tbody>\n",
       "</table>\n",
       "<p>182671 rows × 4 columns</p>\n",
       "</div>"
      ],
      "text/plain": [
       "            Advisor  AdvisorID  totalordersintents  farmerspurchase\n",
       "0         A Bharath  281922 IN                   1                0\n",
       "1         A Bharath  281922 IN                   4                4\n",
       "2         A Bharath  281922 IN                   1                1\n",
       "3        A Nagaraju   47071 IN                   2                0\n",
       "4        A Nagaraju   47071 IN                   1                0\n",
       "...             ...        ...                 ...              ...\n",
       "182666  शोभा वैष्णव  511578 IN                   1                1\n",
       "182667  शोभा वैष्णव  511578 IN                   7                7\n",
       "182668  शोभा वैष्णव  511578 IN                   1                1\n",
       "182669  शोभा वैष्णव  511578 IN                   4                4\n",
       "182670  शोभा वैष्णव  511578 IN                   1                1\n",
       "\n",
       "[182671 rows x 4 columns]"
      ]
     },
     "execution_count": 185,
     "metadata": {},
     "output_type": "execute_result"
    }
   ],
   "source": [
    "Advisorslist2"
   ]
  },
  {
   "cell_type": "code",
   "execution_count": 186,
   "id": "cd64341b",
   "metadata": {},
   "outputs": [],
   "source": [
    "ADVfarm1=Advisorslist2.groupby([\"Advisor\", \"AdvisorID\"])[\"totalordersintents\"].sum().rename(\"Totalorders\").reset_index()"
   ]
  },
  {
   "cell_type": "code",
   "execution_count": 187,
   "id": "6ff058f0",
   "metadata": {},
   "outputs": [
    {
     "data": {
      "text/html": [
       "<div>\n",
       "<style scoped>\n",
       "    .dataframe tbody tr th:only-of-type {\n",
       "        vertical-align: middle;\n",
       "    }\n",
       "\n",
       "    .dataframe tbody tr th {\n",
       "        vertical-align: top;\n",
       "    }\n",
       "\n",
       "    .dataframe thead th {\n",
       "        text-align: right;\n",
       "    }\n",
       "</style>\n",
       "<table border=\"1\" class=\"dataframe\">\n",
       "  <thead>\n",
       "    <tr style=\"text-align: right;\">\n",
       "      <th></th>\n",
       "      <th>Advisor</th>\n",
       "      <th>AdvisorID</th>\n",
       "      <th>Totalorders</th>\n",
       "    </tr>\n",
       "  </thead>\n",
       "  <tbody>\n",
       "    <tr>\n",
       "      <th>0</th>\n",
       "      <td>A Bharath</td>\n",
       "      <td>281922 IN</td>\n",
       "      <td>6</td>\n",
       "    </tr>\n",
       "    <tr>\n",
       "      <th>1</th>\n",
       "      <td>A Nagaraju</td>\n",
       "      <td>47071 IN</td>\n",
       "      <td>310</td>\n",
       "    </tr>\n",
       "    <tr>\n",
       "      <th>2</th>\n",
       "      <td>A PRASAD</td>\n",
       "      <td>390828 IN</td>\n",
       "      <td>102</td>\n",
       "    </tr>\n",
       "    <tr>\n",
       "      <th>3</th>\n",
       "      <td>A S MAHENDRAGOUDA</td>\n",
       "      <td>521873 IN</td>\n",
       "      <td>1</td>\n",
       "    </tr>\n",
       "    <tr>\n",
       "      <th>4</th>\n",
       "      <td>A Swamy</td>\n",
       "      <td>268953 IN</td>\n",
       "      <td>10</td>\n",
       "    </tr>\n",
       "    <tr>\n",
       "      <th>...</th>\n",
       "      <td>...</td>\n",
       "      <td>...</td>\n",
       "      <td>...</td>\n",
       "    </tr>\n",
       "    <tr>\n",
       "      <th>4025</th>\n",
       "      <td>yogesh khadak</td>\n",
       "      <td>383034 IN</td>\n",
       "      <td>26</td>\n",
       "    </tr>\n",
       "    <tr>\n",
       "      <th>4026</th>\n",
       "      <td>yogesh kumar</td>\n",
       "      <td>310278 IN</td>\n",
       "      <td>406</td>\n",
       "    </tr>\n",
       "    <tr>\n",
       "      <th>4027</th>\n",
       "      <td>yogesh saini</td>\n",
       "      <td>362318 IN</td>\n",
       "      <td>116</td>\n",
       "    </tr>\n",
       "    <tr>\n",
       "      <th>4028</th>\n",
       "      <td>जितेंद्र गुप्ता</td>\n",
       "      <td>410491 IN</td>\n",
       "      <td>6</td>\n",
       "    </tr>\n",
       "    <tr>\n",
       "      <th>4029</th>\n",
       "      <td>शोभा वैष्णव</td>\n",
       "      <td>511578 IN</td>\n",
       "      <td>36</td>\n",
       "    </tr>\n",
       "  </tbody>\n",
       "</table>\n",
       "<p>4030 rows × 3 columns</p>\n",
       "</div>"
      ],
      "text/plain": [
       "                Advisor  AdvisorID  Totalorders\n",
       "0             A Bharath  281922 IN            6\n",
       "1            A Nagaraju   47071 IN          310\n",
       "2              A PRASAD  390828 IN          102\n",
       "3     A S MAHENDRAGOUDA  521873 IN            1\n",
       "4               A Swamy  268953 IN           10\n",
       "...                 ...        ...          ...\n",
       "4025      yogesh khadak  383034 IN           26\n",
       "4026       yogesh kumar  310278 IN          406\n",
       "4027       yogesh saini  362318 IN          116\n",
       "4028    जितेंद्र गुप्ता  410491 IN            6\n",
       "4029        शोभा वैष्णव  511578 IN           36\n",
       "\n",
       "[4030 rows x 3 columns]"
      ]
     },
     "execution_count": 187,
     "metadata": {},
     "output_type": "execute_result"
    }
   ],
   "source": [
    "ADVfarm1"
   ]
  },
  {
   "cell_type": "code",
   "execution_count": 188,
   "id": "922adaff",
   "metadata": {},
   "outputs": [],
   "source": [
    "ADVfarm2=Advisorslist2.groupby([\"Advisor\", \"AdvisorID\"])[\"farmerspurchase\"].sum().rename(\"Totalpurchase\").reset_index()"
   ]
  },
  {
   "cell_type": "code",
   "execution_count": 189,
   "id": "a65e031f",
   "metadata": {},
   "outputs": [
    {
     "data": {
      "text/html": [
       "<div>\n",
       "<style scoped>\n",
       "    .dataframe tbody tr th:only-of-type {\n",
       "        vertical-align: middle;\n",
       "    }\n",
       "\n",
       "    .dataframe tbody tr th {\n",
       "        vertical-align: top;\n",
       "    }\n",
       "\n",
       "    .dataframe thead th {\n",
       "        text-align: right;\n",
       "    }\n",
       "</style>\n",
       "<table border=\"1\" class=\"dataframe\">\n",
       "  <thead>\n",
       "    <tr style=\"text-align: right;\">\n",
       "      <th></th>\n",
       "      <th>Advisor</th>\n",
       "      <th>AdvisorID</th>\n",
       "      <th>Totalpurchase</th>\n",
       "    </tr>\n",
       "  </thead>\n",
       "  <tbody>\n",
       "    <tr>\n",
       "      <th>0</th>\n",
       "      <td>A Bharath</td>\n",
       "      <td>281922 IN</td>\n",
       "      <td>5</td>\n",
       "    </tr>\n",
       "    <tr>\n",
       "      <th>1</th>\n",
       "      <td>A Nagaraju</td>\n",
       "      <td>47071 IN</td>\n",
       "      <td>279</td>\n",
       "    </tr>\n",
       "    <tr>\n",
       "      <th>2</th>\n",
       "      <td>A PRASAD</td>\n",
       "      <td>390828 IN</td>\n",
       "      <td>47</td>\n",
       "    </tr>\n",
       "    <tr>\n",
       "      <th>3</th>\n",
       "      <td>A S MAHENDRAGOUDA</td>\n",
       "      <td>521873 IN</td>\n",
       "      <td>1</td>\n",
       "    </tr>\n",
       "    <tr>\n",
       "      <th>4</th>\n",
       "      <td>A Swamy</td>\n",
       "      <td>268953 IN</td>\n",
       "      <td>2</td>\n",
       "    </tr>\n",
       "    <tr>\n",
       "      <th>...</th>\n",
       "      <td>...</td>\n",
       "      <td>...</td>\n",
       "      <td>...</td>\n",
       "    </tr>\n",
       "    <tr>\n",
       "      <th>4025</th>\n",
       "      <td>yogesh khadak</td>\n",
       "      <td>383034 IN</td>\n",
       "      <td>24</td>\n",
       "    </tr>\n",
       "    <tr>\n",
       "      <th>4026</th>\n",
       "      <td>yogesh kumar</td>\n",
       "      <td>310278 IN</td>\n",
       "      <td>239</td>\n",
       "    </tr>\n",
       "    <tr>\n",
       "      <th>4027</th>\n",
       "      <td>yogesh saini</td>\n",
       "      <td>362318 IN</td>\n",
       "      <td>69</td>\n",
       "    </tr>\n",
       "    <tr>\n",
       "      <th>4028</th>\n",
       "      <td>जितेंद्र गुप्ता</td>\n",
       "      <td>410491 IN</td>\n",
       "      <td>5</td>\n",
       "    </tr>\n",
       "    <tr>\n",
       "      <th>4029</th>\n",
       "      <td>शोभा वैष्णव</td>\n",
       "      <td>511578 IN</td>\n",
       "      <td>21</td>\n",
       "    </tr>\n",
       "  </tbody>\n",
       "</table>\n",
       "<p>4030 rows × 3 columns</p>\n",
       "</div>"
      ],
      "text/plain": [
       "                Advisor  AdvisorID  Totalpurchase\n",
       "0             A Bharath  281922 IN              5\n",
       "1            A Nagaraju   47071 IN            279\n",
       "2              A PRASAD  390828 IN             47\n",
       "3     A S MAHENDRAGOUDA  521873 IN              1\n",
       "4               A Swamy  268953 IN              2\n",
       "...                 ...        ...            ...\n",
       "4025      yogesh khadak  383034 IN             24\n",
       "4026       yogesh kumar  310278 IN            239\n",
       "4027       yogesh saini  362318 IN             69\n",
       "4028    जितेंद्र गुप्ता  410491 IN              5\n",
       "4029        शोभा वैष्णव  511578 IN             21\n",
       "\n",
       "[4030 rows x 3 columns]"
      ]
     },
     "execution_count": 189,
     "metadata": {},
     "output_type": "execute_result"
    }
   ],
   "source": [
    "ADVfarm2"
   ]
  },
  {
   "cell_type": "code",
   "execution_count": 190,
   "id": "fab88b6d",
   "metadata": {},
   "outputs": [],
   "source": [
    "ADVfarm1['Totalfarmerspurchase']=ADVfarm2['Totalpurchase']"
   ]
  },
  {
   "cell_type": "code",
   "execution_count": 191,
   "id": "e662b85d",
   "metadata": {},
   "outputs": [
    {
     "data": {
      "text/html": [
       "<div>\n",
       "<style scoped>\n",
       "    .dataframe tbody tr th:only-of-type {\n",
       "        vertical-align: middle;\n",
       "    }\n",
       "\n",
       "    .dataframe tbody tr th {\n",
       "        vertical-align: top;\n",
       "    }\n",
       "\n",
       "    .dataframe thead th {\n",
       "        text-align: right;\n",
       "    }\n",
       "</style>\n",
       "<table border=\"1\" class=\"dataframe\">\n",
       "  <thead>\n",
       "    <tr style=\"text-align: right;\">\n",
       "      <th></th>\n",
       "      <th>Advisor</th>\n",
       "      <th>AdvisorID</th>\n",
       "      <th>Totalorders</th>\n",
       "      <th>Totalfarmerspurchase</th>\n",
       "    </tr>\n",
       "  </thead>\n",
       "  <tbody>\n",
       "    <tr>\n",
       "      <th>0</th>\n",
       "      <td>A Bharath</td>\n",
       "      <td>281922 IN</td>\n",
       "      <td>6</td>\n",
       "      <td>5</td>\n",
       "    </tr>\n",
       "    <tr>\n",
       "      <th>1</th>\n",
       "      <td>A Nagaraju</td>\n",
       "      <td>47071 IN</td>\n",
       "      <td>310</td>\n",
       "      <td>279</td>\n",
       "    </tr>\n",
       "    <tr>\n",
       "      <th>2</th>\n",
       "      <td>A PRASAD</td>\n",
       "      <td>390828 IN</td>\n",
       "      <td>102</td>\n",
       "      <td>47</td>\n",
       "    </tr>\n",
       "    <tr>\n",
       "      <th>3</th>\n",
       "      <td>A S MAHENDRAGOUDA</td>\n",
       "      <td>521873 IN</td>\n",
       "      <td>1</td>\n",
       "      <td>1</td>\n",
       "    </tr>\n",
       "    <tr>\n",
       "      <th>4</th>\n",
       "      <td>A Swamy</td>\n",
       "      <td>268953 IN</td>\n",
       "      <td>10</td>\n",
       "      <td>2</td>\n",
       "    </tr>\n",
       "    <tr>\n",
       "      <th>...</th>\n",
       "      <td>...</td>\n",
       "      <td>...</td>\n",
       "      <td>...</td>\n",
       "      <td>...</td>\n",
       "    </tr>\n",
       "    <tr>\n",
       "      <th>4025</th>\n",
       "      <td>yogesh khadak</td>\n",
       "      <td>383034 IN</td>\n",
       "      <td>26</td>\n",
       "      <td>24</td>\n",
       "    </tr>\n",
       "    <tr>\n",
       "      <th>4026</th>\n",
       "      <td>yogesh kumar</td>\n",
       "      <td>310278 IN</td>\n",
       "      <td>406</td>\n",
       "      <td>239</td>\n",
       "    </tr>\n",
       "    <tr>\n",
       "      <th>4027</th>\n",
       "      <td>yogesh saini</td>\n",
       "      <td>362318 IN</td>\n",
       "      <td>116</td>\n",
       "      <td>69</td>\n",
       "    </tr>\n",
       "    <tr>\n",
       "      <th>4028</th>\n",
       "      <td>जितेंद्र गुप्ता</td>\n",
       "      <td>410491 IN</td>\n",
       "      <td>6</td>\n",
       "      <td>5</td>\n",
       "    </tr>\n",
       "    <tr>\n",
       "      <th>4029</th>\n",
       "      <td>शोभा वैष्णव</td>\n",
       "      <td>511578 IN</td>\n",
       "      <td>36</td>\n",
       "      <td>21</td>\n",
       "    </tr>\n",
       "  </tbody>\n",
       "</table>\n",
       "<p>4030 rows × 4 columns</p>\n",
       "</div>"
      ],
      "text/plain": [
       "                Advisor  AdvisorID  Totalorders  Totalfarmerspurchase\n",
       "0             A Bharath  281922 IN            6                     5\n",
       "1            A Nagaraju   47071 IN          310                   279\n",
       "2              A PRASAD  390828 IN          102                    47\n",
       "3     A S MAHENDRAGOUDA  521873 IN            1                     1\n",
       "4               A Swamy  268953 IN           10                     2\n",
       "...                 ...        ...          ...                   ...\n",
       "4025      yogesh khadak  383034 IN           26                    24\n",
       "4026       yogesh kumar  310278 IN          406                   239\n",
       "4027       yogesh saini  362318 IN          116                    69\n",
       "4028    जितेंद्र गुप्ता  410491 IN            6                     5\n",
       "4029        शोभा वैष्णव  511578 IN           36                    21\n",
       "\n",
       "[4030 rows x 4 columns]"
      ]
     },
     "execution_count": 191,
     "metadata": {},
     "output_type": "execute_result"
    }
   ],
   "source": [
    "ADVfarm1"
   ]
  },
  {
   "cell_type": "code",
   "execution_count": 192,
   "id": "62b4b9ac",
   "metadata": {},
   "outputs": [],
   "source": [
    "ADVfarm1['Percentage']=ADVfarm1['Totalfarmerspurchase']/ADVfarm1['Totalorders']*100"
   ]
  },
  {
   "cell_type": "code",
   "execution_count": 193,
   "id": "ececfc0d",
   "metadata": {},
   "outputs": [
    {
     "data": {
      "text/html": [
       "<div>\n",
       "<style scoped>\n",
       "    .dataframe tbody tr th:only-of-type {\n",
       "        vertical-align: middle;\n",
       "    }\n",
       "\n",
       "    .dataframe tbody tr th {\n",
       "        vertical-align: top;\n",
       "    }\n",
       "\n",
       "    .dataframe thead th {\n",
       "        text-align: right;\n",
       "    }\n",
       "</style>\n",
       "<table border=\"1\" class=\"dataframe\">\n",
       "  <thead>\n",
       "    <tr style=\"text-align: right;\">\n",
       "      <th></th>\n",
       "      <th>Advisor</th>\n",
       "      <th>AdvisorID</th>\n",
       "      <th>Totalorders</th>\n",
       "      <th>Totalfarmerspurchase</th>\n",
       "      <th>Percentage</th>\n",
       "    </tr>\n",
       "  </thead>\n",
       "  <tbody>\n",
       "    <tr>\n",
       "      <th>0</th>\n",
       "      <td>A Bharath</td>\n",
       "      <td>281922 IN</td>\n",
       "      <td>6</td>\n",
       "      <td>5</td>\n",
       "      <td>83.333333</td>\n",
       "    </tr>\n",
       "    <tr>\n",
       "      <th>1</th>\n",
       "      <td>A Nagaraju</td>\n",
       "      <td>47071 IN</td>\n",
       "      <td>310</td>\n",
       "      <td>279</td>\n",
       "      <td>90.000000</td>\n",
       "    </tr>\n",
       "    <tr>\n",
       "      <th>2</th>\n",
       "      <td>A PRASAD</td>\n",
       "      <td>390828 IN</td>\n",
       "      <td>102</td>\n",
       "      <td>47</td>\n",
       "      <td>46.078431</td>\n",
       "    </tr>\n",
       "    <tr>\n",
       "      <th>3</th>\n",
       "      <td>A S MAHENDRAGOUDA</td>\n",
       "      <td>521873 IN</td>\n",
       "      <td>1</td>\n",
       "      <td>1</td>\n",
       "      <td>100.000000</td>\n",
       "    </tr>\n",
       "    <tr>\n",
       "      <th>4</th>\n",
       "      <td>A Swamy</td>\n",
       "      <td>268953 IN</td>\n",
       "      <td>10</td>\n",
       "      <td>2</td>\n",
       "      <td>20.000000</td>\n",
       "    </tr>\n",
       "    <tr>\n",
       "      <th>...</th>\n",
       "      <td>...</td>\n",
       "      <td>...</td>\n",
       "      <td>...</td>\n",
       "      <td>...</td>\n",
       "      <td>...</td>\n",
       "    </tr>\n",
       "    <tr>\n",
       "      <th>4025</th>\n",
       "      <td>yogesh khadak</td>\n",
       "      <td>383034 IN</td>\n",
       "      <td>26</td>\n",
       "      <td>24</td>\n",
       "      <td>92.307692</td>\n",
       "    </tr>\n",
       "    <tr>\n",
       "      <th>4026</th>\n",
       "      <td>yogesh kumar</td>\n",
       "      <td>310278 IN</td>\n",
       "      <td>406</td>\n",
       "      <td>239</td>\n",
       "      <td>58.866995</td>\n",
       "    </tr>\n",
       "    <tr>\n",
       "      <th>4027</th>\n",
       "      <td>yogesh saini</td>\n",
       "      <td>362318 IN</td>\n",
       "      <td>116</td>\n",
       "      <td>69</td>\n",
       "      <td>59.482759</td>\n",
       "    </tr>\n",
       "    <tr>\n",
       "      <th>4028</th>\n",
       "      <td>जितेंद्र गुप्ता</td>\n",
       "      <td>410491 IN</td>\n",
       "      <td>6</td>\n",
       "      <td>5</td>\n",
       "      <td>83.333333</td>\n",
       "    </tr>\n",
       "    <tr>\n",
       "      <th>4029</th>\n",
       "      <td>शोभा वैष्णव</td>\n",
       "      <td>511578 IN</td>\n",
       "      <td>36</td>\n",
       "      <td>21</td>\n",
       "      <td>58.333333</td>\n",
       "    </tr>\n",
       "  </tbody>\n",
       "</table>\n",
       "<p>4030 rows × 5 columns</p>\n",
       "</div>"
      ],
      "text/plain": [
       "                Advisor  AdvisorID  Totalorders  Totalfarmerspurchase  \\\n",
       "0             A Bharath  281922 IN            6                     5   \n",
       "1            A Nagaraju   47071 IN          310                   279   \n",
       "2              A PRASAD  390828 IN          102                    47   \n",
       "3     A S MAHENDRAGOUDA  521873 IN            1                     1   \n",
       "4               A Swamy  268953 IN           10                     2   \n",
       "...                 ...        ...          ...                   ...   \n",
       "4025      yogesh khadak  383034 IN           26                    24   \n",
       "4026       yogesh kumar  310278 IN          406                   239   \n",
       "4027       yogesh saini  362318 IN          116                    69   \n",
       "4028    जितेंद्र गुप्ता  410491 IN            6                     5   \n",
       "4029        शोभा वैष्णव  511578 IN           36                    21   \n",
       "\n",
       "      Percentage  \n",
       "0      83.333333  \n",
       "1      90.000000  \n",
       "2      46.078431  \n",
       "3     100.000000  \n",
       "4      20.000000  \n",
       "...          ...  \n",
       "4025   92.307692  \n",
       "4026   58.866995  \n",
       "4027   59.482759  \n",
       "4028   83.333333  \n",
       "4029   58.333333  \n",
       "\n",
       "[4030 rows x 5 columns]"
      ]
     },
     "execution_count": 193,
     "metadata": {},
     "output_type": "execute_result"
    }
   ],
   "source": [
    "ADVfarm1"
   ]
  },
  {
   "cell_type": "code",
   "execution_count": 194,
   "id": "1cdc0c2f",
   "metadata": {},
   "outputs": [],
   "source": [
    "TOPADV_Highe=ADVfarm1.sort_values(by='Totalorders', ascending=False).reset_index()"
   ]
  },
  {
   "cell_type": "code",
   "execution_count": 195,
   "id": "3986ecf3",
   "metadata": {},
   "outputs": [
    {
     "data": {
      "text/html": [
       "<div>\n",
       "<style scoped>\n",
       "    .dataframe tbody tr th:only-of-type {\n",
       "        vertical-align: middle;\n",
       "    }\n",
       "\n",
       "    .dataframe tbody tr th {\n",
       "        vertical-align: top;\n",
       "    }\n",
       "\n",
       "    .dataframe thead th {\n",
       "        text-align: right;\n",
       "    }\n",
       "</style>\n",
       "<table border=\"1\" class=\"dataframe\">\n",
       "  <thead>\n",
       "    <tr style=\"text-align: right;\">\n",
       "      <th></th>\n",
       "      <th>index</th>\n",
       "      <th>Advisor</th>\n",
       "      <th>AdvisorID</th>\n",
       "      <th>Totalorders</th>\n",
       "      <th>Totalfarmerspurchase</th>\n",
       "      <th>Percentage</th>\n",
       "    </tr>\n",
       "  </thead>\n",
       "  <tbody>\n",
       "    <tr>\n",
       "      <th>0</th>\n",
       "      <td>139</td>\n",
       "      <td>Akhilesh Garg</td>\n",
       "      <td>44468 IN</td>\n",
       "      <td>9590</td>\n",
       "      <td>7380</td>\n",
       "      <td>76.955162</td>\n",
       "    </tr>\n",
       "    <tr>\n",
       "      <th>1</th>\n",
       "      <td>2742</td>\n",
       "      <td>SOUMYA SARKAR</td>\n",
       "      <td>43938 IN</td>\n",
       "      <td>5764</td>\n",
       "      <td>4982</td>\n",
       "      <td>86.433033</td>\n",
       "    </tr>\n",
       "    <tr>\n",
       "      <th>2</th>\n",
       "      <td>441</td>\n",
       "      <td>BASAPPA B DODDALAKKANNAVER</td>\n",
       "      <td>287583 IN</td>\n",
       "      <td>5175</td>\n",
       "      <td>3408</td>\n",
       "      <td>65.855072</td>\n",
       "    </tr>\n",
       "    <tr>\n",
       "      <th>3</th>\n",
       "      <td>737</td>\n",
       "      <td>Devendra Kumar</td>\n",
       "      <td>295583 IN</td>\n",
       "      <td>4975</td>\n",
       "      <td>2442</td>\n",
       "      <td>49.085427</td>\n",
       "    </tr>\n",
       "    <tr>\n",
       "      <th>4</th>\n",
       "      <td>1611</td>\n",
       "      <td>MD khandakar mahbubur Rahman</td>\n",
       "      <td>42035 IN</td>\n",
       "      <td>4060</td>\n",
       "      <td>1462</td>\n",
       "      <td>36.009852</td>\n",
       "    </tr>\n",
       "    <tr>\n",
       "      <th>...</th>\n",
       "      <td>...</td>\n",
       "      <td>...</td>\n",
       "      <td>...</td>\n",
       "      <td>...</td>\n",
       "      <td>...</td>\n",
       "      <td>...</td>\n",
       "    </tr>\n",
       "    <tr>\n",
       "      <th>4025</th>\n",
       "      <td>1861</td>\n",
       "      <td>Mukhtar ahmad Kochay</td>\n",
       "      <td>42506 IN</td>\n",
       "      <td>1</td>\n",
       "      <td>0</td>\n",
       "      <td>0.000000</td>\n",
       "    </tr>\n",
       "    <tr>\n",
       "      <th>4026</th>\n",
       "      <td>1860</td>\n",
       "      <td>Mukhesh Gama</td>\n",
       "      <td>282196 IN</td>\n",
       "      <td>1</td>\n",
       "      <td>0</td>\n",
       "      <td>0.000000</td>\n",
       "    </tr>\n",
       "    <tr>\n",
       "      <th>4027</th>\n",
       "      <td>346</td>\n",
       "      <td>Arup Mondal</td>\n",
       "      <td>284871 IN</td>\n",
       "      <td>1</td>\n",
       "      <td>0</td>\n",
       "      <td>0.000000</td>\n",
       "    </tr>\n",
       "    <tr>\n",
       "      <th>4028</th>\n",
       "      <td>3423</td>\n",
       "      <td>Vaibhav Vishwkarma</td>\n",
       "      <td>295881 IN</td>\n",
       "      <td>1</td>\n",
       "      <td>0</td>\n",
       "      <td>0.000000</td>\n",
       "    </tr>\n",
       "    <tr>\n",
       "      <th>4029</th>\n",
       "      <td>2187</td>\n",
       "      <td>Pawan Kumar</td>\n",
       "      <td>290800 IN</td>\n",
       "      <td>1</td>\n",
       "      <td>1</td>\n",
       "      <td>100.000000</td>\n",
       "    </tr>\n",
       "  </tbody>\n",
       "</table>\n",
       "<p>4030 rows × 6 columns</p>\n",
       "</div>"
      ],
      "text/plain": [
       "      index                       Advisor  AdvisorID  Totalorders  \\\n",
       "0       139                 Akhilesh Garg   44468 IN         9590   \n",
       "1      2742                 SOUMYA SARKAR   43938 IN         5764   \n",
       "2       441    BASAPPA B DODDALAKKANNAVER  287583 IN         5175   \n",
       "3       737                Devendra Kumar  295583 IN         4975   \n",
       "4      1611  MD khandakar mahbubur Rahman   42035 IN         4060   \n",
       "...     ...                           ...        ...          ...   \n",
       "4025   1861          Mukhtar ahmad Kochay   42506 IN            1   \n",
       "4026   1860                  Mukhesh Gama  282196 IN            1   \n",
       "4027    346                   Arup Mondal  284871 IN            1   \n",
       "4028   3423            Vaibhav Vishwkarma  295881 IN            1   \n",
       "4029   2187                   Pawan Kumar  290800 IN            1   \n",
       "\n",
       "      Totalfarmerspurchase  Percentage  \n",
       "0                     7380   76.955162  \n",
       "1                     4982   86.433033  \n",
       "2                     3408   65.855072  \n",
       "3                     2442   49.085427  \n",
       "4                     1462   36.009852  \n",
       "...                    ...         ...  \n",
       "4025                     0    0.000000  \n",
       "4026                     0    0.000000  \n",
       "4027                     0    0.000000  \n",
       "4028                     0    0.000000  \n",
       "4029                     1  100.000000  \n",
       "\n",
       "[4030 rows x 6 columns]"
      ]
     },
     "execution_count": 195,
     "metadata": {},
     "output_type": "execute_result"
    }
   ],
   "source": [
    "TOPADV_Highe"
   ]
  },
  {
   "cell_type": "code",
   "execution_count": 90,
   "id": "67c1ce69",
   "metadata": {},
   "outputs": [
    {
     "data": {
      "text/html": [
       "<div>\n",
       "<style scoped>\n",
       "    .dataframe tbody tr th:only-of-type {\n",
       "        vertical-align: middle;\n",
       "    }\n",
       "\n",
       "    .dataframe tbody tr th {\n",
       "        vertical-align: top;\n",
       "    }\n",
       "\n",
       "    .dataframe thead th {\n",
       "        text-align: right;\n",
       "    }\n",
       "</style>\n",
       "<table border=\"1\" class=\"dataframe\">\n",
       "  <thead>\n",
       "    <tr style=\"text-align: right;\">\n",
       "      <th></th>\n",
       "      <th>index</th>\n",
       "      <th>Advisor</th>\n",
       "      <th>AdvisorID</th>\n",
       "      <th>Totalorders</th>\n",
       "      <th>Totalfarmerspurchase</th>\n",
       "      <th>Percentage</th>\n",
       "    </tr>\n",
       "  </thead>\n",
       "  <tbody>\n",
       "    <tr>\n",
       "      <th>0</th>\n",
       "      <td>54</td>\n",
       "      <td>Akosoy Mondal</td>\n",
       "      <td>134273 IN</td>\n",
       "      <td>3035</td>\n",
       "      <td>2399</td>\n",
       "      <td>79.044481</td>\n",
       "    </tr>\n",
       "    <tr>\n",
       "      <th>1</th>\n",
       "      <td>1269</td>\n",
       "      <td>SOUMYA SARKAR</td>\n",
       "      <td>43938 IN</td>\n",
       "      <td>2568</td>\n",
       "      <td>1989</td>\n",
       "      <td>77.453271</td>\n",
       "    </tr>\n",
       "    <tr>\n",
       "      <th>2</th>\n",
       "      <td>4</td>\n",
       "      <td>ADURI AKHIL TEJA</td>\n",
       "      <td>184616 IN</td>\n",
       "      <td>2444</td>\n",
       "      <td>1806</td>\n",
       "      <td>73.895254</td>\n",
       "    </tr>\n",
       "    <tr>\n",
       "      <th>3</th>\n",
       "      <td>737</td>\n",
       "      <td>MYLARAM Ravi</td>\n",
       "      <td>149119 IN</td>\n",
       "      <td>1751</td>\n",
       "      <td>1626</td>\n",
       "      <td>92.861222</td>\n",
       "    </tr>\n",
       "    <tr>\n",
       "      <th>4</th>\n",
       "      <td>1583</td>\n",
       "      <td>Vaibhav Solaskar</td>\n",
       "      <td>46639 IN</td>\n",
       "      <td>1781</td>\n",
       "      <td>1532</td>\n",
       "      <td>86.019090</td>\n",
       "    </tr>\n",
       "    <tr>\n",
       "      <th>5</th>\n",
       "      <td>305</td>\n",
       "      <td>Deepak Roy</td>\n",
       "      <td>44839 IN</td>\n",
       "      <td>1416</td>\n",
       "      <td>1380</td>\n",
       "      <td>97.457627</td>\n",
       "    </tr>\n",
       "    <tr>\n",
       "      <th>6</th>\n",
       "      <td>1058</td>\n",
       "      <td>Pramod Hundekar</td>\n",
       "      <td>95316 IN</td>\n",
       "      <td>1308</td>\n",
       "      <td>1162</td>\n",
       "      <td>88.837920</td>\n",
       "    </tr>\n",
       "    <tr>\n",
       "      <th>7</th>\n",
       "      <td>730</td>\n",
       "      <td>MD khandakar mahbubur Rahman</td>\n",
       "      <td>42035 IN</td>\n",
       "      <td>3008</td>\n",
       "      <td>1145</td>\n",
       "      <td>38.065160</td>\n",
       "    </tr>\n",
       "    <tr>\n",
       "      <th>8</th>\n",
       "      <td>599</td>\n",
       "      <td>KARTHICK KARTHICK</td>\n",
       "      <td>49436 IN</td>\n",
       "      <td>2075</td>\n",
       "      <td>1140</td>\n",
       "      <td>54.939759</td>\n",
       "    </tr>\n",
       "    <tr>\n",
       "      <th>9</th>\n",
       "      <td>604</td>\n",
       "      <td>KASARELLI GOPI</td>\n",
       "      <td>184612 IN</td>\n",
       "      <td>2572</td>\n",
       "      <td>1106</td>\n",
       "      <td>43.001555</td>\n",
       "    </tr>\n",
       "    <tr>\n",
       "      <th>10</th>\n",
       "      <td>1253</td>\n",
       "      <td>SANJIT KUMAR</td>\n",
       "      <td>53315 IN</td>\n",
       "      <td>1199</td>\n",
       "      <td>1093</td>\n",
       "      <td>91.159299</td>\n",
       "    </tr>\n",
       "    <tr>\n",
       "      <th>11</th>\n",
       "      <td>15</td>\n",
       "      <td>ASGAR ALI</td>\n",
       "      <td>44565 IN</td>\n",
       "      <td>1171</td>\n",
       "      <td>1072</td>\n",
       "      <td>91.545687</td>\n",
       "    </tr>\n",
       "    <tr>\n",
       "      <th>12</th>\n",
       "      <td>975</td>\n",
       "      <td>PRITAM GIRASE</td>\n",
       "      <td>43377 IN</td>\n",
       "      <td>2215</td>\n",
       "      <td>1034</td>\n",
       "      <td>46.681716</td>\n",
       "    </tr>\n",
       "    <tr>\n",
       "      <th>13</th>\n",
       "      <td>98</td>\n",
       "      <td>Anirudh M</td>\n",
       "      <td>47484 IN</td>\n",
       "      <td>1373</td>\n",
       "      <td>1032</td>\n",
       "      <td>75.163875</td>\n",
       "    </tr>\n",
       "    <tr>\n",
       "      <th>14</th>\n",
       "      <td>722</td>\n",
       "      <td>MANOJ DHARA</td>\n",
       "      <td>43974 IN</td>\n",
       "      <td>1004</td>\n",
       "      <td>990</td>\n",
       "      <td>98.605578</td>\n",
       "    </tr>\n",
       "    <tr>\n",
       "      <th>15</th>\n",
       "      <td>1115</td>\n",
       "      <td>Rahul Patidar</td>\n",
       "      <td>44660 IN</td>\n",
       "      <td>1054</td>\n",
       "      <td>988</td>\n",
       "      <td>93.738140</td>\n",
       "    </tr>\n",
       "    <tr>\n",
       "      <th>16</th>\n",
       "      <td>479</td>\n",
       "      <td>Hariraj Hariraj</td>\n",
       "      <td>49438 IN</td>\n",
       "      <td>1107</td>\n",
       "      <td>968</td>\n",
       "      <td>87.443541</td>\n",
       "    </tr>\n",
       "    <tr>\n",
       "      <th>17</th>\n",
       "      <td>164</td>\n",
       "      <td>BHAIRAB DHARA</td>\n",
       "      <td>43973 IN</td>\n",
       "      <td>1088</td>\n",
       "      <td>961</td>\n",
       "      <td>88.327206</td>\n",
       "    </tr>\n",
       "    <tr>\n",
       "      <th>18</th>\n",
       "      <td>611</td>\n",
       "      <td>KSHIRSAGAR BHALCHANDRA</td>\n",
       "      <td>43375 IN</td>\n",
       "      <td>1089</td>\n",
       "      <td>932</td>\n",
       "      <td>85.583104</td>\n",
       "    </tr>\n",
       "    <tr>\n",
       "      <th>19</th>\n",
       "      <td>1288</td>\n",
       "      <td>Sachin Hurbade</td>\n",
       "      <td>43041 IN</td>\n",
       "      <td>1126</td>\n",
       "      <td>914</td>\n",
       "      <td>81.172291</td>\n",
       "    </tr>\n",
       "    <tr>\n",
       "      <th>20</th>\n",
       "      <td>1521</td>\n",
       "      <td>TARUN NANDI</td>\n",
       "      <td>43969 IN</td>\n",
       "      <td>948</td>\n",
       "      <td>899</td>\n",
       "      <td>94.831224</td>\n",
       "    </tr>\n",
       "    <tr>\n",
       "      <th>21</th>\n",
       "      <td>215</td>\n",
       "      <td>Bhimrao Bharat</td>\n",
       "      <td>42279 IN</td>\n",
       "      <td>1515</td>\n",
       "      <td>882</td>\n",
       "      <td>58.217822</td>\n",
       "    </tr>\n",
       "    <tr>\n",
       "      <th>22</th>\n",
       "      <td>575</td>\n",
       "      <td>Jogdande Tanaji</td>\n",
       "      <td>51702 IN</td>\n",
       "      <td>1036</td>\n",
       "      <td>866</td>\n",
       "      <td>83.590734</td>\n",
       "    </tr>\n",
       "    <tr>\n",
       "      <th>23</th>\n",
       "      <td>711</td>\n",
       "      <td>M Madhu</td>\n",
       "      <td>191225 IN</td>\n",
       "      <td>948</td>\n",
       "      <td>850</td>\n",
       "      <td>89.662447</td>\n",
       "    </tr>\n",
       "    <tr>\n",
       "      <th>24</th>\n",
       "      <td>1308</td>\n",
       "      <td>Sambhaji Shivaji sawale</td>\n",
       "      <td>43007 IN</td>\n",
       "      <td>940</td>\n",
       "      <td>818</td>\n",
       "      <td>87.021277</td>\n",
       "    </tr>\n",
       "    <tr>\n",
       "      <th>25</th>\n",
       "      <td>1100</td>\n",
       "      <td>ROHIT PATOLE</td>\n",
       "      <td>43369 IN</td>\n",
       "      <td>867</td>\n",
       "      <td>812</td>\n",
       "      <td>93.656286</td>\n",
       "    </tr>\n",
       "    <tr>\n",
       "      <th>26</th>\n",
       "      <td>1254</td>\n",
       "      <td>SANKAR HAZRA</td>\n",
       "      <td>43988 IN</td>\n",
       "      <td>949</td>\n",
       "      <td>795</td>\n",
       "      <td>83.772392</td>\n",
       "    </tr>\n",
       "    <tr>\n",
       "      <th>27</th>\n",
       "      <td>280</td>\n",
       "      <td>DEVARASHETTI RAJESH</td>\n",
       "      <td>151109 IN</td>\n",
       "      <td>848</td>\n",
       "      <td>781</td>\n",
       "      <td>92.099057</td>\n",
       "    </tr>\n",
       "    <tr>\n",
       "      <th>28</th>\n",
       "      <td>513</td>\n",
       "      <td>Inderjeet Singh</td>\n",
       "      <td>47543 IN</td>\n",
       "      <td>833</td>\n",
       "      <td>763</td>\n",
       "      <td>91.596639</td>\n",
       "    </tr>\n",
       "    <tr>\n",
       "      <th>29</th>\n",
       "      <td>1264</td>\n",
       "      <td>SK ROMJAN HOSSAIN</td>\n",
       "      <td>149269 IN</td>\n",
       "      <td>842</td>\n",
       "      <td>752</td>\n",
       "      <td>89.311164</td>\n",
       "    </tr>\n",
       "    <tr>\n",
       "      <th>30</th>\n",
       "      <td>1121</td>\n",
       "      <td>Rahul ramesh Kale</td>\n",
       "      <td>42264 IN</td>\n",
       "      <td>855</td>\n",
       "      <td>746</td>\n",
       "      <td>87.251462</td>\n",
       "    </tr>\n",
       "    <tr>\n",
       "      <th>31</th>\n",
       "      <td>296</td>\n",
       "      <td>Debabrata Jana</td>\n",
       "      <td>44015 IN</td>\n",
       "      <td>892</td>\n",
       "      <td>725</td>\n",
       "      <td>81.278027</td>\n",
       "    </tr>\n",
       "    <tr>\n",
       "      <th>32</th>\n",
       "      <td>718</td>\n",
       "      <td>MANGESH BABURAO SAGANE</td>\n",
       "      <td>43378 IN</td>\n",
       "      <td>947</td>\n",
       "      <td>699</td>\n",
       "      <td>73.812038</td>\n",
       "    </tr>\n",
       "    <tr>\n",
       "      <th>33</th>\n",
       "      <td>519</td>\n",
       "      <td>JALLA NARESH JALLA NARESH</td>\n",
       "      <td>47318 IN</td>\n",
       "      <td>799</td>\n",
       "      <td>692</td>\n",
       "      <td>86.608260</td>\n",
       "    </tr>\n",
       "    <tr>\n",
       "      <th>34</th>\n",
       "      <td>111</td>\n",
       "      <td>Aravind Murgod</td>\n",
       "      <td>49462 IN</td>\n",
       "      <td>780</td>\n",
       "      <td>689</td>\n",
       "      <td>88.333333</td>\n",
       "    </tr>\n",
       "    <tr>\n",
       "      <th>35</th>\n",
       "      <td>378</td>\n",
       "      <td>G VEERA NARAYANNA</td>\n",
       "      <td>46990 IN</td>\n",
       "      <td>860</td>\n",
       "      <td>688</td>\n",
       "      <td>80.000000</td>\n",
       "    </tr>\n",
       "    <tr>\n",
       "      <th>36</th>\n",
       "      <td>8</td>\n",
       "      <td>AMOL SANJAY NIPHADE</td>\n",
       "      <td>43374 IN</td>\n",
       "      <td>767</td>\n",
       "      <td>685</td>\n",
       "      <td>89.308996</td>\n",
       "    </tr>\n",
       "    <tr>\n",
       "      <th>37</th>\n",
       "      <td>100</td>\n",
       "      <td>Anjan Kumar Maity</td>\n",
       "      <td>138540 IN</td>\n",
       "      <td>833</td>\n",
       "      <td>676</td>\n",
       "      <td>81.152461</td>\n",
       "    </tr>\n",
       "    <tr>\n",
       "      <th>38</th>\n",
       "      <td>374</td>\n",
       "      <td>G Ashok kumar</td>\n",
       "      <td>47149 IN</td>\n",
       "      <td>956</td>\n",
       "      <td>663</td>\n",
       "      <td>69.351464</td>\n",
       "    </tr>\n",
       "    <tr>\n",
       "      <th>39</th>\n",
       "      <td>306</td>\n",
       "      <td>Deepak Sahu</td>\n",
       "      <td>42699 IN</td>\n",
       "      <td>1165</td>\n",
       "      <td>652</td>\n",
       "      <td>55.965665</td>\n",
       "    </tr>\n",
       "    <tr>\n",
       "      <th>40</th>\n",
       "      <td>380</td>\n",
       "      <td>GANESH KALANKAR</td>\n",
       "      <td>43368 IN</td>\n",
       "      <td>781</td>\n",
       "      <td>651</td>\n",
       "      <td>83.354673</td>\n",
       "    </tr>\n",
       "    <tr>\n",
       "      <th>41</th>\n",
       "      <td>1667</td>\n",
       "      <td>asif karim</td>\n",
       "      <td>45922 IN</td>\n",
       "      <td>701</td>\n",
       "      <td>643</td>\n",
       "      <td>91.726106</td>\n",
       "    </tr>\n",
       "    <tr>\n",
       "      <th>42</th>\n",
       "      <td>1081</td>\n",
       "      <td>Pushkar Surwade</td>\n",
       "      <td>47120 IN</td>\n",
       "      <td>800</td>\n",
       "      <td>635</td>\n",
       "      <td>79.375000</td>\n",
       "    </tr>\n",
       "    <tr>\n",
       "      <th>43</th>\n",
       "      <td>1816</td>\n",
       "      <td>somashekar b somashekar b</td>\n",
       "      <td>47218 IN</td>\n",
       "      <td>719</td>\n",
       "      <td>627</td>\n",
       "      <td>87.204451</td>\n",
       "    </tr>\n",
       "    <tr>\n",
       "      <th>44</th>\n",
       "      <td>733</td>\n",
       "      <td>MIRZA AZAHAR UDDIN</td>\n",
       "      <td>43959 IN</td>\n",
       "      <td>675</td>\n",
       "      <td>612</td>\n",
       "      <td>90.666667</td>\n",
       "    </tr>\n",
       "    <tr>\n",
       "      <th>45</th>\n",
       "      <td>682</td>\n",
       "      <td>Kumarswamy m y Kumarswamy</td>\n",
       "      <td>58556 IN</td>\n",
       "      <td>894</td>\n",
       "      <td>606</td>\n",
       "      <td>67.785235</td>\n",
       "    </tr>\n",
       "    <tr>\n",
       "      <th>46</th>\n",
       "      <td>1280</td>\n",
       "      <td>SUMANTA CHAKRABARTTY</td>\n",
       "      <td>43975 IN</td>\n",
       "      <td>605</td>\n",
       "      <td>599</td>\n",
       "      <td>99.008264</td>\n",
       "    </tr>\n",
       "    <tr>\n",
       "      <th>47</th>\n",
       "      <td>1140</td>\n",
       "      <td>Rajesh I</td>\n",
       "      <td>47152 IN</td>\n",
       "      <td>613</td>\n",
       "      <td>596</td>\n",
       "      <td>97.226754</td>\n",
       "    </tr>\n",
       "    <tr>\n",
       "      <th>48</th>\n",
       "      <td>151</td>\n",
       "      <td>Avijit Mohapatra</td>\n",
       "      <td>56245 IN</td>\n",
       "      <td>687</td>\n",
       "      <td>595</td>\n",
       "      <td>86.608443</td>\n",
       "    </tr>\n",
       "    <tr>\n",
       "      <th>49</th>\n",
       "      <td>1086</td>\n",
       "      <td>RAHUL BOLKAR</td>\n",
       "      <td>43534 IN</td>\n",
       "      <td>633</td>\n",
       "      <td>594</td>\n",
       "      <td>93.838863</td>\n",
       "    </tr>\n",
       "  </tbody>\n",
       "</table>\n",
       "</div>"
      ],
      "text/plain": [
       "    index                       Advisor  AdvisorID  Totalorders  \\\n",
       "0      54                 Akosoy Mondal  134273 IN         3035   \n",
       "1    1269                 SOUMYA SARKAR   43938 IN         2568   \n",
       "2       4              ADURI AKHIL TEJA  184616 IN         2444   \n",
       "3     737                  MYLARAM Ravi  149119 IN         1751   \n",
       "4    1583              Vaibhav Solaskar   46639 IN         1781   \n",
       "5     305                    Deepak Roy   44839 IN         1416   \n",
       "6    1058               Pramod Hundekar   95316 IN         1308   \n",
       "7     730  MD khandakar mahbubur Rahman   42035 IN         3008   \n",
       "8     599             KARTHICK KARTHICK   49436 IN         2075   \n",
       "9     604                KASARELLI GOPI  184612 IN         2572   \n",
       "10   1253                  SANJIT KUMAR   53315 IN         1199   \n",
       "11     15                     ASGAR ALI   44565 IN         1171   \n",
       "12    975                 PRITAM GIRASE   43377 IN         2215   \n",
       "13     98                     Anirudh M   47484 IN         1373   \n",
       "14    722                   MANOJ DHARA   43974 IN         1004   \n",
       "15   1115                 Rahul Patidar   44660 IN         1054   \n",
       "16    479               Hariraj Hariraj   49438 IN         1107   \n",
       "17    164                 BHAIRAB DHARA   43973 IN         1088   \n",
       "18    611        KSHIRSAGAR BHALCHANDRA   43375 IN         1089   \n",
       "19   1288                Sachin Hurbade   43041 IN         1126   \n",
       "20   1521                   TARUN NANDI   43969 IN          948   \n",
       "21    215                Bhimrao Bharat   42279 IN         1515   \n",
       "22    575               Jogdande Tanaji   51702 IN         1036   \n",
       "23    711                       M Madhu  191225 IN          948   \n",
       "24   1308       Sambhaji Shivaji sawale   43007 IN          940   \n",
       "25   1100                  ROHIT PATOLE   43369 IN          867   \n",
       "26   1254                  SANKAR HAZRA   43988 IN          949   \n",
       "27    280           DEVARASHETTI RAJESH  151109 IN          848   \n",
       "28    513               Inderjeet Singh   47543 IN          833   \n",
       "29   1264             SK ROMJAN HOSSAIN  149269 IN          842   \n",
       "30   1121             Rahul ramesh Kale   42264 IN          855   \n",
       "31    296                Debabrata Jana   44015 IN          892   \n",
       "32    718        MANGESH BABURAO SAGANE   43378 IN          947   \n",
       "33    519     JALLA NARESH JALLA NARESH   47318 IN          799   \n",
       "34    111                Aravind Murgod   49462 IN          780   \n",
       "35    378             G VEERA NARAYANNA   46990 IN          860   \n",
       "36      8           AMOL SANJAY NIPHADE   43374 IN          767   \n",
       "37    100             Anjan Kumar Maity  138540 IN          833   \n",
       "38    374                 G Ashok kumar   47149 IN          956   \n",
       "39    306                   Deepak Sahu   42699 IN         1165   \n",
       "40    380               GANESH KALANKAR   43368 IN          781   \n",
       "41   1667                    asif karim   45922 IN          701   \n",
       "42   1081               Pushkar Surwade   47120 IN          800   \n",
       "43   1816     somashekar b somashekar b   47218 IN          719   \n",
       "44    733            MIRZA AZAHAR UDDIN   43959 IN          675   \n",
       "45    682     Kumarswamy m y Kumarswamy   58556 IN          894   \n",
       "46   1280          SUMANTA CHAKRABARTTY   43975 IN          605   \n",
       "47   1140                      Rajesh I   47152 IN          613   \n",
       "48    151              Avijit Mohapatra   56245 IN          687   \n",
       "49   1086                  RAHUL BOLKAR   43534 IN          633   \n",
       "\n",
       "    Totalfarmerspurchase  Percentage  \n",
       "0                   2399   79.044481  \n",
       "1                   1989   77.453271  \n",
       "2                   1806   73.895254  \n",
       "3                   1626   92.861222  \n",
       "4                   1532   86.019090  \n",
       "5                   1380   97.457627  \n",
       "6                   1162   88.837920  \n",
       "7                   1145   38.065160  \n",
       "8                   1140   54.939759  \n",
       "9                   1106   43.001555  \n",
       "10                  1093   91.159299  \n",
       "11                  1072   91.545687  \n",
       "12                  1034   46.681716  \n",
       "13                  1032   75.163875  \n",
       "14                   990   98.605578  \n",
       "15                   988   93.738140  \n",
       "16                   968   87.443541  \n",
       "17                   961   88.327206  \n",
       "18                   932   85.583104  \n",
       "19                   914   81.172291  \n",
       "20                   899   94.831224  \n",
       "21                   882   58.217822  \n",
       "22                   866   83.590734  \n",
       "23                   850   89.662447  \n",
       "24                   818   87.021277  \n",
       "25                   812   93.656286  \n",
       "26                   795   83.772392  \n",
       "27                   781   92.099057  \n",
       "28                   763   91.596639  \n",
       "29                   752   89.311164  \n",
       "30                   746   87.251462  \n",
       "31                   725   81.278027  \n",
       "32                   699   73.812038  \n",
       "33                   692   86.608260  \n",
       "34                   689   88.333333  \n",
       "35                   688   80.000000  \n",
       "36                   685   89.308996  \n",
       "37                   676   81.152461  \n",
       "38                   663   69.351464  \n",
       "39                   652   55.965665  \n",
       "40                   651   83.354673  \n",
       "41                   643   91.726106  \n",
       "42                   635   79.375000  \n",
       "43                   627   87.204451  \n",
       "44                   612   90.666667  \n",
       "45                   606   67.785235  \n",
       "46                   599   99.008264  \n",
       "47                   596   97.226754  \n",
       "48                   595   86.608443  \n",
       "49                   594   93.838863  "
      ]
     },
     "execution_count": 90,
     "metadata": {},
     "output_type": "execute_result"
    }
   ],
   "source": [
    "TOPADV_Highe.head(50)"
   ]
  },
  {
   "cell_type": "markdown",
   "id": "94923f53",
   "metadata": {},
   "source": [
    "# top product names or Brands by product category based on sales value"
   ]
  },
  {
   "cell_type": "code",
   "execution_count": 6,
   "id": "1b37a60f",
   "metadata": {},
   "outputs": [
    {
     "data": {
      "text/plain": [
       "index                                                 object\n",
       "Advisor name                                          object\n",
       "Retailer Name                                         object\n",
       "Retailer ID                                           object\n",
       "Advisor ID                                            object\n",
       "Month of Order Intent Created Date                    object\n",
       "Advisor Phone Number                                   int64\n",
       "Country Code                                          object\n",
       "Hierarchy Level 3                                     object\n",
       "Hierarchy Level 2                                     object\n",
       "Hierarchy Level 1                                     object\n",
       "Advisor Type                                          object\n",
       "Product category                                      object\n",
       "Product Brand                                         object\n",
       "Product Name                                          object\n",
       "Unit                                                  object\n",
       "Total Order Intents                                    int64\n",
       "Distinct count of Cancelled Order Intents              int64\n",
       "Farmers with Intent                                    int64\n",
       "Farmers with multiple Intents                          int64\n",
       "Farmers with Purchase                                  int64\n",
       "Distinct count of Farmers with multiple purchases      int64\n",
       "Farmer Conversion                                    float64\n",
       "Active Retailers                                       int64\n",
       "Volume Intent                                        float64\n",
       "Volume Cancelled                                     float64\n",
       "Volume Purchased                                     float64\n",
       "Returned Volume                                      float64\n",
       "Avg Volume Sold per Farmers                          float64\n",
       "Total Intent Value                                   float64\n",
       "Cancelled Order Value                                float64\n",
       "Sales Value                                          float64\n",
       "Avg Sales per Farmer                                 float64\n",
       "Actual Commission                                    float64\n",
       "Intended Commission                                  float64\n",
       "dtype: object"
      ]
     },
     "execution_count": 6,
     "metadata": {},
     "output_type": "execute_result"
    }
   ],
   "source": [
    "data2.dtypes"
   ]
  },
  {
   "cell_type": "code",
   "execution_count": 7,
   "id": "c833da32",
   "metadata": {},
   "outputs": [],
   "source": [
    "productslist=pd.DataFrame().assign(ProductsCategory=data2['Product category'], productname=data2['Product Name'], salesvalue=data2['Sales Value'])"
   ]
  },
  {
   "cell_type": "code",
   "execution_count": 8,
   "id": "47c3b199",
   "metadata": {},
   "outputs": [
    {
     "data": {
      "text/html": [
       "<div>\n",
       "<style scoped>\n",
       "    .dataframe tbody tr th:only-of-type {\n",
       "        vertical-align: middle;\n",
       "    }\n",
       "\n",
       "    .dataframe tbody tr th {\n",
       "        vertical-align: top;\n",
       "    }\n",
       "\n",
       "    .dataframe thead th {\n",
       "        text-align: right;\n",
       "    }\n",
       "</style>\n",
       "<table border=\"1\" class=\"dataframe\">\n",
       "  <thead>\n",
       "    <tr style=\"text-align: right;\">\n",
       "      <th></th>\n",
       "      <th>ProductsCategory</th>\n",
       "      <th>productname</th>\n",
       "      <th>salesvalue</th>\n",
       "    </tr>\n",
       "  </thead>\n",
       "  <tbody>\n",
       "    <tr>\n",
       "      <th>0</th>\n",
       "      <td>Insecticides</td>\n",
       "      <td>Vayego 50ML</td>\n",
       "      <td>0.0</td>\n",
       "    </tr>\n",
       "    <tr>\n",
       "      <th>1</th>\n",
       "      <td>Herbicides</td>\n",
       "      <td>LAUDIS SC630 115 ML</td>\n",
       "      <td>4908.0</td>\n",
       "    </tr>\n",
       "    <tr>\n",
       "      <th>2</th>\n",
       "      <td>Insecticides</td>\n",
       "      <td>MOVENTO ENERGY SC240 100 ML</td>\n",
       "      <td>280.0</td>\n",
       "    </tr>\n",
       "    <tr>\n",
       "      <th>3</th>\n",
       "      <td>Insecticides</td>\n",
       "      <td>SOLOMON OD300 1 LT</td>\n",
       "      <td>0.0</td>\n",
       "    </tr>\n",
       "    <tr>\n",
       "      <th>4</th>\n",
       "      <td>Insecticides</td>\n",
       "      <td>SOLOMON OD300 100 ML</td>\n",
       "      <td>0.0</td>\n",
       "    </tr>\n",
       "    <tr>\n",
       "      <th>...</th>\n",
       "      <td>...</td>\n",
       "      <td>...</td>\n",
       "      <td>...</td>\n",
       "    </tr>\n",
       "    <tr>\n",
       "      <th>182666</th>\n",
       "      <td>Fungicides</td>\n",
       "      <td>AMBITION 250 ml</td>\n",
       "      <td>225.0</td>\n",
       "    </tr>\n",
       "    <tr>\n",
       "      <th>182667</th>\n",
       "      <td>Fungicides</td>\n",
       "      <td>BUONOS SC430 250 ML</td>\n",
       "      <td>2730.0</td>\n",
       "    </tr>\n",
       "    <tr>\n",
       "      <th>182668</th>\n",
       "      <td>Insecticides</td>\n",
       "      <td>FENOS QUICK SC150 250 ML</td>\n",
       "      <td>649.0</td>\n",
       "    </tr>\n",
       "    <tr>\n",
       "      <th>182669</th>\n",
       "      <td>Insecticides</td>\n",
       "      <td>SOLOMON OD300 250 ML</td>\n",
       "      <td>2324.0</td>\n",
       "    </tr>\n",
       "    <tr>\n",
       "      <th>182670</th>\n",
       "      <td>Insecticides</td>\n",
       "      <td>Vayego 100 ML</td>\n",
       "      <td>835.0</td>\n",
       "    </tr>\n",
       "  </tbody>\n",
       "</table>\n",
       "<p>182671 rows × 3 columns</p>\n",
       "</div>"
      ],
      "text/plain": [
       "       ProductsCategory                   productname  salesvalue\n",
       "0          Insecticides                   Vayego 50ML         0.0\n",
       "1            Herbicides          LAUDIS SC630 115 ML       4908.0\n",
       "2          Insecticides  MOVENTO ENERGY SC240 100 ML        280.0\n",
       "3          Insecticides           SOLOMON OD300 1 LT          0.0\n",
       "4          Insecticides         SOLOMON OD300 100 ML          0.0\n",
       "...                 ...                           ...         ...\n",
       "182666       Fungicides              AMBITION 250 ml        225.0\n",
       "182667       Fungicides          BUONOS SC430 250 ML       2730.0\n",
       "182668     Insecticides     FENOS QUICK SC150 250 ML        649.0\n",
       "182669     Insecticides         SOLOMON OD300 250 ML       2324.0\n",
       "182670     Insecticides                 Vayego 100 ML       835.0\n",
       "\n",
       "[182671 rows x 3 columns]"
      ]
     },
     "execution_count": 8,
     "metadata": {},
     "output_type": "execute_result"
    }
   ],
   "source": [
    "productslist"
   ]
  },
  {
   "cell_type": "markdown",
   "id": "e1f4aff6",
   "metadata": {},
   "source": [
    "# filter data by product category for top product names or brand"
   ]
  },
  {
   "cell_type": "code",
   "execution_count": 92,
   "id": "47dd860e",
   "metadata": {},
   "outputs": [
    {
     "name": "stdout",
     "output_type": "stream",
     "text": [
      "Empty DataFrame\n",
      "Columns: [index, ProductsCategory, productname, salesvalue]\n",
      "Index: []\n"
     ]
    }
   ],
   "source": [
    "condition = (productslist['ProductsCategory'] == 'Cotton')\n",
    "fung_product=productslist[condition].reset_index()\n",
    "print(fung_product)"
   ]
  },
  {
   "cell_type": "code",
   "execution_count": 78,
   "id": "6a67fc3b",
   "metadata": {},
   "outputs": [
    {
     "data": {
      "text/html": [
       "<div>\n",
       "<style scoped>\n",
       "    .dataframe tbody tr th:only-of-type {\n",
       "        vertical-align: middle;\n",
       "    }\n",
       "\n",
       "    .dataframe tbody tr th {\n",
       "        vertical-align: top;\n",
       "    }\n",
       "\n",
       "    .dataframe thead th {\n",
       "        text-align: right;\n",
       "    }\n",
       "</style>\n",
       "<table border=\"1\" class=\"dataframe\">\n",
       "  <thead>\n",
       "    <tr style=\"text-align: right;\">\n",
       "      <th></th>\n",
       "      <th>index</th>\n",
       "      <th>ProductsCategory</th>\n",
       "      <th>productname</th>\n",
       "      <th>salesvalue</th>\n",
       "    </tr>\n",
       "  </thead>\n",
       "  <tbody>\n",
       "    <tr>\n",
       "      <th>0</th>\n",
       "      <td>131</td>\n",
       "      <td>Corn</td>\n",
       "      <td>DKC9144 Acceleron 4 KG</td>\n",
       "      <td>0.0</td>\n",
       "    </tr>\n",
       "    <tr>\n",
       "      <th>1</th>\n",
       "      <td>134</td>\n",
       "      <td>Corn</td>\n",
       "      <td>DKC9144 Acceleron 4 KG</td>\n",
       "      <td>278.0</td>\n",
       "    </tr>\n",
       "    <tr>\n",
       "      <th>2</th>\n",
       "      <td>169</td>\n",
       "      <td>Corn</td>\n",
       "      <td>DKC9126 Acceleron 4 KG</td>\n",
       "      <td>0.0</td>\n",
       "    </tr>\n",
       "    <tr>\n",
       "      <th>3</th>\n",
       "      <td>170</td>\n",
       "      <td>Corn</td>\n",
       "      <td>DKC9126 Acceleron 4 KG</td>\n",
       "      <td>686.0</td>\n",
       "    </tr>\n",
       "    <tr>\n",
       "      <th>4</th>\n",
       "      <td>171</td>\n",
       "      <td>Corn</td>\n",
       "      <td>DKC7074 4 KG</td>\n",
       "      <td>0.0</td>\n",
       "    </tr>\n",
       "    <tr>\n",
       "      <th>...</th>\n",
       "      <td>...</td>\n",
       "      <td>...</td>\n",
       "      <td>...</td>\n",
       "      <td>...</td>\n",
       "    </tr>\n",
       "    <tr>\n",
       "      <th>5756</th>\n",
       "      <td>182467</td>\n",
       "      <td>Corn</td>\n",
       "      <td>DKC9126 4 KG</td>\n",
       "      <td>612.0</td>\n",
       "    </tr>\n",
       "    <tr>\n",
       "      <th>5757</th>\n",
       "      <td>182469</td>\n",
       "      <td>Corn</td>\n",
       "      <td>DKC7074 4 KG</td>\n",
       "      <td>227.0</td>\n",
       "    </tr>\n",
       "    <tr>\n",
       "      <th>5758</th>\n",
       "      <td>182470</td>\n",
       "      <td>Corn</td>\n",
       "      <td>DKC7074 ACCELERON</td>\n",
       "      <td>3430.0</td>\n",
       "    </tr>\n",
       "    <tr>\n",
       "      <th>5759</th>\n",
       "      <td>182471</td>\n",
       "      <td>Corn</td>\n",
       "      <td>DKC8144 4 KG</td>\n",
       "      <td>15075.0</td>\n",
       "    </tr>\n",
       "    <tr>\n",
       "      <th>5760</th>\n",
       "      <td>182472</td>\n",
       "      <td>Corn</td>\n",
       "      <td>DKC9126 4 KG</td>\n",
       "      <td>612.0</td>\n",
       "    </tr>\n",
       "  </tbody>\n",
       "</table>\n",
       "<p>5761 rows × 4 columns</p>\n",
       "</div>"
      ],
      "text/plain": [
       "       index ProductsCategory             productname  salesvalue\n",
       "0        131             Corn  DKC9144 Acceleron 4 KG         0.0\n",
       "1        134             Corn  DKC9144 Acceleron 4 KG       278.0\n",
       "2        169             Corn  DKC9126 Acceleron 4 KG         0.0\n",
       "3        170             Corn  DKC9126 Acceleron 4 KG       686.0\n",
       "4        171             Corn            DKC7074 4 KG         0.0\n",
       "...      ...              ...                     ...         ...\n",
       "5756  182467             Corn            DKC9126 4 KG       612.0\n",
       "5757  182469             Corn            DKC7074 4 KG       227.0\n",
       "5758  182470             Corn       DKC7074 ACCELERON      3430.0\n",
       "5759  182471             Corn            DKC8144 4 KG     15075.0\n",
       "5760  182472             Corn            DKC9126 4 KG       612.0\n",
       "\n",
       "[5761 rows x 4 columns]"
      ]
     },
     "execution_count": 78,
     "metadata": {},
     "output_type": "execute_result"
    }
   ],
   "source": [
    "fung_product"
   ]
  },
  {
   "cell_type": "code",
   "execution_count": 79,
   "id": "1f5aca2f",
   "metadata": {},
   "outputs": [],
   "source": [
    "Top_producnames=fung_product.groupby([\"ProductsCategory\", \"productname\"])[\"salesvalue\"].sum().rename('Sale').reset_index()"
   ]
  },
  {
   "cell_type": "code",
   "execution_count": 80,
   "id": "0d5eb2d3",
   "metadata": {},
   "outputs": [
    {
     "data": {
      "text/html": [
       "<div>\n",
       "<style scoped>\n",
       "    .dataframe tbody tr th:only-of-type {\n",
       "        vertical-align: middle;\n",
       "    }\n",
       "\n",
       "    .dataframe tbody tr th {\n",
       "        vertical-align: top;\n",
       "    }\n",
       "\n",
       "    .dataframe thead th {\n",
       "        text-align: right;\n",
       "    }\n",
       "</style>\n",
       "<table border=\"1\" class=\"dataframe\">\n",
       "  <thead>\n",
       "    <tr style=\"text-align: right;\">\n",
       "      <th></th>\n",
       "      <th>ProductsCategory</th>\n",
       "      <th>productname</th>\n",
       "      <th>Sale</th>\n",
       "    </tr>\n",
       "  </thead>\n",
       "  <tbody>\n",
       "    <tr>\n",
       "      <th>0</th>\n",
       "      <td>Corn</td>\n",
       "      <td>900M GOLD 4 KG</td>\n",
       "      <td>2.933920e+05</td>\n",
       "    </tr>\n",
       "    <tr>\n",
       "      <th>1</th>\n",
       "      <td>Corn</td>\n",
       "      <td>900M GOLD 5 KG</td>\n",
       "      <td>0.000000e+00</td>\n",
       "    </tr>\n",
       "    <tr>\n",
       "      <th>2</th>\n",
       "      <td>Corn</td>\n",
       "      <td>ALLROUNDER 5 KG</td>\n",
       "      <td>1.545600e+04</td>\n",
       "    </tr>\n",
       "    <tr>\n",
       "      <th>3</th>\n",
       "      <td>Corn</td>\n",
       "      <td>Allrounder 4 KG</td>\n",
       "      <td>3.097600e+04</td>\n",
       "    </tr>\n",
       "    <tr>\n",
       "      <th>4</th>\n",
       "      <td>Corn</td>\n",
       "      <td>DKC 8209 4KG</td>\n",
       "      <td>5.841360e+06</td>\n",
       "    </tr>\n",
       "    <tr>\n",
       "      <th>5</th>\n",
       "      <td>Corn</td>\n",
       "      <td>DKC 9108 Plus 4.5 KG</td>\n",
       "      <td>0.000000e+00</td>\n",
       "    </tr>\n",
       "    <tr>\n",
       "      <th>6</th>\n",
       "      <td>Corn</td>\n",
       "      <td>DKC 9198 ACC 4KG</td>\n",
       "      <td>0.000000e+00</td>\n",
       "    </tr>\n",
       "    <tr>\n",
       "      <th>7</th>\n",
       "      <td>Corn</td>\n",
       "      <td>DKC7074 4 KG</td>\n",
       "      <td>8.806434e+06</td>\n",
       "    </tr>\n",
       "    <tr>\n",
       "      <th>8</th>\n",
       "      <td>Corn</td>\n",
       "      <td>DKC7074 5 KG</td>\n",
       "      <td>5.560875e+04</td>\n",
       "    </tr>\n",
       "    <tr>\n",
       "      <th>9</th>\n",
       "      <td>Corn</td>\n",
       "      <td>DKC7074 ACCELERON</td>\n",
       "      <td>9.508450e+05</td>\n",
       "    </tr>\n",
       "    <tr>\n",
       "      <th>10</th>\n",
       "      <td>Corn</td>\n",
       "      <td>DKC7204 4KG</td>\n",
       "      <td>0.000000e+00</td>\n",
       "    </tr>\n",
       "    <tr>\n",
       "      <th>11</th>\n",
       "      <td>Corn</td>\n",
       "      <td>DKC7204 ACCELERON</td>\n",
       "      <td>4.422360e+02</td>\n",
       "    </tr>\n",
       "    <tr>\n",
       "      <th>12</th>\n",
       "      <td>Corn</td>\n",
       "      <td>DKC8144 4 KG</td>\n",
       "      <td>5.380815e+06</td>\n",
       "    </tr>\n",
       "    <tr>\n",
       "      <th>13</th>\n",
       "      <td>Corn</td>\n",
       "      <td>DKC8171 Acceleron 4.5KG</td>\n",
       "      <td>1.131000e+05</td>\n",
       "    </tr>\n",
       "    <tr>\n",
       "      <th>14</th>\n",
       "      <td>Corn</td>\n",
       "      <td>DKC8181 4 KG</td>\n",
       "      <td>6.188836e+05</td>\n",
       "    </tr>\n",
       "    <tr>\n",
       "      <th>15</th>\n",
       "      <td>Corn</td>\n",
       "      <td>DKC8209 4 KG</td>\n",
       "      <td>2.078205e+03</td>\n",
       "    </tr>\n",
       "    <tr>\n",
       "      <th>16</th>\n",
       "      <td>Corn</td>\n",
       "      <td>DKC9081 Acceleron 4 KG</td>\n",
       "      <td>3.823200e+06</td>\n",
       "    </tr>\n",
       "    <tr>\n",
       "      <th>17</th>\n",
       "      <td>Corn</td>\n",
       "      <td>DKC9108</td>\n",
       "      <td>1.469968e+07</td>\n",
       "    </tr>\n",
       "    <tr>\n",
       "      <th>18</th>\n",
       "      <td>Corn</td>\n",
       "      <td>DKC9108 PLUS</td>\n",
       "      <td>1.640917e+07</td>\n",
       "    </tr>\n",
       "    <tr>\n",
       "      <th>19</th>\n",
       "      <td>Corn</td>\n",
       "      <td>DKC9117 4 KG</td>\n",
       "      <td>1.362200e+04</td>\n",
       "    </tr>\n",
       "    <tr>\n",
       "      <th>20</th>\n",
       "      <td>Corn</td>\n",
       "      <td>DKC9120 4 KG AU</td>\n",
       "      <td>5.373000e+05</td>\n",
       "    </tr>\n",
       "    <tr>\n",
       "      <th>21</th>\n",
       "      <td>Corn</td>\n",
       "      <td>DKC9120 Acceleron 4.5KG</td>\n",
       "      <td>0.000000e+00</td>\n",
       "    </tr>\n",
       "    <tr>\n",
       "      <th>22</th>\n",
       "      <td>Corn</td>\n",
       "      <td>DKC9126 4 KG</td>\n",
       "      <td>5.682420e+05</td>\n",
       "    </tr>\n",
       "    <tr>\n",
       "      <th>23</th>\n",
       "      <td>Corn</td>\n",
       "      <td>DKC9126 5 KG</td>\n",
       "      <td>0.000000e+00</td>\n",
       "    </tr>\n",
       "    <tr>\n",
       "      <th>24</th>\n",
       "      <td>Corn</td>\n",
       "      <td>DKC9126 Acceleron 4 KG</td>\n",
       "      <td>8.374039e+06</td>\n",
       "    </tr>\n",
       "    <tr>\n",
       "      <th>25</th>\n",
       "      <td>Corn</td>\n",
       "      <td>DKC9133 4 KG</td>\n",
       "      <td>4.650719e+05</td>\n",
       "    </tr>\n",
       "    <tr>\n",
       "      <th>26</th>\n",
       "      <td>Corn</td>\n",
       "      <td>DKC9133 Acceleron 4 KG</td>\n",
       "      <td>5.174320e+06</td>\n",
       "    </tr>\n",
       "    <tr>\n",
       "      <th>27</th>\n",
       "      <td>Corn</td>\n",
       "      <td>DKC9141 3.5 KG</td>\n",
       "      <td>3.095820e+05</td>\n",
       "    </tr>\n",
       "    <tr>\n",
       "      <th>28</th>\n",
       "      <td>Corn</td>\n",
       "      <td>DKC9141 Acceleron 3.5 KG</td>\n",
       "      <td>3.966589e+05</td>\n",
       "    </tr>\n",
       "    <tr>\n",
       "      <th>29</th>\n",
       "      <td>Corn</td>\n",
       "      <td>DKC9144 4 KG</td>\n",
       "      <td>2.162327e+06</td>\n",
       "    </tr>\n",
       "    <tr>\n",
       "      <th>30</th>\n",
       "      <td>Corn</td>\n",
       "      <td>DKC9144 Acceleron 4 KG</td>\n",
       "      <td>9.355881e+05</td>\n",
       "    </tr>\n",
       "    <tr>\n",
       "      <th>31</th>\n",
       "      <td>Corn</td>\n",
       "      <td>DKC9149 4 KG</td>\n",
       "      <td>1.365020e+05</td>\n",
       "    </tr>\n",
       "    <tr>\n",
       "      <th>32</th>\n",
       "      <td>Corn</td>\n",
       "      <td>DKC9149 5 KG</td>\n",
       "      <td>0.000000e+00</td>\n",
       "    </tr>\n",
       "    <tr>\n",
       "      <th>33</th>\n",
       "      <td>Corn</td>\n",
       "      <td>DKC9150 Acceleron 5KG</td>\n",
       "      <td>4.610200e+05</td>\n",
       "    </tr>\n",
       "    <tr>\n",
       "      <th>34</th>\n",
       "      <td>Corn</td>\n",
       "      <td>DKC9162 Acceleron</td>\n",
       "      <td>1.789374e+06</td>\n",
       "    </tr>\n",
       "    <tr>\n",
       "      <th>35</th>\n",
       "      <td>Corn</td>\n",
       "      <td>DKC9164 4 KG</td>\n",
       "      <td>3.042460e+05</td>\n",
       "    </tr>\n",
       "    <tr>\n",
       "      <th>36</th>\n",
       "      <td>Corn</td>\n",
       "      <td>DKC9165 Acceleron 4.5KG</td>\n",
       "      <td>1.363980e+05</td>\n",
       "    </tr>\n",
       "    <tr>\n",
       "      <th>37</th>\n",
       "      <td>Corn</td>\n",
       "      <td>DKC9178 4 KG</td>\n",
       "      <td>8.458862e+05</td>\n",
       "    </tr>\n",
       "    <tr>\n",
       "      <th>38</th>\n",
       "      <td>Corn</td>\n",
       "      <td>DKC9178 ACCELERON</td>\n",
       "      <td>2.503306e+06</td>\n",
       "    </tr>\n",
       "    <tr>\n",
       "      <th>39</th>\n",
       "      <td>Corn</td>\n",
       "      <td>DKC9188 Acceleron 4.5 KG</td>\n",
       "      <td>2.375400e+05</td>\n",
       "    </tr>\n",
       "    <tr>\n",
       "      <th>40</th>\n",
       "      <td>Corn</td>\n",
       "      <td>DKC9198 ACCELERON</td>\n",
       "      <td>2.000600e+04</td>\n",
       "    </tr>\n",
       "    <tr>\n",
       "      <th>41</th>\n",
       "      <td>Corn</td>\n",
       "      <td>DKC9208</td>\n",
       "      <td>4.406535e+06</td>\n",
       "    </tr>\n",
       "    <tr>\n",
       "      <th>42</th>\n",
       "      <td>Corn</td>\n",
       "      <td>DKC9208 Acceleron</td>\n",
       "      <td>5.321290e+06</td>\n",
       "    </tr>\n",
       "    <tr>\n",
       "      <th>43</th>\n",
       "      <td>Corn</td>\n",
       "      <td>DKC9210 AU 4KG</td>\n",
       "      <td>0.000000e+00</td>\n",
       "    </tr>\n",
       "    <tr>\n",
       "      <th>44</th>\n",
       "      <td>Corn</td>\n",
       "      <td>DKC9217 Acceleron 4.5KG</td>\n",
       "      <td>1.231982e+06</td>\n",
       "    </tr>\n",
       "    <tr>\n",
       "      <th>45</th>\n",
       "      <td>Corn</td>\n",
       "      <td>DOUBLE 5 KG</td>\n",
       "      <td>0.000000e+00</td>\n",
       "    </tr>\n",
       "    <tr>\n",
       "      <th>46</th>\n",
       "      <td>Corn</td>\n",
       "      <td>Dekalb</td>\n",
       "      <td>6.606000e+05</td>\n",
       "    </tr>\n",
       "    <tr>\n",
       "      <th>47</th>\n",
       "      <td>Corn</td>\n",
       "      <td>HISHELL 3.5 KG</td>\n",
       "      <td>7.726600e+04</td>\n",
       "    </tr>\n",
       "    <tr>\n",
       "      <th>48</th>\n",
       "      <td>Corn</td>\n",
       "      <td>HISHELL 5 KG</td>\n",
       "      <td>3.909490e+05</td>\n",
       "    </tr>\n",
       "    <tr>\n",
       "      <th>49</th>\n",
       "      <td>Corn</td>\n",
       "      <td>PINNACLE 3.5 KG</td>\n",
       "      <td>2.051922e+05</td>\n",
       "    </tr>\n",
       "  </tbody>\n",
       "</table>\n",
       "</div>"
      ],
      "text/plain": [
       "   ProductsCategory               productname          Sale\n",
       "0              Corn            900M GOLD 4 KG  2.933920e+05\n",
       "1              Corn            900M GOLD 5 KG  0.000000e+00\n",
       "2              Corn           ALLROUNDER 5 KG  1.545600e+04\n",
       "3              Corn           Allrounder 4 KG  3.097600e+04\n",
       "4              Corn              DKC 8209 4KG  5.841360e+06\n",
       "5              Corn      DKC 9108 Plus 4.5 KG  0.000000e+00\n",
       "6              Corn          DKC 9198 ACC 4KG  0.000000e+00\n",
       "7              Corn              DKC7074 4 KG  8.806434e+06\n",
       "8              Corn              DKC7074 5 KG  5.560875e+04\n",
       "9              Corn         DKC7074 ACCELERON  9.508450e+05\n",
       "10             Corn               DKC7204 4KG  0.000000e+00\n",
       "11             Corn         DKC7204 ACCELERON  4.422360e+02\n",
       "12             Corn              DKC8144 4 KG  5.380815e+06\n",
       "13             Corn   DKC8171 Acceleron 4.5KG  1.131000e+05\n",
       "14             Corn              DKC8181 4 KG  6.188836e+05\n",
       "15             Corn              DKC8209 4 KG  2.078205e+03\n",
       "16             Corn   DKC9081 Acceleron 4 KG   3.823200e+06\n",
       "17             Corn                   DKC9108  1.469968e+07\n",
       "18             Corn              DKC9108 PLUS  1.640917e+07\n",
       "19             Corn              DKC9117 4 KG  1.362200e+04\n",
       "20             Corn           DKC9120 4 KG AU  5.373000e+05\n",
       "21             Corn   DKC9120 Acceleron 4.5KG  0.000000e+00\n",
       "22             Corn              DKC9126 4 KG  5.682420e+05\n",
       "23             Corn              DKC9126 5 KG  0.000000e+00\n",
       "24             Corn    DKC9126 Acceleron 4 KG  8.374039e+06\n",
       "25             Corn              DKC9133 4 KG  4.650719e+05\n",
       "26             Corn    DKC9133 Acceleron 4 KG  5.174320e+06\n",
       "27             Corn            DKC9141 3.5 KG  3.095820e+05\n",
       "28             Corn  DKC9141 Acceleron 3.5 KG  3.966589e+05\n",
       "29             Corn              DKC9144 4 KG  2.162327e+06\n",
       "30             Corn    DKC9144 Acceleron 4 KG  9.355881e+05\n",
       "31             Corn              DKC9149 4 KG  1.365020e+05\n",
       "32             Corn              DKC9149 5 KG  0.000000e+00\n",
       "33             Corn     DKC9150 Acceleron 5KG  4.610200e+05\n",
       "34             Corn         DKC9162 Acceleron  1.789374e+06\n",
       "35             Corn              DKC9164 4 KG  3.042460e+05\n",
       "36             Corn   DKC9165 Acceleron 4.5KG  1.363980e+05\n",
       "37             Corn              DKC9178 4 KG  8.458862e+05\n",
       "38             Corn         DKC9178 ACCELERON  2.503306e+06\n",
       "39             Corn  DKC9188 Acceleron 4.5 KG  2.375400e+05\n",
       "40             Corn         DKC9198 ACCELERON  2.000600e+04\n",
       "41             Corn                   DKC9208  4.406535e+06\n",
       "42             Corn         DKC9208 Acceleron  5.321290e+06\n",
       "43             Corn            DKC9210 AU 4KG  0.000000e+00\n",
       "44             Corn   DKC9217 Acceleron 4.5KG  1.231982e+06\n",
       "45             Corn               DOUBLE 5 KG  0.000000e+00\n",
       "46             Corn                    Dekalb  6.606000e+05\n",
       "47             Corn            HISHELL 3.5 KG  7.726600e+04\n",
       "48             Corn              HISHELL 5 KG  3.909490e+05\n",
       "49             Corn           PINNACLE 3.5 KG  2.051922e+05"
      ]
     },
     "execution_count": 80,
     "metadata": {},
     "output_type": "execute_result"
    }
   ],
   "source": [
    "Top_producnames"
   ]
  },
  {
   "cell_type": "code",
   "execution_count": 81,
   "id": "05f44e20",
   "metadata": {},
   "outputs": [],
   "source": [
    "Topproducts=Top_producnames.sort_values(by=['Sale'], ascending=False, ignore_index=True)"
   ]
  },
  {
   "cell_type": "code",
   "execution_count": 82,
   "id": "39b09a1a",
   "metadata": {},
   "outputs": [
    {
     "data": {
      "text/html": [
       "<div>\n",
       "<style scoped>\n",
       "    .dataframe tbody tr th:only-of-type {\n",
       "        vertical-align: middle;\n",
       "    }\n",
       "\n",
       "    .dataframe tbody tr th {\n",
       "        vertical-align: top;\n",
       "    }\n",
       "\n",
       "    .dataframe thead th {\n",
       "        text-align: right;\n",
       "    }\n",
       "</style>\n",
       "<table border=\"1\" class=\"dataframe\">\n",
       "  <thead>\n",
       "    <tr style=\"text-align: right;\">\n",
       "      <th></th>\n",
       "      <th>ProductsCategory</th>\n",
       "      <th>productname</th>\n",
       "      <th>Sale</th>\n",
       "    </tr>\n",
       "  </thead>\n",
       "  <tbody>\n",
       "    <tr>\n",
       "      <th>0</th>\n",
       "      <td>Corn</td>\n",
       "      <td>DKC9108 PLUS</td>\n",
       "      <td>1.640917e+07</td>\n",
       "    </tr>\n",
       "    <tr>\n",
       "      <th>1</th>\n",
       "      <td>Corn</td>\n",
       "      <td>DKC9108</td>\n",
       "      <td>1.469968e+07</td>\n",
       "    </tr>\n",
       "    <tr>\n",
       "      <th>2</th>\n",
       "      <td>Corn</td>\n",
       "      <td>DKC7074 4 KG</td>\n",
       "      <td>8.806434e+06</td>\n",
       "    </tr>\n",
       "    <tr>\n",
       "      <th>3</th>\n",
       "      <td>Corn</td>\n",
       "      <td>DKC9126 Acceleron 4 KG</td>\n",
       "      <td>8.374039e+06</td>\n",
       "    </tr>\n",
       "    <tr>\n",
       "      <th>4</th>\n",
       "      <td>Corn</td>\n",
       "      <td>DKC 8209 4KG</td>\n",
       "      <td>5.841360e+06</td>\n",
       "    </tr>\n",
       "    <tr>\n",
       "      <th>5</th>\n",
       "      <td>Corn</td>\n",
       "      <td>DKC8144 4 KG</td>\n",
       "      <td>5.380815e+06</td>\n",
       "    </tr>\n",
       "    <tr>\n",
       "      <th>6</th>\n",
       "      <td>Corn</td>\n",
       "      <td>DKC9208 Acceleron</td>\n",
       "      <td>5.321290e+06</td>\n",
       "    </tr>\n",
       "    <tr>\n",
       "      <th>7</th>\n",
       "      <td>Corn</td>\n",
       "      <td>DKC9133 Acceleron 4 KG</td>\n",
       "      <td>5.174320e+06</td>\n",
       "    </tr>\n",
       "    <tr>\n",
       "      <th>8</th>\n",
       "      <td>Corn</td>\n",
       "      <td>DKC9208</td>\n",
       "      <td>4.406535e+06</td>\n",
       "    </tr>\n",
       "    <tr>\n",
       "      <th>9</th>\n",
       "      <td>Corn</td>\n",
       "      <td>DKC9081 Acceleron 4 KG</td>\n",
       "      <td>3.823200e+06</td>\n",
       "    </tr>\n",
       "    <tr>\n",
       "      <th>10</th>\n",
       "      <td>Corn</td>\n",
       "      <td>DKC9178 ACCELERON</td>\n",
       "      <td>2.503306e+06</td>\n",
       "    </tr>\n",
       "    <tr>\n",
       "      <th>11</th>\n",
       "      <td>Corn</td>\n",
       "      <td>DKC9144 4 KG</td>\n",
       "      <td>2.162327e+06</td>\n",
       "    </tr>\n",
       "    <tr>\n",
       "      <th>12</th>\n",
       "      <td>Corn</td>\n",
       "      <td>DKC9162 Acceleron</td>\n",
       "      <td>1.789374e+06</td>\n",
       "    </tr>\n",
       "    <tr>\n",
       "      <th>13</th>\n",
       "      <td>Corn</td>\n",
       "      <td>DKC9217 Acceleron 4.5KG</td>\n",
       "      <td>1.231982e+06</td>\n",
       "    </tr>\n",
       "    <tr>\n",
       "      <th>14</th>\n",
       "      <td>Corn</td>\n",
       "      <td>DKC7074 ACCELERON</td>\n",
       "      <td>9.508450e+05</td>\n",
       "    </tr>\n",
       "    <tr>\n",
       "      <th>15</th>\n",
       "      <td>Corn</td>\n",
       "      <td>DKC9144 Acceleron 4 KG</td>\n",
       "      <td>9.355881e+05</td>\n",
       "    </tr>\n",
       "    <tr>\n",
       "      <th>16</th>\n",
       "      <td>Corn</td>\n",
       "      <td>DKC9178 4 KG</td>\n",
       "      <td>8.458862e+05</td>\n",
       "    </tr>\n",
       "    <tr>\n",
       "      <th>17</th>\n",
       "      <td>Corn</td>\n",
       "      <td>Dekalb</td>\n",
       "      <td>6.606000e+05</td>\n",
       "    </tr>\n",
       "    <tr>\n",
       "      <th>18</th>\n",
       "      <td>Corn</td>\n",
       "      <td>DKC8181 4 KG</td>\n",
       "      <td>6.188836e+05</td>\n",
       "    </tr>\n",
       "    <tr>\n",
       "      <th>19</th>\n",
       "      <td>Corn</td>\n",
       "      <td>DKC9126 4 KG</td>\n",
       "      <td>5.682420e+05</td>\n",
       "    </tr>\n",
       "    <tr>\n",
       "      <th>20</th>\n",
       "      <td>Corn</td>\n",
       "      <td>DKC9120 4 KG AU</td>\n",
       "      <td>5.373000e+05</td>\n",
       "    </tr>\n",
       "    <tr>\n",
       "      <th>21</th>\n",
       "      <td>Corn</td>\n",
       "      <td>DKC9133 4 KG</td>\n",
       "      <td>4.650719e+05</td>\n",
       "    </tr>\n",
       "    <tr>\n",
       "      <th>22</th>\n",
       "      <td>Corn</td>\n",
       "      <td>DKC9150 Acceleron 5KG</td>\n",
       "      <td>4.610200e+05</td>\n",
       "    </tr>\n",
       "    <tr>\n",
       "      <th>23</th>\n",
       "      <td>Corn</td>\n",
       "      <td>DKC9141 Acceleron 3.5 KG</td>\n",
       "      <td>3.966589e+05</td>\n",
       "    </tr>\n",
       "    <tr>\n",
       "      <th>24</th>\n",
       "      <td>Corn</td>\n",
       "      <td>HISHELL 5 KG</td>\n",
       "      <td>3.909490e+05</td>\n",
       "    </tr>\n",
       "    <tr>\n",
       "      <th>25</th>\n",
       "      <td>Corn</td>\n",
       "      <td>DKC9141 3.5 KG</td>\n",
       "      <td>3.095820e+05</td>\n",
       "    </tr>\n",
       "    <tr>\n",
       "      <th>26</th>\n",
       "      <td>Corn</td>\n",
       "      <td>DKC9164 4 KG</td>\n",
       "      <td>3.042460e+05</td>\n",
       "    </tr>\n",
       "    <tr>\n",
       "      <th>27</th>\n",
       "      <td>Corn</td>\n",
       "      <td>900M GOLD 4 KG</td>\n",
       "      <td>2.933920e+05</td>\n",
       "    </tr>\n",
       "    <tr>\n",
       "      <th>28</th>\n",
       "      <td>Corn</td>\n",
       "      <td>DKC9188 Acceleron 4.5 KG</td>\n",
       "      <td>2.375400e+05</td>\n",
       "    </tr>\n",
       "    <tr>\n",
       "      <th>29</th>\n",
       "      <td>Corn</td>\n",
       "      <td>PINNACLE 3.5 KG</td>\n",
       "      <td>2.051922e+05</td>\n",
       "    </tr>\n",
       "    <tr>\n",
       "      <th>30</th>\n",
       "      <td>Corn</td>\n",
       "      <td>DKC9149 4 KG</td>\n",
       "      <td>1.365020e+05</td>\n",
       "    </tr>\n",
       "    <tr>\n",
       "      <th>31</th>\n",
       "      <td>Corn</td>\n",
       "      <td>DKC9165 Acceleron 4.5KG</td>\n",
       "      <td>1.363980e+05</td>\n",
       "    </tr>\n",
       "    <tr>\n",
       "      <th>32</th>\n",
       "      <td>Corn</td>\n",
       "      <td>DKC8171 Acceleron 4.5KG</td>\n",
       "      <td>1.131000e+05</td>\n",
       "    </tr>\n",
       "    <tr>\n",
       "      <th>33</th>\n",
       "      <td>Corn</td>\n",
       "      <td>HISHELL 3.5 KG</td>\n",
       "      <td>7.726600e+04</td>\n",
       "    </tr>\n",
       "    <tr>\n",
       "      <th>34</th>\n",
       "      <td>Corn</td>\n",
       "      <td>DKC7074 5 KG</td>\n",
       "      <td>5.560875e+04</td>\n",
       "    </tr>\n",
       "    <tr>\n",
       "      <th>35</th>\n",
       "      <td>Corn</td>\n",
       "      <td>Allrounder 4 KG</td>\n",
       "      <td>3.097600e+04</td>\n",
       "    </tr>\n",
       "    <tr>\n",
       "      <th>36</th>\n",
       "      <td>Corn</td>\n",
       "      <td>DKC9198 ACCELERON</td>\n",
       "      <td>2.000600e+04</td>\n",
       "    </tr>\n",
       "    <tr>\n",
       "      <th>37</th>\n",
       "      <td>Corn</td>\n",
       "      <td>ALLROUNDER 5 KG</td>\n",
       "      <td>1.545600e+04</td>\n",
       "    </tr>\n",
       "    <tr>\n",
       "      <th>38</th>\n",
       "      <td>Corn</td>\n",
       "      <td>DKC9117 4 KG</td>\n",
       "      <td>1.362200e+04</td>\n",
       "    </tr>\n",
       "    <tr>\n",
       "      <th>39</th>\n",
       "      <td>Corn</td>\n",
       "      <td>DKC8209 4 KG</td>\n",
       "      <td>2.078205e+03</td>\n",
       "    </tr>\n",
       "    <tr>\n",
       "      <th>40</th>\n",
       "      <td>Corn</td>\n",
       "      <td>DKC7204 ACCELERON</td>\n",
       "      <td>4.422360e+02</td>\n",
       "    </tr>\n",
       "    <tr>\n",
       "      <th>41</th>\n",
       "      <td>Corn</td>\n",
       "      <td>DKC 9108 Plus 4.5 KG</td>\n",
       "      <td>0.000000e+00</td>\n",
       "    </tr>\n",
       "    <tr>\n",
       "      <th>42</th>\n",
       "      <td>Corn</td>\n",
       "      <td>DOUBLE 5 KG</td>\n",
       "      <td>0.000000e+00</td>\n",
       "    </tr>\n",
       "    <tr>\n",
       "      <th>43</th>\n",
       "      <td>Corn</td>\n",
       "      <td>DKC9120 Acceleron 4.5KG</td>\n",
       "      <td>0.000000e+00</td>\n",
       "    </tr>\n",
       "    <tr>\n",
       "      <th>44</th>\n",
       "      <td>Corn</td>\n",
       "      <td>DKC9210 AU 4KG</td>\n",
       "      <td>0.000000e+00</td>\n",
       "    </tr>\n",
       "    <tr>\n",
       "      <th>45</th>\n",
       "      <td>Corn</td>\n",
       "      <td>DKC 9198 ACC 4KG</td>\n",
       "      <td>0.000000e+00</td>\n",
       "    </tr>\n",
       "    <tr>\n",
       "      <th>46</th>\n",
       "      <td>Corn</td>\n",
       "      <td>DKC9126 5 KG</td>\n",
       "      <td>0.000000e+00</td>\n",
       "    </tr>\n",
       "    <tr>\n",
       "      <th>47</th>\n",
       "      <td>Corn</td>\n",
       "      <td>DKC7204 4KG</td>\n",
       "      <td>0.000000e+00</td>\n",
       "    </tr>\n",
       "    <tr>\n",
       "      <th>48</th>\n",
       "      <td>Corn</td>\n",
       "      <td>DKC9149 5 KG</td>\n",
       "      <td>0.000000e+00</td>\n",
       "    </tr>\n",
       "    <tr>\n",
       "      <th>49</th>\n",
       "      <td>Corn</td>\n",
       "      <td>900M GOLD 5 KG</td>\n",
       "      <td>0.000000e+00</td>\n",
       "    </tr>\n",
       "  </tbody>\n",
       "</table>\n",
       "</div>"
      ],
      "text/plain": [
       "   ProductsCategory               productname          Sale\n",
       "0              Corn              DKC9108 PLUS  1.640917e+07\n",
       "1              Corn                   DKC9108  1.469968e+07\n",
       "2              Corn              DKC7074 4 KG  8.806434e+06\n",
       "3              Corn    DKC9126 Acceleron 4 KG  8.374039e+06\n",
       "4              Corn              DKC 8209 4KG  5.841360e+06\n",
       "5              Corn              DKC8144 4 KG  5.380815e+06\n",
       "6              Corn         DKC9208 Acceleron  5.321290e+06\n",
       "7              Corn    DKC9133 Acceleron 4 KG  5.174320e+06\n",
       "8              Corn                   DKC9208  4.406535e+06\n",
       "9              Corn   DKC9081 Acceleron 4 KG   3.823200e+06\n",
       "10             Corn         DKC9178 ACCELERON  2.503306e+06\n",
       "11             Corn              DKC9144 4 KG  2.162327e+06\n",
       "12             Corn         DKC9162 Acceleron  1.789374e+06\n",
       "13             Corn   DKC9217 Acceleron 4.5KG  1.231982e+06\n",
       "14             Corn         DKC7074 ACCELERON  9.508450e+05\n",
       "15             Corn    DKC9144 Acceleron 4 KG  9.355881e+05\n",
       "16             Corn              DKC9178 4 KG  8.458862e+05\n",
       "17             Corn                    Dekalb  6.606000e+05\n",
       "18             Corn              DKC8181 4 KG  6.188836e+05\n",
       "19             Corn              DKC9126 4 KG  5.682420e+05\n",
       "20             Corn           DKC9120 4 KG AU  5.373000e+05\n",
       "21             Corn              DKC9133 4 KG  4.650719e+05\n",
       "22             Corn     DKC9150 Acceleron 5KG  4.610200e+05\n",
       "23             Corn  DKC9141 Acceleron 3.5 KG  3.966589e+05\n",
       "24             Corn              HISHELL 5 KG  3.909490e+05\n",
       "25             Corn            DKC9141 3.5 KG  3.095820e+05\n",
       "26             Corn              DKC9164 4 KG  3.042460e+05\n",
       "27             Corn            900M GOLD 4 KG  2.933920e+05\n",
       "28             Corn  DKC9188 Acceleron 4.5 KG  2.375400e+05\n",
       "29             Corn           PINNACLE 3.5 KG  2.051922e+05\n",
       "30             Corn              DKC9149 4 KG  1.365020e+05\n",
       "31             Corn   DKC9165 Acceleron 4.5KG  1.363980e+05\n",
       "32             Corn   DKC8171 Acceleron 4.5KG  1.131000e+05\n",
       "33             Corn            HISHELL 3.5 KG  7.726600e+04\n",
       "34             Corn              DKC7074 5 KG  5.560875e+04\n",
       "35             Corn           Allrounder 4 KG  3.097600e+04\n",
       "36             Corn         DKC9198 ACCELERON  2.000600e+04\n",
       "37             Corn           ALLROUNDER 5 KG  1.545600e+04\n",
       "38             Corn              DKC9117 4 KG  1.362200e+04\n",
       "39             Corn              DKC8209 4 KG  2.078205e+03\n",
       "40             Corn         DKC7204 ACCELERON  4.422360e+02\n",
       "41             Corn      DKC 9108 Plus 4.5 KG  0.000000e+00\n",
       "42             Corn               DOUBLE 5 KG  0.000000e+00\n",
       "43             Corn   DKC9120 Acceleron 4.5KG  0.000000e+00\n",
       "44             Corn            DKC9210 AU 4KG  0.000000e+00\n",
       "45             Corn          DKC 9198 ACC 4KG  0.000000e+00\n",
       "46             Corn              DKC9126 5 KG  0.000000e+00\n",
       "47             Corn               DKC7204 4KG  0.000000e+00\n",
       "48             Corn              DKC9149 5 KG  0.000000e+00\n",
       "49             Corn            900M GOLD 5 KG  0.000000e+00"
      ]
     },
     "execution_count": 82,
     "metadata": {},
     "output_type": "execute_result"
    }
   ],
   "source": [
    "Topproducts"
   ]
  },
  {
   "cell_type": "code",
   "execution_count": 91,
   "id": "b5d8233a",
   "metadata": {},
   "outputs": [],
   "source": [
    "##for currency in millions\n",
    "#Sale_millions=Topproducts\n",
    "#Sale_millions['Sale'] = (Sale_millions['Sale']/1000000).apply(lambda x: '{:,.2f}M'.format(x))\n",
    "#Sale_millions"
   ]
  },
  {
   "cell_type": "code",
   "execution_count": 95,
   "id": "d4a57de4",
   "metadata": {},
   "outputs": [],
   "source": [
    "#Sale_millions"
   ]
  },
  {
   "cell_type": "code",
   "execution_count": 64,
   "id": "e57a454e",
   "metadata": {},
   "outputs": [],
   "source": [
    "#Sale_millions = (Topproducts['Sale']/1000000).apply(lambda x: '{:,.2f}MM'.format(x))"
   ]
  },
  {
   "cell_type": "code",
   "execution_count": 84,
   "id": "8f2656b0",
   "metadata": {},
   "outputs": [],
   "source": [
    "Topproducts['Sale'] = (Topproducts['Sale'].astype(float)/1000000).apply(np.floor)"
   ]
  },
  {
   "cell_type": "code",
   "execution_count": 85,
   "id": "42528c5b",
   "metadata": {},
   "outputs": [
    {
     "data": {
      "text/html": [
       "<div>\n",
       "<style scoped>\n",
       "    .dataframe tbody tr th:only-of-type {\n",
       "        vertical-align: middle;\n",
       "    }\n",
       "\n",
       "    .dataframe tbody tr th {\n",
       "        vertical-align: top;\n",
       "    }\n",
       "\n",
       "    .dataframe thead th {\n",
       "        text-align: right;\n",
       "    }\n",
       "</style>\n",
       "<table border=\"1\" class=\"dataframe\">\n",
       "  <thead>\n",
       "    <tr style=\"text-align: right;\">\n",
       "      <th></th>\n",
       "      <th>ProductsCategory</th>\n",
       "      <th>productname</th>\n",
       "      <th>Sale</th>\n",
       "    </tr>\n",
       "  </thead>\n",
       "  <tbody>\n",
       "    <tr>\n",
       "      <th>0</th>\n",
       "      <td>Corn</td>\n",
       "      <td>DKC9108 PLUS</td>\n",
       "      <td>16.0</td>\n",
       "    </tr>\n",
       "    <tr>\n",
       "      <th>1</th>\n",
       "      <td>Corn</td>\n",
       "      <td>DKC9108</td>\n",
       "      <td>14.0</td>\n",
       "    </tr>\n",
       "    <tr>\n",
       "      <th>2</th>\n",
       "      <td>Corn</td>\n",
       "      <td>DKC7074 4 KG</td>\n",
       "      <td>8.0</td>\n",
       "    </tr>\n",
       "    <tr>\n",
       "      <th>3</th>\n",
       "      <td>Corn</td>\n",
       "      <td>DKC9126 Acceleron 4 KG</td>\n",
       "      <td>8.0</td>\n",
       "    </tr>\n",
       "    <tr>\n",
       "      <th>4</th>\n",
       "      <td>Corn</td>\n",
       "      <td>DKC 8209 4KG</td>\n",
       "      <td>5.0</td>\n",
       "    </tr>\n",
       "    <tr>\n",
       "      <th>5</th>\n",
       "      <td>Corn</td>\n",
       "      <td>DKC8144 4 KG</td>\n",
       "      <td>5.0</td>\n",
       "    </tr>\n",
       "    <tr>\n",
       "      <th>6</th>\n",
       "      <td>Corn</td>\n",
       "      <td>DKC9208 Acceleron</td>\n",
       "      <td>5.0</td>\n",
       "    </tr>\n",
       "    <tr>\n",
       "      <th>7</th>\n",
       "      <td>Corn</td>\n",
       "      <td>DKC9133 Acceleron 4 KG</td>\n",
       "      <td>5.0</td>\n",
       "    </tr>\n",
       "    <tr>\n",
       "      <th>8</th>\n",
       "      <td>Corn</td>\n",
       "      <td>DKC9208</td>\n",
       "      <td>4.0</td>\n",
       "    </tr>\n",
       "    <tr>\n",
       "      <th>9</th>\n",
       "      <td>Corn</td>\n",
       "      <td>DKC9081 Acceleron 4 KG</td>\n",
       "      <td>3.0</td>\n",
       "    </tr>\n",
       "    <tr>\n",
       "      <th>10</th>\n",
       "      <td>Corn</td>\n",
       "      <td>DKC9178 ACCELERON</td>\n",
       "      <td>2.0</td>\n",
       "    </tr>\n",
       "    <tr>\n",
       "      <th>11</th>\n",
       "      <td>Corn</td>\n",
       "      <td>DKC9144 4 KG</td>\n",
       "      <td>2.0</td>\n",
       "    </tr>\n",
       "    <tr>\n",
       "      <th>12</th>\n",
       "      <td>Corn</td>\n",
       "      <td>DKC9162 Acceleron</td>\n",
       "      <td>1.0</td>\n",
       "    </tr>\n",
       "    <tr>\n",
       "      <th>13</th>\n",
       "      <td>Corn</td>\n",
       "      <td>DKC9217 Acceleron 4.5KG</td>\n",
       "      <td>1.0</td>\n",
       "    </tr>\n",
       "    <tr>\n",
       "      <th>14</th>\n",
       "      <td>Corn</td>\n",
       "      <td>DKC7074 ACCELERON</td>\n",
       "      <td>0.0</td>\n",
       "    </tr>\n",
       "    <tr>\n",
       "      <th>15</th>\n",
       "      <td>Corn</td>\n",
       "      <td>DKC9144 Acceleron 4 KG</td>\n",
       "      <td>0.0</td>\n",
       "    </tr>\n",
       "    <tr>\n",
       "      <th>16</th>\n",
       "      <td>Corn</td>\n",
       "      <td>DKC9178 4 KG</td>\n",
       "      <td>0.0</td>\n",
       "    </tr>\n",
       "    <tr>\n",
       "      <th>17</th>\n",
       "      <td>Corn</td>\n",
       "      <td>Dekalb</td>\n",
       "      <td>0.0</td>\n",
       "    </tr>\n",
       "    <tr>\n",
       "      <th>18</th>\n",
       "      <td>Corn</td>\n",
       "      <td>DKC8181 4 KG</td>\n",
       "      <td>0.0</td>\n",
       "    </tr>\n",
       "    <tr>\n",
       "      <th>19</th>\n",
       "      <td>Corn</td>\n",
       "      <td>DKC9126 4 KG</td>\n",
       "      <td>0.0</td>\n",
       "    </tr>\n",
       "    <tr>\n",
       "      <th>20</th>\n",
       "      <td>Corn</td>\n",
       "      <td>DKC9120 4 KG AU</td>\n",
       "      <td>0.0</td>\n",
       "    </tr>\n",
       "    <tr>\n",
       "      <th>21</th>\n",
       "      <td>Corn</td>\n",
       "      <td>DKC9133 4 KG</td>\n",
       "      <td>0.0</td>\n",
       "    </tr>\n",
       "    <tr>\n",
       "      <th>22</th>\n",
       "      <td>Corn</td>\n",
       "      <td>DKC9150 Acceleron 5KG</td>\n",
       "      <td>0.0</td>\n",
       "    </tr>\n",
       "    <tr>\n",
       "      <th>23</th>\n",
       "      <td>Corn</td>\n",
       "      <td>DKC9141 Acceleron 3.5 KG</td>\n",
       "      <td>0.0</td>\n",
       "    </tr>\n",
       "    <tr>\n",
       "      <th>24</th>\n",
       "      <td>Corn</td>\n",
       "      <td>HISHELL 5 KG</td>\n",
       "      <td>0.0</td>\n",
       "    </tr>\n",
       "    <tr>\n",
       "      <th>25</th>\n",
       "      <td>Corn</td>\n",
       "      <td>DKC9141 3.5 KG</td>\n",
       "      <td>0.0</td>\n",
       "    </tr>\n",
       "    <tr>\n",
       "      <th>26</th>\n",
       "      <td>Corn</td>\n",
       "      <td>DKC9164 4 KG</td>\n",
       "      <td>0.0</td>\n",
       "    </tr>\n",
       "    <tr>\n",
       "      <th>27</th>\n",
       "      <td>Corn</td>\n",
       "      <td>900M GOLD 4 KG</td>\n",
       "      <td>0.0</td>\n",
       "    </tr>\n",
       "    <tr>\n",
       "      <th>28</th>\n",
       "      <td>Corn</td>\n",
       "      <td>DKC9188 Acceleron 4.5 KG</td>\n",
       "      <td>0.0</td>\n",
       "    </tr>\n",
       "    <tr>\n",
       "      <th>29</th>\n",
       "      <td>Corn</td>\n",
       "      <td>PINNACLE 3.5 KG</td>\n",
       "      <td>0.0</td>\n",
       "    </tr>\n",
       "    <tr>\n",
       "      <th>30</th>\n",
       "      <td>Corn</td>\n",
       "      <td>DKC9149 4 KG</td>\n",
       "      <td>0.0</td>\n",
       "    </tr>\n",
       "    <tr>\n",
       "      <th>31</th>\n",
       "      <td>Corn</td>\n",
       "      <td>DKC9165 Acceleron 4.5KG</td>\n",
       "      <td>0.0</td>\n",
       "    </tr>\n",
       "    <tr>\n",
       "      <th>32</th>\n",
       "      <td>Corn</td>\n",
       "      <td>DKC8171 Acceleron 4.5KG</td>\n",
       "      <td>0.0</td>\n",
       "    </tr>\n",
       "    <tr>\n",
       "      <th>33</th>\n",
       "      <td>Corn</td>\n",
       "      <td>HISHELL 3.5 KG</td>\n",
       "      <td>0.0</td>\n",
       "    </tr>\n",
       "    <tr>\n",
       "      <th>34</th>\n",
       "      <td>Corn</td>\n",
       "      <td>DKC7074 5 KG</td>\n",
       "      <td>0.0</td>\n",
       "    </tr>\n",
       "    <tr>\n",
       "      <th>35</th>\n",
       "      <td>Corn</td>\n",
       "      <td>Allrounder 4 KG</td>\n",
       "      <td>0.0</td>\n",
       "    </tr>\n",
       "    <tr>\n",
       "      <th>36</th>\n",
       "      <td>Corn</td>\n",
       "      <td>DKC9198 ACCELERON</td>\n",
       "      <td>0.0</td>\n",
       "    </tr>\n",
       "    <tr>\n",
       "      <th>37</th>\n",
       "      <td>Corn</td>\n",
       "      <td>ALLROUNDER 5 KG</td>\n",
       "      <td>0.0</td>\n",
       "    </tr>\n",
       "    <tr>\n",
       "      <th>38</th>\n",
       "      <td>Corn</td>\n",
       "      <td>DKC9117 4 KG</td>\n",
       "      <td>0.0</td>\n",
       "    </tr>\n",
       "    <tr>\n",
       "      <th>39</th>\n",
       "      <td>Corn</td>\n",
       "      <td>DKC8209 4 KG</td>\n",
       "      <td>0.0</td>\n",
       "    </tr>\n",
       "    <tr>\n",
       "      <th>40</th>\n",
       "      <td>Corn</td>\n",
       "      <td>DKC7204 ACCELERON</td>\n",
       "      <td>0.0</td>\n",
       "    </tr>\n",
       "    <tr>\n",
       "      <th>41</th>\n",
       "      <td>Corn</td>\n",
       "      <td>DKC 9108 Plus 4.5 KG</td>\n",
       "      <td>0.0</td>\n",
       "    </tr>\n",
       "    <tr>\n",
       "      <th>42</th>\n",
       "      <td>Corn</td>\n",
       "      <td>DOUBLE 5 KG</td>\n",
       "      <td>0.0</td>\n",
       "    </tr>\n",
       "    <tr>\n",
       "      <th>43</th>\n",
       "      <td>Corn</td>\n",
       "      <td>DKC9120 Acceleron 4.5KG</td>\n",
       "      <td>0.0</td>\n",
       "    </tr>\n",
       "    <tr>\n",
       "      <th>44</th>\n",
       "      <td>Corn</td>\n",
       "      <td>DKC9210 AU 4KG</td>\n",
       "      <td>0.0</td>\n",
       "    </tr>\n",
       "    <tr>\n",
       "      <th>45</th>\n",
       "      <td>Corn</td>\n",
       "      <td>DKC 9198 ACC 4KG</td>\n",
       "      <td>0.0</td>\n",
       "    </tr>\n",
       "    <tr>\n",
       "      <th>46</th>\n",
       "      <td>Corn</td>\n",
       "      <td>DKC9126 5 KG</td>\n",
       "      <td>0.0</td>\n",
       "    </tr>\n",
       "    <tr>\n",
       "      <th>47</th>\n",
       "      <td>Corn</td>\n",
       "      <td>DKC7204 4KG</td>\n",
       "      <td>0.0</td>\n",
       "    </tr>\n",
       "    <tr>\n",
       "      <th>48</th>\n",
       "      <td>Corn</td>\n",
       "      <td>DKC9149 5 KG</td>\n",
       "      <td>0.0</td>\n",
       "    </tr>\n",
       "    <tr>\n",
       "      <th>49</th>\n",
       "      <td>Corn</td>\n",
       "      <td>900M GOLD 5 KG</td>\n",
       "      <td>0.0</td>\n",
       "    </tr>\n",
       "  </tbody>\n",
       "</table>\n",
       "</div>"
      ],
      "text/plain": [
       "   ProductsCategory               productname  Sale\n",
       "0              Corn              DKC9108 PLUS  16.0\n",
       "1              Corn                   DKC9108  14.0\n",
       "2              Corn              DKC7074 4 KG   8.0\n",
       "3              Corn    DKC9126 Acceleron 4 KG   8.0\n",
       "4              Corn              DKC 8209 4KG   5.0\n",
       "5              Corn              DKC8144 4 KG   5.0\n",
       "6              Corn         DKC9208 Acceleron   5.0\n",
       "7              Corn    DKC9133 Acceleron 4 KG   5.0\n",
       "8              Corn                   DKC9208   4.0\n",
       "9              Corn   DKC9081 Acceleron 4 KG    3.0\n",
       "10             Corn         DKC9178 ACCELERON   2.0\n",
       "11             Corn              DKC9144 4 KG   2.0\n",
       "12             Corn         DKC9162 Acceleron   1.0\n",
       "13             Corn   DKC9217 Acceleron 4.5KG   1.0\n",
       "14             Corn         DKC7074 ACCELERON   0.0\n",
       "15             Corn    DKC9144 Acceleron 4 KG   0.0\n",
       "16             Corn              DKC9178 4 KG   0.0\n",
       "17             Corn                    Dekalb   0.0\n",
       "18             Corn              DKC8181 4 KG   0.0\n",
       "19             Corn              DKC9126 4 KG   0.0\n",
       "20             Corn           DKC9120 4 KG AU   0.0\n",
       "21             Corn              DKC9133 4 KG   0.0\n",
       "22             Corn     DKC9150 Acceleron 5KG   0.0\n",
       "23             Corn  DKC9141 Acceleron 3.5 KG   0.0\n",
       "24             Corn              HISHELL 5 KG   0.0\n",
       "25             Corn            DKC9141 3.5 KG   0.0\n",
       "26             Corn              DKC9164 4 KG   0.0\n",
       "27             Corn            900M GOLD 4 KG   0.0\n",
       "28             Corn  DKC9188 Acceleron 4.5 KG   0.0\n",
       "29             Corn           PINNACLE 3.5 KG   0.0\n",
       "30             Corn              DKC9149 4 KG   0.0\n",
       "31             Corn   DKC9165 Acceleron 4.5KG   0.0\n",
       "32             Corn   DKC8171 Acceleron 4.5KG   0.0\n",
       "33             Corn            HISHELL 3.5 KG   0.0\n",
       "34             Corn              DKC7074 5 KG   0.0\n",
       "35             Corn           Allrounder 4 KG   0.0\n",
       "36             Corn         DKC9198 ACCELERON   0.0\n",
       "37             Corn           ALLROUNDER 5 KG   0.0\n",
       "38             Corn              DKC9117 4 KG   0.0\n",
       "39             Corn              DKC8209 4 KG   0.0\n",
       "40             Corn         DKC7204 ACCELERON   0.0\n",
       "41             Corn      DKC 9108 Plus 4.5 KG   0.0\n",
       "42             Corn               DOUBLE 5 KG   0.0\n",
       "43             Corn   DKC9120 Acceleron 4.5KG   0.0\n",
       "44             Corn            DKC9210 AU 4KG   0.0\n",
       "45             Corn          DKC 9198 ACC 4KG   0.0\n",
       "46             Corn              DKC9126 5 KG   0.0\n",
       "47             Corn               DKC7204 4KG   0.0\n",
       "48             Corn              DKC9149 5 KG   0.0\n",
       "49             Corn            900M GOLD 5 KG   0.0"
      ]
     },
     "execution_count": 85,
     "metadata": {},
     "output_type": "execute_result"
    }
   ],
   "source": [
    "Topproducts"
   ]
  },
  {
   "cell_type": "code",
   "execution_count": 426,
   "id": "475b18d6",
   "metadata": {},
   "outputs": [
    {
     "data": {
      "text/plain": [
       "ProductsCategory     object\n",
       "productname          object\n",
       "Sale                float64\n",
       "dtype: object"
      ]
     },
     "execution_count": 426,
     "metadata": {},
     "output_type": "execute_result"
    }
   ],
   "source": [
    "Topproducts.dtypes"
   ]
  },
  {
   "cell_type": "code",
   "execution_count": 86,
   "id": "b20b6367",
   "metadata": {},
   "outputs": [],
   "source": [
    "TOPPESTprod=Topproducts.drop(Topproducts[Topproducts.Sale == 0].index)"
   ]
  },
  {
   "cell_type": "code",
   "execution_count": 87,
   "id": "9a3b6171",
   "metadata": {},
   "outputs": [
    {
     "data": {
      "text/html": [
       "<div>\n",
       "<style scoped>\n",
       "    .dataframe tbody tr th:only-of-type {\n",
       "        vertical-align: middle;\n",
       "    }\n",
       "\n",
       "    .dataframe tbody tr th {\n",
       "        vertical-align: top;\n",
       "    }\n",
       "\n",
       "    .dataframe thead th {\n",
       "        text-align: right;\n",
       "    }\n",
       "</style>\n",
       "<table border=\"1\" class=\"dataframe\">\n",
       "  <thead>\n",
       "    <tr style=\"text-align: right;\">\n",
       "      <th></th>\n",
       "      <th>ProductsCategory</th>\n",
       "      <th>productname</th>\n",
       "      <th>Sale</th>\n",
       "    </tr>\n",
       "  </thead>\n",
       "  <tbody>\n",
       "    <tr>\n",
       "      <th>0</th>\n",
       "      <td>Corn</td>\n",
       "      <td>DKC9108 PLUS</td>\n",
       "      <td>16.0</td>\n",
       "    </tr>\n",
       "    <tr>\n",
       "      <th>1</th>\n",
       "      <td>Corn</td>\n",
       "      <td>DKC9108</td>\n",
       "      <td>14.0</td>\n",
       "    </tr>\n",
       "    <tr>\n",
       "      <th>2</th>\n",
       "      <td>Corn</td>\n",
       "      <td>DKC7074 4 KG</td>\n",
       "      <td>8.0</td>\n",
       "    </tr>\n",
       "    <tr>\n",
       "      <th>3</th>\n",
       "      <td>Corn</td>\n",
       "      <td>DKC9126 Acceleron 4 KG</td>\n",
       "      <td>8.0</td>\n",
       "    </tr>\n",
       "    <tr>\n",
       "      <th>4</th>\n",
       "      <td>Corn</td>\n",
       "      <td>DKC 8209 4KG</td>\n",
       "      <td>5.0</td>\n",
       "    </tr>\n",
       "    <tr>\n",
       "      <th>5</th>\n",
       "      <td>Corn</td>\n",
       "      <td>DKC8144 4 KG</td>\n",
       "      <td>5.0</td>\n",
       "    </tr>\n",
       "    <tr>\n",
       "      <th>6</th>\n",
       "      <td>Corn</td>\n",
       "      <td>DKC9208 Acceleron</td>\n",
       "      <td>5.0</td>\n",
       "    </tr>\n",
       "    <tr>\n",
       "      <th>7</th>\n",
       "      <td>Corn</td>\n",
       "      <td>DKC9133 Acceleron 4 KG</td>\n",
       "      <td>5.0</td>\n",
       "    </tr>\n",
       "    <tr>\n",
       "      <th>8</th>\n",
       "      <td>Corn</td>\n",
       "      <td>DKC9208</td>\n",
       "      <td>4.0</td>\n",
       "    </tr>\n",
       "    <tr>\n",
       "      <th>9</th>\n",
       "      <td>Corn</td>\n",
       "      <td>DKC9081 Acceleron 4 KG</td>\n",
       "      <td>3.0</td>\n",
       "    </tr>\n",
       "    <tr>\n",
       "      <th>10</th>\n",
       "      <td>Corn</td>\n",
       "      <td>DKC9178 ACCELERON</td>\n",
       "      <td>2.0</td>\n",
       "    </tr>\n",
       "    <tr>\n",
       "      <th>11</th>\n",
       "      <td>Corn</td>\n",
       "      <td>DKC9144 4 KG</td>\n",
       "      <td>2.0</td>\n",
       "    </tr>\n",
       "    <tr>\n",
       "      <th>12</th>\n",
       "      <td>Corn</td>\n",
       "      <td>DKC9162 Acceleron</td>\n",
       "      <td>1.0</td>\n",
       "    </tr>\n",
       "    <tr>\n",
       "      <th>13</th>\n",
       "      <td>Corn</td>\n",
       "      <td>DKC9217 Acceleron 4.5KG</td>\n",
       "      <td>1.0</td>\n",
       "    </tr>\n",
       "  </tbody>\n",
       "</table>\n",
       "</div>"
      ],
      "text/plain": [
       "   ProductsCategory              productname  Sale\n",
       "0              Corn             DKC9108 PLUS  16.0\n",
       "1              Corn                  DKC9108  14.0\n",
       "2              Corn             DKC7074 4 KG   8.0\n",
       "3              Corn   DKC9126 Acceleron 4 KG   8.0\n",
       "4              Corn             DKC 8209 4KG   5.0\n",
       "5              Corn             DKC8144 4 KG   5.0\n",
       "6              Corn        DKC9208 Acceleron   5.0\n",
       "7              Corn   DKC9133 Acceleron 4 KG   5.0\n",
       "8              Corn                  DKC9208   4.0\n",
       "9              Corn  DKC9081 Acceleron 4 KG    3.0\n",
       "10             Corn        DKC9178 ACCELERON   2.0\n",
       "11             Corn             DKC9144 4 KG   2.0\n",
       "12             Corn        DKC9162 Acceleron   1.0\n",
       "13             Corn  DKC9217 Acceleron 4.5KG   1.0"
      ]
     },
     "execution_count": 87,
     "metadata": {},
     "output_type": "execute_result"
    }
   ],
   "source": [
    "TOPPESTprod"
   ]
  },
  {
   "cell_type": "code",
   "execution_count": 232,
   "id": "c1dcfc59",
   "metadata": {},
   "outputs": [],
   "source": [
    "#TOPPESTprod['Sale']=(TOPPESTprod['Sale']/1000000).round()"
   ]
  },
  {
   "cell_type": "code",
   "execution_count": 88,
   "id": "3b152b74",
   "metadata": {},
   "outputs": [],
   "source": [
    "TOPPEST=Topproducts.sort_values(by=['Sale'], ascending=False, ignore_index=True).head(5)"
   ]
  },
  {
   "cell_type": "code",
   "execution_count": 89,
   "id": "dc6ac5ae",
   "metadata": {},
   "outputs": [],
   "source": [
    "TOPPEST8=TOPPEST.sort_values(by=['Sale'], ascending=False, ignore_index=True)"
   ]
  },
  {
   "cell_type": "code",
   "execution_count": 90,
   "id": "7ff46755",
   "metadata": {},
   "outputs": [
    {
     "data": {
      "text/html": [
       "<div>\n",
       "<style scoped>\n",
       "    .dataframe tbody tr th:only-of-type {\n",
       "        vertical-align: middle;\n",
       "    }\n",
       "\n",
       "    .dataframe tbody tr th {\n",
       "        vertical-align: top;\n",
       "    }\n",
       "\n",
       "    .dataframe thead th {\n",
       "        text-align: right;\n",
       "    }\n",
       "</style>\n",
       "<table border=\"1\" class=\"dataframe\">\n",
       "  <thead>\n",
       "    <tr style=\"text-align: right;\">\n",
       "      <th></th>\n",
       "      <th>ProductsCategory</th>\n",
       "      <th>productname</th>\n",
       "      <th>Sale</th>\n",
       "    </tr>\n",
       "  </thead>\n",
       "  <tbody>\n",
       "    <tr>\n",
       "      <th>0</th>\n",
       "      <td>Corn</td>\n",
       "      <td>DKC9108 PLUS</td>\n",
       "      <td>16.0</td>\n",
       "    </tr>\n",
       "    <tr>\n",
       "      <th>1</th>\n",
       "      <td>Corn</td>\n",
       "      <td>DKC9108</td>\n",
       "      <td>14.0</td>\n",
       "    </tr>\n",
       "    <tr>\n",
       "      <th>2</th>\n",
       "      <td>Corn</td>\n",
       "      <td>DKC7074 4 KG</td>\n",
       "      <td>8.0</td>\n",
       "    </tr>\n",
       "    <tr>\n",
       "      <th>3</th>\n",
       "      <td>Corn</td>\n",
       "      <td>DKC9126 Acceleron 4 KG</td>\n",
       "      <td>8.0</td>\n",
       "    </tr>\n",
       "    <tr>\n",
       "      <th>4</th>\n",
       "      <td>Corn</td>\n",
       "      <td>DKC 8209 4KG</td>\n",
       "      <td>5.0</td>\n",
       "    </tr>\n",
       "  </tbody>\n",
       "</table>\n",
       "</div>"
      ],
      "text/plain": [
       "  ProductsCategory             productname  Sale\n",
       "0             Corn            DKC9108 PLUS  16.0\n",
       "1             Corn                 DKC9108  14.0\n",
       "2             Corn            DKC7074 4 KG   8.0\n",
       "3             Corn  DKC9126 Acceleron 4 KG   8.0\n",
       "4             Corn            DKC 8209 4KG   5.0"
      ]
     },
     "execution_count": 90,
     "metadata": {},
     "output_type": "execute_result"
    }
   ],
   "source": [
    "TOPPEST8"
   ]
  },
  {
   "cell_type": "markdown",
   "id": "b9cfe76e",
   "metadata": {},
   "source": [
    "# saving top product names in \"product\" category of 2021 "
   ]
  },
  {
   "cell_type": "code",
   "execution_count": 83,
   "id": "8ca8d3b3",
   "metadata": {},
   "outputs": [],
   "source": [
    "file_name3='CORN_topproductnames_2022.xlsx'\n",
    "Topproducts.to_excel(file_name3)"
   ]
  },
  {
   "cell_type": "markdown",
   "id": "618c0c29",
   "metadata": {},
   "source": [
    "# plotting Top product names by product category"
   ]
  },
  {
   "cell_type": "code",
   "execution_count": 309,
   "id": "22684dc2",
   "metadata": {
    "scrolled": true
   },
   "outputs": [],
   "source": [
    "#fig, axes = plt.subplots(figsize=(12,5))\n",
    "#ax=sns.barplot(x= 'productbrand', y='Sale', data=Topproducts)\n",
    "#for i in ax.containers:\n",
    "#    ax.bar_label(i,)\n",
    "#plt.title(\"Top product names by Fungicides category in 2022\")\n",
    "#plt.xticks(rotation = 'vertical')\n",
    "#plt.xlabel(\"Fungicides Category\")\n",
    "#plt.ylabel(\"totalSale\")\n",
    "#plt.show()"
   ]
  },
  {
   "cell_type": "code",
   "execution_count": 91,
   "id": "219d62e3",
   "metadata": {
    "scrolled": false
   },
   "outputs": [
    {
     "data": {
      "application/vnd.plotly.v1+json": {
       "config": {
        "plotlyServerURL": "https://plot.ly"
       },
       "data": [
        {
         "alignmentgroup": "True",
         "hovertemplate": "productname=%{y}<br>Sale (in Millions)=%{text}<extra></extra>",
         "legendgroup": "DKC9108 PLUS",
         "marker": {
          "color": "#1F77B4",
          "pattern": {
           "shape": ""
          }
         },
         "name": "DKC9108 PLUS",
         "offsetgroup": "DKC9108 PLUS",
         "orientation": "h",
         "showlegend": true,
         "text": [
          16
         ],
         "textposition": "auto",
         "type": "bar",
         "x": [
          16
         ],
         "xaxis": "x",
         "y": [
          "DKC9108 PLUS"
         ],
         "yaxis": "y"
        },
        {
         "alignmentgroup": "True",
         "hovertemplate": "productname=%{y}<br>Sale (in Millions)=%{text}<extra></extra>",
         "legendgroup": "DKC9108",
         "marker": {
          "color": "#FF7F0E",
          "pattern": {
           "shape": ""
          }
         },
         "name": "DKC9108",
         "offsetgroup": "DKC9108",
         "orientation": "h",
         "showlegend": true,
         "text": [
          14
         ],
         "textposition": "auto",
         "type": "bar",
         "x": [
          14
         ],
         "xaxis": "x",
         "y": [
          "DKC9108"
         ],
         "yaxis": "y"
        },
        {
         "alignmentgroup": "True",
         "hovertemplate": "productname=%{y}<br>Sale (in Millions)=%{text}<extra></extra>",
         "legendgroup": "DKC7074 4 KG",
         "marker": {
          "color": "#2CA02C",
          "pattern": {
           "shape": ""
          }
         },
         "name": "DKC7074 4 KG",
         "offsetgroup": "DKC7074 4 KG",
         "orientation": "h",
         "showlegend": true,
         "text": [
          8
         ],
         "textposition": "auto",
         "type": "bar",
         "x": [
          8
         ],
         "xaxis": "x",
         "y": [
          "DKC7074 4 KG"
         ],
         "yaxis": "y"
        },
        {
         "alignmentgroup": "True",
         "hovertemplate": "productname=%{y}<br>Sale (in Millions)=%{text}<extra></extra>",
         "legendgroup": "DKC9126 Acceleron 4 KG",
         "marker": {
          "color": "#D62728",
          "pattern": {
           "shape": ""
          }
         },
         "name": "DKC9126 Acceleron 4 KG",
         "offsetgroup": "DKC9126 Acceleron 4 KG",
         "orientation": "h",
         "showlegend": true,
         "text": [
          8
         ],
         "textposition": "auto",
         "type": "bar",
         "x": [
          8
         ],
         "xaxis": "x",
         "y": [
          "DKC9126 Acceleron 4 KG"
         ],
         "yaxis": "y"
        },
        {
         "alignmentgroup": "True",
         "hovertemplate": "productname=%{y}<br>Sale (in Millions)=%{text}<extra></extra>",
         "legendgroup": "DKC 8209 4KG",
         "marker": {
          "color": "#9467BD",
          "pattern": {
           "shape": ""
          }
         },
         "name": "DKC 8209 4KG",
         "offsetgroup": "DKC 8209 4KG",
         "orientation": "h",
         "showlegend": true,
         "text": [
          5
         ],
         "textposition": "auto",
         "type": "bar",
         "x": [
          5
         ],
         "xaxis": "x",
         "y": [
          "DKC 8209 4KG"
         ],
         "yaxis": "y"
        }
       ],
       "layout": {
        "barmode": "relative",
        "font": {
         "color": "darkcyan",
         "family": "Courier New",
         "size": 15
        },
        "legend": {
         "font": {
          "size": 10
         },
         "title": {
          "font": {
           "color": "black"
          },
          "text": "productname"
         },
         "tracegroupgap": 0
        },
        "template": {
         "data": {
          "bar": [
           {
            "error_x": {
             "color": "rgb(36,36,36)"
            },
            "error_y": {
             "color": "rgb(36,36,36)"
            },
            "marker": {
             "line": {
              "color": "white",
              "width": 0.5
             },
             "pattern": {
              "fillmode": "overlay",
              "size": 10,
              "solidity": 0.2
             }
            },
            "type": "bar"
           }
          ],
          "barpolar": [
           {
            "marker": {
             "line": {
              "color": "white",
              "width": 0.5
             },
             "pattern": {
              "fillmode": "overlay",
              "size": 10,
              "solidity": 0.2
             }
            },
            "type": "barpolar"
           }
          ],
          "carpet": [
           {
            "aaxis": {
             "endlinecolor": "rgb(36,36,36)",
             "gridcolor": "white",
             "linecolor": "white",
             "minorgridcolor": "white",
             "startlinecolor": "rgb(36,36,36)"
            },
            "baxis": {
             "endlinecolor": "rgb(36,36,36)",
             "gridcolor": "white",
             "linecolor": "white",
             "minorgridcolor": "white",
             "startlinecolor": "rgb(36,36,36)"
            },
            "type": "carpet"
           }
          ],
          "choropleth": [
           {
            "colorbar": {
             "outlinewidth": 1,
             "tickcolor": "rgb(36,36,36)",
             "ticks": "outside"
            },
            "type": "choropleth"
           }
          ],
          "contour": [
           {
            "colorbar": {
             "outlinewidth": 1,
             "tickcolor": "rgb(36,36,36)",
             "ticks": "outside"
            },
            "colorscale": [
             [
              0,
              "#440154"
             ],
             [
              0.1111111111111111,
              "#482878"
             ],
             [
              0.2222222222222222,
              "#3e4989"
             ],
             [
              0.3333333333333333,
              "#31688e"
             ],
             [
              0.4444444444444444,
              "#26828e"
             ],
             [
              0.5555555555555556,
              "#1f9e89"
             ],
             [
              0.6666666666666666,
              "#35b779"
             ],
             [
              0.7777777777777778,
              "#6ece58"
             ],
             [
              0.8888888888888888,
              "#b5de2b"
             ],
             [
              1,
              "#fde725"
             ]
            ],
            "type": "contour"
           }
          ],
          "contourcarpet": [
           {
            "colorbar": {
             "outlinewidth": 1,
             "tickcolor": "rgb(36,36,36)",
             "ticks": "outside"
            },
            "type": "contourcarpet"
           }
          ],
          "heatmap": [
           {
            "colorbar": {
             "outlinewidth": 1,
             "tickcolor": "rgb(36,36,36)",
             "ticks": "outside"
            },
            "colorscale": [
             [
              0,
              "#440154"
             ],
             [
              0.1111111111111111,
              "#482878"
             ],
             [
              0.2222222222222222,
              "#3e4989"
             ],
             [
              0.3333333333333333,
              "#31688e"
             ],
             [
              0.4444444444444444,
              "#26828e"
             ],
             [
              0.5555555555555556,
              "#1f9e89"
             ],
             [
              0.6666666666666666,
              "#35b779"
             ],
             [
              0.7777777777777778,
              "#6ece58"
             ],
             [
              0.8888888888888888,
              "#b5de2b"
             ],
             [
              1,
              "#fde725"
             ]
            ],
            "type": "heatmap"
           }
          ],
          "heatmapgl": [
           {
            "colorbar": {
             "outlinewidth": 1,
             "tickcolor": "rgb(36,36,36)",
             "ticks": "outside"
            },
            "colorscale": [
             [
              0,
              "#440154"
             ],
             [
              0.1111111111111111,
              "#482878"
             ],
             [
              0.2222222222222222,
              "#3e4989"
             ],
             [
              0.3333333333333333,
              "#31688e"
             ],
             [
              0.4444444444444444,
              "#26828e"
             ],
             [
              0.5555555555555556,
              "#1f9e89"
             ],
             [
              0.6666666666666666,
              "#35b779"
             ],
             [
              0.7777777777777778,
              "#6ece58"
             ],
             [
              0.8888888888888888,
              "#b5de2b"
             ],
             [
              1,
              "#fde725"
             ]
            ],
            "type": "heatmapgl"
           }
          ],
          "histogram": [
           {
            "marker": {
             "line": {
              "color": "white",
              "width": 0.6
             }
            },
            "type": "histogram"
           }
          ],
          "histogram2d": [
           {
            "colorbar": {
             "outlinewidth": 1,
             "tickcolor": "rgb(36,36,36)",
             "ticks": "outside"
            },
            "colorscale": [
             [
              0,
              "#440154"
             ],
             [
              0.1111111111111111,
              "#482878"
             ],
             [
              0.2222222222222222,
              "#3e4989"
             ],
             [
              0.3333333333333333,
              "#31688e"
             ],
             [
              0.4444444444444444,
              "#26828e"
             ],
             [
              0.5555555555555556,
              "#1f9e89"
             ],
             [
              0.6666666666666666,
              "#35b779"
             ],
             [
              0.7777777777777778,
              "#6ece58"
             ],
             [
              0.8888888888888888,
              "#b5de2b"
             ],
             [
              1,
              "#fde725"
             ]
            ],
            "type": "histogram2d"
           }
          ],
          "histogram2dcontour": [
           {
            "colorbar": {
             "outlinewidth": 1,
             "tickcolor": "rgb(36,36,36)",
             "ticks": "outside"
            },
            "colorscale": [
             [
              0,
              "#440154"
             ],
             [
              0.1111111111111111,
              "#482878"
             ],
             [
              0.2222222222222222,
              "#3e4989"
             ],
             [
              0.3333333333333333,
              "#31688e"
             ],
             [
              0.4444444444444444,
              "#26828e"
             ],
             [
              0.5555555555555556,
              "#1f9e89"
             ],
             [
              0.6666666666666666,
              "#35b779"
             ],
             [
              0.7777777777777778,
              "#6ece58"
             ],
             [
              0.8888888888888888,
              "#b5de2b"
             ],
             [
              1,
              "#fde725"
             ]
            ],
            "type": "histogram2dcontour"
           }
          ],
          "mesh3d": [
           {
            "colorbar": {
             "outlinewidth": 1,
             "tickcolor": "rgb(36,36,36)",
             "ticks": "outside"
            },
            "type": "mesh3d"
           }
          ],
          "parcoords": [
           {
            "line": {
             "colorbar": {
              "outlinewidth": 1,
              "tickcolor": "rgb(36,36,36)",
              "ticks": "outside"
             }
            },
            "type": "parcoords"
           }
          ],
          "pie": [
           {
            "automargin": true,
            "type": "pie"
           }
          ],
          "scatter": [
           {
            "fillpattern": {
             "fillmode": "overlay",
             "size": 10,
             "solidity": 0.2
            },
            "type": "scatter"
           }
          ],
          "scatter3d": [
           {
            "line": {
             "colorbar": {
              "outlinewidth": 1,
              "tickcolor": "rgb(36,36,36)",
              "ticks": "outside"
             }
            },
            "marker": {
             "colorbar": {
              "outlinewidth": 1,
              "tickcolor": "rgb(36,36,36)",
              "ticks": "outside"
             }
            },
            "type": "scatter3d"
           }
          ],
          "scattercarpet": [
           {
            "marker": {
             "colorbar": {
              "outlinewidth": 1,
              "tickcolor": "rgb(36,36,36)",
              "ticks": "outside"
             }
            },
            "type": "scattercarpet"
           }
          ],
          "scattergeo": [
           {
            "marker": {
             "colorbar": {
              "outlinewidth": 1,
              "tickcolor": "rgb(36,36,36)",
              "ticks": "outside"
             }
            },
            "type": "scattergeo"
           }
          ],
          "scattergl": [
           {
            "marker": {
             "colorbar": {
              "outlinewidth": 1,
              "tickcolor": "rgb(36,36,36)",
              "ticks": "outside"
             }
            },
            "type": "scattergl"
           }
          ],
          "scattermapbox": [
           {
            "marker": {
             "colorbar": {
              "outlinewidth": 1,
              "tickcolor": "rgb(36,36,36)",
              "ticks": "outside"
             }
            },
            "type": "scattermapbox"
           }
          ],
          "scatterpolar": [
           {
            "marker": {
             "colorbar": {
              "outlinewidth": 1,
              "tickcolor": "rgb(36,36,36)",
              "ticks": "outside"
             }
            },
            "type": "scatterpolar"
           }
          ],
          "scatterpolargl": [
           {
            "marker": {
             "colorbar": {
              "outlinewidth": 1,
              "tickcolor": "rgb(36,36,36)",
              "ticks": "outside"
             }
            },
            "type": "scatterpolargl"
           }
          ],
          "scatterternary": [
           {
            "marker": {
             "colorbar": {
              "outlinewidth": 1,
              "tickcolor": "rgb(36,36,36)",
              "ticks": "outside"
             }
            },
            "type": "scatterternary"
           }
          ],
          "surface": [
           {
            "colorbar": {
             "outlinewidth": 1,
             "tickcolor": "rgb(36,36,36)",
             "ticks": "outside"
            },
            "colorscale": [
             [
              0,
              "#440154"
             ],
             [
              0.1111111111111111,
              "#482878"
             ],
             [
              0.2222222222222222,
              "#3e4989"
             ],
             [
              0.3333333333333333,
              "#31688e"
             ],
             [
              0.4444444444444444,
              "#26828e"
             ],
             [
              0.5555555555555556,
              "#1f9e89"
             ],
             [
              0.6666666666666666,
              "#35b779"
             ],
             [
              0.7777777777777778,
              "#6ece58"
             ],
             [
              0.8888888888888888,
              "#b5de2b"
             ],
             [
              1,
              "#fde725"
             ]
            ],
            "type": "surface"
           }
          ],
          "table": [
           {
            "cells": {
             "fill": {
              "color": "rgb(237,237,237)"
             },
             "line": {
              "color": "white"
             }
            },
            "header": {
             "fill": {
              "color": "rgb(217,217,217)"
             },
             "line": {
              "color": "white"
             }
            },
            "type": "table"
           }
          ]
         },
         "layout": {
          "annotationdefaults": {
           "arrowhead": 0,
           "arrowwidth": 1
          },
          "autotypenumbers": "strict",
          "coloraxis": {
           "colorbar": {
            "outlinewidth": 1,
            "tickcolor": "rgb(36,36,36)",
            "ticks": "outside"
           }
          },
          "colorscale": {
           "diverging": [
            [
             0,
             "rgb(103,0,31)"
            ],
            [
             0.1,
             "rgb(178,24,43)"
            ],
            [
             0.2,
             "rgb(214,96,77)"
            ],
            [
             0.3,
             "rgb(244,165,130)"
            ],
            [
             0.4,
             "rgb(253,219,199)"
            ],
            [
             0.5,
             "rgb(247,247,247)"
            ],
            [
             0.6,
             "rgb(209,229,240)"
            ],
            [
             0.7,
             "rgb(146,197,222)"
            ],
            [
             0.8,
             "rgb(67,147,195)"
            ],
            [
             0.9,
             "rgb(33,102,172)"
            ],
            [
             1,
             "rgb(5,48,97)"
            ]
           ],
           "sequential": [
            [
             0,
             "#440154"
            ],
            [
             0.1111111111111111,
             "#482878"
            ],
            [
             0.2222222222222222,
             "#3e4989"
            ],
            [
             0.3333333333333333,
             "#31688e"
            ],
            [
             0.4444444444444444,
             "#26828e"
            ],
            [
             0.5555555555555556,
             "#1f9e89"
            ],
            [
             0.6666666666666666,
             "#35b779"
            ],
            [
             0.7777777777777778,
             "#6ece58"
            ],
            [
             0.8888888888888888,
             "#b5de2b"
            ],
            [
             1,
             "#fde725"
            ]
           ],
           "sequentialminus": [
            [
             0,
             "#440154"
            ],
            [
             0.1111111111111111,
             "#482878"
            ],
            [
             0.2222222222222222,
             "#3e4989"
            ],
            [
             0.3333333333333333,
             "#31688e"
            ],
            [
             0.4444444444444444,
             "#26828e"
            ],
            [
             0.5555555555555556,
             "#1f9e89"
            ],
            [
             0.6666666666666666,
             "#35b779"
            ],
            [
             0.7777777777777778,
             "#6ece58"
            ],
            [
             0.8888888888888888,
             "#b5de2b"
            ],
            [
             1,
             "#fde725"
            ]
           ]
          },
          "colorway": [
           "#1F77B4",
           "#FF7F0E",
           "#2CA02C",
           "#D62728",
           "#9467BD",
           "#8C564B",
           "#E377C2",
           "#7F7F7F",
           "#BCBD22",
           "#17BECF"
          ],
          "font": {
           "color": "rgb(36,36,36)"
          },
          "geo": {
           "bgcolor": "white",
           "lakecolor": "white",
           "landcolor": "white",
           "showlakes": true,
           "showland": true,
           "subunitcolor": "white"
          },
          "hoverlabel": {
           "align": "left"
          },
          "hovermode": "closest",
          "mapbox": {
           "style": "light"
          },
          "paper_bgcolor": "white",
          "plot_bgcolor": "white",
          "polar": {
           "angularaxis": {
            "gridcolor": "rgb(232,232,232)",
            "linecolor": "rgb(36,36,36)",
            "showgrid": false,
            "showline": true,
            "ticks": "outside"
           },
           "bgcolor": "white",
           "radialaxis": {
            "gridcolor": "rgb(232,232,232)",
            "linecolor": "rgb(36,36,36)",
            "showgrid": false,
            "showline": true,
            "ticks": "outside"
           }
          },
          "scene": {
           "xaxis": {
            "backgroundcolor": "white",
            "gridcolor": "rgb(232,232,232)",
            "gridwidth": 2,
            "linecolor": "rgb(36,36,36)",
            "showbackground": true,
            "showgrid": false,
            "showline": true,
            "ticks": "outside",
            "zeroline": false,
            "zerolinecolor": "rgb(36,36,36)"
           },
           "yaxis": {
            "backgroundcolor": "white",
            "gridcolor": "rgb(232,232,232)",
            "gridwidth": 2,
            "linecolor": "rgb(36,36,36)",
            "showbackground": true,
            "showgrid": false,
            "showline": true,
            "ticks": "outside",
            "zeroline": false,
            "zerolinecolor": "rgb(36,36,36)"
           },
           "zaxis": {
            "backgroundcolor": "white",
            "gridcolor": "rgb(232,232,232)",
            "gridwidth": 2,
            "linecolor": "rgb(36,36,36)",
            "showbackground": true,
            "showgrid": false,
            "showline": true,
            "ticks": "outside",
            "zeroline": false,
            "zerolinecolor": "rgb(36,36,36)"
           }
          },
          "shapedefaults": {
           "fillcolor": "black",
           "line": {
            "width": 0
           },
           "opacity": 0.3
          },
          "ternary": {
           "aaxis": {
            "gridcolor": "rgb(232,232,232)",
            "linecolor": "rgb(36,36,36)",
            "showgrid": false,
            "showline": true,
            "ticks": "outside"
           },
           "baxis": {
            "gridcolor": "rgb(232,232,232)",
            "linecolor": "rgb(36,36,36)",
            "showgrid": false,
            "showline": true,
            "ticks": "outside"
           },
           "bgcolor": "white",
           "caxis": {
            "gridcolor": "rgb(232,232,232)",
            "linecolor": "rgb(36,36,36)",
            "showgrid": false,
            "showline": true,
            "ticks": "outside"
           }
          },
          "title": {
           "x": 0.05
          },
          "xaxis": {
           "automargin": true,
           "gridcolor": "rgb(232,232,232)",
           "linecolor": "rgb(36,36,36)",
           "showgrid": false,
           "showline": true,
           "ticks": "outside",
           "title": {
            "standoff": 15
           },
           "zeroline": false,
           "zerolinecolor": "rgb(36,36,36)"
          },
          "yaxis": {
           "automargin": true,
           "gridcolor": "rgb(232,232,232)",
           "linecolor": "rgb(36,36,36)",
           "showgrid": false,
           "showline": true,
           "ticks": "outside",
           "title": {
            "standoff": 15
           },
           "zeroline": false,
           "zerolinecolor": "rgb(36,36,36)"
          }
         }
        },
        "title": {
         "font": {
          "color": "red",
          "family": "Times New Roman",
          "size": 30
         },
         "text": "Top product names salesvalue by product category CORN in 2022"
        },
        "xaxis": {
         "anchor": "y",
         "domain": [
          0,
          1
         ],
         "title": {
          "text": "Sale (in Millions)"
         }
        },
        "yaxis": {
         "anchor": "x",
         "categoryarray": [
          "DKC 8209 4KG",
          "DKC9126 Acceleron 4 KG",
          "DKC7074 4 KG",
          "DKC9108",
          "DKC9108 PLUS"
         ],
         "categoryorder": "array",
         "domain": [
          0,
          1
         ],
         "tickfont": {
          "family": "Arial Black"
         },
         "title": {
          "text": "Product Names"
         }
        }
       }
      },
      "text/html": [
       "<div>                            <div id=\"fd875975-441f-4197-bb87-da52128058b0\" class=\"plotly-graph-div\" style=\"height:525px; width:100%;\"></div>            <script type=\"text/javascript\">                require([\"plotly\"], function(Plotly) {                    window.PLOTLYENV=window.PLOTLYENV || {};                                    if (document.getElementById(\"fd875975-441f-4197-bb87-da52128058b0\")) {                    Plotly.newPlot(                        \"fd875975-441f-4197-bb87-da52128058b0\",                        [{\"alignmentgroup\":\"True\",\"hovertemplate\":\"productname=%{y}<br>Sale (in Millions)=%{text}<extra></extra>\",\"legendgroup\":\"DKC9108 PLUS\",\"marker\":{\"color\":\"#1F77B4\",\"pattern\":{\"shape\":\"\"}},\"name\":\"DKC9108 PLUS\",\"offsetgroup\":\"DKC9108 PLUS\",\"orientation\":\"h\",\"showlegend\":true,\"text\":[16.0],\"textposition\":\"auto\",\"x\":[16.0],\"xaxis\":\"x\",\"y\":[\"DKC9108 PLUS\"],\"yaxis\":\"y\",\"type\":\"bar\"},{\"alignmentgroup\":\"True\",\"hovertemplate\":\"productname=%{y}<br>Sale (in Millions)=%{text}<extra></extra>\",\"legendgroup\":\"DKC9108\",\"marker\":{\"color\":\"#FF7F0E\",\"pattern\":{\"shape\":\"\"}},\"name\":\"DKC9108\",\"offsetgroup\":\"DKC9108\",\"orientation\":\"h\",\"showlegend\":true,\"text\":[14.0],\"textposition\":\"auto\",\"x\":[14.0],\"xaxis\":\"x\",\"y\":[\"DKC9108\"],\"yaxis\":\"y\",\"type\":\"bar\"},{\"alignmentgroup\":\"True\",\"hovertemplate\":\"productname=%{y}<br>Sale (in Millions)=%{text}<extra></extra>\",\"legendgroup\":\"DKC7074 4 KG\",\"marker\":{\"color\":\"#2CA02C\",\"pattern\":{\"shape\":\"\"}},\"name\":\"DKC7074 4 KG\",\"offsetgroup\":\"DKC7074 4 KG\",\"orientation\":\"h\",\"showlegend\":true,\"text\":[8.0],\"textposition\":\"auto\",\"x\":[8.0],\"xaxis\":\"x\",\"y\":[\"DKC7074 4 KG\"],\"yaxis\":\"y\",\"type\":\"bar\"},{\"alignmentgroup\":\"True\",\"hovertemplate\":\"productname=%{y}<br>Sale (in Millions)=%{text}<extra></extra>\",\"legendgroup\":\"DKC9126 Acceleron 4 KG\",\"marker\":{\"color\":\"#D62728\",\"pattern\":{\"shape\":\"\"}},\"name\":\"DKC9126 Acceleron 4 KG\",\"offsetgroup\":\"DKC9126 Acceleron 4 KG\",\"orientation\":\"h\",\"showlegend\":true,\"text\":[8.0],\"textposition\":\"auto\",\"x\":[8.0],\"xaxis\":\"x\",\"y\":[\"DKC9126 Acceleron 4 KG\"],\"yaxis\":\"y\",\"type\":\"bar\"},{\"alignmentgroup\":\"True\",\"hovertemplate\":\"productname=%{y}<br>Sale (in Millions)=%{text}<extra></extra>\",\"legendgroup\":\"DKC 8209 4KG\",\"marker\":{\"color\":\"#9467BD\",\"pattern\":{\"shape\":\"\"}},\"name\":\"DKC 8209 4KG\",\"offsetgroup\":\"DKC 8209 4KG\",\"orientation\":\"h\",\"showlegend\":true,\"text\":[5.0],\"textposition\":\"auto\",\"x\":[5.0],\"xaxis\":\"x\",\"y\":[\"DKC 8209 4KG\"],\"yaxis\":\"y\",\"type\":\"bar\"}],                        {\"template\":{\"data\":{\"barpolar\":[{\"marker\":{\"line\":{\"color\":\"white\",\"width\":0.5},\"pattern\":{\"fillmode\":\"overlay\",\"size\":10,\"solidity\":0.2}},\"type\":\"barpolar\"}],\"bar\":[{\"error_x\":{\"color\":\"rgb(36,36,36)\"},\"error_y\":{\"color\":\"rgb(36,36,36)\"},\"marker\":{\"line\":{\"color\":\"white\",\"width\":0.5},\"pattern\":{\"fillmode\":\"overlay\",\"size\":10,\"solidity\":0.2}},\"type\":\"bar\"}],\"carpet\":[{\"aaxis\":{\"endlinecolor\":\"rgb(36,36,36)\",\"gridcolor\":\"white\",\"linecolor\":\"white\",\"minorgridcolor\":\"white\",\"startlinecolor\":\"rgb(36,36,36)\"},\"baxis\":{\"endlinecolor\":\"rgb(36,36,36)\",\"gridcolor\":\"white\",\"linecolor\":\"white\",\"minorgridcolor\":\"white\",\"startlinecolor\":\"rgb(36,36,36)\"},\"type\":\"carpet\"}],\"choropleth\":[{\"colorbar\":{\"outlinewidth\":1,\"tickcolor\":\"rgb(36,36,36)\",\"ticks\":\"outside\"},\"type\":\"choropleth\"}],\"contourcarpet\":[{\"colorbar\":{\"outlinewidth\":1,\"tickcolor\":\"rgb(36,36,36)\",\"ticks\":\"outside\"},\"type\":\"contourcarpet\"}],\"contour\":[{\"colorbar\":{\"outlinewidth\":1,\"tickcolor\":\"rgb(36,36,36)\",\"ticks\":\"outside\"},\"colorscale\":[[0.0,\"#440154\"],[0.1111111111111111,\"#482878\"],[0.2222222222222222,\"#3e4989\"],[0.3333333333333333,\"#31688e\"],[0.4444444444444444,\"#26828e\"],[0.5555555555555556,\"#1f9e89\"],[0.6666666666666666,\"#35b779\"],[0.7777777777777778,\"#6ece58\"],[0.8888888888888888,\"#b5de2b\"],[1.0,\"#fde725\"]],\"type\":\"contour\"}],\"heatmapgl\":[{\"colorbar\":{\"outlinewidth\":1,\"tickcolor\":\"rgb(36,36,36)\",\"ticks\":\"outside\"},\"colorscale\":[[0.0,\"#440154\"],[0.1111111111111111,\"#482878\"],[0.2222222222222222,\"#3e4989\"],[0.3333333333333333,\"#31688e\"],[0.4444444444444444,\"#26828e\"],[0.5555555555555556,\"#1f9e89\"],[0.6666666666666666,\"#35b779\"],[0.7777777777777778,\"#6ece58\"],[0.8888888888888888,\"#b5de2b\"],[1.0,\"#fde725\"]],\"type\":\"heatmapgl\"}],\"heatmap\":[{\"colorbar\":{\"outlinewidth\":1,\"tickcolor\":\"rgb(36,36,36)\",\"ticks\":\"outside\"},\"colorscale\":[[0.0,\"#440154\"],[0.1111111111111111,\"#482878\"],[0.2222222222222222,\"#3e4989\"],[0.3333333333333333,\"#31688e\"],[0.4444444444444444,\"#26828e\"],[0.5555555555555556,\"#1f9e89\"],[0.6666666666666666,\"#35b779\"],[0.7777777777777778,\"#6ece58\"],[0.8888888888888888,\"#b5de2b\"],[1.0,\"#fde725\"]],\"type\":\"heatmap\"}],\"histogram2dcontour\":[{\"colorbar\":{\"outlinewidth\":1,\"tickcolor\":\"rgb(36,36,36)\",\"ticks\":\"outside\"},\"colorscale\":[[0.0,\"#440154\"],[0.1111111111111111,\"#482878\"],[0.2222222222222222,\"#3e4989\"],[0.3333333333333333,\"#31688e\"],[0.4444444444444444,\"#26828e\"],[0.5555555555555556,\"#1f9e89\"],[0.6666666666666666,\"#35b779\"],[0.7777777777777778,\"#6ece58\"],[0.8888888888888888,\"#b5de2b\"],[1.0,\"#fde725\"]],\"type\":\"histogram2dcontour\"}],\"histogram2d\":[{\"colorbar\":{\"outlinewidth\":1,\"tickcolor\":\"rgb(36,36,36)\",\"ticks\":\"outside\"},\"colorscale\":[[0.0,\"#440154\"],[0.1111111111111111,\"#482878\"],[0.2222222222222222,\"#3e4989\"],[0.3333333333333333,\"#31688e\"],[0.4444444444444444,\"#26828e\"],[0.5555555555555556,\"#1f9e89\"],[0.6666666666666666,\"#35b779\"],[0.7777777777777778,\"#6ece58\"],[0.8888888888888888,\"#b5de2b\"],[1.0,\"#fde725\"]],\"type\":\"histogram2d\"}],\"histogram\":[{\"marker\":{\"line\":{\"color\":\"white\",\"width\":0.6}},\"type\":\"histogram\"}],\"mesh3d\":[{\"colorbar\":{\"outlinewidth\":1,\"tickcolor\":\"rgb(36,36,36)\",\"ticks\":\"outside\"},\"type\":\"mesh3d\"}],\"parcoords\":[{\"line\":{\"colorbar\":{\"outlinewidth\":1,\"tickcolor\":\"rgb(36,36,36)\",\"ticks\":\"outside\"}},\"type\":\"parcoords\"}],\"pie\":[{\"automargin\":true,\"type\":\"pie\"}],\"scatter3d\":[{\"line\":{\"colorbar\":{\"outlinewidth\":1,\"tickcolor\":\"rgb(36,36,36)\",\"ticks\":\"outside\"}},\"marker\":{\"colorbar\":{\"outlinewidth\":1,\"tickcolor\":\"rgb(36,36,36)\",\"ticks\":\"outside\"}},\"type\":\"scatter3d\"}],\"scattercarpet\":[{\"marker\":{\"colorbar\":{\"outlinewidth\":1,\"tickcolor\":\"rgb(36,36,36)\",\"ticks\":\"outside\"}},\"type\":\"scattercarpet\"}],\"scattergeo\":[{\"marker\":{\"colorbar\":{\"outlinewidth\":1,\"tickcolor\":\"rgb(36,36,36)\",\"ticks\":\"outside\"}},\"type\":\"scattergeo\"}],\"scattergl\":[{\"marker\":{\"colorbar\":{\"outlinewidth\":1,\"tickcolor\":\"rgb(36,36,36)\",\"ticks\":\"outside\"}},\"type\":\"scattergl\"}],\"scattermapbox\":[{\"marker\":{\"colorbar\":{\"outlinewidth\":1,\"tickcolor\":\"rgb(36,36,36)\",\"ticks\":\"outside\"}},\"type\":\"scattermapbox\"}],\"scatterpolargl\":[{\"marker\":{\"colorbar\":{\"outlinewidth\":1,\"tickcolor\":\"rgb(36,36,36)\",\"ticks\":\"outside\"}},\"type\":\"scatterpolargl\"}],\"scatterpolar\":[{\"marker\":{\"colorbar\":{\"outlinewidth\":1,\"tickcolor\":\"rgb(36,36,36)\",\"ticks\":\"outside\"}},\"type\":\"scatterpolar\"}],\"scatter\":[{\"fillpattern\":{\"fillmode\":\"overlay\",\"size\":10,\"solidity\":0.2},\"type\":\"scatter\"}],\"scatterternary\":[{\"marker\":{\"colorbar\":{\"outlinewidth\":1,\"tickcolor\":\"rgb(36,36,36)\",\"ticks\":\"outside\"}},\"type\":\"scatterternary\"}],\"surface\":[{\"colorbar\":{\"outlinewidth\":1,\"tickcolor\":\"rgb(36,36,36)\",\"ticks\":\"outside\"},\"colorscale\":[[0.0,\"#440154\"],[0.1111111111111111,\"#482878\"],[0.2222222222222222,\"#3e4989\"],[0.3333333333333333,\"#31688e\"],[0.4444444444444444,\"#26828e\"],[0.5555555555555556,\"#1f9e89\"],[0.6666666666666666,\"#35b779\"],[0.7777777777777778,\"#6ece58\"],[0.8888888888888888,\"#b5de2b\"],[1.0,\"#fde725\"]],\"type\":\"surface\"}],\"table\":[{\"cells\":{\"fill\":{\"color\":\"rgb(237,237,237)\"},\"line\":{\"color\":\"white\"}},\"header\":{\"fill\":{\"color\":\"rgb(217,217,217)\"},\"line\":{\"color\":\"white\"}},\"type\":\"table\"}]},\"layout\":{\"annotationdefaults\":{\"arrowhead\":0,\"arrowwidth\":1},\"autotypenumbers\":\"strict\",\"coloraxis\":{\"colorbar\":{\"outlinewidth\":1,\"tickcolor\":\"rgb(36,36,36)\",\"ticks\":\"outside\"}},\"colorscale\":{\"diverging\":[[0.0,\"rgb(103,0,31)\"],[0.1,\"rgb(178,24,43)\"],[0.2,\"rgb(214,96,77)\"],[0.3,\"rgb(244,165,130)\"],[0.4,\"rgb(253,219,199)\"],[0.5,\"rgb(247,247,247)\"],[0.6,\"rgb(209,229,240)\"],[0.7,\"rgb(146,197,222)\"],[0.8,\"rgb(67,147,195)\"],[0.9,\"rgb(33,102,172)\"],[1.0,\"rgb(5,48,97)\"]],\"sequential\":[[0.0,\"#440154\"],[0.1111111111111111,\"#482878\"],[0.2222222222222222,\"#3e4989\"],[0.3333333333333333,\"#31688e\"],[0.4444444444444444,\"#26828e\"],[0.5555555555555556,\"#1f9e89\"],[0.6666666666666666,\"#35b779\"],[0.7777777777777778,\"#6ece58\"],[0.8888888888888888,\"#b5de2b\"],[1.0,\"#fde725\"]],\"sequentialminus\":[[0.0,\"#440154\"],[0.1111111111111111,\"#482878\"],[0.2222222222222222,\"#3e4989\"],[0.3333333333333333,\"#31688e\"],[0.4444444444444444,\"#26828e\"],[0.5555555555555556,\"#1f9e89\"],[0.6666666666666666,\"#35b779\"],[0.7777777777777778,\"#6ece58\"],[0.8888888888888888,\"#b5de2b\"],[1.0,\"#fde725\"]]},\"colorway\":[\"#1F77B4\",\"#FF7F0E\",\"#2CA02C\",\"#D62728\",\"#9467BD\",\"#8C564B\",\"#E377C2\",\"#7F7F7F\",\"#BCBD22\",\"#17BECF\"],\"font\":{\"color\":\"rgb(36,36,36)\"},\"geo\":{\"bgcolor\":\"white\",\"lakecolor\":\"white\",\"landcolor\":\"white\",\"showlakes\":true,\"showland\":true,\"subunitcolor\":\"white\"},\"hoverlabel\":{\"align\":\"left\"},\"hovermode\":\"closest\",\"mapbox\":{\"style\":\"light\"},\"paper_bgcolor\":\"white\",\"plot_bgcolor\":\"white\",\"polar\":{\"angularaxis\":{\"gridcolor\":\"rgb(232,232,232)\",\"linecolor\":\"rgb(36,36,36)\",\"showgrid\":false,\"showline\":true,\"ticks\":\"outside\"},\"bgcolor\":\"white\",\"radialaxis\":{\"gridcolor\":\"rgb(232,232,232)\",\"linecolor\":\"rgb(36,36,36)\",\"showgrid\":false,\"showline\":true,\"ticks\":\"outside\"}},\"scene\":{\"xaxis\":{\"backgroundcolor\":\"white\",\"gridcolor\":\"rgb(232,232,232)\",\"gridwidth\":2,\"linecolor\":\"rgb(36,36,36)\",\"showbackground\":true,\"showgrid\":false,\"showline\":true,\"ticks\":\"outside\",\"zeroline\":false,\"zerolinecolor\":\"rgb(36,36,36)\"},\"yaxis\":{\"backgroundcolor\":\"white\",\"gridcolor\":\"rgb(232,232,232)\",\"gridwidth\":2,\"linecolor\":\"rgb(36,36,36)\",\"showbackground\":true,\"showgrid\":false,\"showline\":true,\"ticks\":\"outside\",\"zeroline\":false,\"zerolinecolor\":\"rgb(36,36,36)\"},\"zaxis\":{\"backgroundcolor\":\"white\",\"gridcolor\":\"rgb(232,232,232)\",\"gridwidth\":2,\"linecolor\":\"rgb(36,36,36)\",\"showbackground\":true,\"showgrid\":false,\"showline\":true,\"ticks\":\"outside\",\"zeroline\":false,\"zerolinecolor\":\"rgb(36,36,36)\"}},\"shapedefaults\":{\"fillcolor\":\"black\",\"line\":{\"width\":0},\"opacity\":0.3},\"ternary\":{\"aaxis\":{\"gridcolor\":\"rgb(232,232,232)\",\"linecolor\":\"rgb(36,36,36)\",\"showgrid\":false,\"showline\":true,\"ticks\":\"outside\"},\"baxis\":{\"gridcolor\":\"rgb(232,232,232)\",\"linecolor\":\"rgb(36,36,36)\",\"showgrid\":false,\"showline\":true,\"ticks\":\"outside\"},\"bgcolor\":\"white\",\"caxis\":{\"gridcolor\":\"rgb(232,232,232)\",\"linecolor\":\"rgb(36,36,36)\",\"showgrid\":false,\"showline\":true,\"ticks\":\"outside\"}},\"title\":{\"x\":0.05},\"xaxis\":{\"automargin\":true,\"gridcolor\":\"rgb(232,232,232)\",\"linecolor\":\"rgb(36,36,36)\",\"showgrid\":false,\"showline\":true,\"ticks\":\"outside\",\"title\":{\"standoff\":15},\"zeroline\":false,\"zerolinecolor\":\"rgb(36,36,36)\"},\"yaxis\":{\"automargin\":true,\"gridcolor\":\"rgb(232,232,232)\",\"linecolor\":\"rgb(36,36,36)\",\"showgrid\":false,\"showline\":true,\"ticks\":\"outside\",\"title\":{\"standoff\":15},\"zeroline\":false,\"zerolinecolor\":\"rgb(36,36,36)\"}}},\"xaxis\":{\"anchor\":\"y\",\"domain\":[0.0,1.0],\"title\":{\"text\":\"Sale (in Millions)\"}},\"yaxis\":{\"anchor\":\"x\",\"domain\":[0.0,1.0],\"title\":{\"text\":\"Product Names\"},\"categoryorder\":\"array\",\"categoryarray\":[\"DKC 8209 4KG\",\"DKC9126 Acceleron 4 KG\",\"DKC7074 4 KG\",\"DKC9108\",\"DKC9108 PLUS\"],\"tickfont\":{\"family\":\"Arial Black\"}},\"legend\":{\"title\":{\"text\":\"productname\",\"font\":{\"color\":\"black\"}},\"tracegroupgap\":0,\"font\":{\"size\":10}},\"title\":{\"text\":\"Top product names salesvalue by product category CORN in 2022\",\"font\":{\"family\":\"Times New Roman\",\"size\":30,\"color\":\"red\"}},\"barmode\":\"relative\",\"font\":{\"family\":\"Courier New\",\"color\":\"darkcyan\",\"size\":15}},                        {\"responsive\": true}                    ).then(function(){\n",
       "                            \n",
       "var gd = document.getElementById('fd875975-441f-4197-bb87-da52128058b0');\n",
       "var x = new MutationObserver(function (mutations, observer) {{\n",
       "        var display = window.getComputedStyle(gd).display;\n",
       "        if (!display || display === 'none') {{\n",
       "            console.log([gd, 'removed!']);\n",
       "            Plotly.purge(gd);\n",
       "            observer.disconnect();\n",
       "        }}\n",
       "}});\n",
       "\n",
       "// Listen for the removal of the full notebook cells\n",
       "var notebookContainer = gd.closest('#notebook-container');\n",
       "if (notebookContainer) {{\n",
       "    x.observe(notebookContainer, {childList: true});\n",
       "}}\n",
       "\n",
       "// Listen for the clearing of the current output cell\n",
       "var outputEl = gd.closest('.output');\n",
       "if (outputEl) {{\n",
       "    x.observe(outputEl, {childList: true});\n",
       "}}\n",
       "\n",
       "                        })                };                });            </script>        </div>"
      ]
     },
     "metadata": {},
     "output_type": "display_data"
    }
   ],
   "source": [
    "import plotly.express as px\n",
    "from plotly.offline import iplot\n",
    "import plotly.graph_objects as go\n",
    "#color_discrete_map = {'Cotton': 'orange'}\n",
    "fig=px.bar(TOPPEST8, x=\"Sale\", y=\"productname\",\n",
    "           text=\"Sale\", color=\"productname\",\n",
    "           labels={\"Sale\": \"Sale (in Millions)\"},\n",
    "           title= \"Top product names salesvalue by product category CORN in 2022\", #color_discrete_map = color_discrete_map,\n",
    "           template=\"simple_white\")\n",
    "#fig.update_layout(autosize=True,width=1000,height=800)\n",
    "#layout = {'title': 'Top product brand sales by product category FUNGICIDES in 2022'}\n",
    "#layout['xaxis'] = {'title': 'Sales in Millions'}\n",
    "fig.update_layout(\n",
    "    yaxis_title=\"Product Names\",\n",
    "    xaxis_title=\"Sale (in Millions)\",\n",
    "    #font_family=\"Arial Black\",\n",
    "    font_family=\"Courier New\",\n",
    "    font_color=\"darkcyan\",\n",
    "    font_size=15,\n",
    "    title_font_family=\"Times New Roman\",\n",
    "    title_font_size=30,\n",
    "    title_font_color=\"red\",\n",
    "    legend_title_font_color=\"black\",\n",
    "    legend_font_size=10\n",
    ")\n",
    "#fig.update_layout(xaxis_title=\"Sale (in Millions)\",font_family=\"Arial Black\")\n",
    "fig.update_yaxes(tickfont_family=\"Arial Black\")\n",
    "#fig.update_xaxes(tickfont_family=\"Arial Black\")\n",
    "layout = go.Layout(title='<b>Bold</b> <i>Top product brand sales by product category CORN in 2022</i>')\n",
    "#fig.update_yaxes(font_Size=\"17\")\n",
    "fig.show()\n",
    "fig.write_html(\"C:/krish workspace/Indian Advisors/2022/interactiveplots_2022/Top product names sales by product CORN in 2022.html\")"
   ]
  },
  {
   "cell_type": "markdown",
   "id": "0e8dbb07",
   "metadata": {},
   "source": [
    "# Plotting LINE for analyse Total sales trends in Month"
   ]
  },
  {
   "cell_type": "code",
   "execution_count": 156,
   "id": "7b55ee48",
   "metadata": {},
   "outputs": [
    {
     "data": {
      "text/plain": [
       "index                                                 object\n",
       "Advisor name                                          object\n",
       "Retailer Name                                         object\n",
       "Retailer ID                                           object\n",
       "Advisor ID                                            object\n",
       "Month of Order Intent Created Date                    object\n",
       "Advisor Phone Number                                   int64\n",
       "Country Code                                          object\n",
       "Hierarchy Level 3                                     object\n",
       "Hierarchy Level 2                                     object\n",
       "Hierarchy Level 1                                     object\n",
       "Advisor Type                                          object\n",
       "Product category                                      object\n",
       "Product Brand                                         object\n",
       "Product Name                                          object\n",
       "Unit                                                  object\n",
       "Total Order Intents                                    int64\n",
       "Distinct count of Cancelled Order Intents              int64\n",
       "Farmers with Intent                                    int64\n",
       "Farmers with multiple Intents                          int64\n",
       "Farmers with Purchase                                  int64\n",
       "Distinct count of Farmers with multiple purchases      int64\n",
       "Farmer Conversion                                    float64\n",
       "Active Retailers                                       int64\n",
       "Volume Intent                                        float64\n",
       "Volume Cancelled                                     float64\n",
       "Volume Purchased                                     float64\n",
       "Returned Volume                                      float64\n",
       "Avg Volume Sold per Farmers                          float64\n",
       "Total Intent Value                                   float64\n",
       "Cancelled Order Value                                float64\n",
       "Sales Value                                          float64\n",
       "Avg Sales per Farmer                                 float64\n",
       "Actual Commission                                    float64\n",
       "Intended Commission                                  float64\n",
       "dtype: object"
      ]
     },
     "execution_count": 156,
     "metadata": {},
     "output_type": "execute_result"
    }
   ],
   "source": [
    "data1.dtypes"
   ]
  },
  {
   "cell_type": "code",
   "execution_count": 157,
   "id": "7443b80a",
   "metadata": {},
   "outputs": [],
   "source": [
    "Monthlydata=pd.DataFrame().assign(salesvalue=data1['Sales Value'], Month=data1['Month of Order Intent Created Date'])"
   ]
  },
  {
   "cell_type": "code",
   "execution_count": 158,
   "id": "d99b2190",
   "metadata": {},
   "outputs": [
    {
     "data": {
      "text/html": [
       "<div>\n",
       "<style scoped>\n",
       "    .dataframe tbody tr th:only-of-type {\n",
       "        vertical-align: middle;\n",
       "    }\n",
       "\n",
       "    .dataframe tbody tr th {\n",
       "        vertical-align: top;\n",
       "    }\n",
       "\n",
       "    .dataframe thead th {\n",
       "        text-align: right;\n",
       "    }\n",
       "</style>\n",
       "<table border=\"1\" class=\"dataframe\">\n",
       "  <thead>\n",
       "    <tr style=\"text-align: right;\">\n",
       "      <th></th>\n",
       "      <th>salesvalue</th>\n",
       "      <th>Month</th>\n",
       "    </tr>\n",
       "  </thead>\n",
       "  <tbody>\n",
       "    <tr>\n",
       "      <th>0</th>\n",
       "      <td>0.0</td>\n",
       "      <td>August</td>\n",
       "    </tr>\n",
       "    <tr>\n",
       "      <th>1</th>\n",
       "      <td>0.0</td>\n",
       "      <td>August</td>\n",
       "    </tr>\n",
       "    <tr>\n",
       "      <th>2</th>\n",
       "      <td>0.0</td>\n",
       "      <td>August</td>\n",
       "    </tr>\n",
       "    <tr>\n",
       "      <th>3</th>\n",
       "      <td>0.0</td>\n",
       "      <td>September</td>\n",
       "    </tr>\n",
       "    <tr>\n",
       "      <th>4</th>\n",
       "      <td>0.0</td>\n",
       "      <td>October</td>\n",
       "    </tr>\n",
       "    <tr>\n",
       "      <th>...</th>\n",
       "      <td>...</td>\n",
       "      <td>...</td>\n",
       "    </tr>\n",
       "    <tr>\n",
       "      <th>68442</th>\n",
       "      <td>36072.0</td>\n",
       "      <td>October</td>\n",
       "    </tr>\n",
       "    <tr>\n",
       "      <th>68443</th>\n",
       "      <td>81704.0</td>\n",
       "      <td>October</td>\n",
       "    </tr>\n",
       "    <tr>\n",
       "      <th>68444</th>\n",
       "      <td>4605.0</td>\n",
       "      <td>October</td>\n",
       "    </tr>\n",
       "    <tr>\n",
       "      <th>68445</th>\n",
       "      <td>11320.0</td>\n",
       "      <td>October</td>\n",
       "    </tr>\n",
       "    <tr>\n",
       "      <th>68446</th>\n",
       "      <td>40110.0</td>\n",
       "      <td>February</td>\n",
       "    </tr>\n",
       "  </tbody>\n",
       "</table>\n",
       "<p>68447 rows × 2 columns</p>\n",
       "</div>"
      ],
      "text/plain": [
       "       salesvalue      Month\n",
       "0             0.0     August\n",
       "1             0.0     August\n",
       "2             0.0     August\n",
       "3             0.0  September\n",
       "4             0.0    October\n",
       "...           ...        ...\n",
       "68442     36072.0    October\n",
       "68443     81704.0    October\n",
       "68444      4605.0    October\n",
       "68445     11320.0    October\n",
       "68446     40110.0   February\n",
       "\n",
       "[68447 rows x 2 columns]"
      ]
     },
     "execution_count": 158,
     "metadata": {},
     "output_type": "execute_result"
    }
   ],
   "source": [
    "Monthlydata"
   ]
  },
  {
   "cell_type": "code",
   "execution_count": 159,
   "id": "34f7e528",
   "metadata": {},
   "outputs": [],
   "source": [
    "monthly2021=Monthlydata.groupby([\"Month\"])[\"salesvalue\"].sum().rename('Sales').reset_index()"
   ]
  },
  {
   "cell_type": "code",
   "execution_count": 160,
   "id": "020f5f91",
   "metadata": {},
   "outputs": [
    {
     "data": {
      "text/html": [
       "<div>\n",
       "<style scoped>\n",
       "    .dataframe tbody tr th:only-of-type {\n",
       "        vertical-align: middle;\n",
       "    }\n",
       "\n",
       "    .dataframe tbody tr th {\n",
       "        vertical-align: top;\n",
       "    }\n",
       "\n",
       "    .dataframe thead th {\n",
       "        text-align: right;\n",
       "    }\n",
       "</style>\n",
       "<table border=\"1\" class=\"dataframe\">\n",
       "  <thead>\n",
       "    <tr style=\"text-align: right;\">\n",
       "      <th></th>\n",
       "      <th>Month</th>\n",
       "      <th>Sales</th>\n",
       "    </tr>\n",
       "  </thead>\n",
       "  <tbody>\n",
       "    <tr>\n",
       "      <th>0</th>\n",
       "      <td>April</td>\n",
       "      <td>2.987871e+06</td>\n",
       "    </tr>\n",
       "    <tr>\n",
       "      <th>1</th>\n",
       "      <td>August</td>\n",
       "      <td>2.431964e+08</td>\n",
       "    </tr>\n",
       "    <tr>\n",
       "      <th>2</th>\n",
       "      <td>December</td>\n",
       "      <td>1.236878e+08</td>\n",
       "    </tr>\n",
       "    <tr>\n",
       "      <th>3</th>\n",
       "      <td>February</td>\n",
       "      <td>3.707806e+07</td>\n",
       "    </tr>\n",
       "    <tr>\n",
       "      <th>4</th>\n",
       "      <td>January</td>\n",
       "      <td>4.049226e+07</td>\n",
       "    </tr>\n",
       "    <tr>\n",
       "      <th>5</th>\n",
       "      <td>July</td>\n",
       "      <td>1.289186e+08</td>\n",
       "    </tr>\n",
       "    <tr>\n",
       "      <th>6</th>\n",
       "      <td>June</td>\n",
       "      <td>4.860431e+07</td>\n",
       "    </tr>\n",
       "    <tr>\n",
       "      <th>7</th>\n",
       "      <td>March</td>\n",
       "      <td>1.949120e+07</td>\n",
       "    </tr>\n",
       "    <tr>\n",
       "      <th>8</th>\n",
       "      <td>May</td>\n",
       "      <td>7.610731e+06</td>\n",
       "    </tr>\n",
       "    <tr>\n",
       "      <th>9</th>\n",
       "      <td>November</td>\n",
       "      <td>1.354641e+08</td>\n",
       "    </tr>\n",
       "    <tr>\n",
       "      <th>10</th>\n",
       "      <td>October</td>\n",
       "      <td>3.053027e+08</td>\n",
       "    </tr>\n",
       "    <tr>\n",
       "      <th>11</th>\n",
       "      <td>September</td>\n",
       "      <td>3.101321e+08</td>\n",
       "    </tr>\n",
       "  </tbody>\n",
       "</table>\n",
       "</div>"
      ],
      "text/plain": [
       "        Month         Sales\n",
       "0       April  2.987871e+06\n",
       "1      August  2.431964e+08\n",
       "2    December  1.236878e+08\n",
       "3    February  3.707806e+07\n",
       "4     January  4.049226e+07\n",
       "5        July  1.289186e+08\n",
       "6        June  4.860431e+07\n",
       "7       March  1.949120e+07\n",
       "8         May  7.610731e+06\n",
       "9    November  1.354641e+08\n",
       "10    October  3.053027e+08\n",
       "11  September  3.101321e+08"
      ]
     },
     "execution_count": 160,
     "metadata": {},
     "output_type": "execute_result"
    }
   ],
   "source": [
    "monthly2021"
   ]
  },
  {
   "cell_type": "code",
   "execution_count": 98,
   "id": "bebd6fbe",
   "metadata": {},
   "outputs": [
    {
     "data": {
      "text/plain": [
       "Month     object\n",
       "Sales    float64\n",
       "dtype: object"
      ]
     },
     "execution_count": 98,
     "metadata": {},
     "output_type": "execute_result"
    }
   ],
   "source": [
    "monthly2021.dtypes"
   ]
  },
  {
   "cell_type": "code",
   "execution_count": 161,
   "id": "1f8fbc76",
   "metadata": {},
   "outputs": [],
   "source": [
    "#for checking total sales in year\n",
    "totalsum=monthly2021['Sales'].sum()"
   ]
  },
  {
   "cell_type": "code",
   "execution_count": 162,
   "id": "693df9b2",
   "metadata": {},
   "outputs": [
    {
     "data": {
      "text/plain": [
       "1402966161.9716501"
      ]
     },
     "execution_count": 162,
     "metadata": {},
     "output_type": "execute_result"
    }
   ],
   "source": [
    "totalsum"
   ]
  },
  {
   "cell_type": "code",
   "execution_count": 163,
   "id": "ea705a52",
   "metadata": {},
   "outputs": [],
   "source": [
    "dates_in_order = pd.date_range(start='2022-01-01', end='2022-12-01', freq='MS')"
   ]
  },
  {
   "cell_type": "code",
   "execution_count": 164,
   "id": "29872a81",
   "metadata": {},
   "outputs": [],
   "source": [
    "months_in_order = dates_in_order.map(lambda x: x.month_name()).to_list()"
   ]
  },
  {
   "cell_type": "code",
   "execution_count": 165,
   "id": "674ae821",
   "metadata": {},
   "outputs": [],
   "source": [
    "monthly2021.Month = pd.Categorical(\n",
    "    monthly2021.Month,\n",
    "    categories=months_in_order,\n",
    "    ordered=True\n",
    ")"
   ]
  },
  {
   "cell_type": "code",
   "execution_count": 166,
   "id": "fd799c35",
   "metadata": {},
   "outputs": [],
   "source": [
    "y2021=monthly2021.sort_values('Month')"
   ]
  },
  {
   "cell_type": "code",
   "execution_count": 167,
   "id": "ec99d1d2",
   "metadata": {},
   "outputs": [
    {
     "data": {
      "text/html": [
       "<div>\n",
       "<style scoped>\n",
       "    .dataframe tbody tr th:only-of-type {\n",
       "        vertical-align: middle;\n",
       "    }\n",
       "\n",
       "    .dataframe tbody tr th {\n",
       "        vertical-align: top;\n",
       "    }\n",
       "\n",
       "    .dataframe thead th {\n",
       "        text-align: right;\n",
       "    }\n",
       "</style>\n",
       "<table border=\"1\" class=\"dataframe\">\n",
       "  <thead>\n",
       "    <tr style=\"text-align: right;\">\n",
       "      <th></th>\n",
       "      <th>Month</th>\n",
       "      <th>Sales</th>\n",
       "    </tr>\n",
       "  </thead>\n",
       "  <tbody>\n",
       "    <tr>\n",
       "      <th>4</th>\n",
       "      <td>January</td>\n",
       "      <td>4.049226e+07</td>\n",
       "    </tr>\n",
       "    <tr>\n",
       "      <th>3</th>\n",
       "      <td>February</td>\n",
       "      <td>3.707806e+07</td>\n",
       "    </tr>\n",
       "    <tr>\n",
       "      <th>7</th>\n",
       "      <td>March</td>\n",
       "      <td>1.949120e+07</td>\n",
       "    </tr>\n",
       "    <tr>\n",
       "      <th>0</th>\n",
       "      <td>April</td>\n",
       "      <td>2.987871e+06</td>\n",
       "    </tr>\n",
       "    <tr>\n",
       "      <th>8</th>\n",
       "      <td>May</td>\n",
       "      <td>7.610731e+06</td>\n",
       "    </tr>\n",
       "    <tr>\n",
       "      <th>6</th>\n",
       "      <td>June</td>\n",
       "      <td>4.860431e+07</td>\n",
       "    </tr>\n",
       "    <tr>\n",
       "      <th>5</th>\n",
       "      <td>July</td>\n",
       "      <td>1.289186e+08</td>\n",
       "    </tr>\n",
       "    <tr>\n",
       "      <th>1</th>\n",
       "      <td>August</td>\n",
       "      <td>2.431964e+08</td>\n",
       "    </tr>\n",
       "    <tr>\n",
       "      <th>11</th>\n",
       "      <td>September</td>\n",
       "      <td>3.101321e+08</td>\n",
       "    </tr>\n",
       "    <tr>\n",
       "      <th>10</th>\n",
       "      <td>October</td>\n",
       "      <td>3.053027e+08</td>\n",
       "    </tr>\n",
       "    <tr>\n",
       "      <th>9</th>\n",
       "      <td>November</td>\n",
       "      <td>1.354641e+08</td>\n",
       "    </tr>\n",
       "    <tr>\n",
       "      <th>2</th>\n",
       "      <td>December</td>\n",
       "      <td>1.236878e+08</td>\n",
       "    </tr>\n",
       "  </tbody>\n",
       "</table>\n",
       "</div>"
      ],
      "text/plain": [
       "        Month         Sales\n",
       "4     January  4.049226e+07\n",
       "3    February  3.707806e+07\n",
       "7       March  1.949120e+07\n",
       "0       April  2.987871e+06\n",
       "8         May  7.610731e+06\n",
       "6        June  4.860431e+07\n",
       "5        July  1.289186e+08\n",
       "1      August  2.431964e+08\n",
       "11  September  3.101321e+08\n",
       "10    October  3.053027e+08\n",
       "9    November  1.354641e+08\n",
       "2    December  1.236878e+08"
      ]
     },
     "execution_count": 167,
     "metadata": {},
     "output_type": "execute_result"
    }
   ],
   "source": [
    "y2021"
   ]
  },
  {
   "cell_type": "code",
   "execution_count": 106,
   "id": "d4e22edc",
   "metadata": {},
   "outputs": [],
   "source": [
    "#Saving data to excel file\n",
    "file_name3='SALESVALUE_MONTHLY_2022.xlsx'\n",
    "y2021.to_excel(file_name3)"
   ]
  },
  {
   "cell_type": "code",
   "execution_count": 168,
   "id": "2ec0f171",
   "metadata": {},
   "outputs": [],
   "source": [
    "#converting values to currency (Millions)\n",
    "y2021['Sales'] = (y2021['Sales'].astype(float)/1000000).apply(np.floor)"
   ]
  },
  {
   "cell_type": "code",
   "execution_count": 169,
   "id": "46999c3c",
   "metadata": {},
   "outputs": [
    {
     "data": {
      "text/html": [
       "<div>\n",
       "<style scoped>\n",
       "    .dataframe tbody tr th:only-of-type {\n",
       "        vertical-align: middle;\n",
       "    }\n",
       "\n",
       "    .dataframe tbody tr th {\n",
       "        vertical-align: top;\n",
       "    }\n",
       "\n",
       "    .dataframe thead th {\n",
       "        text-align: right;\n",
       "    }\n",
       "</style>\n",
       "<table border=\"1\" class=\"dataframe\">\n",
       "  <thead>\n",
       "    <tr style=\"text-align: right;\">\n",
       "      <th></th>\n",
       "      <th>Month</th>\n",
       "      <th>Sales</th>\n",
       "    </tr>\n",
       "  </thead>\n",
       "  <tbody>\n",
       "    <tr>\n",
       "      <th>4</th>\n",
       "      <td>January</td>\n",
       "      <td>40.0</td>\n",
       "    </tr>\n",
       "    <tr>\n",
       "      <th>3</th>\n",
       "      <td>February</td>\n",
       "      <td>37.0</td>\n",
       "    </tr>\n",
       "    <tr>\n",
       "      <th>7</th>\n",
       "      <td>March</td>\n",
       "      <td>19.0</td>\n",
       "    </tr>\n",
       "    <tr>\n",
       "      <th>0</th>\n",
       "      <td>April</td>\n",
       "      <td>2.0</td>\n",
       "    </tr>\n",
       "    <tr>\n",
       "      <th>8</th>\n",
       "      <td>May</td>\n",
       "      <td>7.0</td>\n",
       "    </tr>\n",
       "    <tr>\n",
       "      <th>6</th>\n",
       "      <td>June</td>\n",
       "      <td>48.0</td>\n",
       "    </tr>\n",
       "    <tr>\n",
       "      <th>5</th>\n",
       "      <td>July</td>\n",
       "      <td>128.0</td>\n",
       "    </tr>\n",
       "    <tr>\n",
       "      <th>1</th>\n",
       "      <td>August</td>\n",
       "      <td>243.0</td>\n",
       "    </tr>\n",
       "    <tr>\n",
       "      <th>11</th>\n",
       "      <td>September</td>\n",
       "      <td>310.0</td>\n",
       "    </tr>\n",
       "    <tr>\n",
       "      <th>10</th>\n",
       "      <td>October</td>\n",
       "      <td>305.0</td>\n",
       "    </tr>\n",
       "    <tr>\n",
       "      <th>9</th>\n",
       "      <td>November</td>\n",
       "      <td>135.0</td>\n",
       "    </tr>\n",
       "    <tr>\n",
       "      <th>2</th>\n",
       "      <td>December</td>\n",
       "      <td>123.0</td>\n",
       "    </tr>\n",
       "  </tbody>\n",
       "</table>\n",
       "</div>"
      ],
      "text/plain": [
       "        Month  Sales\n",
       "4     January   40.0\n",
       "3    February   37.0\n",
       "7       March   19.0\n",
       "0       April    2.0\n",
       "8         May    7.0\n",
       "6        June   48.0\n",
       "5        July  128.0\n",
       "1      August  243.0\n",
       "11  September  310.0\n",
       "10    October  305.0\n",
       "9    November  135.0\n",
       "2    December  123.0"
      ]
     },
     "execution_count": 169,
     "metadata": {},
     "output_type": "execute_result"
    }
   ],
   "source": [
    "y2021"
   ]
  },
  {
   "cell_type": "code",
   "execution_count": 70,
   "id": "763c0dd8",
   "metadata": {},
   "outputs": [
    {
     "data": {
      "image/png": "[encoded data removed]",
      "text/plain": [
       "<Figure size 1200x500 with 1 Axes>"
      ]
     },
     "metadata": {},
     "output_type": "display_data"
    }
   ],
   "source": [
    "fig, axes = plt.subplots(figsize=(12,5))\n",
    "sns.lineplot(x='Month', y='Sales', data=y2021, sort=False)\n",
    "plt.title(\"line plot for total sales trend in 2021\")\n",
    "plt.xticks(rotation = 'vertical')\n",
    "plt.xlabel(\"Month\")\n",
    "plt.ylabel(\"totalSales\")\n",
    "plt.show()\n"
   ]
  },
  {
   "cell_type": "code",
   "execution_count": 170,
   "id": "203564d2",
   "metadata": {},
   "outputs": [
    {
     "data": {
      "application/vnd.plotly.v1+json": {
       "config": {
        "plotlyServerURL": "https://plot.ly"
       },
       "data": [
        {
         "hovertemplate": "Month=%{x}<br>SalesValue (in Millions)=%{text}<extra></extra>",
         "legendgroup": "",
         "line": {
          "color": "royalblue",
          "dash": "solid",
          "width": 5
         },
         "marker": {
          "symbol": "circle"
         },
         "mode": "text+lines+markers",
         "name": "",
         "orientation": "v",
         "showlegend": false,
         "text": [
          40,
          37,
          19,
          2,
          7,
          48,
          128,
          243,
          310,
          305,
          135,
          123
         ],
         "textfont": {
          "size": 15
         },
         "textposition": "top center",
         "type": "scatter",
         "x": [
          "January",
          "February",
          "March",
          "April",
          "May",
          "June",
          "July",
          "August",
          "September",
          "October",
          "November",
          "December"
         ],
         "xaxis": "x",
         "y": [
          40,
          37,
          19,
          2,
          7,
          48,
          128,
          243,
          310,
          305,
          135,
          123
         ],
         "yaxis": "y"
        }
       ],
       "layout": {
        "font": {
         "color": "darkcyan",
         "family": "Arial Black",
         "size": 15
        },
        "legend": {
         "tracegroupgap": 0
        },
        "template": {
         "data": {
          "bar": [
           {
            "error_x": {
             "color": "rgb(36,36,36)"
            },
            "error_y": {
             "color": "rgb(36,36,36)"
            },
            "marker": {
             "line": {
              "color": "white",
              "width": 0.5
             },
             "pattern": {
              "fillmode": "overlay",
              "size": 10,
              "solidity": 0.2
             }
            },
            "type": "bar"
           }
          ],
          "barpolar": [
           {
            "marker": {
             "line": {
              "color": "white",
              "width": 0.5
             },
             "pattern": {
              "fillmode": "overlay",
              "size": 10,
              "solidity": 0.2
             }
            },
            "type": "barpolar"
           }
          ],
          "carpet": [
           {
            "aaxis": {
             "endlinecolor": "rgb(36,36,36)",
             "gridcolor": "white",
             "linecolor": "white",
             "minorgridcolor": "white",
             "startlinecolor": "rgb(36,36,36)"
            },
            "baxis": {
             "endlinecolor": "rgb(36,36,36)",
             "gridcolor": "white",
             "linecolor": "white",
             "minorgridcolor": "white",
             "startlinecolor": "rgb(36,36,36)"
            },
            "type": "carpet"
           }
          ],
          "choropleth": [
           {
            "colorbar": {
             "outlinewidth": 1,
             "tickcolor": "rgb(36,36,36)",
             "ticks": "outside"
            },
            "type": "choropleth"
           }
          ],
          "contour": [
           {
            "colorbar": {
             "outlinewidth": 1,
             "tickcolor": "rgb(36,36,36)",
             "ticks": "outside"
            },
            "colorscale": [
             [
              0,
              "#440154"
             ],
             [
              0.1111111111111111,
              "#482878"
             ],
             [
              0.2222222222222222,
              "#3e4989"
             ],
             [
              0.3333333333333333,
              "#31688e"
             ],
             [
              0.4444444444444444,
              "#26828e"
             ],
             [
              0.5555555555555556,
              "#1f9e89"
             ],
             [
              0.6666666666666666,
              "#35b779"
             ],
             [
              0.7777777777777778,
              "#6ece58"
             ],
             [
              0.8888888888888888,
              "#b5de2b"
             ],
             [
              1,
              "#fde725"
             ]
            ],
            "type": "contour"
           }
          ],
          "contourcarpet": [
           {
            "colorbar": {
             "outlinewidth": 1,
             "tickcolor": "rgb(36,36,36)",
             "ticks": "outside"
            },
            "type": "contourcarpet"
           }
          ],
          "heatmap": [
           {
            "colorbar": {
             "outlinewidth": 1,
             "tickcolor": "rgb(36,36,36)",
             "ticks": "outside"
            },
            "colorscale": [
             [
              0,
              "#440154"
             ],
             [
              0.1111111111111111,
              "#482878"
             ],
             [
              0.2222222222222222,
              "#3e4989"
             ],
             [
              0.3333333333333333,
              "#31688e"
             ],
             [
              0.4444444444444444,
              "#26828e"
             ],
             [
              0.5555555555555556,
              "#1f9e89"
             ],
             [
              0.6666666666666666,
              "#35b779"
             ],
             [
              0.7777777777777778,
              "#6ece58"
             ],
             [
              0.8888888888888888,
              "#b5de2b"
             ],
             [
              1,
              "#fde725"
             ]
            ],
            "type": "heatmap"
           }
          ],
          "heatmapgl": [
           {
            "colorbar": {
             "outlinewidth": 1,
             "tickcolor": "rgb(36,36,36)",
             "ticks": "outside"
            },
            "colorscale": [
             [
              0,
              "#440154"
             ],
             [
              0.1111111111111111,
              "#482878"
             ],
             [
              0.2222222222222222,
              "#3e4989"
             ],
             [
              0.3333333333333333,
              "#31688e"
             ],
             [
              0.4444444444444444,
              "#26828e"
             ],
             [
              0.5555555555555556,
              "#1f9e89"
             ],
             [
              0.6666666666666666,
              "#35b779"
             ],
             [
              0.7777777777777778,
              "#6ece58"
             ],
             [
              0.8888888888888888,
              "#b5de2b"
             ],
             [
              1,
              "#fde725"
             ]
            ],
            "type": "heatmapgl"
           }
          ],
          "histogram": [
           {
            "marker": {
             "line": {
              "color": "white",
              "width": 0.6
             }
            },
            "type": "histogram"
           }
          ],
          "histogram2d": [
           {
            "colorbar": {
             "outlinewidth": 1,
             "tickcolor": "rgb(36,36,36)",
             "ticks": "outside"
            },
            "colorscale": [
             [
              0,
              "#440154"
             ],
             [
              0.1111111111111111,
              "#482878"
             ],
             [
              0.2222222222222222,
              "#3e4989"
             ],
             [
              0.3333333333333333,
              "#31688e"
             ],
             [
              0.4444444444444444,
              "#26828e"
             ],
             [
              0.5555555555555556,
              "#1f9e89"
             ],
             [
              0.6666666666666666,
              "#35b779"
             ],
             [
              0.7777777777777778,
              "#6ece58"
             ],
             [
              0.8888888888888888,
              "#b5de2b"
             ],
             [
              1,
              "#fde725"
             ]
            ],
            "type": "histogram2d"
           }
          ],
          "histogram2dcontour": [
           {
            "colorbar": {
             "outlinewidth": 1,
             "tickcolor": "rgb(36,36,36)",
             "ticks": "outside"
            },
            "colorscale": [
             [
              0,
              "#440154"
             ],
             [
              0.1111111111111111,
              "#482878"
             ],
             [
              0.2222222222222222,
              "#3e4989"
             ],
             [
              0.3333333333333333,
              "#31688e"
             ],
             [
              0.4444444444444444,
              "#26828e"
             ],
             [
              0.5555555555555556,
              "#1f9e89"
             ],
             [
              0.6666666666666666,
              "#35b779"
             ],
             [
              0.7777777777777778,
              "#6ece58"
             ],
             [
              0.8888888888888888,
              "#b5de2b"
             ],
             [
              1,
              "#fde725"
             ]
            ],
            "type": "histogram2dcontour"
           }
          ],
          "mesh3d": [
           {
            "colorbar": {
             "outlinewidth": 1,
             "tickcolor": "rgb(36,36,36)",
             "ticks": "outside"
            },
            "type": "mesh3d"
           }
          ],
          "parcoords": [
           {
            "line": {
             "colorbar": {
              "outlinewidth": 1,
              "tickcolor": "rgb(36,36,36)",
              "ticks": "outside"
             }
            },
            "type": "parcoords"
           }
          ],
          "pie": [
           {
            "automargin": true,
            "type": "pie"
           }
          ],
          "scatter": [
           {
            "fillpattern": {
             "fillmode": "overlay",
             "size": 10,
             "solidity": 0.2
            },
            "type": "scatter"
           }
          ],
          "scatter3d": [
           {
            "line": {
             "colorbar": {
              "outlinewidth": 1,
              "tickcolor": "rgb(36,36,36)",
              "ticks": "outside"
             }
            },
            "marker": {
             "colorbar": {
              "outlinewidth": 1,
              "tickcolor": "rgb(36,36,36)",
              "ticks": "outside"
             }
            },
            "type": "scatter3d"
           }
          ],
          "scattercarpet": [
           {
            "marker": {
             "colorbar": {
              "outlinewidth": 1,
              "tickcolor": "rgb(36,36,36)",
              "ticks": "outside"
             }
            },
            "type": "scattercarpet"
           }
          ],
          "scattergeo": [
           {
            "marker": {
             "colorbar": {
              "outlinewidth": 1,
              "tickcolor": "rgb(36,36,36)",
              "ticks": "outside"
             }
            },
            "type": "scattergeo"
           }
          ],
          "scattergl": [
           {
            "marker": {
             "colorbar": {
              "outlinewidth": 1,
              "tickcolor": "rgb(36,36,36)",
              "ticks": "outside"
             }
            },
            "type": "scattergl"
           }
          ],
          "scattermapbox": [
           {
            "marker": {
             "colorbar": {
              "outlinewidth": 1,
              "tickcolor": "rgb(36,36,36)",
              "ticks": "outside"
             }
            },
            "type": "scattermapbox"
           }
          ],
          "scatterpolar": [
           {
            "marker": {
             "colorbar": {
              "outlinewidth": 1,
              "tickcolor": "rgb(36,36,36)",
              "ticks": "outside"
             }
            },
            "type": "scatterpolar"
           }
          ],
          "scatterpolargl": [
           {
            "marker": {
             "colorbar": {
              "outlinewidth": 1,
              "tickcolor": "rgb(36,36,36)",
              "ticks": "outside"
             }
            },
            "type": "scatterpolargl"
           }
          ],
          "scatterternary": [
           {
            "marker": {
             "colorbar": {
              "outlinewidth": 1,
              "tickcolor": "rgb(36,36,36)",
              "ticks": "outside"
             }
            },
            "type": "scatterternary"
           }
          ],
          "surface": [
           {
            "colorbar": {
             "outlinewidth": 1,
             "tickcolor": "rgb(36,36,36)",
             "ticks": "outside"
            },
            "colorscale": [
             [
              0,
              "#440154"
             ],
             [
              0.1111111111111111,
              "#482878"
             ],
             [
              0.2222222222222222,
              "#3e4989"
             ],
             [
              0.3333333333333333,
              "#31688e"
             ],
             [
              0.4444444444444444,
              "#26828e"
             ],
             [
              0.5555555555555556,
              "#1f9e89"
             ],
             [
              0.6666666666666666,
              "#35b779"
             ],
             [
              0.7777777777777778,
              "#6ece58"
             ],
             [
              0.8888888888888888,
              "#b5de2b"
             ],
             [
              1,
              "#fde725"
             ]
            ],
            "type": "surface"
           }
          ],
          "table": [
           {
            "cells": {
             "fill": {
              "color": "rgb(237,237,237)"
             },
             "line": {
              "color": "white"
             }
            },
            "header": {
             "fill": {
              "color": "rgb(217,217,217)"
             },
             "line": {
              "color": "white"
             }
            },
            "type": "table"
           }
          ]
         },
         "layout": {
          "annotationdefaults": {
           "arrowhead": 0,
           "arrowwidth": 1
          },
          "autotypenumbers": "strict",
          "coloraxis": {
           "colorbar": {
            "outlinewidth": 1,
            "tickcolor": "rgb(36,36,36)",
            "ticks": "outside"
           }
          },
          "colorscale": {
           "diverging": [
            [
             0,
             "rgb(103,0,31)"
            ],
            [
             0.1,
             "rgb(178,24,43)"
            ],
            [
             0.2,
             "rgb(214,96,77)"
            ],
            [
             0.3,
             "rgb(244,165,130)"
            ],
            [
             0.4,
             "rgb(253,219,199)"
            ],
            [
             0.5,
             "rgb(247,247,247)"
            ],
            [
             0.6,
             "rgb(209,229,240)"
            ],
            [
             0.7,
             "rgb(146,197,222)"
            ],
            [
             0.8,
             "rgb(67,147,195)"
            ],
            [
             0.9,
             "rgb(33,102,172)"
            ],
            [
             1,
             "rgb(5,48,97)"
            ]
           ],
           "sequential": [
            [
             0,
             "#440154"
            ],
            [
             0.1111111111111111,
             "#482878"
            ],
            [
             0.2222222222222222,
             "#3e4989"
            ],
            [
             0.3333333333333333,
             "#31688e"
            ],
            [
             0.4444444444444444,
             "#26828e"
            ],
            [
             0.5555555555555556,
             "#1f9e89"
            ],
            [
             0.6666666666666666,
             "#35b779"
            ],
            [
             0.7777777777777778,
             "#6ece58"
            ],
            [
             0.8888888888888888,
             "#b5de2b"
            ],
            [
             1,
             "#fde725"
            ]
           ],
           "sequentialminus": [
            [
             0,
             "#440154"
            ],
            [
             0.1111111111111111,
             "#482878"
            ],
            [
             0.2222222222222222,
             "#3e4989"
            ],
            [
             0.3333333333333333,
             "#31688e"
            ],
            [
             0.4444444444444444,
             "#26828e"
            ],
            [
             0.5555555555555556,
             "#1f9e89"
            ],
            [
             0.6666666666666666,
             "#35b779"
            ],
            [
             0.7777777777777778,
             "#6ece58"
            ],
            [
             0.8888888888888888,
             "#b5de2b"
            ],
            [
             1,
             "#fde725"
            ]
           ]
          },
          "colorway": [
           "#1F77B4",
           "#FF7F0E",
           "#2CA02C",
           "#D62728",
           "#9467BD",
           "#8C564B",
           "#E377C2",
           "#7F7F7F",
           "#BCBD22",
           "#17BECF"
          ],
          "font": {
           "color": "rgb(36,36,36)"
          },
          "geo": {
           "bgcolor": "white",
           "lakecolor": "white",
           "landcolor": "white",
           "showlakes": true,
           "showland": true,
           "subunitcolor": "white"
          },
          "hoverlabel": {
           "align": "left"
          },
          "hovermode": "closest",
          "mapbox": {
           "style": "light"
          },
          "paper_bgcolor": "white",
          "plot_bgcolor": "white",
          "polar": {
           "angularaxis": {
            "gridcolor": "rgb(232,232,232)",
            "linecolor": "rgb(36,36,36)",
            "showgrid": false,
            "showline": true,
            "ticks": "outside"
           },
           "bgcolor": "white",
           "radialaxis": {
            "gridcolor": "rgb(232,232,232)",
            "linecolor": "rgb(36,36,36)",
            "showgrid": false,
            "showline": true,
            "ticks": "outside"
           }
          },
          "scene": {
           "xaxis": {
            "backgroundcolor": "white",
            "gridcolor": "rgb(232,232,232)",
            "gridwidth": 2,
            "linecolor": "rgb(36,36,36)",
            "showbackground": true,
            "showgrid": false,
            "showline": true,
            "ticks": "outside",
            "zeroline": false,
            "zerolinecolor": "rgb(36,36,36)"
           },
           "yaxis": {
            "backgroundcolor": "white",
            "gridcolor": "rgb(232,232,232)",
            "gridwidth": 2,
            "linecolor": "rgb(36,36,36)",
            "showbackground": true,
            "showgrid": false,
            "showline": true,
            "ticks": "outside",
            "zeroline": false,
            "zerolinecolor": "rgb(36,36,36)"
           },
           "zaxis": {
            "backgroundcolor": "white",
            "gridcolor": "rgb(232,232,232)",
            "gridwidth": 2,
            "linecolor": "rgb(36,36,36)",
            "showbackground": true,
            "showgrid": false,
            "showline": true,
            "ticks": "outside",
            "zeroline": false,
            "zerolinecolor": "rgb(36,36,36)"
           }
          },
          "shapedefaults": {
           "fillcolor": "black",
           "line": {
            "width": 0
           },
           "opacity": 0.3
          },
          "ternary": {
           "aaxis": {
            "gridcolor": "rgb(232,232,232)",
            "linecolor": "rgb(36,36,36)",
            "showgrid": false,
            "showline": true,
            "ticks": "outside"
           },
           "baxis": {
            "gridcolor": "rgb(232,232,232)",
            "linecolor": "rgb(36,36,36)",
            "showgrid": false,
            "showline": true,
            "ticks": "outside"
           },
           "bgcolor": "white",
           "caxis": {
            "gridcolor": "rgb(232,232,232)",
            "linecolor": "rgb(36,36,36)",
            "showgrid": false,
            "showline": true,
            "ticks": "outside"
           }
          },
          "title": {
           "x": 0.05
          },
          "xaxis": {
           "automargin": true,
           "gridcolor": "rgb(232,232,232)",
           "linecolor": "rgb(36,36,36)",
           "showgrid": false,
           "showline": true,
           "ticks": "outside",
           "title": {
            "standoff": 15
           },
           "zeroline": false,
           "zerolinecolor": "rgb(36,36,36)"
          },
          "yaxis": {
           "automargin": true,
           "gridcolor": "rgb(232,232,232)",
           "linecolor": "rgb(36,36,36)",
           "showgrid": false,
           "showline": true,
           "ticks": "outside",
           "title": {
            "standoff": 15
           },
           "zeroline": false,
           "zerolinecolor": "rgb(36,36,36)"
          }
         }
        },
        "title": {
         "font": {
          "color": "red",
          "family": "Times New Roman",
          "size": 30
         },
         "text": "Line Plot total sales value by month in 2021 "
        },
        "xaxis": {
         "anchor": "y",
         "domain": [
          0,
          1
         ],
         "tickfont": {
          "family": "Arial Black"
         },
         "title": {
          "font": {
           "color": "darkgoldenrod"
          },
          "text": "Month"
         }
        },
        "yaxis": {
         "anchor": "x",
         "domain": [
          0,
          1
         ],
         "tickfont": {
          "family": "Arial Black"
         },
         "title": {
          "font": {
           "color": "darkgoldenrod"
          },
          "text": "SalesValue (in Millions)"
         }
        }
       }
      },
      "text/html": [
       "<div>                            <div id=\"c76673ef-6f55-4ada-bfd9-6acde205051d\" class=\"plotly-graph-div\" style=\"height:525px; width:100%;\"></div>            <script type=\"text/javascript\">                require([\"plotly\"], function(Plotly) {                    window.PLOTLYENV=window.PLOTLYENV || {};                                    if (document.getElementById(\"c76673ef-6f55-4ada-bfd9-6acde205051d\")) {                    Plotly.newPlot(                        \"c76673ef-6f55-4ada-bfd9-6acde205051d\",                        [{\"hovertemplate\":\"Month=%{x}<br>SalesValue (in Millions)=%{text}<extra></extra>\",\"legendgroup\":\"\",\"line\":{\"color\":\"royalblue\",\"dash\":\"solid\",\"width\":5},\"marker\":{\"symbol\":\"circle\"},\"mode\":\"text+lines+markers\",\"name\":\"\",\"orientation\":\"v\",\"showlegend\":false,\"text\":[40.0,37.0,19.0,2.0,7.0,48.0,128.0,243.0,310.0,305.0,135.0,123.0],\"x\":[\"January\",\"February\",\"March\",\"April\",\"May\",\"June\",\"July\",\"August\",\"September\",\"October\",\"November\",\"December\"],\"xaxis\":\"x\",\"y\":[40.0,37.0,19.0,2.0,7.0,48.0,128.0,243.0,310.0,305.0,135.0,123.0],\"yaxis\":\"y\",\"type\":\"scatter\",\"textfont\":{\"size\":15},\"textposition\":\"top center\"}],                        {\"template\":{\"data\":{\"barpolar\":[{\"marker\":{\"line\":{\"color\":\"white\",\"width\":0.5},\"pattern\":{\"fillmode\":\"overlay\",\"size\":10,\"solidity\":0.2}},\"type\":\"barpolar\"}],\"bar\":[{\"error_x\":{\"color\":\"rgb(36,36,36)\"},\"error_y\":{\"color\":\"rgb(36,36,36)\"},\"marker\":{\"line\":{\"color\":\"white\",\"width\":0.5},\"pattern\":{\"fillmode\":\"overlay\",\"size\":10,\"solidity\":0.2}},\"type\":\"bar\"}],\"carpet\":[{\"aaxis\":{\"endlinecolor\":\"rgb(36,36,36)\",\"gridcolor\":\"white\",\"linecolor\":\"white\",\"minorgridcolor\":\"white\",\"startlinecolor\":\"rgb(36,36,36)\"},\"baxis\":{\"endlinecolor\":\"rgb(36,36,36)\",\"gridcolor\":\"white\",\"linecolor\":\"white\",\"minorgridcolor\":\"white\",\"startlinecolor\":\"rgb(36,36,36)\"},\"type\":\"carpet\"}],\"choropleth\":[{\"colorbar\":{\"outlinewidth\":1,\"tickcolor\":\"rgb(36,36,36)\",\"ticks\":\"outside\"},\"type\":\"choropleth\"}],\"contourcarpet\":[{\"colorbar\":{\"outlinewidth\":1,\"tickcolor\":\"rgb(36,36,36)\",\"ticks\":\"outside\"},\"type\":\"contourcarpet\"}],\"contour\":[{\"colorbar\":{\"outlinewidth\":1,\"tickcolor\":\"rgb(36,36,36)\",\"ticks\":\"outside\"},\"colorscale\":[[0.0,\"#440154\"],[0.1111111111111111,\"#482878\"],[0.2222222222222222,\"#3e4989\"],[0.3333333333333333,\"#31688e\"],[0.4444444444444444,\"#26828e\"],[0.5555555555555556,\"#1f9e89\"],[0.6666666666666666,\"#35b779\"],[0.7777777777777778,\"#6ece58\"],[0.8888888888888888,\"#b5de2b\"],[1.0,\"#fde725\"]],\"type\":\"contour\"}],\"heatmapgl\":[{\"colorbar\":{\"outlinewidth\":1,\"tickcolor\":\"rgb(36,36,36)\",\"ticks\":\"outside\"},\"colorscale\":[[0.0,\"#440154\"],[0.1111111111111111,\"#482878\"],[0.2222222222222222,\"#3e4989\"],[0.3333333333333333,\"#31688e\"],[0.4444444444444444,\"#26828e\"],[0.5555555555555556,\"#1f9e89\"],[0.6666666666666666,\"#35b779\"],[0.7777777777777778,\"#6ece58\"],[0.8888888888888888,\"#b5de2b\"],[1.0,\"#fde725\"]],\"type\":\"heatmapgl\"}],\"heatmap\":[{\"colorbar\":{\"outlinewidth\":1,\"tickcolor\":\"rgb(36,36,36)\",\"ticks\":\"outside\"},\"colorscale\":[[0.0,\"#440154\"],[0.1111111111111111,\"#482878\"],[0.2222222222222222,\"#3e4989\"],[0.3333333333333333,\"#31688e\"],[0.4444444444444444,\"#26828e\"],[0.5555555555555556,\"#1f9e89\"],[0.6666666666666666,\"#35b779\"],[0.7777777777777778,\"#6ece58\"],[0.8888888888888888,\"#b5de2b\"],[1.0,\"#fde725\"]],\"type\":\"heatmap\"}],\"histogram2dcontour\":[{\"colorbar\":{\"outlinewidth\":1,\"tickcolor\":\"rgb(36,36,36)\",\"ticks\":\"outside\"},\"colorscale\":[[0.0,\"#440154\"],[0.1111111111111111,\"#482878\"],[0.2222222222222222,\"#3e4989\"],[0.3333333333333333,\"#31688e\"],[0.4444444444444444,\"#26828e\"],[0.5555555555555556,\"#1f9e89\"],[0.6666666666666666,\"#35b779\"],[0.7777777777777778,\"#6ece58\"],[0.8888888888888888,\"#b5de2b\"],[1.0,\"#fde725\"]],\"type\":\"histogram2dcontour\"}],\"histogram2d\":[{\"colorbar\":{\"outlinewidth\":1,\"tickcolor\":\"rgb(36,36,36)\",\"ticks\":\"outside\"},\"colorscale\":[[0.0,\"#440154\"],[0.1111111111111111,\"#482878\"],[0.2222222222222222,\"#3e4989\"],[0.3333333333333333,\"#31688e\"],[0.4444444444444444,\"#26828e\"],[0.5555555555555556,\"#1f9e89\"],[0.6666666666666666,\"#35b779\"],[0.7777777777777778,\"#6ece58\"],[0.8888888888888888,\"#b5de2b\"],[1.0,\"#fde725\"]],\"type\":\"histogram2d\"}],\"histogram\":[{\"marker\":{\"line\":{\"color\":\"white\",\"width\":0.6}},\"type\":\"histogram\"}],\"mesh3d\":[{\"colorbar\":{\"outlinewidth\":1,\"tickcolor\":\"rgb(36,36,36)\",\"ticks\":\"outside\"},\"type\":\"mesh3d\"}],\"parcoords\":[{\"line\":{\"colorbar\":{\"outlinewidth\":1,\"tickcolor\":\"rgb(36,36,36)\",\"ticks\":\"outside\"}},\"type\":\"parcoords\"}],\"pie\":[{\"automargin\":true,\"type\":\"pie\"}],\"scatter3d\":[{\"line\":{\"colorbar\":{\"outlinewidth\":1,\"tickcolor\":\"rgb(36,36,36)\",\"ticks\":\"outside\"}},\"marker\":{\"colorbar\":{\"outlinewidth\":1,\"tickcolor\":\"rgb(36,36,36)\",\"ticks\":\"outside\"}},\"type\":\"scatter3d\"}],\"scattercarpet\":[{\"marker\":{\"colorbar\":{\"outlinewidth\":1,\"tickcolor\":\"rgb(36,36,36)\",\"ticks\":\"outside\"}},\"type\":\"scattercarpet\"}],\"scattergeo\":[{\"marker\":{\"colorbar\":{\"outlinewidth\":1,\"tickcolor\":\"rgb(36,36,36)\",\"ticks\":\"outside\"}},\"type\":\"scattergeo\"}],\"scattergl\":[{\"marker\":{\"colorbar\":{\"outlinewidth\":1,\"tickcolor\":\"rgb(36,36,36)\",\"ticks\":\"outside\"}},\"type\":\"scattergl\"}],\"scattermapbox\":[{\"marker\":{\"colorbar\":{\"outlinewidth\":1,\"tickcolor\":\"rgb(36,36,36)\",\"ticks\":\"outside\"}},\"type\":\"scattermapbox\"}],\"scatterpolargl\":[{\"marker\":{\"colorbar\":{\"outlinewidth\":1,\"tickcolor\":\"rgb(36,36,36)\",\"ticks\":\"outside\"}},\"type\":\"scatterpolargl\"}],\"scatterpolar\":[{\"marker\":{\"colorbar\":{\"outlinewidth\":1,\"tickcolor\":\"rgb(36,36,36)\",\"ticks\":\"outside\"}},\"type\":\"scatterpolar\"}],\"scatter\":[{\"fillpattern\":{\"fillmode\":\"overlay\",\"size\":10,\"solidity\":0.2},\"type\":\"scatter\"}],\"scatterternary\":[{\"marker\":{\"colorbar\":{\"outlinewidth\":1,\"tickcolor\":\"rgb(36,36,36)\",\"ticks\":\"outside\"}},\"type\":\"scatterternary\"}],\"surface\":[{\"colorbar\":{\"outlinewidth\":1,\"tickcolor\":\"rgb(36,36,36)\",\"ticks\":\"outside\"},\"colorscale\":[[0.0,\"#440154\"],[0.1111111111111111,\"#482878\"],[0.2222222222222222,\"#3e4989\"],[0.3333333333333333,\"#31688e\"],[0.4444444444444444,\"#26828e\"],[0.5555555555555556,\"#1f9e89\"],[0.6666666666666666,\"#35b779\"],[0.7777777777777778,\"#6ece58\"],[0.8888888888888888,\"#b5de2b\"],[1.0,\"#fde725\"]],\"type\":\"surface\"}],\"table\":[{\"cells\":{\"fill\":{\"color\":\"rgb(237,237,237)\"},\"line\":{\"color\":\"white\"}},\"header\":{\"fill\":{\"color\":\"rgb(217,217,217)\"},\"line\":{\"color\":\"white\"}},\"type\":\"table\"}]},\"layout\":{\"annotationdefaults\":{\"arrowhead\":0,\"arrowwidth\":1},\"autotypenumbers\":\"strict\",\"coloraxis\":{\"colorbar\":{\"outlinewidth\":1,\"tickcolor\":\"rgb(36,36,36)\",\"ticks\":\"outside\"}},\"colorscale\":{\"diverging\":[[0.0,\"rgb(103,0,31)\"],[0.1,\"rgb(178,24,43)\"],[0.2,\"rgb(214,96,77)\"],[0.3,\"rgb(244,165,130)\"],[0.4,\"rgb(253,219,199)\"],[0.5,\"rgb(247,247,247)\"],[0.6,\"rgb(209,229,240)\"],[0.7,\"rgb(146,197,222)\"],[0.8,\"rgb(67,147,195)\"],[0.9,\"rgb(33,102,172)\"],[1.0,\"rgb(5,48,97)\"]],\"sequential\":[[0.0,\"#440154\"],[0.1111111111111111,\"#482878\"],[0.2222222222222222,\"#3e4989\"],[0.3333333333333333,\"#31688e\"],[0.4444444444444444,\"#26828e\"],[0.5555555555555556,\"#1f9e89\"],[0.6666666666666666,\"#35b779\"],[0.7777777777777778,\"#6ece58\"],[0.8888888888888888,\"#b5de2b\"],[1.0,\"#fde725\"]],\"sequentialminus\":[[0.0,\"#440154\"],[0.1111111111111111,\"#482878\"],[0.2222222222222222,\"#3e4989\"],[0.3333333333333333,\"#31688e\"],[0.4444444444444444,\"#26828e\"],[0.5555555555555556,\"#1f9e89\"],[0.6666666666666666,\"#35b779\"],[0.7777777777777778,\"#6ece58\"],[0.8888888888888888,\"#b5de2b\"],[1.0,\"#fde725\"]]},\"colorway\":[\"#1F77B4\",\"#FF7F0E\",\"#2CA02C\",\"#D62728\",\"#9467BD\",\"#8C564B\",\"#E377C2\",\"#7F7F7F\",\"#BCBD22\",\"#17BECF\"],\"font\":{\"color\":\"rgb(36,36,36)\"},\"geo\":{\"bgcolor\":\"white\",\"lakecolor\":\"white\",\"landcolor\":\"white\",\"showlakes\":true,\"showland\":true,\"subunitcolor\":\"white\"},\"hoverlabel\":{\"align\":\"left\"},\"hovermode\":\"closest\",\"mapbox\":{\"style\":\"light\"},\"paper_bgcolor\":\"white\",\"plot_bgcolor\":\"white\",\"polar\":{\"angularaxis\":{\"gridcolor\":\"rgb(232,232,232)\",\"linecolor\":\"rgb(36,36,36)\",\"showgrid\":false,\"showline\":true,\"ticks\":\"outside\"},\"bgcolor\":\"white\",\"radialaxis\":{\"gridcolor\":\"rgb(232,232,232)\",\"linecolor\":\"rgb(36,36,36)\",\"showgrid\":false,\"showline\":true,\"ticks\":\"outside\"}},\"scene\":{\"xaxis\":{\"backgroundcolor\":\"white\",\"gridcolor\":\"rgb(232,232,232)\",\"gridwidth\":2,\"linecolor\":\"rgb(36,36,36)\",\"showbackground\":true,\"showgrid\":false,\"showline\":true,\"ticks\":\"outside\",\"zeroline\":false,\"zerolinecolor\":\"rgb(36,36,36)\"},\"yaxis\":{\"backgroundcolor\":\"white\",\"gridcolor\":\"rgb(232,232,232)\",\"gridwidth\":2,\"linecolor\":\"rgb(36,36,36)\",\"showbackground\":true,\"showgrid\":false,\"showline\":true,\"ticks\":\"outside\",\"zeroline\":false,\"zerolinecolor\":\"rgb(36,36,36)\"},\"zaxis\":{\"backgroundcolor\":\"white\",\"gridcolor\":\"rgb(232,232,232)\",\"gridwidth\":2,\"linecolor\":\"rgb(36,36,36)\",\"showbackground\":true,\"showgrid\":false,\"showline\":true,\"ticks\":\"outside\",\"zeroline\":false,\"zerolinecolor\":\"rgb(36,36,36)\"}},\"shapedefaults\":{\"fillcolor\":\"black\",\"line\":{\"width\":0},\"opacity\":0.3},\"ternary\":{\"aaxis\":{\"gridcolor\":\"rgb(232,232,232)\",\"linecolor\":\"rgb(36,36,36)\",\"showgrid\":false,\"showline\":true,\"ticks\":\"outside\"},\"baxis\":{\"gridcolor\":\"rgb(232,232,232)\",\"linecolor\":\"rgb(36,36,36)\",\"showgrid\":false,\"showline\":true,\"ticks\":\"outside\"},\"bgcolor\":\"white\",\"caxis\":{\"gridcolor\":\"rgb(232,232,232)\",\"linecolor\":\"rgb(36,36,36)\",\"showgrid\":false,\"showline\":true,\"ticks\":\"outside\"}},\"title\":{\"x\":0.05},\"xaxis\":{\"automargin\":true,\"gridcolor\":\"rgb(232,232,232)\",\"linecolor\":\"rgb(36,36,36)\",\"showgrid\":false,\"showline\":true,\"ticks\":\"outside\",\"title\":{\"standoff\":15},\"zeroline\":false,\"zerolinecolor\":\"rgb(36,36,36)\"},\"yaxis\":{\"automargin\":true,\"gridcolor\":\"rgb(232,232,232)\",\"linecolor\":\"rgb(36,36,36)\",\"showgrid\":false,\"showline\":true,\"ticks\":\"outside\",\"title\":{\"standoff\":15},\"zeroline\":false,\"zerolinecolor\":\"rgb(36,36,36)\"}}},\"xaxis\":{\"anchor\":\"y\",\"domain\":[0.0,1.0],\"title\":{\"text\":\"Month\",\"font\":{\"color\":\"darkgoldenrod\"}},\"tickfont\":{\"family\":\"Arial Black\"}},\"yaxis\":{\"anchor\":\"x\",\"domain\":[0.0,1.0],\"title\":{\"text\":\"SalesValue (in Millions)\",\"font\":{\"color\":\"darkgoldenrod\"}},\"tickfont\":{\"family\":\"Arial Black\"}},\"legend\":{\"tracegroupgap\":0},\"title\":{\"text\":\"Line Plot total sales value by month in 2021 \",\"font\":{\"family\":\"Times New Roman\",\"size\":30,\"color\":\"red\"}},\"font\":{\"family\":\"Arial Black\",\"color\":\"darkcyan\",\"size\":15}},                        {\"responsive\": true}                    ).then(function(){\n",
       "                            \n",
       "var gd = document.getElementById('c76673ef-6f55-4ada-bfd9-6acde205051d');\n",
       "var x = new MutationObserver(function (mutations, observer) {{\n",
       "        var display = window.getComputedStyle(gd).display;\n",
       "        if (!display || display === 'none') {{\n",
       "            console.log([gd, 'removed!']);\n",
       "            Plotly.purge(gd);\n",
       "            observer.disconnect();\n",
       "        }}\n",
       "}});\n",
       "\n",
       "// Listen for the removal of the full notebook cells\n",
       "var notebookContainer = gd.closest('#notebook-container');\n",
       "if (notebookContainer) {{\n",
       "    x.observe(notebookContainer, {childList: true});\n",
       "}}\n",
       "\n",
       "// Listen for the clearing of the current output cell\n",
       "var outputEl = gd.closest('.output');\n",
       "if (outputEl) {{\n",
       "    x.observe(outputEl, {childList: true});\n",
       "}}\n",
       "\n",
       "                        })                };                });            </script>        </div>"
      ]
     },
     "metadata": {},
     "output_type": "display_data"
    }
   ],
   "source": [
    "import plotly.express as px\n",
    "fig = px.line(        \n",
    "        y2021, #Data Frame\n",
    "        x = \"Month\", #Columns from the data frame\n",
    "        y = \"Sales\",template=\"simple_white\",\n",
    "        text=\"Sales\",\n",
    "        labels={\"Sales\": \"SalesValue (in Millions)\"},\n",
    "        title = \"Line Plot total sales value by month in 2021 \"\n",
    ")\n",
    "#fig.update_layout(autosize=True,width=1000,height=800)\n",
    "fig.update_layout(\n",
    "    yaxis_title=\"SalesValue (in Millions)\",\n",
    "    xaxis_title=\"Month\",\n",
    "    font_family=\"Arial Black\",\n",
    "    #font_family=\"Courier New\",\n",
    "    font_color=\"darkcyan\",\n",
    "    font_size=15,\n",
    "    title_font_family=\"Times New Roman\",\n",
    "    title_font_size=30,\n",
    "    title_font_color=\"red\",\n",
    "    #legend_title_font_color=\"black\",\n",
    "    #legend_font_size=10\n",
    ")\n",
    "layout = go.Layout(title='<b>Bold</b> <i>Line Plot total salesvalue by month in 2021</i>')\n",
    "fig.update_traces(textfont=dict(size=15), textposition=\"top center\")\n",
    "fig.update_traces(line_color='royalblue', line_width=5)\n",
    "fig.update_yaxes(title_font_color=\"darkgoldenrod\")\n",
    "fig.update_xaxes(title_font_color=\"darkgoldenrod\")\n",
    "fig.update_yaxes(tickfont_family=\"Arial Black\")\n",
    "fig.update_xaxes(tickfont_family=\"Arial Black\")\n",
    "fig.show()\n",
    "fig.write_html(\"C:/krish workspace/Indian Advisors/2021/InteractivePLOTS/Line Plot total salesvalue by month in 2021.html\")"
   ]
  },
  {
   "cell_type": "markdown",
   "id": "bc36460d",
   "metadata": {},
   "source": [
    "# trending of total sales value for reach product category"
   ]
  },
  {
   "cell_type": "code",
   "execution_count": 308,
   "id": "2b5a0290",
   "metadata": {},
   "outputs": [
    {
     "data": {
      "text/plain": [
       "index                                                 object\n",
       "Advisor name                                          object\n",
       "Retailer Name                                         object\n",
       "Retailer ID                                           object\n",
       "Advisor ID                                            object\n",
       "Month of Order Intent Created Date                    object\n",
       "Advisor Phone Number                                   int64\n",
       "Country Code                                          object\n",
       "Hierarchy Level 3                                     object\n",
       "Hierarchy Level 2                                     object\n",
       "Hierarchy Level 1                                     object\n",
       "Advisor Type                                          object\n",
       "Product category                                      object\n",
       "Product Brand                                         object\n",
       "Product Name                                          object\n",
       "Unit                                                  object\n",
       "Total Order Intents                                    int64\n",
       "Distinct count of Cancelled Order Intents              int64\n",
       "Farmers with Intent                                    int64\n",
       "Farmers with multiple Intents                          int64\n",
       "Farmers with Purchase                                  int64\n",
       "Distinct count of Farmers with multiple purchases      int64\n",
       "Farmer Conversion                                    float64\n",
       "Active Retailers                                       int64\n",
       "Volume Intent                                        float64\n",
       "Volume Cancelled                                     float64\n",
       "Volume Purchased                                     float64\n",
       "Returned Volume                                      float64\n",
       "Avg Volume Sold per Farmers                          float64\n",
       "Total Intent Value                                   float64\n",
       "Cancelled Order Value                                float64\n",
       "Sales Value                                          float64\n",
       "Avg Sales per Farmer                                 float64\n",
       "Actual Commission                                    float64\n",
       "Intended Commission                                  float64\n",
       "dtype: object"
      ]
     },
     "execution_count": 308,
     "metadata": {},
     "output_type": "execute_result"
    }
   ],
   "source": [
    "data2.dtypes"
   ]
  },
  {
   "cell_type": "code",
   "execution_count": 309,
   "id": "8ac29244",
   "metadata": {},
   "outputs": [],
   "source": [
    "Prod=pd.DataFrame().assign(Productcategory=data2['Product category'], Month=data2['Month of Order Intent Created Date'], Salesvalue=data2['Sales Value'])"
   ]
  },
  {
   "cell_type": "code",
   "execution_count": 310,
   "id": "e32a7494",
   "metadata": {},
   "outputs": [
    {
     "data": {
      "text/html": [
       "<div>\n",
       "<style scoped>\n",
       "    .dataframe tbody tr th:only-of-type {\n",
       "        vertical-align: middle;\n",
       "    }\n",
       "\n",
       "    .dataframe tbody tr th {\n",
       "        vertical-align: top;\n",
       "    }\n",
       "\n",
       "    .dataframe thead th {\n",
       "        text-align: right;\n",
       "    }\n",
       "</style>\n",
       "<table border=\"1\" class=\"dataframe\">\n",
       "  <thead>\n",
       "    <tr style=\"text-align: right;\">\n",
       "      <th></th>\n",
       "      <th>Productcategory</th>\n",
       "      <th>Month</th>\n",
       "      <th>Salesvalue</th>\n",
       "    </tr>\n",
       "  </thead>\n",
       "  <tbody>\n",
       "    <tr>\n",
       "      <th>0</th>\n",
       "      <td>Insecticides</td>\n",
       "      <td>June</td>\n",
       "      <td>0.0</td>\n",
       "    </tr>\n",
       "    <tr>\n",
       "      <th>1</th>\n",
       "      <td>Herbicides</td>\n",
       "      <td>June</td>\n",
       "      <td>4908.0</td>\n",
       "    </tr>\n",
       "    <tr>\n",
       "      <th>2</th>\n",
       "      <td>Insecticides</td>\n",
       "      <td>June</td>\n",
       "      <td>280.0</td>\n",
       "    </tr>\n",
       "    <tr>\n",
       "      <th>3</th>\n",
       "      <td>Insecticides</td>\n",
       "      <td>January</td>\n",
       "      <td>0.0</td>\n",
       "    </tr>\n",
       "    <tr>\n",
       "      <th>4</th>\n",
       "      <td>Insecticides</td>\n",
       "      <td>January</td>\n",
       "      <td>0.0</td>\n",
       "    </tr>\n",
       "    <tr>\n",
       "      <th>...</th>\n",
       "      <td>...</td>\n",
       "      <td>...</td>\n",
       "      <td>...</td>\n",
       "    </tr>\n",
       "    <tr>\n",
       "      <th>182666</th>\n",
       "      <td>Fungicides</td>\n",
       "      <td>October</td>\n",
       "      <td>225.0</td>\n",
       "    </tr>\n",
       "    <tr>\n",
       "      <th>182667</th>\n",
       "      <td>Fungicides</td>\n",
       "      <td>October</td>\n",
       "      <td>2730.0</td>\n",
       "    </tr>\n",
       "    <tr>\n",
       "      <th>182668</th>\n",
       "      <td>Insecticides</td>\n",
       "      <td>October</td>\n",
       "      <td>649.0</td>\n",
       "    </tr>\n",
       "    <tr>\n",
       "      <th>182669</th>\n",
       "      <td>Insecticides</td>\n",
       "      <td>October</td>\n",
       "      <td>2324.0</td>\n",
       "    </tr>\n",
       "    <tr>\n",
       "      <th>182670</th>\n",
       "      <td>Insecticides</td>\n",
       "      <td>October</td>\n",
       "      <td>835.0</td>\n",
       "    </tr>\n",
       "  </tbody>\n",
       "</table>\n",
       "<p>182671 rows × 3 columns</p>\n",
       "</div>"
      ],
      "text/plain": [
       "       Productcategory    Month  Salesvalue\n",
       "0         Insecticides     June         0.0\n",
       "1           Herbicides     June      4908.0\n",
       "2         Insecticides     June       280.0\n",
       "3         Insecticides  January         0.0\n",
       "4         Insecticides  January         0.0\n",
       "...                ...      ...         ...\n",
       "182666      Fungicides  October       225.0\n",
       "182667      Fungicides  October      2730.0\n",
       "182668    Insecticides  October       649.0\n",
       "182669    Insecticides  October      2324.0\n",
       "182670    Insecticides  October       835.0\n",
       "\n",
       "[182671 rows x 3 columns]"
      ]
     },
     "execution_count": 310,
     "metadata": {},
     "output_type": "execute_result"
    }
   ],
   "source": [
    "Prod"
   ]
  },
  {
   "cell_type": "markdown",
   "id": "a593ba28",
   "metadata": {},
   "source": [
    "#### filter dataframe according to product category"
   ]
  },
  {
   "cell_type": "code",
   "execution_count": 377,
   "id": "9a16bd37",
   "metadata": {},
   "outputs": [
    {
     "name": "stdout",
     "output_type": "stream",
     "text": [
      "       index Productcategory Month  Salesvalue\n",
      "0        131            Corn  June         0.0\n",
      "1        134            Corn  June       278.0\n",
      "2        169            Corn  June         0.0\n",
      "3        170            Corn  June       686.0\n",
      "4        171            Corn  June         0.0\n",
      "...      ...             ...   ...         ...\n",
      "5756  182467            Corn  June       612.0\n",
      "5757  182469            Corn  July       227.0\n",
      "5758  182470            Corn  July      3430.0\n",
      "5759  182471            Corn  July     15075.0\n",
      "5760  182472            Corn  July       612.0\n",
      "\n",
      "[5761 rows x 4 columns]\n"
     ]
    }
   ],
   "source": [
    "condition = (Prod['Productcategory'] == 'Corn')\n",
    "produ_cat=Prod[condition].reset_index()\n",
    "print(produ_cat)"
   ]
  },
  {
   "cell_type": "code",
   "execution_count": 378,
   "id": "56cfe76e",
   "metadata": {},
   "outputs": [],
   "source": [
    "month_prod=produ_cat.groupby([\"Productcategory\", \"Month\"])[\"Salesvalue\"].sum().rename('Sales').reset_index()"
   ]
  },
  {
   "cell_type": "code",
   "execution_count": 379,
   "id": "04628824",
   "metadata": {},
   "outputs": [
    {
     "data": {
      "text/html": [
       "<div>\n",
       "<style scoped>\n",
       "    .dataframe tbody tr th:only-of-type {\n",
       "        vertical-align: middle;\n",
       "    }\n",
       "\n",
       "    .dataframe tbody tr th {\n",
       "        vertical-align: top;\n",
       "    }\n",
       "\n",
       "    .dataframe thead th {\n",
       "        text-align: right;\n",
       "    }\n",
       "</style>\n",
       "<table border=\"1\" class=\"dataframe\">\n",
       "  <thead>\n",
       "    <tr style=\"text-align: right;\">\n",
       "      <th></th>\n",
       "      <th>Productcategory</th>\n",
       "      <th>Month</th>\n",
       "      <th>Sales</th>\n",
       "    </tr>\n",
       "  </thead>\n",
       "  <tbody>\n",
       "    <tr>\n",
       "      <th>0</th>\n",
       "      <td>Corn</td>\n",
       "      <td>April</td>\n",
       "      <td>1.190473e+06</td>\n",
       "    </tr>\n",
       "    <tr>\n",
       "      <th>1</th>\n",
       "      <td>Corn</td>\n",
       "      <td>August</td>\n",
       "      <td>2.386418e+06</td>\n",
       "    </tr>\n",
       "    <tr>\n",
       "      <th>2</th>\n",
       "      <td>Corn</td>\n",
       "      <td>December</td>\n",
       "      <td>2.037083e+06</td>\n",
       "    </tr>\n",
       "    <tr>\n",
       "      <th>3</th>\n",
       "      <td>Corn</td>\n",
       "      <td>February</td>\n",
       "      <td>1.749921e+07</td>\n",
       "    </tr>\n",
       "    <tr>\n",
       "      <th>4</th>\n",
       "      <td>Corn</td>\n",
       "      <td>January</td>\n",
       "      <td>8.574166e+05</td>\n",
       "    </tr>\n",
       "    <tr>\n",
       "      <th>5</th>\n",
       "      <td>Corn</td>\n",
       "      <td>July</td>\n",
       "      <td>9.463741e+06</td>\n",
       "    </tr>\n",
       "    <tr>\n",
       "      <th>6</th>\n",
       "      <td>Corn</td>\n",
       "      <td>June</td>\n",
       "      <td>2.956956e+07</td>\n",
       "    </tr>\n",
       "    <tr>\n",
       "      <th>7</th>\n",
       "      <td>Corn</td>\n",
       "      <td>March</td>\n",
       "      <td>2.404553e+07</td>\n",
       "    </tr>\n",
       "    <tr>\n",
       "      <th>8</th>\n",
       "      <td>Corn</td>\n",
       "      <td>May</td>\n",
       "      <td>2.407840e+06</td>\n",
       "    </tr>\n",
       "    <tr>\n",
       "      <th>9</th>\n",
       "      <td>Corn</td>\n",
       "      <td>November</td>\n",
       "      <td>3.616998e+06</td>\n",
       "    </tr>\n",
       "    <tr>\n",
       "      <th>10</th>\n",
       "      <td>Corn</td>\n",
       "      <td>October</td>\n",
       "      <td>1.217244e+06</td>\n",
       "    </tr>\n",
       "    <tr>\n",
       "      <th>11</th>\n",
       "      <td>Corn</td>\n",
       "      <td>September</td>\n",
       "      <td>4.147740e+05</td>\n",
       "    </tr>\n",
       "  </tbody>\n",
       "</table>\n",
       "</div>"
      ],
      "text/plain": [
       "   Productcategory      Month         Sales\n",
       "0             Corn      April  1.190473e+06\n",
       "1             Corn     August  2.386418e+06\n",
       "2             Corn   December  2.037083e+06\n",
       "3             Corn   February  1.749921e+07\n",
       "4             Corn    January  8.574166e+05\n",
       "5             Corn       July  9.463741e+06\n",
       "6             Corn       June  2.956956e+07\n",
       "7             Corn      March  2.404553e+07\n",
       "8             Corn        May  2.407840e+06\n",
       "9             Corn   November  3.616998e+06\n",
       "10            Corn    October  1.217244e+06\n",
       "11            Corn  September  4.147740e+05"
      ]
     },
     "execution_count": 379,
     "metadata": {},
     "output_type": "execute_result"
    }
   ],
   "source": [
    "month_prod"
   ]
  },
  {
   "cell_type": "code",
   "execution_count": 380,
   "id": "a257425d",
   "metadata": {},
   "outputs": [],
   "source": [
    "dates_in_order = pd.date_range(start='2022-01-01', end='2022-12-01', freq='MS')\n",
    "months_in_order = dates_in_order.map(lambda x: x.month_name()).to_list()"
   ]
  },
  {
   "cell_type": "code",
   "execution_count": 381,
   "id": "07c571fc",
   "metadata": {},
   "outputs": [],
   "source": [
    "month_prod.Month = pd.Categorical(\n",
    "    month_prod.Month,\n",
    "    categories=months_in_order,\n",
    "    ordered=True\n",
    ")"
   ]
  },
  {
   "cell_type": "code",
   "execution_count": 382,
   "id": "3e989a89",
   "metadata": {},
   "outputs": [],
   "source": [
    "PROD_SALE=month_prod.sort_values('Month').reset_index()"
   ]
  },
  {
   "cell_type": "code",
   "execution_count": 383,
   "id": "204589b7",
   "metadata": {},
   "outputs": [
    {
     "data": {
      "text/html": [
       "<div>\n",
       "<style scoped>\n",
       "    .dataframe tbody tr th:only-of-type {\n",
       "        vertical-align: middle;\n",
       "    }\n",
       "\n",
       "    .dataframe tbody tr th {\n",
       "        vertical-align: top;\n",
       "    }\n",
       "\n",
       "    .dataframe thead th {\n",
       "        text-align: right;\n",
       "    }\n",
       "</style>\n",
       "<table border=\"1\" class=\"dataframe\">\n",
       "  <thead>\n",
       "    <tr style=\"text-align: right;\">\n",
       "      <th></th>\n",
       "      <th>index</th>\n",
       "      <th>Productcategory</th>\n",
       "      <th>Month</th>\n",
       "      <th>Sales</th>\n",
       "    </tr>\n",
       "  </thead>\n",
       "  <tbody>\n",
       "    <tr>\n",
       "      <th>0</th>\n",
       "      <td>4</td>\n",
       "      <td>Corn</td>\n",
       "      <td>January</td>\n",
       "      <td>8.574166e+05</td>\n",
       "    </tr>\n",
       "    <tr>\n",
       "      <th>1</th>\n",
       "      <td>3</td>\n",
       "      <td>Corn</td>\n",
       "      <td>February</td>\n",
       "      <td>1.749921e+07</td>\n",
       "    </tr>\n",
       "    <tr>\n",
       "      <th>2</th>\n",
       "      <td>7</td>\n",
       "      <td>Corn</td>\n",
       "      <td>March</td>\n",
       "      <td>2.404553e+07</td>\n",
       "    </tr>\n",
       "    <tr>\n",
       "      <th>3</th>\n",
       "      <td>0</td>\n",
       "      <td>Corn</td>\n",
       "      <td>April</td>\n",
       "      <td>1.190473e+06</td>\n",
       "    </tr>\n",
       "    <tr>\n",
       "      <th>4</th>\n",
       "      <td>8</td>\n",
       "      <td>Corn</td>\n",
       "      <td>May</td>\n",
       "      <td>2.407840e+06</td>\n",
       "    </tr>\n",
       "    <tr>\n",
       "      <th>5</th>\n",
       "      <td>6</td>\n",
       "      <td>Corn</td>\n",
       "      <td>June</td>\n",
       "      <td>2.956956e+07</td>\n",
       "    </tr>\n",
       "    <tr>\n",
       "      <th>6</th>\n",
       "      <td>5</td>\n",
       "      <td>Corn</td>\n",
       "      <td>July</td>\n",
       "      <td>9.463741e+06</td>\n",
       "    </tr>\n",
       "    <tr>\n",
       "      <th>7</th>\n",
       "      <td>1</td>\n",
       "      <td>Corn</td>\n",
       "      <td>August</td>\n",
       "      <td>2.386418e+06</td>\n",
       "    </tr>\n",
       "    <tr>\n",
       "      <th>8</th>\n",
       "      <td>11</td>\n",
       "      <td>Corn</td>\n",
       "      <td>September</td>\n",
       "      <td>4.147740e+05</td>\n",
       "    </tr>\n",
       "    <tr>\n",
       "      <th>9</th>\n",
       "      <td>10</td>\n",
       "      <td>Corn</td>\n",
       "      <td>October</td>\n",
       "      <td>1.217244e+06</td>\n",
       "    </tr>\n",
       "    <tr>\n",
       "      <th>10</th>\n",
       "      <td>9</td>\n",
       "      <td>Corn</td>\n",
       "      <td>November</td>\n",
       "      <td>3.616998e+06</td>\n",
       "    </tr>\n",
       "    <tr>\n",
       "      <th>11</th>\n",
       "      <td>2</td>\n",
       "      <td>Corn</td>\n",
       "      <td>December</td>\n",
       "      <td>2.037083e+06</td>\n",
       "    </tr>\n",
       "  </tbody>\n",
       "</table>\n",
       "</div>"
      ],
      "text/plain": [
       "    index Productcategory      Month         Sales\n",
       "0       4            Corn    January  8.574166e+05\n",
       "1       3            Corn   February  1.749921e+07\n",
       "2       7            Corn      March  2.404553e+07\n",
       "3       0            Corn      April  1.190473e+06\n",
       "4       8            Corn        May  2.407840e+06\n",
       "5       6            Corn       June  2.956956e+07\n",
       "6       5            Corn       July  9.463741e+06\n",
       "7       1            Corn     August  2.386418e+06\n",
       "8      11            Corn  September  4.147740e+05\n",
       "9      10            Corn    October  1.217244e+06\n",
       "10      9            Corn   November  3.616998e+06\n",
       "11      2            Corn   December  2.037083e+06"
      ]
     },
     "execution_count": 383,
     "metadata": {},
     "output_type": "execute_result"
    }
   ],
   "source": [
    "PROD_SALE"
   ]
  },
  {
   "cell_type": "code",
   "execution_count": 384,
   "id": "c84b0716",
   "metadata": {},
   "outputs": [],
   "source": [
    "#saving product category monthly total sales data in excel file\n",
    "file_name4='CORN_Monthlytotlsales_2022.xlsx'\n",
    "PROD_SALE.to_excel(file_name4)"
   ]
  },
  {
   "cell_type": "code",
   "execution_count": 385,
   "id": "01fb239d",
   "metadata": {},
   "outputs": [],
   "source": [
    "#converting values to currency (Millions)\n",
    "PROD_SALE['Sales'] = (PROD_SALE['Sales'].astype(float)/1000000).round(2)"
   ]
  },
  {
   "cell_type": "code",
   "execution_count": 386,
   "id": "f3a7e8c0",
   "metadata": {},
   "outputs": [
    {
     "data": {
      "text/html": [
       "<div>\n",
       "<style scoped>\n",
       "    .dataframe tbody tr th:only-of-type {\n",
       "        vertical-align: middle;\n",
       "    }\n",
       "\n",
       "    .dataframe tbody tr th {\n",
       "        vertical-align: top;\n",
       "    }\n",
       "\n",
       "    .dataframe thead th {\n",
       "        text-align: right;\n",
       "    }\n",
       "</style>\n",
       "<table border=\"1\" class=\"dataframe\">\n",
       "  <thead>\n",
       "    <tr style=\"text-align: right;\">\n",
       "      <th></th>\n",
       "      <th>index</th>\n",
       "      <th>Productcategory</th>\n",
       "      <th>Month</th>\n",
       "      <th>Sales</th>\n",
       "    </tr>\n",
       "  </thead>\n",
       "  <tbody>\n",
       "    <tr>\n",
       "      <th>0</th>\n",
       "      <td>4</td>\n",
       "      <td>Corn</td>\n",
       "      <td>January</td>\n",
       "      <td>0.86</td>\n",
       "    </tr>\n",
       "    <tr>\n",
       "      <th>1</th>\n",
       "      <td>3</td>\n",
       "      <td>Corn</td>\n",
       "      <td>February</td>\n",
       "      <td>17.50</td>\n",
       "    </tr>\n",
       "    <tr>\n",
       "      <th>2</th>\n",
       "      <td>7</td>\n",
       "      <td>Corn</td>\n",
       "      <td>March</td>\n",
       "      <td>24.05</td>\n",
       "    </tr>\n",
       "    <tr>\n",
       "      <th>3</th>\n",
       "      <td>0</td>\n",
       "      <td>Corn</td>\n",
       "      <td>April</td>\n",
       "      <td>1.19</td>\n",
       "    </tr>\n",
       "    <tr>\n",
       "      <th>4</th>\n",
       "      <td>8</td>\n",
       "      <td>Corn</td>\n",
       "      <td>May</td>\n",
       "      <td>2.41</td>\n",
       "    </tr>\n",
       "    <tr>\n",
       "      <th>5</th>\n",
       "      <td>6</td>\n",
       "      <td>Corn</td>\n",
       "      <td>June</td>\n",
       "      <td>29.57</td>\n",
       "    </tr>\n",
       "    <tr>\n",
       "      <th>6</th>\n",
       "      <td>5</td>\n",
       "      <td>Corn</td>\n",
       "      <td>July</td>\n",
       "      <td>9.46</td>\n",
       "    </tr>\n",
       "    <tr>\n",
       "      <th>7</th>\n",
       "      <td>1</td>\n",
       "      <td>Corn</td>\n",
       "      <td>August</td>\n",
       "      <td>2.39</td>\n",
       "    </tr>\n",
       "    <tr>\n",
       "      <th>8</th>\n",
       "      <td>11</td>\n",
       "      <td>Corn</td>\n",
       "      <td>September</td>\n",
       "      <td>0.41</td>\n",
       "    </tr>\n",
       "    <tr>\n",
       "      <th>9</th>\n",
       "      <td>10</td>\n",
       "      <td>Corn</td>\n",
       "      <td>October</td>\n",
       "      <td>1.22</td>\n",
       "    </tr>\n",
       "    <tr>\n",
       "      <th>10</th>\n",
       "      <td>9</td>\n",
       "      <td>Corn</td>\n",
       "      <td>November</td>\n",
       "      <td>3.62</td>\n",
       "    </tr>\n",
       "    <tr>\n",
       "      <th>11</th>\n",
       "      <td>2</td>\n",
       "      <td>Corn</td>\n",
       "      <td>December</td>\n",
       "      <td>2.04</td>\n",
       "    </tr>\n",
       "  </tbody>\n",
       "</table>\n",
       "</div>"
      ],
      "text/plain": [
       "    index Productcategory      Month  Sales\n",
       "0       4            Corn    January   0.86\n",
       "1       3            Corn   February  17.50\n",
       "2       7            Corn      March  24.05\n",
       "3       0            Corn      April   1.19\n",
       "4       8            Corn        May   2.41\n",
       "5       6            Corn       June  29.57\n",
       "6       5            Corn       July   9.46\n",
       "7       1            Corn     August   2.39\n",
       "8      11            Corn  September   0.41\n",
       "9      10            Corn    October   1.22\n",
       "10      9            Corn   November   3.62\n",
       "11      2            Corn   December   2.04"
      ]
     },
     "execution_count": 386,
     "metadata": {},
     "output_type": "execute_result"
    }
   ],
   "source": [
    "PROD_SALE"
   ]
  },
  {
   "cell_type": "code",
   "execution_count": 373,
   "id": "a84eeee2",
   "metadata": {},
   "outputs": [],
   "source": [
    "#drop rows for null (0)values\n",
    "TOPPESTprod=PROD_SALE.drop(PROD_SALE[PROD_SALE.Sales == 0].index)"
   ]
  },
  {
   "cell_type": "code",
   "execution_count": 374,
   "id": "1d62df1a",
   "metadata": {},
   "outputs": [
    {
     "data": {
      "text/html": [
       "<div>\n",
       "<style scoped>\n",
       "    .dataframe tbody tr th:only-of-type {\n",
       "        vertical-align: middle;\n",
       "    }\n",
       "\n",
       "    .dataframe tbody tr th {\n",
       "        vertical-align: top;\n",
       "    }\n",
       "\n",
       "    .dataframe thead th {\n",
       "        text-align: right;\n",
       "    }\n",
       "</style>\n",
       "<table border=\"1\" class=\"dataframe\">\n",
       "  <thead>\n",
       "    <tr style=\"text-align: right;\">\n",
       "      <th></th>\n",
       "      <th>index</th>\n",
       "      <th>Productcategory</th>\n",
       "      <th>Month</th>\n",
       "      <th>Sales</th>\n",
       "    </tr>\n",
       "  </thead>\n",
       "  <tbody>\n",
       "    <tr>\n",
       "      <th>0</th>\n",
       "      <td>4</td>\n",
       "      <td>Rice</td>\n",
       "      <td>January</td>\n",
       "      <td>308942.0</td>\n",
       "    </tr>\n",
       "    <tr>\n",
       "      <th>3</th>\n",
       "      <td>0</td>\n",
       "      <td>Rice</td>\n",
       "      <td>April</td>\n",
       "      <td>59820.0</td>\n",
       "    </tr>\n",
       "    <tr>\n",
       "      <th>4</th>\n",
       "      <td>8</td>\n",
       "      <td>Rice</td>\n",
       "      <td>May</td>\n",
       "      <td>1248669.0</td>\n",
       "    </tr>\n",
       "    <tr>\n",
       "      <th>5</th>\n",
       "      <td>6</td>\n",
       "      <td>Rice</td>\n",
       "      <td>June</td>\n",
       "      <td>14948555.0</td>\n",
       "    </tr>\n",
       "    <tr>\n",
       "      <th>6</th>\n",
       "      <td>5</td>\n",
       "      <td>Rice</td>\n",
       "      <td>July</td>\n",
       "      <td>9188891.0</td>\n",
       "    </tr>\n",
       "    <tr>\n",
       "      <th>7</th>\n",
       "      <td>1</td>\n",
       "      <td>Rice</td>\n",
       "      <td>August</td>\n",
       "      <td>86520.0</td>\n",
       "    </tr>\n",
       "    <tr>\n",
       "      <th>8</th>\n",
       "      <td>11</td>\n",
       "      <td>Rice</td>\n",
       "      <td>September</td>\n",
       "      <td>1464015.0</td>\n",
       "    </tr>\n",
       "    <tr>\n",
       "      <th>9</th>\n",
       "      <td>10</td>\n",
       "      <td>Rice</td>\n",
       "      <td>October</td>\n",
       "      <td>119478.0</td>\n",
       "    </tr>\n",
       "    <tr>\n",
       "      <th>10</th>\n",
       "      <td>9</td>\n",
       "      <td>Rice</td>\n",
       "      <td>November</td>\n",
       "      <td>5016.0</td>\n",
       "    </tr>\n",
       "    <tr>\n",
       "      <th>11</th>\n",
       "      <td>2</td>\n",
       "      <td>Rice</td>\n",
       "      <td>December</td>\n",
       "      <td>52803.0</td>\n",
       "    </tr>\n",
       "  </tbody>\n",
       "</table>\n",
       "</div>"
      ],
      "text/plain": [
       "    index Productcategory      Month       Sales\n",
       "0       4            Rice    January    308942.0\n",
       "3       0            Rice      April     59820.0\n",
       "4       8            Rice        May   1248669.0\n",
       "5       6            Rice       June  14948555.0\n",
       "6       5            Rice       July   9188891.0\n",
       "7       1            Rice     August     86520.0\n",
       "8      11            Rice  September   1464015.0\n",
       "9      10            Rice    October    119478.0\n",
       "10      9            Rice   November      5016.0\n",
       "11      2            Rice   December     52803.0"
      ]
     },
     "execution_count": 374,
     "metadata": {},
     "output_type": "execute_result"
    }
   ],
   "source": [
    "TOPPESTprod"
   ]
  },
  {
   "cell_type": "markdown",
   "id": "8ea5e153",
   "metadata": {},
   "source": [
    "##### Lineploting total sales trending by product category"
   ]
  },
  {
   "cell_type": "code",
   "execution_count": 388,
   "id": "8c06572e",
   "metadata": {},
   "outputs": [
    {
     "data": {
      "application/vnd.plotly.v1+json": {
       "config": {
        "plotlyServerURL": "https://plot.ly"
       },
       "data": [
        {
         "hovertemplate": "Productcategory=Corn<br>Month=%{x}<br>Sales Value(in Millions)=%{text}<extra></extra>",
         "legendgroup": "Corn",
         "line": {
          "color": "pink",
          "dash": "solid",
          "width": 5
         },
         "marker": {
          "symbol": "circle"
         },
         "mode": "text+lines+markers",
         "name": "Corn",
         "orientation": "v",
         "showlegend": true,
         "text": [
          0.86,
          17.5,
          24.05,
          1.19,
          2.41,
          29.57,
          9.46,
          2.39,
          0.41,
          1.22,
          3.62,
          2.04
         ],
         "textfont": {
          "size": 8
         },
         "textposition": "top center",
         "type": "scatter",
         "x": [
          "January",
          "February",
          "March",
          "April",
          "May",
          "June",
          "July",
          "August",
          "September",
          "October",
          "November",
          "December"
         ],
         "xaxis": "x",
         "y": [
          0.86,
          17.5,
          24.05,
          1.19,
          2.41,
          29.57,
          9.46,
          2.39,
          0.41,
          1.22,
          3.62,
          2.04
         ],
         "yaxis": "y"
        }
       ],
       "layout": {
        "font": {
         "color": "darkcyan",
         "family": "Arial Black",
         "size": 15
        },
        "legend": {
         "font": {
          "size": 10
         },
         "title": {
          "font": {
           "color": "black"
          },
          "text": "Productcategory"
         },
         "tracegroupgap": 0
        },
        "template": {
         "data": {
          "bar": [
           {
            "error_x": {
             "color": "rgb(36,36,36)"
            },
            "error_y": {
             "color": "rgb(36,36,36)"
            },
            "marker": {
             "line": {
              "color": "white",
              "width": 0.5
             },
             "pattern": {
              "fillmode": "overlay",
              "size": 10,
              "solidity": 0.2
             }
            },
            "type": "bar"
           }
          ],
          "barpolar": [
           {
            "marker": {
             "line": {
              "color": "white",
              "width": 0.5
             },
             "pattern": {
              "fillmode": "overlay",
              "size": 10,
              "solidity": 0.2
             }
            },
            "type": "barpolar"
           }
          ],
          "carpet": [
           {
            "aaxis": {
             "endlinecolor": "rgb(36,36,36)",
             "gridcolor": "white",
             "linecolor": "white",
             "minorgridcolor": "white",
             "startlinecolor": "rgb(36,36,36)"
            },
            "baxis": {
             "endlinecolor": "rgb(36,36,36)",
             "gridcolor": "white",
             "linecolor": "white",
             "minorgridcolor": "white",
             "startlinecolor": "rgb(36,36,36)"
            },
            "type": "carpet"
           }
          ],
          "choropleth": [
           {
            "colorbar": {
             "outlinewidth": 1,
             "tickcolor": "rgb(36,36,36)",
             "ticks": "outside"
            },
            "type": "choropleth"
           }
          ],
          "contour": [
           {
            "colorbar": {
             "outlinewidth": 1,
             "tickcolor": "rgb(36,36,36)",
             "ticks": "outside"
            },
            "colorscale": [
             [
              0,
              "#440154"
             ],
             [
              0.1111111111111111,
              "#482878"
             ],
             [
              0.2222222222222222,
              "#3e4989"
             ],
             [
              0.3333333333333333,
              "#31688e"
             ],
             [
              0.4444444444444444,
              "#26828e"
             ],
             [
              0.5555555555555556,
              "#1f9e89"
             ],
             [
              0.6666666666666666,
              "#35b779"
             ],
             [
              0.7777777777777778,
              "#6ece58"
             ],
             [
              0.8888888888888888,
              "#b5de2b"
             ],
             [
              1,
              "#fde725"
             ]
            ],
            "type": "contour"
           }
          ],
          "contourcarpet": [
           {
            "colorbar": {
             "outlinewidth": 1,
             "tickcolor": "rgb(36,36,36)",
             "ticks": "outside"
            },
            "type": "contourcarpet"
           }
          ],
          "heatmap": [
           {
            "colorbar": {
             "outlinewidth": 1,
             "tickcolor": "rgb(36,36,36)",
             "ticks": "outside"
            },
            "colorscale": [
             [
              0,
              "#440154"
             ],
             [
              0.1111111111111111,
              "#482878"
             ],
             [
              0.2222222222222222,
              "#3e4989"
             ],
             [
              0.3333333333333333,
              "#31688e"
             ],
             [
              0.4444444444444444,
              "#26828e"
             ],
             [
              0.5555555555555556,
              "#1f9e89"
             ],
             [
              0.6666666666666666,
              "#35b779"
             ],
             [
              0.7777777777777778,
              "#6ece58"
             ],
             [
              0.8888888888888888,
              "#b5de2b"
             ],
             [
              1,
              "#fde725"
             ]
            ],
            "type": "heatmap"
           }
          ],
          "heatmapgl": [
           {
            "colorbar": {
             "outlinewidth": 1,
             "tickcolor": "rgb(36,36,36)",
             "ticks": "outside"
            },
            "colorscale": [
             [
              0,
              "#440154"
             ],
             [
              0.1111111111111111,
              "#482878"
             ],
             [
              0.2222222222222222,
              "#3e4989"
             ],
             [
              0.3333333333333333,
              "#31688e"
             ],
             [
              0.4444444444444444,
              "#26828e"
             ],
             [
              0.5555555555555556,
              "#1f9e89"
             ],
             [
              0.6666666666666666,
              "#35b779"
             ],
             [
              0.7777777777777778,
              "#6ece58"
             ],
             [
              0.8888888888888888,
              "#b5de2b"
             ],
             [
              1,
              "#fde725"
             ]
            ],
            "type": "heatmapgl"
           }
          ],
          "histogram": [
           {
            "marker": {
             "line": {
              "color": "white",
              "width": 0.6
             }
            },
            "type": "histogram"
           }
          ],
          "histogram2d": [
           {
            "colorbar": {
             "outlinewidth": 1,
             "tickcolor": "rgb(36,36,36)",
             "ticks": "outside"
            },
            "colorscale": [
             [
              0,
              "#440154"
             ],
             [
              0.1111111111111111,
              "#482878"
             ],
             [
              0.2222222222222222,
              "#3e4989"
             ],
             [
              0.3333333333333333,
              "#31688e"
             ],
             [
              0.4444444444444444,
              "#26828e"
             ],
             [
              0.5555555555555556,
              "#1f9e89"
             ],
             [
              0.6666666666666666,
              "#35b779"
             ],
             [
              0.7777777777777778,
              "#6ece58"
             ],
             [
              0.8888888888888888,
              "#b5de2b"
             ],
             [
              1,
              "#fde725"
             ]
            ],
            "type": "histogram2d"
           }
          ],
          "histogram2dcontour": [
           {
            "colorbar": {
             "outlinewidth": 1,
             "tickcolor": "rgb(36,36,36)",
             "ticks": "outside"
            },
            "colorscale": [
             [
              0,
              "#440154"
             ],
             [
              0.1111111111111111,
              "#482878"
             ],
             [
              0.2222222222222222,
              "#3e4989"
             ],
             [
              0.3333333333333333,
              "#31688e"
             ],
             [
              0.4444444444444444,
              "#26828e"
             ],
             [
              0.5555555555555556,
              "#1f9e89"
             ],
             [
              0.6666666666666666,
              "#35b779"
             ],
             [
              0.7777777777777778,
              "#6ece58"
             ],
             [
              0.8888888888888888,
              "#b5de2b"
             ],
             [
              1,
              "#fde725"
             ]
            ],
            "type": "histogram2dcontour"
           }
          ],
          "mesh3d": [
           {
            "colorbar": {
             "outlinewidth": 1,
             "tickcolor": "rgb(36,36,36)",
             "ticks": "outside"
            },
            "type": "mesh3d"
           }
          ],
          "parcoords": [
           {
            "line": {
             "colorbar": {
              "outlinewidth": 1,
              "tickcolor": "rgb(36,36,36)",
              "ticks": "outside"
             }
            },
            "type": "parcoords"
           }
          ],
          "pie": [
           {
            "automargin": true,
            "type": "pie"
           }
          ],
          "scatter": [
           {
            "fillpattern": {
             "fillmode": "overlay",
             "size": 10,
             "solidity": 0.2
            },
            "type": "scatter"
           }
          ],
          "scatter3d": [
           {
            "line": {
             "colorbar": {
              "outlinewidth": 1,
              "tickcolor": "rgb(36,36,36)",
              "ticks": "outside"
             }
            },
            "marker": {
             "colorbar": {
              "outlinewidth": 1,
              "tickcolor": "rgb(36,36,36)",
              "ticks": "outside"
             }
            },
            "type": "scatter3d"
           }
          ],
          "scattercarpet": [
           {
            "marker": {
             "colorbar": {
              "outlinewidth": 1,
              "tickcolor": "rgb(36,36,36)",
              "ticks": "outside"
             }
            },
            "type": "scattercarpet"
           }
          ],
          "scattergeo": [
           {
            "marker": {
             "colorbar": {
              "outlinewidth": 1,
              "tickcolor": "rgb(36,36,36)",
              "ticks": "outside"
             }
            },
            "type": "scattergeo"
           }
          ],
          "scattergl": [
           {
            "marker": {
             "colorbar": {
              "outlinewidth": 1,
              "tickcolor": "rgb(36,36,36)",
              "ticks": "outside"
             }
            },
            "type": "scattergl"
           }
          ],
          "scattermapbox": [
           {
            "marker": {
             "colorbar": {
              "outlinewidth": 1,
              "tickcolor": "rgb(36,36,36)",
              "ticks": "outside"
             }
            },
            "type": "scattermapbox"
           }
          ],
          "scatterpolar": [
           {
            "marker": {
             "colorbar": {
              "outlinewidth": 1,
              "tickcolor": "rgb(36,36,36)",
              "ticks": "outside"
             }
            },
            "type": "scatterpolar"
           }
          ],
          "scatterpolargl": [
           {
            "marker": {
             "colorbar": {
              "outlinewidth": 1,
              "tickcolor": "rgb(36,36,36)",
              "ticks": "outside"
             }
            },
            "type": "scatterpolargl"
           }
          ],
          "scatterternary": [
           {
            "marker": {
             "colorbar": {
              "outlinewidth": 1,
              "tickcolor": "rgb(36,36,36)",
              "ticks": "outside"
             }
            },
            "type": "scatterternary"
           }
          ],
          "surface": [
           {
            "colorbar": {
             "outlinewidth": 1,
             "tickcolor": "rgb(36,36,36)",
             "ticks": "outside"
            },
            "colorscale": [
             [
              0,
              "#440154"
             ],
             [
              0.1111111111111111,
              "#482878"
             ],
             [
              0.2222222222222222,
              "#3e4989"
             ],
             [
              0.3333333333333333,
              "#31688e"
             ],
             [
              0.4444444444444444,
              "#26828e"
             ],
             [
              0.5555555555555556,
              "#1f9e89"
             ],
             [
              0.6666666666666666,
              "#35b779"
             ],
             [
              0.7777777777777778,
              "#6ece58"
             ],
             [
              0.8888888888888888,
              "#b5de2b"
             ],
             [
              1,
              "#fde725"
             ]
            ],
            "type": "surface"
           }
          ],
          "table": [
           {
            "cells": {
             "fill": {
              "color": "rgb(237,237,237)"
             },
             "line": {
              "color": "white"
             }
            },
            "header": {
             "fill": {
              "color": "rgb(217,217,217)"
             },
             "line": {
              "color": "white"
             }
            },
            "type": "table"
           }
          ]
         },
         "layout": {
          "annotationdefaults": {
           "arrowhead": 0,
           "arrowwidth": 1
          },
          "autotypenumbers": "strict",
          "coloraxis": {
           "colorbar": {
            "outlinewidth": 1,
            "tickcolor": "rgb(36,36,36)",
            "ticks": "outside"
           }
          },
          "colorscale": {
           "diverging": [
            [
             0,
             "rgb(103,0,31)"
            ],
            [
             0.1,
             "rgb(178,24,43)"
            ],
            [
             0.2,
             "rgb(214,96,77)"
            ],
            [
             0.3,
             "rgb(244,165,130)"
            ],
            [
             0.4,
             "rgb(253,219,199)"
            ],
            [
             0.5,
             "rgb(247,247,247)"
            ],
            [
             0.6,
             "rgb(209,229,240)"
            ],
            [
             0.7,
             "rgb(146,197,222)"
            ],
            [
             0.8,
             "rgb(67,147,195)"
            ],
            [
             0.9,
             "rgb(33,102,172)"
            ],
            [
             1,
             "rgb(5,48,97)"
            ]
           ],
           "sequential": [
            [
             0,
             "#440154"
            ],
            [
             0.1111111111111111,
             "#482878"
            ],
            [
             0.2222222222222222,
             "#3e4989"
            ],
            [
             0.3333333333333333,
             "#31688e"
            ],
            [
             0.4444444444444444,
             "#26828e"
            ],
            [
             0.5555555555555556,
             "#1f9e89"
            ],
            [
             0.6666666666666666,
             "#35b779"
            ],
            [
             0.7777777777777778,
             "#6ece58"
            ],
            [
             0.8888888888888888,
             "#b5de2b"
            ],
            [
             1,
             "#fde725"
            ]
           ],
           "sequentialminus": [
            [
             0,
             "#440154"
            ],
            [
             0.1111111111111111,
             "#482878"
            ],
            [
             0.2222222222222222,
             "#3e4989"
            ],
            [
             0.3333333333333333,
             "#31688e"
            ],
            [
             0.4444444444444444,
             "#26828e"
            ],
            [
             0.5555555555555556,
             "#1f9e89"
            ],
            [
             0.6666666666666666,
             "#35b779"
            ],
            [
             0.7777777777777778,
             "#6ece58"
            ],
            [
             0.8888888888888888,
             "#b5de2b"
            ],
            [
             1,
             "#fde725"
            ]
           ]
          },
          "colorway": [
           "#1F77B4",
           "#FF7F0E",
           "#2CA02C",
           "#D62728",
           "#9467BD",
           "#8C564B",
           "#E377C2",
           "#7F7F7F",
           "#BCBD22",
           "#17BECF"
          ],
          "font": {
           "color": "rgb(36,36,36)"
          },
          "geo": {
           "bgcolor": "white",
           "lakecolor": "white",
           "landcolor": "white",
           "showlakes": true,
           "showland": true,
           "subunitcolor": "white"
          },
          "hoverlabel": {
           "align": "left"
          },
          "hovermode": "closest",
          "mapbox": {
           "style": "light"
          },
          "paper_bgcolor": "white",
          "plot_bgcolor": "white",
          "polar": {
           "angularaxis": {
            "gridcolor": "rgb(232,232,232)",
            "linecolor": "rgb(36,36,36)",
            "showgrid": false,
            "showline": true,
            "ticks": "outside"
           },
           "bgcolor": "white",
           "radialaxis": {
            "gridcolor": "rgb(232,232,232)",
            "linecolor": "rgb(36,36,36)",
            "showgrid": false,
            "showline": true,
            "ticks": "outside"
           }
          },
          "scene": {
           "xaxis": {
            "backgroundcolor": "white",
            "gridcolor": "rgb(232,232,232)",
            "gridwidth": 2,
            "linecolor": "rgb(36,36,36)",
            "showbackground": true,
            "showgrid": false,
            "showline": true,
            "ticks": "outside",
            "zeroline": false,
            "zerolinecolor": "rgb(36,36,36)"
           },
           "yaxis": {
            "backgroundcolor": "white",
            "gridcolor": "rgb(232,232,232)",
            "gridwidth": 2,
            "linecolor": "rgb(36,36,36)",
            "showbackground": true,
            "showgrid": false,
            "showline": true,
            "ticks": "outside",
            "zeroline": false,
            "zerolinecolor": "rgb(36,36,36)"
           },
           "zaxis": {
            "backgroundcolor": "white",
            "gridcolor": "rgb(232,232,232)",
            "gridwidth": 2,
            "linecolor": "rgb(36,36,36)",
            "showbackground": true,
            "showgrid": false,
            "showline": true,
            "ticks": "outside",
            "zeroline": false,
            "zerolinecolor": "rgb(36,36,36)"
           }
          },
          "shapedefaults": {
           "fillcolor": "black",
           "line": {
            "width": 0
           },
           "opacity": 0.3
          },
          "ternary": {
           "aaxis": {
            "gridcolor": "rgb(232,232,232)",
            "linecolor": "rgb(36,36,36)",
            "showgrid": false,
            "showline": true,
            "ticks": "outside"
           },
           "baxis": {
            "gridcolor": "rgb(232,232,232)",
            "linecolor": "rgb(36,36,36)",
            "showgrid": false,
            "showline": true,
            "ticks": "outside"
           },
           "bgcolor": "white",
           "caxis": {
            "gridcolor": "rgb(232,232,232)",
            "linecolor": "rgb(36,36,36)",
            "showgrid": false,
            "showline": true,
            "ticks": "outside"
           }
          },
          "title": {
           "x": 0.05
          },
          "xaxis": {
           "automargin": true,
           "gridcolor": "rgb(232,232,232)",
           "linecolor": "rgb(36,36,36)",
           "showgrid": false,
           "showline": true,
           "ticks": "outside",
           "title": {
            "standoff": 15
           },
           "zeroline": false,
           "zerolinecolor": "rgb(36,36,36)"
          },
          "yaxis": {
           "automargin": true,
           "gridcolor": "rgb(232,232,232)",
           "linecolor": "rgb(36,36,36)",
           "showgrid": false,
           "showline": true,
           "ticks": "outside",
           "title": {
            "standoff": 15
           },
           "zeroline": false,
           "zerolinecolor": "rgb(36,36,36)"
          }
         }
        },
        "title": {
         "font": {
          "color": "red",
          "family": "Times New Roman",
          "size": 30
         },
         "text": "Line Plot total sales value by CORN in 2022 "
        },
        "xaxis": {
         "anchor": "y",
         "domain": [
          0,
          1
         ],
         "tickfont": {
          "family": "Arial Black"
         },
         "title": {
          "font": {
           "color": "black"
          },
          "text": "Month"
         }
        },
        "yaxis": {
         "anchor": "x",
         "domain": [
          0,
          1
         ],
         "tickfont": {
          "family": "Arial Black"
         },
         "title": {
          "font": {
           "color": "black"
          },
          "text": "Sales Value(in Millions)"
         }
        }
       }
      },
      "text/html": [
       "<div>                            <div id=\"dd618a79-1149-4feb-82d5-3954785db073\" class=\"plotly-graph-div\" style=\"height:525px; width:100%;\"></div>            <script type=\"text/javascript\">                require([\"plotly\"], function(Plotly) {                    window.PLOTLYENV=window.PLOTLYENV || {};                                    if (document.getElementById(\"dd618a79-1149-4feb-82d5-3954785db073\")) {                    Plotly.newPlot(                        \"dd618a79-1149-4feb-82d5-3954785db073\",                        [{\"hovertemplate\":\"Productcategory=Corn<br>Month=%{x}<br>Sales Value(in Millions)=%{text}<extra></extra>\",\"legendgroup\":\"Corn\",\"line\":{\"color\":\"pink\",\"dash\":\"solid\",\"width\":5},\"marker\":{\"symbol\":\"circle\"},\"mode\":\"text+lines+markers\",\"name\":\"Corn\",\"orientation\":\"v\",\"showlegend\":true,\"text\":[0.86,17.5,24.05,1.19,2.41,29.57,9.46,2.39,0.41,1.22,3.62,2.04],\"x\":[\"January\",\"February\",\"March\",\"April\",\"May\",\"June\",\"July\",\"August\",\"September\",\"October\",\"November\",\"December\"],\"xaxis\":\"x\",\"y\":[0.86,17.5,24.05,1.19,2.41,29.57,9.46,2.39,0.41,1.22,3.62,2.04],\"yaxis\":\"y\",\"type\":\"scatter\",\"textfont\":{\"size\":8},\"textposition\":\"top center\"}],                        {\"template\":{\"data\":{\"barpolar\":[{\"marker\":{\"line\":{\"color\":\"white\",\"width\":0.5},\"pattern\":{\"fillmode\":\"overlay\",\"size\":10,\"solidity\":0.2}},\"type\":\"barpolar\"}],\"bar\":[{\"error_x\":{\"color\":\"rgb(36,36,36)\"},\"error_y\":{\"color\":\"rgb(36,36,36)\"},\"marker\":{\"line\":{\"color\":\"white\",\"width\":0.5},\"pattern\":{\"fillmode\":\"overlay\",\"size\":10,\"solidity\":0.2}},\"type\":\"bar\"}],\"carpet\":[{\"aaxis\":{\"endlinecolor\":\"rgb(36,36,36)\",\"gridcolor\":\"white\",\"linecolor\":\"white\",\"minorgridcolor\":\"white\",\"startlinecolor\":\"rgb(36,36,36)\"},\"baxis\":{\"endlinecolor\":\"rgb(36,36,36)\",\"gridcolor\":\"white\",\"linecolor\":\"white\",\"minorgridcolor\":\"white\",\"startlinecolor\":\"rgb(36,36,36)\"},\"type\":\"carpet\"}],\"choropleth\":[{\"colorbar\":{\"outlinewidth\":1,\"tickcolor\":\"rgb(36,36,36)\",\"ticks\":\"outside\"},\"type\":\"choropleth\"}],\"contourcarpet\":[{\"colorbar\":{\"outlinewidth\":1,\"tickcolor\":\"rgb(36,36,36)\",\"ticks\":\"outside\"},\"type\":\"contourcarpet\"}],\"contour\":[{\"colorbar\":{\"outlinewidth\":1,\"tickcolor\":\"rgb(36,36,36)\",\"ticks\":\"outside\"},\"colorscale\":[[0.0,\"#440154\"],[0.1111111111111111,\"#482878\"],[0.2222222222222222,\"#3e4989\"],[0.3333333333333333,\"#31688e\"],[0.4444444444444444,\"#26828e\"],[0.5555555555555556,\"#1f9e89\"],[0.6666666666666666,\"#35b779\"],[0.7777777777777778,\"#6ece58\"],[0.8888888888888888,\"#b5de2b\"],[1.0,\"#fde725\"]],\"type\":\"contour\"}],\"heatmapgl\":[{\"colorbar\":{\"outlinewidth\":1,\"tickcolor\":\"rgb(36,36,36)\",\"ticks\":\"outside\"},\"colorscale\":[[0.0,\"#440154\"],[0.1111111111111111,\"#482878\"],[0.2222222222222222,\"#3e4989\"],[0.3333333333333333,\"#31688e\"],[0.4444444444444444,\"#26828e\"],[0.5555555555555556,\"#1f9e89\"],[0.6666666666666666,\"#35b779\"],[0.7777777777777778,\"#6ece58\"],[0.8888888888888888,\"#b5de2b\"],[1.0,\"#fde725\"]],\"type\":\"heatmapgl\"}],\"heatmap\":[{\"colorbar\":{\"outlinewidth\":1,\"tickcolor\":\"rgb(36,36,36)\",\"ticks\":\"outside\"},\"colorscale\":[[0.0,\"#440154\"],[0.1111111111111111,\"#482878\"],[0.2222222222222222,\"#3e4989\"],[0.3333333333333333,\"#31688e\"],[0.4444444444444444,\"#26828e\"],[0.5555555555555556,\"#1f9e89\"],[0.6666666666666666,\"#35b779\"],[0.7777777777777778,\"#6ece58\"],[0.8888888888888888,\"#b5de2b\"],[1.0,\"#fde725\"]],\"type\":\"heatmap\"}],\"histogram2dcontour\":[{\"colorbar\":{\"outlinewidth\":1,\"tickcolor\":\"rgb(36,36,36)\",\"ticks\":\"outside\"},\"colorscale\":[[0.0,\"#440154\"],[0.1111111111111111,\"#482878\"],[0.2222222222222222,\"#3e4989\"],[0.3333333333333333,\"#31688e\"],[0.4444444444444444,\"#26828e\"],[0.5555555555555556,\"#1f9e89\"],[0.6666666666666666,\"#35b779\"],[0.7777777777777778,\"#6ece58\"],[0.8888888888888888,\"#b5de2b\"],[1.0,\"#fde725\"]],\"type\":\"histogram2dcontour\"}],\"histogram2d\":[{\"colorbar\":{\"outlinewidth\":1,\"tickcolor\":\"rgb(36,36,36)\",\"ticks\":\"outside\"},\"colorscale\":[[0.0,\"#440154\"],[0.1111111111111111,\"#482878\"],[0.2222222222222222,\"#3e4989\"],[0.3333333333333333,\"#31688e\"],[0.4444444444444444,\"#26828e\"],[0.5555555555555556,\"#1f9e89\"],[0.6666666666666666,\"#35b779\"],[0.7777777777777778,\"#6ece58\"],[0.8888888888888888,\"#b5de2b\"],[1.0,\"#fde725\"]],\"type\":\"histogram2d\"}],\"histogram\":[{\"marker\":{\"line\":{\"color\":\"white\",\"width\":0.6}},\"type\":\"histogram\"}],\"mesh3d\":[{\"colorbar\":{\"outlinewidth\":1,\"tickcolor\":\"rgb(36,36,36)\",\"ticks\":\"outside\"},\"type\":\"mesh3d\"}],\"parcoords\":[{\"line\":{\"colorbar\":{\"outlinewidth\":1,\"tickcolor\":\"rgb(36,36,36)\",\"ticks\":\"outside\"}},\"type\":\"parcoords\"}],\"pie\":[{\"automargin\":true,\"type\":\"pie\"}],\"scatter3d\":[{\"line\":{\"colorbar\":{\"outlinewidth\":1,\"tickcolor\":\"rgb(36,36,36)\",\"ticks\":\"outside\"}},\"marker\":{\"colorbar\":{\"outlinewidth\":1,\"tickcolor\":\"rgb(36,36,36)\",\"ticks\":\"outside\"}},\"type\":\"scatter3d\"}],\"scattercarpet\":[{\"marker\":{\"colorbar\":{\"outlinewidth\":1,\"tickcolor\":\"rgb(36,36,36)\",\"ticks\":\"outside\"}},\"type\":\"scattercarpet\"}],\"scattergeo\":[{\"marker\":{\"colorbar\":{\"outlinewidth\":1,\"tickcolor\":\"rgb(36,36,36)\",\"ticks\":\"outside\"}},\"type\":\"scattergeo\"}],\"scattergl\":[{\"marker\":{\"colorbar\":{\"outlinewidth\":1,\"tickcolor\":\"rgb(36,36,36)\",\"ticks\":\"outside\"}},\"type\":\"scattergl\"}],\"scattermapbox\":[{\"marker\":{\"colorbar\":{\"outlinewidth\":1,\"tickcolor\":\"rgb(36,36,36)\",\"ticks\":\"outside\"}},\"type\":\"scattermapbox\"}],\"scatterpolargl\":[{\"marker\":{\"colorbar\":{\"outlinewidth\":1,\"tickcolor\":\"rgb(36,36,36)\",\"ticks\":\"outside\"}},\"type\":\"scatterpolargl\"}],\"scatterpolar\":[{\"marker\":{\"colorbar\":{\"outlinewidth\":1,\"tickcolor\":\"rgb(36,36,36)\",\"ticks\":\"outside\"}},\"type\":\"scatterpolar\"}],\"scatter\":[{\"fillpattern\":{\"fillmode\":\"overlay\",\"size\":10,\"solidity\":0.2},\"type\":\"scatter\"}],\"scatterternary\":[{\"marker\":{\"colorbar\":{\"outlinewidth\":1,\"tickcolor\":\"rgb(36,36,36)\",\"ticks\":\"outside\"}},\"type\":\"scatterternary\"}],\"surface\":[{\"colorbar\":{\"outlinewidth\":1,\"tickcolor\":\"rgb(36,36,36)\",\"ticks\":\"outside\"},\"colorscale\":[[0.0,\"#440154\"],[0.1111111111111111,\"#482878\"],[0.2222222222222222,\"#3e4989\"],[0.3333333333333333,\"#31688e\"],[0.4444444444444444,\"#26828e\"],[0.5555555555555556,\"#1f9e89\"],[0.6666666666666666,\"#35b779\"],[0.7777777777777778,\"#6ece58\"],[0.8888888888888888,\"#b5de2b\"],[1.0,\"#fde725\"]],\"type\":\"surface\"}],\"table\":[{\"cells\":{\"fill\":{\"color\":\"rgb(237,237,237)\"},\"line\":{\"color\":\"white\"}},\"header\":{\"fill\":{\"color\":\"rgb(217,217,217)\"},\"line\":{\"color\":\"white\"}},\"type\":\"table\"}]},\"layout\":{\"annotationdefaults\":{\"arrowhead\":0,\"arrowwidth\":1},\"autotypenumbers\":\"strict\",\"coloraxis\":{\"colorbar\":{\"outlinewidth\":1,\"tickcolor\":\"rgb(36,36,36)\",\"ticks\":\"outside\"}},\"colorscale\":{\"diverging\":[[0.0,\"rgb(103,0,31)\"],[0.1,\"rgb(178,24,43)\"],[0.2,\"rgb(214,96,77)\"],[0.3,\"rgb(244,165,130)\"],[0.4,\"rgb(253,219,199)\"],[0.5,\"rgb(247,247,247)\"],[0.6,\"rgb(209,229,240)\"],[0.7,\"rgb(146,197,222)\"],[0.8,\"rgb(67,147,195)\"],[0.9,\"rgb(33,102,172)\"],[1.0,\"rgb(5,48,97)\"]],\"sequential\":[[0.0,\"#440154\"],[0.1111111111111111,\"#482878\"],[0.2222222222222222,\"#3e4989\"],[0.3333333333333333,\"#31688e\"],[0.4444444444444444,\"#26828e\"],[0.5555555555555556,\"#1f9e89\"],[0.6666666666666666,\"#35b779\"],[0.7777777777777778,\"#6ece58\"],[0.8888888888888888,\"#b5de2b\"],[1.0,\"#fde725\"]],\"sequentialminus\":[[0.0,\"#440154\"],[0.1111111111111111,\"#482878\"],[0.2222222222222222,\"#3e4989\"],[0.3333333333333333,\"#31688e\"],[0.4444444444444444,\"#26828e\"],[0.5555555555555556,\"#1f9e89\"],[0.6666666666666666,\"#35b779\"],[0.7777777777777778,\"#6ece58\"],[0.8888888888888888,\"#b5de2b\"],[1.0,\"#fde725\"]]},\"colorway\":[\"#1F77B4\",\"#FF7F0E\",\"#2CA02C\",\"#D62728\",\"#9467BD\",\"#8C564B\",\"#E377C2\",\"#7F7F7F\",\"#BCBD22\",\"#17BECF\"],\"font\":{\"color\":\"rgb(36,36,36)\"},\"geo\":{\"bgcolor\":\"white\",\"lakecolor\":\"white\",\"landcolor\":\"white\",\"showlakes\":true,\"showland\":true,\"subunitcolor\":\"white\"},\"hoverlabel\":{\"align\":\"left\"},\"hovermode\":\"closest\",\"mapbox\":{\"style\":\"light\"},\"paper_bgcolor\":\"white\",\"plot_bgcolor\":\"white\",\"polar\":{\"angularaxis\":{\"gridcolor\":\"rgb(232,232,232)\",\"linecolor\":\"rgb(36,36,36)\",\"showgrid\":false,\"showline\":true,\"ticks\":\"outside\"},\"bgcolor\":\"white\",\"radialaxis\":{\"gridcolor\":\"rgb(232,232,232)\",\"linecolor\":\"rgb(36,36,36)\",\"showgrid\":false,\"showline\":true,\"ticks\":\"outside\"}},\"scene\":{\"xaxis\":{\"backgroundcolor\":\"white\",\"gridcolor\":\"rgb(232,232,232)\",\"gridwidth\":2,\"linecolor\":\"rgb(36,36,36)\",\"showbackground\":true,\"showgrid\":false,\"showline\":true,\"ticks\":\"outside\",\"zeroline\":false,\"zerolinecolor\":\"rgb(36,36,36)\"},\"yaxis\":{\"backgroundcolor\":\"white\",\"gridcolor\":\"rgb(232,232,232)\",\"gridwidth\":2,\"linecolor\":\"rgb(36,36,36)\",\"showbackground\":true,\"showgrid\":false,\"showline\":true,\"ticks\":\"outside\",\"zeroline\":false,\"zerolinecolor\":\"rgb(36,36,36)\"},\"zaxis\":{\"backgroundcolor\":\"white\",\"gridcolor\":\"rgb(232,232,232)\",\"gridwidth\":2,\"linecolor\":\"rgb(36,36,36)\",\"showbackground\":true,\"showgrid\":false,\"showline\":true,\"ticks\":\"outside\",\"zeroline\":false,\"zerolinecolor\":\"rgb(36,36,36)\"}},\"shapedefaults\":{\"fillcolor\":\"black\",\"line\":{\"width\":0},\"opacity\":0.3},\"ternary\":{\"aaxis\":{\"gridcolor\":\"rgb(232,232,232)\",\"linecolor\":\"rgb(36,36,36)\",\"showgrid\":false,\"showline\":true,\"ticks\":\"outside\"},\"baxis\":{\"gridcolor\":\"rgb(232,232,232)\",\"linecolor\":\"rgb(36,36,36)\",\"showgrid\":false,\"showline\":true,\"ticks\":\"outside\"},\"bgcolor\":\"white\",\"caxis\":{\"gridcolor\":\"rgb(232,232,232)\",\"linecolor\":\"rgb(36,36,36)\",\"showgrid\":false,\"showline\":true,\"ticks\":\"outside\"}},\"title\":{\"x\":0.05},\"xaxis\":{\"automargin\":true,\"gridcolor\":\"rgb(232,232,232)\",\"linecolor\":\"rgb(36,36,36)\",\"showgrid\":false,\"showline\":true,\"ticks\":\"outside\",\"title\":{\"standoff\":15},\"zeroline\":false,\"zerolinecolor\":\"rgb(36,36,36)\"},\"yaxis\":{\"automargin\":true,\"gridcolor\":\"rgb(232,232,232)\",\"linecolor\":\"rgb(36,36,36)\",\"showgrid\":false,\"showline\":true,\"ticks\":\"outside\",\"title\":{\"standoff\":15},\"zeroline\":false,\"zerolinecolor\":\"rgb(36,36,36)\"}}},\"xaxis\":{\"anchor\":\"y\",\"domain\":[0.0,1.0],\"title\":{\"text\":\"Month\",\"font\":{\"color\":\"black\"}},\"tickfont\":{\"family\":\"Arial Black\"}},\"yaxis\":{\"anchor\":\"x\",\"domain\":[0.0,1.0],\"title\":{\"text\":\"Sales Value(in Millions)\",\"font\":{\"color\":\"black\"}},\"tickfont\":{\"family\":\"Arial Black\"}},\"legend\":{\"title\":{\"text\":\"Productcategory\",\"font\":{\"color\":\"black\"}},\"tracegroupgap\":0,\"font\":{\"size\":10}},\"title\":{\"text\":\"Line Plot total sales value by CORN in 2022 \",\"font\":{\"family\":\"Times New Roman\",\"size\":30,\"color\":\"red\"}},\"font\":{\"family\":\"Arial Black\",\"color\":\"darkcyan\",\"size\":15}},                        {\"responsive\": true}                    ).then(function(){\n",
       "                            \n",
       "var gd = document.getElementById('dd618a79-1149-4feb-82d5-3954785db073');\n",
       "var x = new MutationObserver(function (mutations, observer) {{\n",
       "        var display = window.getComputedStyle(gd).display;\n",
       "        if (!display || display === 'none') {{\n",
       "            console.log([gd, 'removed!']);\n",
       "            Plotly.purge(gd);\n",
       "            observer.disconnect();\n",
       "        }}\n",
       "}});\n",
       "\n",
       "// Listen for the removal of the full notebook cells\n",
       "var notebookContainer = gd.closest('#notebook-container');\n",
       "if (notebookContainer) {{\n",
       "    x.observe(notebookContainer, {childList: true});\n",
       "}}\n",
       "\n",
       "// Listen for the clearing of the current output cell\n",
       "var outputEl = gd.closest('.output');\n",
       "if (outputEl) {{\n",
       "    x.observe(outputEl, {childList: true});\n",
       "}}\n",
       "\n",
       "                        })                };                });            </script>        </div>"
      ]
     },
     "metadata": {},
     "output_type": "display_data"
    }
   ],
   "source": [
    "import plotly.express as px\n",
    "fig = px.line(        \n",
    "        PROD_SALE, #Data Frame\n",
    "        x = \"Month\", #Columns from the data frame\n",
    "        y = \"Sales\",template=\"simple_white\",\n",
    "       labels={\"Sales\": \"Sales Value(in Millions)\"},\n",
    "        #color_discrete_sequence=[\"blue\"],\n",
    "        text=\"Sales\", color=\"Productcategory\",\n",
    "        title = \"Line Plot total sales value by CORN in 2022 \"\n",
    ")\n",
    "#fig.update_layout(autosize=True,width=1000,height=800)\n",
    "fig.update_layout(\n",
    "    yaxis_title=\"Sales Value(in Millions)\",\n",
    "    xaxis_title=\"Month\",\n",
    "    font_family=\"Arial Black\",\n",
    "    #font_family=\"Courier New\",\n",
    "    font_color=\"darkcyan\",\n",
    "    font_size=15,\n",
    "    title_font_family=\"Times New Roman\",\n",
    "    title_font_size=30,\n",
    "    title_font_color=\"red\",\n",
    "    legend_title_font_color=\"black\",\n",
    "    legend_font_size=10\n",
    ")\n",
    "layout = go.Layout(title='<b>Bold</b> <i>Line Plot total sales value by CORN in 2022</i>')\n",
    "fig.update_traces(textfont=dict(size=8), textposition=\"top center\")\n",
    "fig.update_traces(line_color='pink', line_width=5)\n",
    "fig.update_yaxes(title_font_color=\"black\")\n",
    "fig.update_xaxes(title_font_color=\"black\")\n",
    "fig.update_yaxes(tickfont_family=\"Arial Black\")\n",
    "fig.update_xaxes(tickfont_family=\"Arial Black\")\n",
    "fig.show()\n",
    "fig.write_html(\"C:/krish workspace/Indian Advisors/2022/interactiveplots_2022/Line Plot total sales value by CORN in 2022.html\")"
   ]
  },
  {
   "cell_type": "markdown",
   "id": "94cfaaaf",
   "metadata": {},
   "source": [
    "# Sales value by Commercial Unit (Hierarchy Level 3)"
   ]
  },
  {
   "cell_type": "code",
   "execution_count": 69,
   "id": "c3db678b",
   "metadata": {},
   "outputs": [
    {
     "data": {
      "text/plain": [
       "index                                                 object\n",
       "Advisor name                                          object\n",
       "Retailer Name                                         object\n",
       "Retailer ID                                           object\n",
       "Advisor ID                                            object\n",
       "Month of Order Intent Created Date                    object\n",
       "Advisor Phone Number                                   int64\n",
       "Country Code                                          object\n",
       "Hierarchy Level 3                                     object\n",
       "Hierarchy Level 2                                     object\n",
       "Hierarchy Level 1                                     object\n",
       "Advisor Type                                          object\n",
       "Product category                                      object\n",
       "Product Brand                                         object\n",
       "Product Name                                          object\n",
       "Unit                                                  object\n",
       "Total Order Intents                                    int64\n",
       "Distinct count of Cancelled Order Intents              int64\n",
       "Farmers with Intent                                    int64\n",
       "Farmers with multiple Intents                          int64\n",
       "Farmers with Purchase                                  int64\n",
       "Distinct count of Farmers with multiple purchases      int64\n",
       "Farmer Conversion                                    float64\n",
       "Active Retailers                                       int64\n",
       "Volume Intent                                        float64\n",
       "Volume Cancelled                                     float64\n",
       "Volume Purchased                                     float64\n",
       "Returned Volume                                      float64\n",
       "Avg Volume Sold per Farmers                          float64\n",
       "Total Intent Value                                   float64\n",
       "Cancelled Order Value                                float64\n",
       "Sales Value                                          float64\n",
       "Avg Sales per Farmer                                 float64\n",
       "Actual Commission                                    float64\n",
       "Intended Commission                                  float64\n",
       "dtype: object"
      ]
     },
     "execution_count": 69,
     "metadata": {},
     "output_type": "execute_result"
    }
   ],
   "source": [
    "data2.dtypes"
   ]
  },
  {
   "cell_type": "code",
   "execution_count": 70,
   "id": "20774c4d",
   "metadata": {},
   "outputs": [],
   "source": [
    "CU_data=pd.DataFrame().assign(CommercialUnit=data2['Hierarchy Level 3'],  CommercialArea=data2['Hierarchy Level 2'], Salesvalue=data2['Sales Value'])"
   ]
  },
  {
   "cell_type": "code",
   "execution_count": 71,
   "id": "3a88815a",
   "metadata": {},
   "outputs": [
    {
     "data": {
      "text/html": [
       "<div>\n",
       "<style scoped>\n",
       "    .dataframe tbody tr th:only-of-type {\n",
       "        vertical-align: middle;\n",
       "    }\n",
       "\n",
       "    .dataframe tbody tr th {\n",
       "        vertical-align: top;\n",
       "    }\n",
       "\n",
       "    .dataframe thead th {\n",
       "        text-align: right;\n",
       "    }\n",
       "</style>\n",
       "<table border=\"1\" class=\"dataframe\">\n",
       "  <thead>\n",
       "    <tr style=\"text-align: right;\">\n",
       "      <th></th>\n",
       "      <th>CommercialUnit</th>\n",
       "      <th>CommercialArea</th>\n",
       "      <th>Salesvalue</th>\n",
       "    </tr>\n",
       "  </thead>\n",
       "  <tbody>\n",
       "    <tr>\n",
       "      <th>0</th>\n",
       "      <td>South</td>\n",
       "      <td>Salem</td>\n",
       "      <td>0.0</td>\n",
       "    </tr>\n",
       "    <tr>\n",
       "      <th>1</th>\n",
       "      <td>South</td>\n",
       "      <td>Salem</td>\n",
       "      <td>4908.0</td>\n",
       "    </tr>\n",
       "    <tr>\n",
       "      <th>2</th>\n",
       "      <td>South</td>\n",
       "      <td>Salem</td>\n",
       "      <td>280.0</td>\n",
       "    </tr>\n",
       "    <tr>\n",
       "      <th>3</th>\n",
       "      <td>NaN</td>\n",
       "      <td>NaN</td>\n",
       "      <td>0.0</td>\n",
       "    </tr>\n",
       "    <tr>\n",
       "      <th>4</th>\n",
       "      <td>NaN</td>\n",
       "      <td>NaN</td>\n",
       "      <td>0.0</td>\n",
       "    </tr>\n",
       "    <tr>\n",
       "      <th>...</th>\n",
       "      <td>...</td>\n",
       "      <td>...</td>\n",
       "      <td>...</td>\n",
       "    </tr>\n",
       "    <tr>\n",
       "      <th>182666</th>\n",
       "      <td>East</td>\n",
       "      <td>Raipur</td>\n",
       "      <td>225.0</td>\n",
       "    </tr>\n",
       "    <tr>\n",
       "      <th>182667</th>\n",
       "      <td>East</td>\n",
       "      <td>Raipur</td>\n",
       "      <td>2730.0</td>\n",
       "    </tr>\n",
       "    <tr>\n",
       "      <th>182668</th>\n",
       "      <td>East</td>\n",
       "      <td>Raipur</td>\n",
       "      <td>649.0</td>\n",
       "    </tr>\n",
       "    <tr>\n",
       "      <th>182669</th>\n",
       "      <td>East</td>\n",
       "      <td>Raipur</td>\n",
       "      <td>2324.0</td>\n",
       "    </tr>\n",
       "    <tr>\n",
       "      <th>182670</th>\n",
       "      <td>East</td>\n",
       "      <td>Raipur</td>\n",
       "      <td>835.0</td>\n",
       "    </tr>\n",
       "  </tbody>\n",
       "</table>\n",
       "<p>182671 rows × 3 columns</p>\n",
       "</div>"
      ],
      "text/plain": [
       "       CommercialUnit CommercialArea  Salesvalue\n",
       "0               South          Salem         0.0\n",
       "1               South          Salem      4908.0\n",
       "2               South          Salem       280.0\n",
       "3                 NaN            NaN         0.0\n",
       "4                 NaN            NaN         0.0\n",
       "...               ...            ...         ...\n",
       "182666           East         Raipur       225.0\n",
       "182667           East         Raipur      2730.0\n",
       "182668           East         Raipur       649.0\n",
       "182669           East         Raipur      2324.0\n",
       "182670           East         Raipur       835.0\n",
       "\n",
       "[182671 rows x 3 columns]"
      ]
     },
     "execution_count": 71,
     "metadata": {},
     "output_type": "execute_result"
    }
   ],
   "source": [
    "CU_data"
   ]
  },
  {
   "cell_type": "code",
   "execution_count": null,
   "id": "99337442",
   "metadata": {},
   "outputs": [],
   "source": [
    "##consider totl sales value by CU"
   ]
  },
  {
   "cell_type": "code",
   "execution_count": 72,
   "id": "b861346a",
   "metadata": {},
   "outputs": [],
   "source": [
    "CU_2021=CU_data.groupby([\"CommercialUnit\"])[\"Salesvalue\"].sum().rename('TotlSales').reset_index()"
   ]
  },
  {
   "cell_type": "code",
   "execution_count": 73,
   "id": "91b992fe",
   "metadata": {},
   "outputs": [
    {
     "data": {
      "text/html": [
       "<div>\n",
       "<style scoped>\n",
       "    .dataframe tbody tr th:only-of-type {\n",
       "        vertical-align: middle;\n",
       "    }\n",
       "\n",
       "    .dataframe tbody tr th {\n",
       "        vertical-align: top;\n",
       "    }\n",
       "\n",
       "    .dataframe thead th {\n",
       "        text-align: right;\n",
       "    }\n",
       "</style>\n",
       "<table border=\"1\" class=\"dataframe\">\n",
       "  <thead>\n",
       "    <tr style=\"text-align: right;\">\n",
       "      <th></th>\n",
       "      <th>CommercialUnit</th>\n",
       "      <th>TotlSales</th>\n",
       "    </tr>\n",
       "  </thead>\n",
       "  <tbody>\n",
       "    <tr>\n",
       "      <th>0</th>\n",
       "      <td>Central</td>\n",
       "      <td>2.567458e+08</td>\n",
       "    </tr>\n",
       "    <tr>\n",
       "      <th>1</th>\n",
       "      <td>East</td>\n",
       "      <td>4.248375e+08</td>\n",
       "    </tr>\n",
       "    <tr>\n",
       "      <th>2</th>\n",
       "      <td>North</td>\n",
       "      <td>1.367849e+09</td>\n",
       "    </tr>\n",
       "    <tr>\n",
       "      <th>3</th>\n",
       "      <td>South</td>\n",
       "      <td>6.131056e+08</td>\n",
       "    </tr>\n",
       "    <tr>\n",
       "      <th>4</th>\n",
       "      <td>West</td>\n",
       "      <td>4.359054e+08</td>\n",
       "    </tr>\n",
       "  </tbody>\n",
       "</table>\n",
       "</div>"
      ],
      "text/plain": [
       "  CommercialUnit     TotlSales\n",
       "0        Central  2.567458e+08\n",
       "1           East  4.248375e+08\n",
       "2          North  1.367849e+09\n",
       "3          South  6.131056e+08\n",
       "4           West  4.359054e+08"
      ]
     },
     "execution_count": 73,
     "metadata": {},
     "output_type": "execute_result"
    }
   ],
   "source": [
    "CU_2021"
   ]
  },
  {
   "cell_type": "code",
   "execution_count": 74,
   "id": "56bb82b0",
   "metadata": {},
   "outputs": [],
   "source": [
    "CUTotl=CU_2021.sort_values(by=['TotlSales'], ascending=False, ignore_index=True)"
   ]
  },
  {
   "cell_type": "code",
   "execution_count": 75,
   "id": "2eb17bb5",
   "metadata": {},
   "outputs": [
    {
     "data": {
      "text/html": [
       "<div>\n",
       "<style scoped>\n",
       "    .dataframe tbody tr th:only-of-type {\n",
       "        vertical-align: middle;\n",
       "    }\n",
       "\n",
       "    .dataframe tbody tr th {\n",
       "        vertical-align: top;\n",
       "    }\n",
       "\n",
       "    .dataframe thead th {\n",
       "        text-align: right;\n",
       "    }\n",
       "</style>\n",
       "<table border=\"1\" class=\"dataframe\">\n",
       "  <thead>\n",
       "    <tr style=\"text-align: right;\">\n",
       "      <th></th>\n",
       "      <th>CommercialUnit</th>\n",
       "      <th>TotlSales</th>\n",
       "    </tr>\n",
       "  </thead>\n",
       "  <tbody>\n",
       "    <tr>\n",
       "      <th>0</th>\n",
       "      <td>North</td>\n",
       "      <td>1.367849e+09</td>\n",
       "    </tr>\n",
       "    <tr>\n",
       "      <th>1</th>\n",
       "      <td>South</td>\n",
       "      <td>6.131056e+08</td>\n",
       "    </tr>\n",
       "    <tr>\n",
       "      <th>2</th>\n",
       "      <td>West</td>\n",
       "      <td>4.359054e+08</td>\n",
       "    </tr>\n",
       "    <tr>\n",
       "      <th>3</th>\n",
       "      <td>East</td>\n",
       "      <td>4.248375e+08</td>\n",
       "    </tr>\n",
       "    <tr>\n",
       "      <th>4</th>\n",
       "      <td>Central</td>\n",
       "      <td>2.567458e+08</td>\n",
       "    </tr>\n",
       "  </tbody>\n",
       "</table>\n",
       "</div>"
      ],
      "text/plain": [
       "  CommercialUnit     TotlSales\n",
       "0          North  1.367849e+09\n",
       "1          South  6.131056e+08\n",
       "2           West  4.359054e+08\n",
       "3           East  4.248375e+08\n",
       "4        Central  2.567458e+08"
      ]
     },
     "execution_count": 75,
     "metadata": {},
     "output_type": "execute_result"
    }
   ],
   "source": [
    "CUTotl"
   ]
  },
  {
   "cell_type": "code",
   "execution_count": 76,
   "id": "2ba4eb5a",
   "metadata": {},
   "outputs": [],
   "source": [
    "#saving CU total sales data in excel file\n",
    "file_name5='CU_totlsales_2022.xlsx'\n",
    "CUTotl.to_excel(file_name5)"
   ]
  },
  {
   "cell_type": "code",
   "execution_count": 77,
   "id": "ee2b5309",
   "metadata": {},
   "outputs": [],
   "source": [
    "CUTotl['TotlSales'] = (CUTotl['TotlSales'].astype(float)/1000000).apply(np.floor)"
   ]
  },
  {
   "cell_type": "code",
   "execution_count": 78,
   "id": "6827ec72",
   "metadata": {},
   "outputs": [
    {
     "data": {
      "text/html": [
       "<div>\n",
       "<style scoped>\n",
       "    .dataframe tbody tr th:only-of-type {\n",
       "        vertical-align: middle;\n",
       "    }\n",
       "\n",
       "    .dataframe tbody tr th {\n",
       "        vertical-align: top;\n",
       "    }\n",
       "\n",
       "    .dataframe thead th {\n",
       "        text-align: right;\n",
       "    }\n",
       "</style>\n",
       "<table border=\"1\" class=\"dataframe\">\n",
       "  <thead>\n",
       "    <tr style=\"text-align: right;\">\n",
       "      <th></th>\n",
       "      <th>CommercialUnit</th>\n",
       "      <th>TotlSales</th>\n",
       "    </tr>\n",
       "  </thead>\n",
       "  <tbody>\n",
       "    <tr>\n",
       "      <th>0</th>\n",
       "      <td>North</td>\n",
       "      <td>1367.0</td>\n",
       "    </tr>\n",
       "    <tr>\n",
       "      <th>1</th>\n",
       "      <td>South</td>\n",
       "      <td>613.0</td>\n",
       "    </tr>\n",
       "    <tr>\n",
       "      <th>2</th>\n",
       "      <td>West</td>\n",
       "      <td>435.0</td>\n",
       "    </tr>\n",
       "    <tr>\n",
       "      <th>3</th>\n",
       "      <td>East</td>\n",
       "      <td>424.0</td>\n",
       "    </tr>\n",
       "    <tr>\n",
       "      <th>4</th>\n",
       "      <td>Central</td>\n",
       "      <td>256.0</td>\n",
       "    </tr>\n",
       "  </tbody>\n",
       "</table>\n",
       "</div>"
      ],
      "text/plain": [
       "  CommercialUnit  TotlSales\n",
       "0          North     1367.0\n",
       "1          South      613.0\n",
       "2           West      435.0\n",
       "3           East      424.0\n",
       "4        Central      256.0"
      ]
     },
     "execution_count": 78,
     "metadata": {},
     "output_type": "execute_result"
    }
   ],
   "source": [
    "CUTotl"
   ]
  },
  {
   "cell_type": "code",
   "execution_count": 79,
   "id": "88f94802",
   "metadata": {},
   "outputs": [
    {
     "data": {
      "application/vnd.plotly.v1+json": {
       "config": {
        "plotlyServerURL": "https://plot.ly"
       },
       "data": [
        {
         "alignmentgroup": "True",
         "hovertemplate": "CommercialUnit=%{y}<br>Sales Value(in Millions)=%{text}<extra></extra>",
         "legendgroup": "North",
         "marker": {
          "color": "#1F77B4",
          "pattern": {
           "shape": ""
          }
         },
         "name": "North",
         "offsetgroup": "North",
         "orientation": "h",
         "showlegend": true,
         "text": [
          1367
         ],
         "textfont": {
          "size": 8
         },
         "textposition": "outside",
         "type": "bar",
         "x": [
          1367
         ],
         "xaxis": "x",
         "y": [
          "North"
         ],
         "yaxis": "y"
        },
        {
         "alignmentgroup": "True",
         "hovertemplate": "CommercialUnit=%{y}<br>Sales Value(in Millions)=%{text}<extra></extra>",
         "legendgroup": "South",
         "marker": {
          "color": "#FF7F0E",
          "pattern": {
           "shape": ""
          }
         },
         "name": "South",
         "offsetgroup": "South",
         "orientation": "h",
         "showlegend": true,
         "text": [
          613
         ],
         "textfont": {
          "size": 8
         },
         "textposition": "outside",
         "type": "bar",
         "x": [
          613
         ],
         "xaxis": "x",
         "y": [
          "South"
         ],
         "yaxis": "y"
        },
        {
         "alignmentgroup": "True",
         "hovertemplate": "CommercialUnit=%{y}<br>Sales Value(in Millions)=%{text}<extra></extra>",
         "legendgroup": "West",
         "marker": {
          "color": "#2CA02C",
          "pattern": {
           "shape": ""
          }
         },
         "name": "West",
         "offsetgroup": "West",
         "orientation": "h",
         "showlegend": true,
         "text": [
          435
         ],
         "textfont": {
          "size": 8
         },
         "textposition": "outside",
         "type": "bar",
         "x": [
          435
         ],
         "xaxis": "x",
         "y": [
          "West"
         ],
         "yaxis": "y"
        },
        {
         "alignmentgroup": "True",
         "hovertemplate": "CommercialUnit=%{y}<br>Sales Value(in Millions)=%{text}<extra></extra>",
         "legendgroup": "East",
         "marker": {
          "color": "#D62728",
          "pattern": {
           "shape": ""
          }
         },
         "name": "East",
         "offsetgroup": "East",
         "orientation": "h",
         "showlegend": true,
         "text": [
          424
         ],
         "textfont": {
          "size": 8
         },
         "textposition": "outside",
         "type": "bar",
         "x": [
          424
         ],
         "xaxis": "x",
         "y": [
          "East"
         ],
         "yaxis": "y"
        },
        {
         "alignmentgroup": "True",
         "hovertemplate": "CommercialUnit=%{y}<br>Sales Value(in Millions)=%{text}<extra></extra>",
         "legendgroup": "Central",
         "marker": {
          "color": "#9467BD",
          "pattern": {
           "shape": ""
          }
         },
         "name": "Central",
         "offsetgroup": "Central",
         "orientation": "h",
         "showlegend": true,
         "text": [
          256
         ],
         "textfont": {
          "size": 8
         },
         "textposition": "outside",
         "type": "bar",
         "x": [
          256
         ],
         "xaxis": "x",
         "y": [
          "Central"
         ],
         "yaxis": "y"
        }
       ],
       "layout": {
        "barmode": "relative",
        "font": {
         "color": "darkcyan",
         "family": "Arial Black",
         "size": 15
        },
        "legend": {
         "font": {
          "size": 10
         },
         "title": {
          "font": {
           "color": "black"
          },
          "text": "CommercialUnit"
         },
         "tracegroupgap": 0
        },
        "template": {
         "data": {
          "bar": [
           {
            "error_x": {
             "color": "rgb(36,36,36)"
            },
            "error_y": {
             "color": "rgb(36,36,36)"
            },
            "marker": {
             "line": {
              "color": "white",
              "width": 0.5
             },
             "pattern": {
              "fillmode": "overlay",
              "size": 10,
              "solidity": 0.2
             }
            },
            "type": "bar"
           }
          ],
          "barpolar": [
           {
            "marker": {
             "line": {
              "color": "white",
              "width": 0.5
             },
             "pattern": {
              "fillmode": "overlay",
              "size": 10,
              "solidity": 0.2
             }
            },
            "type": "barpolar"
           }
          ],
          "carpet": [
           {
            "aaxis": {
             "endlinecolor": "rgb(36,36,36)",
             "gridcolor": "white",
             "linecolor": "white",
             "minorgridcolor": "white",
             "startlinecolor": "rgb(36,36,36)"
            },
            "baxis": {
             "endlinecolor": "rgb(36,36,36)",
             "gridcolor": "white",
             "linecolor": "white",
             "minorgridcolor": "white",
             "startlinecolor": "rgb(36,36,36)"
            },
            "type": "carpet"
           }
          ],
          "choropleth": [
           {
            "colorbar": {
             "outlinewidth": 1,
             "tickcolor": "rgb(36,36,36)",
             "ticks": "outside"
            },
            "type": "choropleth"
           }
          ],
          "contour": [
           {
            "colorbar": {
             "outlinewidth": 1,
             "tickcolor": "rgb(36,36,36)",
             "ticks": "outside"
            },
            "colorscale": [
             [
              0,
              "#440154"
             ],
             [
              0.1111111111111111,
              "#482878"
             ],
             [
              0.2222222222222222,
              "#3e4989"
             ],
             [
              0.3333333333333333,
              "#31688e"
             ],
             [
              0.4444444444444444,
              "#26828e"
             ],
             [
              0.5555555555555556,
              "#1f9e89"
             ],
             [
              0.6666666666666666,
              "#35b779"
             ],
             [
              0.7777777777777778,
              "#6ece58"
             ],
             [
              0.8888888888888888,
              "#b5de2b"
             ],
             [
              1,
              "#fde725"
             ]
            ],
            "type": "contour"
           }
          ],
          "contourcarpet": [
           {
            "colorbar": {
             "outlinewidth": 1,
             "tickcolor": "rgb(36,36,36)",
             "ticks": "outside"
            },
            "type": "contourcarpet"
           }
          ],
          "heatmap": [
           {
            "colorbar": {
             "outlinewidth": 1,
             "tickcolor": "rgb(36,36,36)",
             "ticks": "outside"
            },
            "colorscale": [
             [
              0,
              "#440154"
             ],
             [
              0.1111111111111111,
              "#482878"
             ],
             [
              0.2222222222222222,
              "#3e4989"
             ],
             [
              0.3333333333333333,
              "#31688e"
             ],
             [
              0.4444444444444444,
              "#26828e"
             ],
             [
              0.5555555555555556,
              "#1f9e89"
             ],
             [
              0.6666666666666666,
              "#35b779"
             ],
             [
              0.7777777777777778,
              "#6ece58"
             ],
             [
              0.8888888888888888,
              "#b5de2b"
             ],
             [
              1,
              "#fde725"
             ]
            ],
            "type": "heatmap"
           }
          ],
          "heatmapgl": [
           {
            "colorbar": {
             "outlinewidth": 1,
             "tickcolor": "rgb(36,36,36)",
             "ticks": "outside"
            },
            "colorscale": [
             [
              0,
              "#440154"
             ],
             [
              0.1111111111111111,
              "#482878"
             ],
             [
              0.2222222222222222,
              "#3e4989"
             ],
             [
              0.3333333333333333,
              "#31688e"
             ],
             [
              0.4444444444444444,
              "#26828e"
             ],
             [
              0.5555555555555556,
              "#1f9e89"
             ],
             [
              0.6666666666666666,
              "#35b779"
             ],
             [
              0.7777777777777778,
              "#6ece58"
             ],
             [
              0.8888888888888888,
              "#b5de2b"
             ],
             [
              1,
              "#fde725"
             ]
            ],
            "type": "heatmapgl"
           }
          ],
          "histogram": [
           {
            "marker": {
             "line": {
              "color": "white",
              "width": 0.6
             }
            },
            "type": "histogram"
           }
          ],
          "histogram2d": [
           {
            "colorbar": {
             "outlinewidth": 1,
             "tickcolor": "rgb(36,36,36)",
             "ticks": "outside"
            },
            "colorscale": [
             [
              0,
              "#440154"
             ],
             [
              0.1111111111111111,
              "#482878"
             ],
             [
              0.2222222222222222,
              "#3e4989"
             ],
             [
              0.3333333333333333,
              "#31688e"
             ],
             [
              0.4444444444444444,
              "#26828e"
             ],
             [
              0.5555555555555556,
              "#1f9e89"
             ],
             [
              0.6666666666666666,
              "#35b779"
             ],
             [
              0.7777777777777778,
              "#6ece58"
             ],
             [
              0.8888888888888888,
              "#b5de2b"
             ],
             [
              1,
              "#fde725"
             ]
            ],
            "type": "histogram2d"
           }
          ],
          "histogram2dcontour": [
           {
            "colorbar": {
             "outlinewidth": 1,
             "tickcolor": "rgb(36,36,36)",
             "ticks": "outside"
            },
            "colorscale": [
             [
              0,
              "#440154"
             ],
             [
              0.1111111111111111,
              "#482878"
             ],
             [
              0.2222222222222222,
              "#3e4989"
             ],
             [
              0.3333333333333333,
              "#31688e"
             ],
             [
              0.4444444444444444,
              "#26828e"
             ],
             [
              0.5555555555555556,
              "#1f9e89"
             ],
             [
              0.6666666666666666,
              "#35b779"
             ],
             [
              0.7777777777777778,
              "#6ece58"
             ],
             [
              0.8888888888888888,
              "#b5de2b"
             ],
             [
              1,
              "#fde725"
             ]
            ],
            "type": "histogram2dcontour"
           }
          ],
          "mesh3d": [
           {
            "colorbar": {
             "outlinewidth": 1,
             "tickcolor": "rgb(36,36,36)",
             "ticks": "outside"
            },
            "type": "mesh3d"
           }
          ],
          "parcoords": [
           {
            "line": {
             "colorbar": {
              "outlinewidth": 1,
              "tickcolor": "rgb(36,36,36)",
              "ticks": "outside"
             }
            },
            "type": "parcoords"
           }
          ],
          "pie": [
           {
            "automargin": true,
            "type": "pie"
           }
          ],
          "scatter": [
           {
            "fillpattern": {
             "fillmode": "overlay",
             "size": 10,
             "solidity": 0.2
            },
            "type": "scatter"
           }
          ],
          "scatter3d": [
           {
            "line": {
             "colorbar": {
              "outlinewidth": 1,
              "tickcolor": "rgb(36,36,36)",
              "ticks": "outside"
             }
            },
            "marker": {
             "colorbar": {
              "outlinewidth": 1,
              "tickcolor": "rgb(36,36,36)",
              "ticks": "outside"
             }
            },
            "type": "scatter3d"
           }
          ],
          "scattercarpet": [
           {
            "marker": {
             "colorbar": {
              "outlinewidth": 1,
              "tickcolor": "rgb(36,36,36)",
              "ticks": "outside"
             }
            },
            "type": "scattercarpet"
           }
          ],
          "scattergeo": [
           {
            "marker": {
             "colorbar": {
              "outlinewidth": 1,
              "tickcolor": "rgb(36,36,36)",
              "ticks": "outside"
             }
            },
            "type": "scattergeo"
           }
          ],
          "scattergl": [
           {
            "marker": {
             "colorbar": {
              "outlinewidth": 1,
              "tickcolor": "rgb(36,36,36)",
              "ticks": "outside"
             }
            },
            "type": "scattergl"
           }
          ],
          "scattermapbox": [
           {
            "marker": {
             "colorbar": {
              "outlinewidth": 1,
              "tickcolor": "rgb(36,36,36)",
              "ticks": "outside"
             }
            },
            "type": "scattermapbox"
           }
          ],
          "scatterpolar": [
           {
            "marker": {
             "colorbar": {
              "outlinewidth": 1,
              "tickcolor": "rgb(36,36,36)",
              "ticks": "outside"
             }
            },
            "type": "scatterpolar"
           }
          ],
          "scatterpolargl": [
           {
            "marker": {
             "colorbar": {
              "outlinewidth": 1,
              "tickcolor": "rgb(36,36,36)",
              "ticks": "outside"
             }
            },
            "type": "scatterpolargl"
           }
          ],
          "scatterternary": [
           {
            "marker": {
             "colorbar": {
              "outlinewidth": 1,
              "tickcolor": "rgb(36,36,36)",
              "ticks": "outside"
             }
            },
            "type": "scatterternary"
           }
          ],
          "surface": [
           {
            "colorbar": {
             "outlinewidth": 1,
             "tickcolor": "rgb(36,36,36)",
             "ticks": "outside"
            },
            "colorscale": [
             [
              0,
              "#440154"
             ],
             [
              0.1111111111111111,
              "#482878"
             ],
             [
              0.2222222222222222,
              "#3e4989"
             ],
             [
              0.3333333333333333,
              "#31688e"
             ],
             [
              0.4444444444444444,
              "#26828e"
             ],
             [
              0.5555555555555556,
              "#1f9e89"
             ],
             [
              0.6666666666666666,
              "#35b779"
             ],
             [
              0.7777777777777778,
              "#6ece58"
             ],
             [
              0.8888888888888888,
              "#b5de2b"
             ],
             [
              1,
              "#fde725"
             ]
            ],
            "type": "surface"
           }
          ],
          "table": [
           {
            "cells": {
             "fill": {
              "color": "rgb(237,237,237)"
             },
             "line": {
              "color": "white"
             }
            },
            "header": {
             "fill": {
              "color": "rgb(217,217,217)"
             },
             "line": {
              "color": "white"
             }
            },
            "type": "table"
           }
          ]
         },
         "layout": {
          "annotationdefaults": {
           "arrowhead": 0,
           "arrowwidth": 1
          },
          "autotypenumbers": "strict",
          "coloraxis": {
           "colorbar": {
            "outlinewidth": 1,
            "tickcolor": "rgb(36,36,36)",
            "ticks": "outside"
           }
          },
          "colorscale": {
           "diverging": [
            [
             0,
             "rgb(103,0,31)"
            ],
            [
             0.1,
             "rgb(178,24,43)"
            ],
            [
             0.2,
             "rgb(214,96,77)"
            ],
            [
             0.3,
             "rgb(244,165,130)"
            ],
            [
             0.4,
             "rgb(253,219,199)"
            ],
            [
             0.5,
             "rgb(247,247,247)"
            ],
            [
             0.6,
             "rgb(209,229,240)"
            ],
            [
             0.7,
             "rgb(146,197,222)"
            ],
            [
             0.8,
             "rgb(67,147,195)"
            ],
            [
             0.9,
             "rgb(33,102,172)"
            ],
            [
             1,
             "rgb(5,48,97)"
            ]
           ],
           "sequential": [
            [
             0,
             "#440154"
            ],
            [
             0.1111111111111111,
             "#482878"
            ],
            [
             0.2222222222222222,
             "#3e4989"
            ],
            [
             0.3333333333333333,
             "#31688e"
            ],
            [
             0.4444444444444444,
             "#26828e"
            ],
            [
             0.5555555555555556,
             "#1f9e89"
            ],
            [
             0.6666666666666666,
             "#35b779"
            ],
            [
             0.7777777777777778,
             "#6ece58"
            ],
            [
             0.8888888888888888,
             "#b5de2b"
            ],
            [
             1,
             "#fde725"
            ]
           ],
           "sequentialminus": [
            [
             0,
             "#440154"
            ],
            [
             0.1111111111111111,
             "#482878"
            ],
            [
             0.2222222222222222,
             "#3e4989"
            ],
            [
             0.3333333333333333,
             "#31688e"
            ],
            [
             0.4444444444444444,
             "#26828e"
            ],
            [
             0.5555555555555556,
             "#1f9e89"
            ],
            [
             0.6666666666666666,
             "#35b779"
            ],
            [
             0.7777777777777778,
             "#6ece58"
            ],
            [
             0.8888888888888888,
             "#b5de2b"
            ],
            [
             1,
             "#fde725"
            ]
           ]
          },
          "colorway": [
           "#1F77B4",
           "#FF7F0E",
           "#2CA02C",
           "#D62728",
           "#9467BD",
           "#8C564B",
           "#E377C2",
           "#7F7F7F",
           "#BCBD22",
           "#17BECF"
          ],
          "font": {
           "color": "rgb(36,36,36)"
          },
          "geo": {
           "bgcolor": "white",
           "lakecolor": "white",
           "landcolor": "white",
           "showlakes": true,
           "showland": true,
           "subunitcolor": "white"
          },
          "hoverlabel": {
           "align": "left"
          },
          "hovermode": "closest",
          "mapbox": {
           "style": "light"
          },
          "paper_bgcolor": "white",
          "plot_bgcolor": "white",
          "polar": {
           "angularaxis": {
            "gridcolor": "rgb(232,232,232)",
            "linecolor": "rgb(36,36,36)",
            "showgrid": false,
            "showline": true,
            "ticks": "outside"
           },
           "bgcolor": "white",
           "radialaxis": {
            "gridcolor": "rgb(232,232,232)",
            "linecolor": "rgb(36,36,36)",
            "showgrid": false,
            "showline": true,
            "ticks": "outside"
           }
          },
          "scene": {
           "xaxis": {
            "backgroundcolor": "white",
            "gridcolor": "rgb(232,232,232)",
            "gridwidth": 2,
            "linecolor": "rgb(36,36,36)",
            "showbackground": true,
            "showgrid": false,
            "showline": true,
            "ticks": "outside",
            "zeroline": false,
            "zerolinecolor": "rgb(36,36,36)"
           },
           "yaxis": {
            "backgroundcolor": "white",
            "gridcolor": "rgb(232,232,232)",
            "gridwidth": 2,
            "linecolor": "rgb(36,36,36)",
            "showbackground": true,
            "showgrid": false,
            "showline": true,
            "ticks": "outside",
            "zeroline": false,
            "zerolinecolor": "rgb(36,36,36)"
           },
           "zaxis": {
            "backgroundcolor": "white",
            "gridcolor": "rgb(232,232,232)",
            "gridwidth": 2,
            "linecolor": "rgb(36,36,36)",
            "showbackground": true,
            "showgrid": false,
            "showline": true,
            "ticks": "outside",
            "zeroline": false,
            "zerolinecolor": "rgb(36,36,36)"
           }
          },
          "shapedefaults": {
           "fillcolor": "black",
           "line": {
            "width": 0
           },
           "opacity": 0.3
          },
          "ternary": {
           "aaxis": {
            "gridcolor": "rgb(232,232,232)",
            "linecolor": "rgb(36,36,36)",
            "showgrid": false,
            "showline": true,
            "ticks": "outside"
           },
           "baxis": {
            "gridcolor": "rgb(232,232,232)",
            "linecolor": "rgb(36,36,36)",
            "showgrid": false,
            "showline": true,
            "ticks": "outside"
           },
           "bgcolor": "white",
           "caxis": {
            "gridcolor": "rgb(232,232,232)",
            "linecolor": "rgb(36,36,36)",
            "showgrid": false,
            "showline": true,
            "ticks": "outside"
           }
          },
          "title": {
           "x": 0.05
          },
          "xaxis": {
           "automargin": true,
           "gridcolor": "rgb(232,232,232)",
           "linecolor": "rgb(36,36,36)",
           "showgrid": false,
           "showline": true,
           "ticks": "outside",
           "title": {
            "standoff": 15
           },
           "zeroline": false,
           "zerolinecolor": "rgb(36,36,36)"
          },
          "yaxis": {
           "automargin": true,
           "gridcolor": "rgb(232,232,232)",
           "linecolor": "rgb(36,36,36)",
           "showgrid": false,
           "showline": true,
           "ticks": "outside",
           "title": {
            "standoff": 15
           },
           "zeroline": false,
           "zerolinecolor": "rgb(36,36,36)"
          }
         }
        },
        "title": {
         "font": {
          "color": "red",
          "family": "Times New Roman",
          "size": 30
         },
         "text": " Sales value by CU in 2022"
        },
        "xaxis": {
         "anchor": "y",
         "domain": [
          0,
          1
         ],
         "tickfont": {
          "family": "Arial Black"
         },
         "title": {
          "font": {
           "color": "black"
          },
          "text": "Sales Value(in Millions)"
         }
        },
        "yaxis": {
         "anchor": "x",
         "categoryarray": [
          "Central",
          "East",
          "West",
          "South",
          "North"
         ],
         "categoryorder": "array",
         "domain": [
          0,
          1
         ],
         "tickfont": {
          "family": "Arial Black"
         },
         "title": {
          "font": {
           "color": "black"
          },
          "text": "CommercialUnit"
         }
        }
       }
      },
      "text/html": [
       "<div>                            <div id=\"bc3c43ca-75e7-49d1-9a1a-3b789a2017be\" class=\"plotly-graph-div\" style=\"height:525px; width:100%;\"></div>            <script type=\"text/javascript\">                require([\"plotly\"], function(Plotly) {                    window.PLOTLYENV=window.PLOTLYENV || {};                                    if (document.getElementById(\"bc3c43ca-75e7-49d1-9a1a-3b789a2017be\")) {                    Plotly.newPlot(                        \"bc3c43ca-75e7-49d1-9a1a-3b789a2017be\",                        [{\"alignmentgroup\":\"True\",\"hovertemplate\":\"CommercialUnit=%{y}<br>Sales Value(in Millions)=%{text}<extra></extra>\",\"legendgroup\":\"North\",\"marker\":{\"color\":\"#1F77B4\",\"pattern\":{\"shape\":\"\"}},\"name\":\"North\",\"offsetgroup\":\"North\",\"orientation\":\"h\",\"showlegend\":true,\"text\":[1367.0],\"textposition\":\"outside\",\"x\":[1367.0],\"xaxis\":\"x\",\"y\":[\"North\"],\"yaxis\":\"y\",\"type\":\"bar\",\"textfont\":{\"size\":8}},{\"alignmentgroup\":\"True\",\"hovertemplate\":\"CommercialUnit=%{y}<br>Sales Value(in Millions)=%{text}<extra></extra>\",\"legendgroup\":\"South\",\"marker\":{\"color\":\"#FF7F0E\",\"pattern\":{\"shape\":\"\"}},\"name\":\"South\",\"offsetgroup\":\"South\",\"orientation\":\"h\",\"showlegend\":true,\"text\":[613.0],\"textposition\":\"outside\",\"x\":[613.0],\"xaxis\":\"x\",\"y\":[\"South\"],\"yaxis\":\"y\",\"type\":\"bar\",\"textfont\":{\"size\":8}},{\"alignmentgroup\":\"True\",\"hovertemplate\":\"CommercialUnit=%{y}<br>Sales Value(in Millions)=%{text}<extra></extra>\",\"legendgroup\":\"West\",\"marker\":{\"color\":\"#2CA02C\",\"pattern\":{\"shape\":\"\"}},\"name\":\"West\",\"offsetgroup\":\"West\",\"orientation\":\"h\",\"showlegend\":true,\"text\":[435.0],\"textposition\":\"outside\",\"x\":[435.0],\"xaxis\":\"x\",\"y\":[\"West\"],\"yaxis\":\"y\",\"type\":\"bar\",\"textfont\":{\"size\":8}},{\"alignmentgroup\":\"True\",\"hovertemplate\":\"CommercialUnit=%{y}<br>Sales Value(in Millions)=%{text}<extra></extra>\",\"legendgroup\":\"East\",\"marker\":{\"color\":\"#D62728\",\"pattern\":{\"shape\":\"\"}},\"name\":\"East\",\"offsetgroup\":\"East\",\"orientation\":\"h\",\"showlegend\":true,\"text\":[424.0],\"textposition\":\"outside\",\"x\":[424.0],\"xaxis\":\"x\",\"y\":[\"East\"],\"yaxis\":\"y\",\"type\":\"bar\",\"textfont\":{\"size\":8}},{\"alignmentgroup\":\"True\",\"hovertemplate\":\"CommercialUnit=%{y}<br>Sales Value(in Millions)=%{text}<extra></extra>\",\"legendgroup\":\"Central\",\"marker\":{\"color\":\"#9467BD\",\"pattern\":{\"shape\":\"\"}},\"name\":\"Central\",\"offsetgroup\":\"Central\",\"orientation\":\"h\",\"showlegend\":true,\"text\":[256.0],\"textposition\":\"outside\",\"x\":[256.0],\"xaxis\":\"x\",\"y\":[\"Central\"],\"yaxis\":\"y\",\"type\":\"bar\",\"textfont\":{\"size\":8}}],                        {\"template\":{\"data\":{\"barpolar\":[{\"marker\":{\"line\":{\"color\":\"white\",\"width\":0.5},\"pattern\":{\"fillmode\":\"overlay\",\"size\":10,\"solidity\":0.2}},\"type\":\"barpolar\"}],\"bar\":[{\"error_x\":{\"color\":\"rgb(36,36,36)\"},\"error_y\":{\"color\":\"rgb(36,36,36)\"},\"marker\":{\"line\":{\"color\":\"white\",\"width\":0.5},\"pattern\":{\"fillmode\":\"overlay\",\"size\":10,\"solidity\":0.2}},\"type\":\"bar\"}],\"carpet\":[{\"aaxis\":{\"endlinecolor\":\"rgb(36,36,36)\",\"gridcolor\":\"white\",\"linecolor\":\"white\",\"minorgridcolor\":\"white\",\"startlinecolor\":\"rgb(36,36,36)\"},\"baxis\":{\"endlinecolor\":\"rgb(36,36,36)\",\"gridcolor\":\"white\",\"linecolor\":\"white\",\"minorgridcolor\":\"white\",\"startlinecolor\":\"rgb(36,36,36)\"},\"type\":\"carpet\"}],\"choropleth\":[{\"colorbar\":{\"outlinewidth\":1,\"tickcolor\":\"rgb(36,36,36)\",\"ticks\":\"outside\"},\"type\":\"choropleth\"}],\"contourcarpet\":[{\"colorbar\":{\"outlinewidth\":1,\"tickcolor\":\"rgb(36,36,36)\",\"ticks\":\"outside\"},\"type\":\"contourcarpet\"}],\"contour\":[{\"colorbar\":{\"outlinewidth\":1,\"tickcolor\":\"rgb(36,36,36)\",\"ticks\":\"outside\"},\"colorscale\":[[0.0,\"#440154\"],[0.1111111111111111,\"#482878\"],[0.2222222222222222,\"#3e4989\"],[0.3333333333333333,\"#31688e\"],[0.4444444444444444,\"#26828e\"],[0.5555555555555556,\"#1f9e89\"],[0.6666666666666666,\"#35b779\"],[0.7777777777777778,\"#6ece58\"],[0.8888888888888888,\"#b5de2b\"],[1.0,\"#fde725\"]],\"type\":\"contour\"}],\"heatmapgl\":[{\"colorbar\":{\"outlinewidth\":1,\"tickcolor\":\"rgb(36,36,36)\",\"ticks\":\"outside\"},\"colorscale\":[[0.0,\"#440154\"],[0.1111111111111111,\"#482878\"],[0.2222222222222222,\"#3e4989\"],[0.3333333333333333,\"#31688e\"],[0.4444444444444444,\"#26828e\"],[0.5555555555555556,\"#1f9e89\"],[0.6666666666666666,\"#35b779\"],[0.7777777777777778,\"#6ece58\"],[0.8888888888888888,\"#b5de2b\"],[1.0,\"#fde725\"]],\"type\":\"heatmapgl\"}],\"heatmap\":[{\"colorbar\":{\"outlinewidth\":1,\"tickcolor\":\"rgb(36,36,36)\",\"ticks\":\"outside\"},\"colorscale\":[[0.0,\"#440154\"],[0.1111111111111111,\"#482878\"],[0.2222222222222222,\"#3e4989\"],[0.3333333333333333,\"#31688e\"],[0.4444444444444444,\"#26828e\"],[0.5555555555555556,\"#1f9e89\"],[0.6666666666666666,\"#35b779\"],[0.7777777777777778,\"#6ece58\"],[0.8888888888888888,\"#b5de2b\"],[1.0,\"#fde725\"]],\"type\":\"heatmap\"}],\"histogram2dcontour\":[{\"colorbar\":{\"outlinewidth\":1,\"tickcolor\":\"rgb(36,36,36)\",\"ticks\":\"outside\"},\"colorscale\":[[0.0,\"#440154\"],[0.1111111111111111,\"#482878\"],[0.2222222222222222,\"#3e4989\"],[0.3333333333333333,\"#31688e\"],[0.4444444444444444,\"#26828e\"],[0.5555555555555556,\"#1f9e89\"],[0.6666666666666666,\"#35b779\"],[0.7777777777777778,\"#6ece58\"],[0.8888888888888888,\"#b5de2b\"],[1.0,\"#fde725\"]],\"type\":\"histogram2dcontour\"}],\"histogram2d\":[{\"colorbar\":{\"outlinewidth\":1,\"tickcolor\":\"rgb(36,36,36)\",\"ticks\":\"outside\"},\"colorscale\":[[0.0,\"#440154\"],[0.1111111111111111,\"#482878\"],[0.2222222222222222,\"#3e4989\"],[0.3333333333333333,\"#31688e\"],[0.4444444444444444,\"#26828e\"],[0.5555555555555556,\"#1f9e89\"],[0.6666666666666666,\"#35b779\"],[0.7777777777777778,\"#6ece58\"],[0.8888888888888888,\"#b5de2b\"],[1.0,\"#fde725\"]],\"type\":\"histogram2d\"}],\"histogram\":[{\"marker\":{\"line\":{\"color\":\"white\",\"width\":0.6}},\"type\":\"histogram\"}],\"mesh3d\":[{\"colorbar\":{\"outlinewidth\":1,\"tickcolor\":\"rgb(36,36,36)\",\"ticks\":\"outside\"},\"type\":\"mesh3d\"}],\"parcoords\":[{\"line\":{\"colorbar\":{\"outlinewidth\":1,\"tickcolor\":\"rgb(36,36,36)\",\"ticks\":\"outside\"}},\"type\":\"parcoords\"}],\"pie\":[{\"automargin\":true,\"type\":\"pie\"}],\"scatter3d\":[{\"line\":{\"colorbar\":{\"outlinewidth\":1,\"tickcolor\":\"rgb(36,36,36)\",\"ticks\":\"outside\"}},\"marker\":{\"colorbar\":{\"outlinewidth\":1,\"tickcolor\":\"rgb(36,36,36)\",\"ticks\":\"outside\"}},\"type\":\"scatter3d\"}],\"scattercarpet\":[{\"marker\":{\"colorbar\":{\"outlinewidth\":1,\"tickcolor\":\"rgb(36,36,36)\",\"ticks\":\"outside\"}},\"type\":\"scattercarpet\"}],\"scattergeo\":[{\"marker\":{\"colorbar\":{\"outlinewidth\":1,\"tickcolor\":\"rgb(36,36,36)\",\"ticks\":\"outside\"}},\"type\":\"scattergeo\"}],\"scattergl\":[{\"marker\":{\"colorbar\":{\"outlinewidth\":1,\"tickcolor\":\"rgb(36,36,36)\",\"ticks\":\"outside\"}},\"type\":\"scattergl\"}],\"scattermapbox\":[{\"marker\":{\"colorbar\":{\"outlinewidth\":1,\"tickcolor\":\"rgb(36,36,36)\",\"ticks\":\"outside\"}},\"type\":\"scattermapbox\"}],\"scatterpolargl\":[{\"marker\":{\"colorbar\":{\"outlinewidth\":1,\"tickcolor\":\"rgb(36,36,36)\",\"ticks\":\"outside\"}},\"type\":\"scatterpolargl\"}],\"scatterpolar\":[{\"marker\":{\"colorbar\":{\"outlinewidth\":1,\"tickcolor\":\"rgb(36,36,36)\",\"ticks\":\"outside\"}},\"type\":\"scatterpolar\"}],\"scatter\":[{\"fillpattern\":{\"fillmode\":\"overlay\",\"size\":10,\"solidity\":0.2},\"type\":\"scatter\"}],\"scatterternary\":[{\"marker\":{\"colorbar\":{\"outlinewidth\":1,\"tickcolor\":\"rgb(36,36,36)\",\"ticks\":\"outside\"}},\"type\":\"scatterternary\"}],\"surface\":[{\"colorbar\":{\"outlinewidth\":1,\"tickcolor\":\"rgb(36,36,36)\",\"ticks\":\"outside\"},\"colorscale\":[[0.0,\"#440154\"],[0.1111111111111111,\"#482878\"],[0.2222222222222222,\"#3e4989\"],[0.3333333333333333,\"#31688e\"],[0.4444444444444444,\"#26828e\"],[0.5555555555555556,\"#1f9e89\"],[0.6666666666666666,\"#35b779\"],[0.7777777777777778,\"#6ece58\"],[0.8888888888888888,\"#b5de2b\"],[1.0,\"#fde725\"]],\"type\":\"surface\"}],\"table\":[{\"cells\":{\"fill\":{\"color\":\"rgb(237,237,237)\"},\"line\":{\"color\":\"white\"}},\"header\":{\"fill\":{\"color\":\"rgb(217,217,217)\"},\"line\":{\"color\":\"white\"}},\"type\":\"table\"}]},\"layout\":{\"annotationdefaults\":{\"arrowhead\":0,\"arrowwidth\":1},\"autotypenumbers\":\"strict\",\"coloraxis\":{\"colorbar\":{\"outlinewidth\":1,\"tickcolor\":\"rgb(36,36,36)\",\"ticks\":\"outside\"}},\"colorscale\":{\"diverging\":[[0.0,\"rgb(103,0,31)\"],[0.1,\"rgb(178,24,43)\"],[0.2,\"rgb(214,96,77)\"],[0.3,\"rgb(244,165,130)\"],[0.4,\"rgb(253,219,199)\"],[0.5,\"rgb(247,247,247)\"],[0.6,\"rgb(209,229,240)\"],[0.7,\"rgb(146,197,222)\"],[0.8,\"rgb(67,147,195)\"],[0.9,\"rgb(33,102,172)\"],[1.0,\"rgb(5,48,97)\"]],\"sequential\":[[0.0,\"#440154\"],[0.1111111111111111,\"#482878\"],[0.2222222222222222,\"#3e4989\"],[0.3333333333333333,\"#31688e\"],[0.4444444444444444,\"#26828e\"],[0.5555555555555556,\"#1f9e89\"],[0.6666666666666666,\"#35b779\"],[0.7777777777777778,\"#6ece58\"],[0.8888888888888888,\"#b5de2b\"],[1.0,\"#fde725\"]],\"sequentialminus\":[[0.0,\"#440154\"],[0.1111111111111111,\"#482878\"],[0.2222222222222222,\"#3e4989\"],[0.3333333333333333,\"#31688e\"],[0.4444444444444444,\"#26828e\"],[0.5555555555555556,\"#1f9e89\"],[0.6666666666666666,\"#35b779\"],[0.7777777777777778,\"#6ece58\"],[0.8888888888888888,\"#b5de2b\"],[1.0,\"#fde725\"]]},\"colorway\":[\"#1F77B4\",\"#FF7F0E\",\"#2CA02C\",\"#D62728\",\"#9467BD\",\"#8C564B\",\"#E377C2\",\"#7F7F7F\",\"#BCBD22\",\"#17BECF\"],\"font\":{\"color\":\"rgb(36,36,36)\"},\"geo\":{\"bgcolor\":\"white\",\"lakecolor\":\"white\",\"landcolor\":\"white\",\"showlakes\":true,\"showland\":true,\"subunitcolor\":\"white\"},\"hoverlabel\":{\"align\":\"left\"},\"hovermode\":\"closest\",\"mapbox\":{\"style\":\"light\"},\"paper_bgcolor\":\"white\",\"plot_bgcolor\":\"white\",\"polar\":{\"angularaxis\":{\"gridcolor\":\"rgb(232,232,232)\",\"linecolor\":\"rgb(36,36,36)\",\"showgrid\":false,\"showline\":true,\"ticks\":\"outside\"},\"bgcolor\":\"white\",\"radialaxis\":{\"gridcolor\":\"rgb(232,232,232)\",\"linecolor\":\"rgb(36,36,36)\",\"showgrid\":false,\"showline\":true,\"ticks\":\"outside\"}},\"scene\":{\"xaxis\":{\"backgroundcolor\":\"white\",\"gridcolor\":\"rgb(232,232,232)\",\"gridwidth\":2,\"linecolor\":\"rgb(36,36,36)\",\"showbackground\":true,\"showgrid\":false,\"showline\":true,\"ticks\":\"outside\",\"zeroline\":false,\"zerolinecolor\":\"rgb(36,36,36)\"},\"yaxis\":{\"backgroundcolor\":\"white\",\"gridcolor\":\"rgb(232,232,232)\",\"gridwidth\":2,\"linecolor\":\"rgb(36,36,36)\",\"showbackground\":true,\"showgrid\":false,\"showline\":true,\"ticks\":\"outside\",\"zeroline\":false,\"zerolinecolor\":\"rgb(36,36,36)\"},\"zaxis\":{\"backgroundcolor\":\"white\",\"gridcolor\":\"rgb(232,232,232)\",\"gridwidth\":2,\"linecolor\":\"rgb(36,36,36)\",\"showbackground\":true,\"showgrid\":false,\"showline\":true,\"ticks\":\"outside\",\"zeroline\":false,\"zerolinecolor\":\"rgb(36,36,36)\"}},\"shapedefaults\":{\"fillcolor\":\"black\",\"line\":{\"width\":0},\"opacity\":0.3},\"ternary\":{\"aaxis\":{\"gridcolor\":\"rgb(232,232,232)\",\"linecolor\":\"rgb(36,36,36)\",\"showgrid\":false,\"showline\":true,\"ticks\":\"outside\"},\"baxis\":{\"gridcolor\":\"rgb(232,232,232)\",\"linecolor\":\"rgb(36,36,36)\",\"showgrid\":false,\"showline\":true,\"ticks\":\"outside\"},\"bgcolor\":\"white\",\"caxis\":{\"gridcolor\":\"rgb(232,232,232)\",\"linecolor\":\"rgb(36,36,36)\",\"showgrid\":false,\"showline\":true,\"ticks\":\"outside\"}},\"title\":{\"x\":0.05},\"xaxis\":{\"automargin\":true,\"gridcolor\":\"rgb(232,232,232)\",\"linecolor\":\"rgb(36,36,36)\",\"showgrid\":false,\"showline\":true,\"ticks\":\"outside\",\"title\":{\"standoff\":15},\"zeroline\":false,\"zerolinecolor\":\"rgb(36,36,36)\"},\"yaxis\":{\"automargin\":true,\"gridcolor\":\"rgb(232,232,232)\",\"linecolor\":\"rgb(36,36,36)\",\"showgrid\":false,\"showline\":true,\"ticks\":\"outside\",\"title\":{\"standoff\":15},\"zeroline\":false,\"zerolinecolor\":\"rgb(36,36,36)\"}}},\"xaxis\":{\"anchor\":\"y\",\"domain\":[0.0,1.0],\"title\":{\"text\":\"Sales Value(in Millions)\",\"font\":{\"color\":\"black\"}},\"tickfont\":{\"family\":\"Arial Black\"}},\"yaxis\":{\"anchor\":\"x\",\"domain\":[0.0,1.0],\"title\":{\"text\":\"CommercialUnit\",\"font\":{\"color\":\"black\"}},\"categoryorder\":\"array\",\"categoryarray\":[\"Central\",\"East\",\"West\",\"South\",\"North\"],\"tickfont\":{\"family\":\"Arial Black\"}},\"legend\":{\"title\":{\"text\":\"CommercialUnit\",\"font\":{\"color\":\"black\"}},\"tracegroupgap\":0,\"font\":{\"size\":10}},\"title\":{\"text\":\" Sales value by CU in 2022\",\"font\":{\"family\":\"Times New Roman\",\"size\":30,\"color\":\"red\"}},\"barmode\":\"relative\",\"font\":{\"family\":\"Arial Black\",\"color\":\"darkcyan\",\"size\":15}},                        {\"responsive\": true}                    ).then(function(){\n",
       "                            \n",
       "var gd = document.getElementById('bc3c43ca-75e7-49d1-9a1a-3b789a2017be');\n",
       "var x = new MutationObserver(function (mutations, observer) {{\n",
       "        var display = window.getComputedStyle(gd).display;\n",
       "        if (!display || display === 'none') {{\n",
       "            console.log([gd, 'removed!']);\n",
       "            Plotly.purge(gd);\n",
       "            observer.disconnect();\n",
       "        }}\n",
       "}});\n",
       "\n",
       "// Listen for the removal of the full notebook cells\n",
       "var notebookContainer = gd.closest('#notebook-container');\n",
       "if (notebookContainer) {{\n",
       "    x.observe(notebookContainer, {childList: true});\n",
       "}}\n",
       "\n",
       "// Listen for the clearing of the current output cell\n",
       "var outputEl = gd.closest('.output');\n",
       "if (outputEl) {{\n",
       "    x.observe(outputEl, {childList: true});\n",
       "}}\n",
       "\n",
       "                        })                };                });            </script>        </div>"
      ]
     },
     "metadata": {},
     "output_type": "display_data"
    }
   ],
   "source": [
    "import plotly.express as px\n",
    "from plotly.offline import iplot\n",
    "import plotly.graph_objects as go\n",
    "#color_discrete_map = {'Arize': 'rgb(255,0,0)'}\n",
    "fig=px.bar(CUTotl, x=\"TotlSales\", y=\"CommercialUnit\",\n",
    "           labels={\"TotlSales\": \"Sales Value(in Millions)\"},\n",
    "           title=\" Sales value by CU in 2022\", \n",
    "           text=\"TotlSales\", color=\"CommercialUnit\",# color_discrete_map = color_discrete_map,\n",
    "           template=\"simple_white\")\n",
    "#fig.update_layout(autosize=True,width=1000,height=800)\n",
    "fig.update_layout(\n",
    "    xaxis_title=\"Sales Value(in Millions)\",\n",
    "    yaxis_title=\"CommercialUnit\",\n",
    "    font_family=\"Arial Black\",\n",
    "    #font_family=\"Courier New\",\n",
    "    font_color=\"darkcyan\",\n",
    "    font_size=15,\n",
    "    title_font_family=\"Times New Roman\",\n",
    "    title_font_size=30,\n",
    "    title_font_color=\"red\",\n",
    "    legend_title_font_color=\"black\",\n",
    "    legend_font_size=10\n",
    ")\n",
    "layout = go.Layout(title='<b>Bold</b> <i>Sales value by CU in 2022</i>')\n",
    "fig.update_traces(textfont=dict(size=8), textposition=\"outside\")\n",
    "#fig.update_traces(line_color='pink', line_width=5)\n",
    "fig.update_yaxes(title_font_color=\"black\")\n",
    "fig.update_xaxes(title_font_color=\"black\")\n",
    "fig.update_yaxes(tickfont_family=\"Arial Black\")\n",
    "fig.update_xaxes(tickfont_family=\"Arial Black\")\n",
    "fig.show()\n",
    "fig.write_html(\"C:/krish workspace/Indian Advisors/2022/interactiveplots_2022/Sales Value by CU in 2022.html\")"
   ]
  },
  {
   "cell_type": "markdown",
   "id": "8846ae04",
   "metadata": {},
   "source": [
    "##### filter dataframe according to CU"
   ]
  },
  {
   "cell_type": "code",
   "execution_count": 117,
   "id": "cc26ba28",
   "metadata": {},
   "outputs": [
    {
     "name": "stdout",
     "output_type": "stream",
     "text": [
      "        index CommercialUnit CommercialArea  Salesvalue\n",
      "0         167           West        Solapur         0.0\n",
      "1         168           West        Solapur         0.0\n",
      "2         169           West      Nagpur Mp         0.0\n",
      "3         170           West      Nagpur Mp       686.0\n",
      "4         224           West        Gujarat         0.0\n",
      "...       ...            ...            ...         ...\n",
      "38428  182642           West        Gujarat     14730.0\n",
      "38429  182643           West        Gujarat      3175.0\n",
      "38430  182644           West        Gujarat      4380.0\n",
      "38431  182645           West        Gujarat      4375.0\n",
      "38432  182646           West        Gujarat       724.0\n",
      "\n",
      "[38433 rows x 4 columns]\n"
     ]
    }
   ],
   "source": [
    "condition = (CU_data['CommercialUnit'] == 'West')\n",
    "CU=CU_data[condition].reset_index()\n",
    "print(CU)"
   ]
  },
  {
   "cell_type": "code",
   "execution_count": 118,
   "id": "141f33ec",
   "metadata": {},
   "outputs": [],
   "source": [
    "Cunit=CU.groupby([\"CommercialUnit\", \"CommercialArea\"])[\"Salesvalue\"].sum().rename('Sales').reset_index()"
   ]
  },
  {
   "cell_type": "code",
   "execution_count": 119,
   "id": "1dfd4192",
   "metadata": {},
   "outputs": [
    {
     "data": {
      "text/html": [
       "<div>\n",
       "<style scoped>\n",
       "    .dataframe tbody tr th:only-of-type {\n",
       "        vertical-align: middle;\n",
       "    }\n",
       "\n",
       "    .dataframe tbody tr th {\n",
       "        vertical-align: top;\n",
       "    }\n",
       "\n",
       "    .dataframe thead th {\n",
       "        text-align: right;\n",
       "    }\n",
       "</style>\n",
       "<table border=\"1\" class=\"dataframe\">\n",
       "  <thead>\n",
       "    <tr style=\"text-align: right;\">\n",
       "      <th></th>\n",
       "      <th>CommercialUnit</th>\n",
       "      <th>CommercialArea</th>\n",
       "      <th>Sales</th>\n",
       "    </tr>\n",
       "  </thead>\n",
       "  <tbody>\n",
       "    <tr>\n",
       "      <th>0</th>\n",
       "      <td>West</td>\n",
       "      <td>Amravati</td>\n",
       "      <td>4.632072e+07</td>\n",
       "    </tr>\n",
       "    <tr>\n",
       "      <th>1</th>\n",
       "      <td>West</td>\n",
       "      <td>Aurangabad</td>\n",
       "      <td>4.157280e+07</td>\n",
       "    </tr>\n",
       "    <tr>\n",
       "      <th>2</th>\n",
       "      <td>West</td>\n",
       "      <td>Gujarat</td>\n",
       "      <td>4.989114e+07</td>\n",
       "    </tr>\n",
       "    <tr>\n",
       "      <th>3</th>\n",
       "      <td>West</td>\n",
       "      <td>Jalgaon</td>\n",
       "      <td>1.187387e+07</td>\n",
       "    </tr>\n",
       "    <tr>\n",
       "      <th>4</th>\n",
       "      <td>West</td>\n",
       "      <td>Nagpur Mh</td>\n",
       "      <td>7.701708e+06</td>\n",
       "    </tr>\n",
       "    <tr>\n",
       "      <th>5</th>\n",
       "      <td>West</td>\n",
       "      <td>Nagpur Mp</td>\n",
       "      <td>4.555138e+07</td>\n",
       "    </tr>\n",
       "    <tr>\n",
       "      <th>6</th>\n",
       "      <td>West</td>\n",
       "      <td>Nanded</td>\n",
       "      <td>2.823878e+07</td>\n",
       "    </tr>\n",
       "    <tr>\n",
       "      <th>7</th>\n",
       "      <td>West</td>\n",
       "      <td>Nasik</td>\n",
       "      <td>1.123766e+08</td>\n",
       "    </tr>\n",
       "    <tr>\n",
       "      <th>8</th>\n",
       "      <td>West</td>\n",
       "      <td>Pune</td>\n",
       "      <td>6.258023e+07</td>\n",
       "    </tr>\n",
       "    <tr>\n",
       "      <th>9</th>\n",
       "      <td>West</td>\n",
       "      <td>Solapur</td>\n",
       "      <td>2.979818e+07</td>\n",
       "    </tr>\n",
       "  </tbody>\n",
       "</table>\n",
       "</div>"
      ],
      "text/plain": [
       "  CommercialUnit CommercialArea         Sales\n",
       "0           West       Amravati  4.632072e+07\n",
       "1           West     Aurangabad  4.157280e+07\n",
       "2           West        Gujarat  4.989114e+07\n",
       "3           West        Jalgaon  1.187387e+07\n",
       "4           West      Nagpur Mh  7.701708e+06\n",
       "5           West      Nagpur Mp  4.555138e+07\n",
       "6           West         Nanded  2.823878e+07\n",
       "7           West          Nasik  1.123766e+08\n",
       "8           West           Pune  6.258023e+07\n",
       "9           West        Solapur  2.979818e+07"
      ]
     },
     "execution_count": 119,
     "metadata": {},
     "output_type": "execute_result"
    }
   ],
   "source": [
    "Cunit"
   ]
  },
  {
   "cell_type": "code",
   "execution_count": 120,
   "id": "1e5b6d0d",
   "metadata": {},
   "outputs": [],
   "source": [
    "CU_total=Cunit.sort_values(by=['Sales'], ascending=False, ignore_index=True)"
   ]
  },
  {
   "cell_type": "code",
   "execution_count": 121,
   "id": "82f9d469",
   "metadata": {},
   "outputs": [
    {
     "data": {
      "text/html": [
       "<div>\n",
       "<style scoped>\n",
       "    .dataframe tbody tr th:only-of-type {\n",
       "        vertical-align: middle;\n",
       "    }\n",
       "\n",
       "    .dataframe tbody tr th {\n",
       "        vertical-align: top;\n",
       "    }\n",
       "\n",
       "    .dataframe thead th {\n",
       "        text-align: right;\n",
       "    }\n",
       "</style>\n",
       "<table border=\"1\" class=\"dataframe\">\n",
       "  <thead>\n",
       "    <tr style=\"text-align: right;\">\n",
       "      <th></th>\n",
       "      <th>CommercialUnit</th>\n",
       "      <th>CommercialArea</th>\n",
       "      <th>Sales</th>\n",
       "    </tr>\n",
       "  </thead>\n",
       "  <tbody>\n",
       "    <tr>\n",
       "      <th>0</th>\n",
       "      <td>West</td>\n",
       "      <td>Nasik</td>\n",
       "      <td>1.123766e+08</td>\n",
       "    </tr>\n",
       "    <tr>\n",
       "      <th>1</th>\n",
       "      <td>West</td>\n",
       "      <td>Pune</td>\n",
       "      <td>6.258023e+07</td>\n",
       "    </tr>\n",
       "    <tr>\n",
       "      <th>2</th>\n",
       "      <td>West</td>\n",
       "      <td>Gujarat</td>\n",
       "      <td>4.989114e+07</td>\n",
       "    </tr>\n",
       "    <tr>\n",
       "      <th>3</th>\n",
       "      <td>West</td>\n",
       "      <td>Amravati</td>\n",
       "      <td>4.632072e+07</td>\n",
       "    </tr>\n",
       "    <tr>\n",
       "      <th>4</th>\n",
       "      <td>West</td>\n",
       "      <td>Nagpur Mp</td>\n",
       "      <td>4.555138e+07</td>\n",
       "    </tr>\n",
       "    <tr>\n",
       "      <th>5</th>\n",
       "      <td>West</td>\n",
       "      <td>Aurangabad</td>\n",
       "      <td>4.157280e+07</td>\n",
       "    </tr>\n",
       "    <tr>\n",
       "      <th>6</th>\n",
       "      <td>West</td>\n",
       "      <td>Solapur</td>\n",
       "      <td>2.979818e+07</td>\n",
       "    </tr>\n",
       "    <tr>\n",
       "      <th>7</th>\n",
       "      <td>West</td>\n",
       "      <td>Nanded</td>\n",
       "      <td>2.823878e+07</td>\n",
       "    </tr>\n",
       "    <tr>\n",
       "      <th>8</th>\n",
       "      <td>West</td>\n",
       "      <td>Jalgaon</td>\n",
       "      <td>1.187387e+07</td>\n",
       "    </tr>\n",
       "    <tr>\n",
       "      <th>9</th>\n",
       "      <td>West</td>\n",
       "      <td>Nagpur Mh</td>\n",
       "      <td>7.701708e+06</td>\n",
       "    </tr>\n",
       "  </tbody>\n",
       "</table>\n",
       "</div>"
      ],
      "text/plain": [
       "  CommercialUnit CommercialArea         Sales\n",
       "0           West          Nasik  1.123766e+08\n",
       "1           West           Pune  6.258023e+07\n",
       "2           West        Gujarat  4.989114e+07\n",
       "3           West       Amravati  4.632072e+07\n",
       "4           West      Nagpur Mp  4.555138e+07\n",
       "5           West     Aurangabad  4.157280e+07\n",
       "6           West        Solapur  2.979818e+07\n",
       "7           West         Nanded  2.823878e+07\n",
       "8           West        Jalgaon  1.187387e+07\n",
       "9           West      Nagpur Mh  7.701708e+06"
      ]
     },
     "execution_count": 121,
     "metadata": {},
     "output_type": "execute_result"
    }
   ],
   "source": [
    "CU_total"
   ]
  },
  {
   "cell_type": "code",
   "execution_count": 122,
   "id": "1a3bcb16",
   "metadata": {},
   "outputs": [],
   "source": [
    "#saving each CU - CA sales data in excel file\n",
    "file_name4='CA-WEST_totlsales_2022.xlsx'\n",
    "CU_total.to_excel(file_name4)"
   ]
  },
  {
   "cell_type": "code",
   "execution_count": 123,
   "id": "e53accd2",
   "metadata": {},
   "outputs": [],
   "source": [
    "CU_total['Sales'] = (CU_total['Sales'].astype(float)/1000000).apply(np.ceil)"
   ]
  },
  {
   "cell_type": "code",
   "execution_count": 124,
   "id": "2d141a2f",
   "metadata": {},
   "outputs": [
    {
     "data": {
      "text/html": [
       "<div>\n",
       "<style scoped>\n",
       "    .dataframe tbody tr th:only-of-type {\n",
       "        vertical-align: middle;\n",
       "    }\n",
       "\n",
       "    .dataframe tbody tr th {\n",
       "        vertical-align: top;\n",
       "    }\n",
       "\n",
       "    .dataframe thead th {\n",
       "        text-align: right;\n",
       "    }\n",
       "</style>\n",
       "<table border=\"1\" class=\"dataframe\">\n",
       "  <thead>\n",
       "    <tr style=\"text-align: right;\">\n",
       "      <th></th>\n",
       "      <th>CommercialUnit</th>\n",
       "      <th>CommercialArea</th>\n",
       "      <th>Sales</th>\n",
       "    </tr>\n",
       "  </thead>\n",
       "  <tbody>\n",
       "    <tr>\n",
       "      <th>0</th>\n",
       "      <td>West</td>\n",
       "      <td>Nasik</td>\n",
       "      <td>113.0</td>\n",
       "    </tr>\n",
       "    <tr>\n",
       "      <th>1</th>\n",
       "      <td>West</td>\n",
       "      <td>Pune</td>\n",
       "      <td>63.0</td>\n",
       "    </tr>\n",
       "    <tr>\n",
       "      <th>2</th>\n",
       "      <td>West</td>\n",
       "      <td>Gujarat</td>\n",
       "      <td>50.0</td>\n",
       "    </tr>\n",
       "    <tr>\n",
       "      <th>3</th>\n",
       "      <td>West</td>\n",
       "      <td>Amravati</td>\n",
       "      <td>47.0</td>\n",
       "    </tr>\n",
       "    <tr>\n",
       "      <th>4</th>\n",
       "      <td>West</td>\n",
       "      <td>Nagpur Mp</td>\n",
       "      <td>46.0</td>\n",
       "    </tr>\n",
       "    <tr>\n",
       "      <th>5</th>\n",
       "      <td>West</td>\n",
       "      <td>Aurangabad</td>\n",
       "      <td>42.0</td>\n",
       "    </tr>\n",
       "    <tr>\n",
       "      <th>6</th>\n",
       "      <td>West</td>\n",
       "      <td>Solapur</td>\n",
       "      <td>30.0</td>\n",
       "    </tr>\n",
       "    <tr>\n",
       "      <th>7</th>\n",
       "      <td>West</td>\n",
       "      <td>Nanded</td>\n",
       "      <td>29.0</td>\n",
       "    </tr>\n",
       "    <tr>\n",
       "      <th>8</th>\n",
       "      <td>West</td>\n",
       "      <td>Jalgaon</td>\n",
       "      <td>12.0</td>\n",
       "    </tr>\n",
       "    <tr>\n",
       "      <th>9</th>\n",
       "      <td>West</td>\n",
       "      <td>Nagpur Mh</td>\n",
       "      <td>8.0</td>\n",
       "    </tr>\n",
       "  </tbody>\n",
       "</table>\n",
       "</div>"
      ],
      "text/plain": [
       "  CommercialUnit CommercialArea  Sales\n",
       "0           West          Nasik  113.0\n",
       "1           West           Pune   63.0\n",
       "2           West        Gujarat   50.0\n",
       "3           West       Amravati   47.0\n",
       "4           West      Nagpur Mp   46.0\n",
       "5           West     Aurangabad   42.0\n",
       "6           West        Solapur   30.0\n",
       "7           West         Nanded   29.0\n",
       "8           West        Jalgaon   12.0\n",
       "9           West      Nagpur Mh    8.0"
      ]
     },
     "execution_count": 124,
     "metadata": {},
     "output_type": "execute_result"
    }
   ],
   "source": [
    "CU_total"
   ]
  },
  {
   "cell_type": "code",
   "execution_count": 125,
   "id": "a09f31ba",
   "metadata": {},
   "outputs": [
    {
     "data": {
      "application/vnd.plotly.v1+json": {
       "config": {
        "plotlyServerURL": "https://plot.ly"
       },
       "data": [
        {
         "alignmentgroup": "True",
         "hovertemplate": "CommercialArea=%{y}<br>Sales Value(in Millions)=%{text}<extra></extra>",
         "legendgroup": "Nasik",
         "marker": {
          "color": "#1F77B4",
          "pattern": {
           "shape": ""
          }
         },
         "name": "Nasik",
         "offsetgroup": "Nasik",
         "orientation": "h",
         "showlegend": true,
         "text": [
          113
         ],
         "textfont": {
          "size": 8
         },
         "textposition": "outside",
         "type": "bar",
         "x": [
          113
         ],
         "xaxis": "x",
         "y": [
          "Nasik"
         ],
         "yaxis": "y"
        },
        {
         "alignmentgroup": "True",
         "hovertemplate": "CommercialArea=%{y}<br>Sales Value(in Millions)=%{text}<extra></extra>",
         "legendgroup": "Pune",
         "marker": {
          "color": "#FF7F0E",
          "pattern": {
           "shape": ""
          }
         },
         "name": "Pune",
         "offsetgroup": "Pune",
         "orientation": "h",
         "showlegend": true,
         "text": [
          63
         ],
         "textfont": {
          "size": 8
         },
         "textposition": "outside",
         "type": "bar",
         "x": [
          63
         ],
         "xaxis": "x",
         "y": [
          "Pune"
         ],
         "yaxis": "y"
        },
        {
         "alignmentgroup": "True",
         "hovertemplate": "CommercialArea=%{y}<br>Sales Value(in Millions)=%{text}<extra></extra>",
         "legendgroup": "Gujarat",
         "marker": {
          "color": "#2CA02C",
          "pattern": {
           "shape": ""
          }
         },
         "name": "Gujarat",
         "offsetgroup": "Gujarat",
         "orientation": "h",
         "showlegend": true,
         "text": [
          50
         ],
         "textfont": {
          "size": 8
         },
         "textposition": "outside",
         "type": "bar",
         "x": [
          50
         ],
         "xaxis": "x",
         "y": [
          "Gujarat"
         ],
         "yaxis": "y"
        },
        {
         "alignmentgroup": "True",
         "hovertemplate": "CommercialArea=%{y}<br>Sales Value(in Millions)=%{text}<extra></extra>",
         "legendgroup": "Amravati",
         "marker": {
          "color": "#D62728",
          "pattern": {
           "shape": ""
          }
         },
         "name": "Amravati",
         "offsetgroup": "Amravati",
         "orientation": "h",
         "showlegend": true,
         "text": [
          47
         ],
         "textfont": {
          "size": 8
         },
         "textposition": "outside",
         "type": "bar",
         "x": [
          47
         ],
         "xaxis": "x",
         "y": [
          "Amravati"
         ],
         "yaxis": "y"
        },
        {
         "alignmentgroup": "True",
         "hovertemplate": "CommercialArea=%{y}<br>Sales Value(in Millions)=%{text}<extra></extra>",
         "legendgroup": "Nagpur Mp",
         "marker": {
          "color": "#9467BD",
          "pattern": {
           "shape": ""
          }
         },
         "name": "Nagpur Mp",
         "offsetgroup": "Nagpur Mp",
         "orientation": "h",
         "showlegend": true,
         "text": [
          46
         ],
         "textfont": {
          "size": 8
         },
         "textposition": "outside",
         "type": "bar",
         "x": [
          46
         ],
         "xaxis": "x",
         "y": [
          "Nagpur Mp"
         ],
         "yaxis": "y"
        },
        {
         "alignmentgroup": "True",
         "hovertemplate": "CommercialArea=%{y}<br>Sales Value(in Millions)=%{text}<extra></extra>",
         "legendgroup": "Aurangabad",
         "marker": {
          "color": "#8C564B",
          "pattern": {
           "shape": ""
          }
         },
         "name": "Aurangabad",
         "offsetgroup": "Aurangabad",
         "orientation": "h",
         "showlegend": true,
         "text": [
          42
         ],
         "textfont": {
          "size": 8
         },
         "textposition": "outside",
         "type": "bar",
         "x": [
          42
         ],
         "xaxis": "x",
         "y": [
          "Aurangabad"
         ],
         "yaxis": "y"
        },
        {
         "alignmentgroup": "True",
         "hovertemplate": "CommercialArea=%{y}<br>Sales Value(in Millions)=%{text}<extra></extra>",
         "legendgroup": "Solapur",
         "marker": {
          "color": "#E377C2",
          "pattern": {
           "shape": ""
          }
         },
         "name": "Solapur",
         "offsetgroup": "Solapur",
         "orientation": "h",
         "showlegend": true,
         "text": [
          30
         ],
         "textfont": {
          "size": 8
         },
         "textposition": "outside",
         "type": "bar",
         "x": [
          30
         ],
         "xaxis": "x",
         "y": [
          "Solapur"
         ],
         "yaxis": "y"
        },
        {
         "alignmentgroup": "True",
         "hovertemplate": "CommercialArea=%{y}<br>Sales Value(in Millions)=%{text}<extra></extra>",
         "legendgroup": "Nanded",
         "marker": {
          "color": "#7F7F7F",
          "pattern": {
           "shape": ""
          }
         },
         "name": "Nanded",
         "offsetgroup": "Nanded",
         "orientation": "h",
         "showlegend": true,
         "text": [
          29
         ],
         "textfont": {
          "size": 8
         },
         "textposition": "outside",
         "type": "bar",
         "x": [
          29
         ],
         "xaxis": "x",
         "y": [
          "Nanded"
         ],
         "yaxis": "y"
        },
        {
         "alignmentgroup": "True",
         "hovertemplate": "CommercialArea=%{y}<br>Sales Value(in Millions)=%{text}<extra></extra>",
         "legendgroup": "Jalgaon",
         "marker": {
          "color": "#BCBD22",
          "pattern": {
           "shape": ""
          }
         },
         "name": "Jalgaon",
         "offsetgroup": "Jalgaon",
         "orientation": "h",
         "showlegend": true,
         "text": [
          12
         ],
         "textfont": {
          "size": 8
         },
         "textposition": "outside",
         "type": "bar",
         "x": [
          12
         ],
         "xaxis": "x",
         "y": [
          "Jalgaon"
         ],
         "yaxis": "y"
        },
        {
         "alignmentgroup": "True",
         "hovertemplate": "CommercialArea=%{y}<br>Sales Value(in Millions)=%{text}<extra></extra>",
         "legendgroup": "Nagpur Mh",
         "marker": {
          "color": "#17BECF",
          "pattern": {
           "shape": ""
          }
         },
         "name": "Nagpur Mh",
         "offsetgroup": "Nagpur Mh",
         "orientation": "h",
         "showlegend": true,
         "text": [
          8
         ],
         "textfont": {
          "size": 8
         },
         "textposition": "outside",
         "type": "bar",
         "x": [
          8
         ],
         "xaxis": "x",
         "y": [
          "Nagpur Mh"
         ],
         "yaxis": "y"
        }
       ],
       "layout": {
        "barmode": "relative",
        "font": {
         "color": "darkcyan",
         "family": "Arial Black",
         "size": 15
        },
        "legend": {
         "font": {
          "size": 10
         },
         "title": {
          "font": {
           "color": "black"
          },
          "text": "CommercialArea"
         },
         "tracegroupgap": 0
        },
        "template": {
         "data": {
          "bar": [
           {
            "error_x": {
             "color": "rgb(36,36,36)"
            },
            "error_y": {
             "color": "rgb(36,36,36)"
            },
            "marker": {
             "line": {
              "color": "white",
              "width": 0.5
             },
             "pattern": {
              "fillmode": "overlay",
              "size": 10,
              "solidity": 0.2
             }
            },
            "type": "bar"
           }
          ],
          "barpolar": [
           {
            "marker": {
             "line": {
              "color": "white",
              "width": 0.5
             },
             "pattern": {
              "fillmode": "overlay",
              "size": 10,
              "solidity": 0.2
             }
            },
            "type": "barpolar"
           }
          ],
          "carpet": [
           {
            "aaxis": {
             "endlinecolor": "rgb(36,36,36)",
             "gridcolor": "white",
             "linecolor": "white",
             "minorgridcolor": "white",
             "startlinecolor": "rgb(36,36,36)"
            },
            "baxis": {
             "endlinecolor": "rgb(36,36,36)",
             "gridcolor": "white",
             "linecolor": "white",
             "minorgridcolor": "white",
             "startlinecolor": "rgb(36,36,36)"
            },
            "type": "carpet"
           }
          ],
          "choropleth": [
           {
            "colorbar": {
             "outlinewidth": 1,
             "tickcolor": "rgb(36,36,36)",
             "ticks": "outside"
            },
            "type": "choropleth"
           }
          ],
          "contour": [
           {
            "colorbar": {
             "outlinewidth": 1,
             "tickcolor": "rgb(36,36,36)",
             "ticks": "outside"
            },
            "colorscale": [
             [
              0,
              "#440154"
             ],
             [
              0.1111111111111111,
              "#482878"
             ],
             [
              0.2222222222222222,
              "#3e4989"
             ],
             [
              0.3333333333333333,
              "#31688e"
             ],
             [
              0.4444444444444444,
              "#26828e"
             ],
             [
              0.5555555555555556,
              "#1f9e89"
             ],
             [
              0.6666666666666666,
              "#35b779"
             ],
             [
              0.7777777777777778,
              "#6ece58"
             ],
             [
              0.8888888888888888,
              "#b5de2b"
             ],
             [
              1,
              "#fde725"
             ]
            ],
            "type": "contour"
           }
          ],
          "contourcarpet": [
           {
            "colorbar": {
             "outlinewidth": 1,
             "tickcolor": "rgb(36,36,36)",
             "ticks": "outside"
            },
            "type": "contourcarpet"
           }
          ],
          "heatmap": [
           {
            "colorbar": {
             "outlinewidth": 1,
             "tickcolor": "rgb(36,36,36)",
             "ticks": "outside"
            },
            "colorscale": [
             [
              0,
              "#440154"
             ],
             [
              0.1111111111111111,
              "#482878"
             ],
             [
              0.2222222222222222,
              "#3e4989"
             ],
             [
              0.3333333333333333,
              "#31688e"
             ],
             [
              0.4444444444444444,
              "#26828e"
             ],
             [
              0.5555555555555556,
              "#1f9e89"
             ],
             [
              0.6666666666666666,
              "#35b779"
             ],
             [
              0.7777777777777778,
              "#6ece58"
             ],
             [
              0.8888888888888888,
              "#b5de2b"
             ],
             [
              1,
              "#fde725"
             ]
            ],
            "type": "heatmap"
           }
          ],
          "heatmapgl": [
           {
            "colorbar": {
             "outlinewidth": 1,
             "tickcolor": "rgb(36,36,36)",
             "ticks": "outside"
            },
            "colorscale": [
             [
              0,
              "#440154"
             ],
             [
              0.1111111111111111,
              "#482878"
             ],
             [
              0.2222222222222222,
              "#3e4989"
             ],
             [
              0.3333333333333333,
              "#31688e"
             ],
             [
              0.4444444444444444,
              "#26828e"
             ],
             [
              0.5555555555555556,
              "#1f9e89"
             ],
             [
              0.6666666666666666,
              "#35b779"
             ],
             [
              0.7777777777777778,
              "#6ece58"
             ],
             [
              0.8888888888888888,
              "#b5de2b"
             ],
             [
              1,
              "#fde725"
             ]
            ],
            "type": "heatmapgl"
           }
          ],
          "histogram": [
           {
            "marker": {
             "line": {
              "color": "white",
              "width": 0.6
             }
            },
            "type": "histogram"
           }
          ],
          "histogram2d": [
           {
            "colorbar": {
             "outlinewidth": 1,
             "tickcolor": "rgb(36,36,36)",
             "ticks": "outside"
            },
            "colorscale": [
             [
              0,
              "#440154"
             ],
             [
              0.1111111111111111,
              "#482878"
             ],
             [
              0.2222222222222222,
              "#3e4989"
             ],
             [
              0.3333333333333333,
              "#31688e"
             ],
             [
              0.4444444444444444,
              "#26828e"
             ],
             [
              0.5555555555555556,
              "#1f9e89"
             ],
             [
              0.6666666666666666,
              "#35b779"
             ],
             [
              0.7777777777777778,
              "#6ece58"
             ],
             [
              0.8888888888888888,
              "#b5de2b"
             ],
             [
              1,
              "#fde725"
             ]
            ],
            "type": "histogram2d"
           }
          ],
          "histogram2dcontour": [
           {
            "colorbar": {
             "outlinewidth": 1,
             "tickcolor": "rgb(36,36,36)",
             "ticks": "outside"
            },
            "colorscale": [
             [
              0,
              "#440154"
             ],
             [
              0.1111111111111111,
              "#482878"
             ],
             [
              0.2222222222222222,
              "#3e4989"
             ],
             [
              0.3333333333333333,
              "#31688e"
             ],
             [
              0.4444444444444444,
              "#26828e"
             ],
             [
              0.5555555555555556,
              "#1f9e89"
             ],
             [
              0.6666666666666666,
              "#35b779"
             ],
             [
              0.7777777777777778,
              "#6ece58"
             ],
             [
              0.8888888888888888,
              "#b5de2b"
             ],
             [
              1,
              "#fde725"
             ]
            ],
            "type": "histogram2dcontour"
           }
          ],
          "mesh3d": [
           {
            "colorbar": {
             "outlinewidth": 1,
             "tickcolor": "rgb(36,36,36)",
             "ticks": "outside"
            },
            "type": "mesh3d"
           }
          ],
          "parcoords": [
           {
            "line": {
             "colorbar": {
              "outlinewidth": 1,
              "tickcolor": "rgb(36,36,36)",
              "ticks": "outside"
             }
            },
            "type": "parcoords"
           }
          ],
          "pie": [
           {
            "automargin": true,
            "type": "pie"
           }
          ],
          "scatter": [
           {
            "fillpattern": {
             "fillmode": "overlay",
             "size": 10,
             "solidity": 0.2
            },
            "type": "scatter"
           }
          ],
          "scatter3d": [
           {
            "line": {
             "colorbar": {
              "outlinewidth": 1,
              "tickcolor": "rgb(36,36,36)",
              "ticks": "outside"
             }
            },
            "marker": {
             "colorbar": {
              "outlinewidth": 1,
              "tickcolor": "rgb(36,36,36)",
              "ticks": "outside"
             }
            },
            "type": "scatter3d"
           }
          ],
          "scattercarpet": [
           {
            "marker": {
             "colorbar": {
              "outlinewidth": 1,
              "tickcolor": "rgb(36,36,36)",
              "ticks": "outside"
             }
            },
            "type": "scattercarpet"
           }
          ],
          "scattergeo": [
           {
            "marker": {
             "colorbar": {
              "outlinewidth": 1,
              "tickcolor": "rgb(36,36,36)",
              "ticks": "outside"
             }
            },
            "type": "scattergeo"
           }
          ],
          "scattergl": [
           {
            "marker": {
             "colorbar": {
              "outlinewidth": 1,
              "tickcolor": "rgb(36,36,36)",
              "ticks": "outside"
             }
            },
            "type": "scattergl"
           }
          ],
          "scattermapbox": [
           {
            "marker": {
             "colorbar": {
              "outlinewidth": 1,
              "tickcolor": "rgb(36,36,36)",
              "ticks": "outside"
             }
            },
            "type": "scattermapbox"
           }
          ],
          "scatterpolar": [
           {
            "marker": {
             "colorbar": {
              "outlinewidth": 1,
              "tickcolor": "rgb(36,36,36)",
              "ticks": "outside"
             }
            },
            "type": "scatterpolar"
           }
          ],
          "scatterpolargl": [
           {
            "marker": {
             "colorbar": {
              "outlinewidth": 1,
              "tickcolor": "rgb(36,36,36)",
              "ticks": "outside"
             }
            },
            "type": "scatterpolargl"
           }
          ],
          "scatterternary": [
           {
            "marker": {
             "colorbar": {
              "outlinewidth": 1,
              "tickcolor": "rgb(36,36,36)",
              "ticks": "outside"
             }
            },
            "type": "scatterternary"
           }
          ],
          "surface": [
           {
            "colorbar": {
             "outlinewidth": 1,
             "tickcolor": "rgb(36,36,36)",
             "ticks": "outside"
            },
            "colorscale": [
             [
              0,
              "#440154"
             ],
             [
              0.1111111111111111,
              "#482878"
             ],
             [
              0.2222222222222222,
              "#3e4989"
             ],
             [
              0.3333333333333333,
              "#31688e"
             ],
             [
              0.4444444444444444,
              "#26828e"
             ],
             [
              0.5555555555555556,
              "#1f9e89"
             ],
             [
              0.6666666666666666,
              "#35b779"
             ],
             [
              0.7777777777777778,
              "#6ece58"
             ],
             [
              0.8888888888888888,
              "#b5de2b"
             ],
             [
              1,
              "#fde725"
             ]
            ],
            "type": "surface"
           }
          ],
          "table": [
           {
            "cells": {
             "fill": {
              "color": "rgb(237,237,237)"
             },
             "line": {
              "color": "white"
             }
            },
            "header": {
             "fill": {
              "color": "rgb(217,217,217)"
             },
             "line": {
              "color": "white"
             }
            },
            "type": "table"
           }
          ]
         },
         "layout": {
          "annotationdefaults": {
           "arrowhead": 0,
           "arrowwidth": 1
          },
          "autotypenumbers": "strict",
          "coloraxis": {
           "colorbar": {
            "outlinewidth": 1,
            "tickcolor": "rgb(36,36,36)",
            "ticks": "outside"
           }
          },
          "colorscale": {
           "diverging": [
            [
             0,
             "rgb(103,0,31)"
            ],
            [
             0.1,
             "rgb(178,24,43)"
            ],
            [
             0.2,
             "rgb(214,96,77)"
            ],
            [
             0.3,
             "rgb(244,165,130)"
            ],
            [
             0.4,
             "rgb(253,219,199)"
            ],
            [
             0.5,
             "rgb(247,247,247)"
            ],
            [
             0.6,
             "rgb(209,229,240)"
            ],
            [
             0.7,
             "rgb(146,197,222)"
            ],
            [
             0.8,
             "rgb(67,147,195)"
            ],
            [
             0.9,
             "rgb(33,102,172)"
            ],
            [
             1,
             "rgb(5,48,97)"
            ]
           ],
           "sequential": [
            [
             0,
             "#440154"
            ],
            [
             0.1111111111111111,
             "#482878"
            ],
            [
             0.2222222222222222,
             "#3e4989"
            ],
            [
             0.3333333333333333,
             "#31688e"
            ],
            [
             0.4444444444444444,
             "#26828e"
            ],
            [
             0.5555555555555556,
             "#1f9e89"
            ],
            [
             0.6666666666666666,
             "#35b779"
            ],
            [
             0.7777777777777778,
             "#6ece58"
            ],
            [
             0.8888888888888888,
             "#b5de2b"
            ],
            [
             1,
             "#fde725"
            ]
           ],
           "sequentialminus": [
            [
             0,
             "#440154"
            ],
            [
             0.1111111111111111,
             "#482878"
            ],
            [
             0.2222222222222222,
             "#3e4989"
            ],
            [
             0.3333333333333333,
             "#31688e"
            ],
            [
             0.4444444444444444,
             "#26828e"
            ],
            [
             0.5555555555555556,
             "#1f9e89"
            ],
            [
             0.6666666666666666,
             "#35b779"
            ],
            [
             0.7777777777777778,
             "#6ece58"
            ],
            [
             0.8888888888888888,
             "#b5de2b"
            ],
            [
             1,
             "#fde725"
            ]
           ]
          },
          "colorway": [
           "#1F77B4",
           "#FF7F0E",
           "#2CA02C",
           "#D62728",
           "#9467BD",
           "#8C564B",
           "#E377C2",
           "#7F7F7F",
           "#BCBD22",
           "#17BECF"
          ],
          "font": {
           "color": "rgb(36,36,36)"
          },
          "geo": {
           "bgcolor": "white",
           "lakecolor": "white",
           "landcolor": "white",
           "showlakes": true,
           "showland": true,
           "subunitcolor": "white"
          },
          "hoverlabel": {
           "align": "left"
          },
          "hovermode": "closest",
          "mapbox": {
           "style": "light"
          },
          "paper_bgcolor": "white",
          "plot_bgcolor": "white",
          "polar": {
           "angularaxis": {
            "gridcolor": "rgb(232,232,232)",
            "linecolor": "rgb(36,36,36)",
            "showgrid": false,
            "showline": true,
            "ticks": "outside"
           },
           "bgcolor": "white",
           "radialaxis": {
            "gridcolor": "rgb(232,232,232)",
            "linecolor": "rgb(36,36,36)",
            "showgrid": false,
            "showline": true,
            "ticks": "outside"
           }
          },
          "scene": {
           "xaxis": {
            "backgroundcolor": "white",
            "gridcolor": "rgb(232,232,232)",
            "gridwidth": 2,
            "linecolor": "rgb(36,36,36)",
            "showbackground": true,
            "showgrid": false,
            "showline": true,
            "ticks": "outside",
            "zeroline": false,
            "zerolinecolor": "rgb(36,36,36)"
           },
           "yaxis": {
            "backgroundcolor": "white",
            "gridcolor": "rgb(232,232,232)",
            "gridwidth": 2,
            "linecolor": "rgb(36,36,36)",
            "showbackground": true,
            "showgrid": false,
            "showline": true,
            "ticks": "outside",
            "zeroline": false,
            "zerolinecolor": "rgb(36,36,36)"
           },
           "zaxis": {
            "backgroundcolor": "white",
            "gridcolor": "rgb(232,232,232)",
            "gridwidth": 2,
            "linecolor": "rgb(36,36,36)",
            "showbackground": true,
            "showgrid": false,
            "showline": true,
            "ticks": "outside",
            "zeroline": false,
            "zerolinecolor": "rgb(36,36,36)"
           }
          },
          "shapedefaults": {
           "fillcolor": "black",
           "line": {
            "width": 0
           },
           "opacity": 0.3
          },
          "ternary": {
           "aaxis": {
            "gridcolor": "rgb(232,232,232)",
            "linecolor": "rgb(36,36,36)",
            "showgrid": false,
            "showline": true,
            "ticks": "outside"
           },
           "baxis": {
            "gridcolor": "rgb(232,232,232)",
            "linecolor": "rgb(36,36,36)",
            "showgrid": false,
            "showline": true,
            "ticks": "outside"
           },
           "bgcolor": "white",
           "caxis": {
            "gridcolor": "rgb(232,232,232)",
            "linecolor": "rgb(36,36,36)",
            "showgrid": false,
            "showline": true,
            "ticks": "outside"
           }
          },
          "title": {
           "x": 0.05
          },
          "xaxis": {
           "automargin": true,
           "gridcolor": "rgb(232,232,232)",
           "linecolor": "rgb(36,36,36)",
           "showgrid": false,
           "showline": true,
           "ticks": "outside",
           "title": {
            "standoff": 15
           },
           "zeroline": false,
           "zerolinecolor": "rgb(36,36,36)"
          },
          "yaxis": {
           "automargin": true,
           "gridcolor": "rgb(232,232,232)",
           "linecolor": "rgb(36,36,36)",
           "showgrid": false,
           "showline": true,
           "ticks": "outside",
           "title": {
            "standoff": 15
           },
           "zeroline": false,
           "zerolinecolor": "rgb(36,36,36)"
          }
         }
        },
        "title": {
         "font": {
          "color": "red",
          "family": "Times New Roman",
          "size": 30
         },
         "text": " Sales Value by CA-WEST in 2022"
        },
        "xaxis": {
         "anchor": "y",
         "domain": [
          0,
          1
         ],
         "tickfont": {
          "family": "Arial Black"
         },
         "title": {
          "font": {
           "color": "black"
          },
          "text": "Sales Value(in Millions)"
         }
        },
        "yaxis": {
         "anchor": "x",
         "categoryarray": [
          "Nagpur Mh",
          "Jalgaon",
          "Nanded",
          "Solapur",
          "Aurangabad",
          "Nagpur Mp",
          "Amravati",
          "Gujarat",
          "Pune",
          "Nasik"
         ],
         "categoryorder": "array",
         "domain": [
          0,
          1
         ],
         "tickfont": {
          "family": "Arial Black"
         },
         "title": {
          "font": {
           "color": "black"
          },
          "text": "Commercial Area"
         }
        }
       }
      },
      "text/html": [
       "<div>                            <div id=\"7919fbb0-d57f-4e08-ae43-74b4bc20488c\" class=\"plotly-graph-div\" style=\"height:525px; width:100%;\"></div>            <script type=\"text/javascript\">                require([\"plotly\"], function(Plotly) {                    window.PLOTLYENV=window.PLOTLYENV || {};                                    if (document.getElementById(\"7919fbb0-d57f-4e08-ae43-74b4bc20488c\")) {                    Plotly.newPlot(                        \"7919fbb0-d57f-4e08-ae43-74b4bc20488c\",                        [{\"alignmentgroup\":\"True\",\"hovertemplate\":\"CommercialArea=%{y}<br>Sales Value(in Millions)=%{text}<extra></extra>\",\"legendgroup\":\"Nasik\",\"marker\":{\"color\":\"#1F77B4\",\"pattern\":{\"shape\":\"\"}},\"name\":\"Nasik\",\"offsetgroup\":\"Nasik\",\"orientation\":\"h\",\"showlegend\":true,\"text\":[113.0],\"textposition\":\"outside\",\"x\":[113.0],\"xaxis\":\"x\",\"y\":[\"Nasik\"],\"yaxis\":\"y\",\"type\":\"bar\",\"textfont\":{\"size\":8}},{\"alignmentgroup\":\"True\",\"hovertemplate\":\"CommercialArea=%{y}<br>Sales Value(in Millions)=%{text}<extra></extra>\",\"legendgroup\":\"Pune\",\"marker\":{\"color\":\"#FF7F0E\",\"pattern\":{\"shape\":\"\"}},\"name\":\"Pune\",\"offsetgroup\":\"Pune\",\"orientation\":\"h\",\"showlegend\":true,\"text\":[63.0],\"textposition\":\"outside\",\"x\":[63.0],\"xaxis\":\"x\",\"y\":[\"Pune\"],\"yaxis\":\"y\",\"type\":\"bar\",\"textfont\":{\"size\":8}},{\"alignmentgroup\":\"True\",\"hovertemplate\":\"CommercialArea=%{y}<br>Sales Value(in Millions)=%{text}<extra></extra>\",\"legendgroup\":\"Gujarat\",\"marker\":{\"color\":\"#2CA02C\",\"pattern\":{\"shape\":\"\"}},\"name\":\"Gujarat\",\"offsetgroup\":\"Gujarat\",\"orientation\":\"h\",\"showlegend\":true,\"text\":[50.0],\"textposition\":\"outside\",\"x\":[50.0],\"xaxis\":\"x\",\"y\":[\"Gujarat\"],\"yaxis\":\"y\",\"type\":\"bar\",\"textfont\":{\"size\":8}},{\"alignmentgroup\":\"True\",\"hovertemplate\":\"CommercialArea=%{y}<br>Sales Value(in Millions)=%{text}<extra></extra>\",\"legendgroup\":\"Amravati\",\"marker\":{\"color\":\"#D62728\",\"pattern\":{\"shape\":\"\"}},\"name\":\"Amravati\",\"offsetgroup\":\"Amravati\",\"orientation\":\"h\",\"showlegend\":true,\"text\":[47.0],\"textposition\":\"outside\",\"x\":[47.0],\"xaxis\":\"x\",\"y\":[\"Amravati\"],\"yaxis\":\"y\",\"type\":\"bar\",\"textfont\":{\"size\":8}},{\"alignmentgroup\":\"True\",\"hovertemplate\":\"CommercialArea=%{y}<br>Sales Value(in Millions)=%{text}<extra></extra>\",\"legendgroup\":\"Nagpur Mp\",\"marker\":{\"color\":\"#9467BD\",\"pattern\":{\"shape\":\"\"}},\"name\":\"Nagpur Mp\",\"offsetgroup\":\"Nagpur Mp\",\"orientation\":\"h\",\"showlegend\":true,\"text\":[46.0],\"textposition\":\"outside\",\"x\":[46.0],\"xaxis\":\"x\",\"y\":[\"Nagpur Mp\"],\"yaxis\":\"y\",\"type\":\"bar\",\"textfont\":{\"size\":8}},{\"alignmentgroup\":\"True\",\"hovertemplate\":\"CommercialArea=%{y}<br>Sales Value(in Millions)=%{text}<extra></extra>\",\"legendgroup\":\"Aurangabad\",\"marker\":{\"color\":\"#8C564B\",\"pattern\":{\"shape\":\"\"}},\"name\":\"Aurangabad\",\"offsetgroup\":\"Aurangabad\",\"orientation\":\"h\",\"showlegend\":true,\"text\":[42.0],\"textposition\":\"outside\",\"x\":[42.0],\"xaxis\":\"x\",\"y\":[\"Aurangabad\"],\"yaxis\":\"y\",\"type\":\"bar\",\"textfont\":{\"size\":8}},{\"alignmentgroup\":\"True\",\"hovertemplate\":\"CommercialArea=%{y}<br>Sales Value(in Millions)=%{text}<extra></extra>\",\"legendgroup\":\"Solapur\",\"marker\":{\"color\":\"#E377C2\",\"pattern\":{\"shape\":\"\"}},\"name\":\"Solapur\",\"offsetgroup\":\"Solapur\",\"orientation\":\"h\",\"showlegend\":true,\"text\":[30.0],\"textposition\":\"outside\",\"x\":[30.0],\"xaxis\":\"x\",\"y\":[\"Solapur\"],\"yaxis\":\"y\",\"type\":\"bar\",\"textfont\":{\"size\":8}},{\"alignmentgroup\":\"True\",\"hovertemplate\":\"CommercialArea=%{y}<br>Sales Value(in Millions)=%{text}<extra></extra>\",\"legendgroup\":\"Nanded\",\"marker\":{\"color\":\"#7F7F7F\",\"pattern\":{\"shape\":\"\"}},\"name\":\"Nanded\",\"offsetgroup\":\"Nanded\",\"orientation\":\"h\",\"showlegend\":true,\"text\":[29.0],\"textposition\":\"outside\",\"x\":[29.0],\"xaxis\":\"x\",\"y\":[\"Nanded\"],\"yaxis\":\"y\",\"type\":\"bar\",\"textfont\":{\"size\":8}},{\"alignmentgroup\":\"True\",\"hovertemplate\":\"CommercialArea=%{y}<br>Sales Value(in Millions)=%{text}<extra></extra>\",\"legendgroup\":\"Jalgaon\",\"marker\":{\"color\":\"#BCBD22\",\"pattern\":{\"shape\":\"\"}},\"name\":\"Jalgaon\",\"offsetgroup\":\"Jalgaon\",\"orientation\":\"h\",\"showlegend\":true,\"text\":[12.0],\"textposition\":\"outside\",\"x\":[12.0],\"xaxis\":\"x\",\"y\":[\"Jalgaon\"],\"yaxis\":\"y\",\"type\":\"bar\",\"textfont\":{\"size\":8}},{\"alignmentgroup\":\"True\",\"hovertemplate\":\"CommercialArea=%{y}<br>Sales Value(in Millions)=%{text}<extra></extra>\",\"legendgroup\":\"Nagpur Mh\",\"marker\":{\"color\":\"#17BECF\",\"pattern\":{\"shape\":\"\"}},\"name\":\"Nagpur Mh\",\"offsetgroup\":\"Nagpur Mh\",\"orientation\":\"h\",\"showlegend\":true,\"text\":[8.0],\"textposition\":\"outside\",\"x\":[8.0],\"xaxis\":\"x\",\"y\":[\"Nagpur Mh\"],\"yaxis\":\"y\",\"type\":\"bar\",\"textfont\":{\"size\":8}}],                        {\"template\":{\"data\":{\"barpolar\":[{\"marker\":{\"line\":{\"color\":\"white\",\"width\":0.5},\"pattern\":{\"fillmode\":\"overlay\",\"size\":10,\"solidity\":0.2}},\"type\":\"barpolar\"}],\"bar\":[{\"error_x\":{\"color\":\"rgb(36,36,36)\"},\"error_y\":{\"color\":\"rgb(36,36,36)\"},\"marker\":{\"line\":{\"color\":\"white\",\"width\":0.5},\"pattern\":{\"fillmode\":\"overlay\",\"size\":10,\"solidity\":0.2}},\"type\":\"bar\"}],\"carpet\":[{\"aaxis\":{\"endlinecolor\":\"rgb(36,36,36)\",\"gridcolor\":\"white\",\"linecolor\":\"white\",\"minorgridcolor\":\"white\",\"startlinecolor\":\"rgb(36,36,36)\"},\"baxis\":{\"endlinecolor\":\"rgb(36,36,36)\",\"gridcolor\":\"white\",\"linecolor\":\"white\",\"minorgridcolor\":\"white\",\"startlinecolor\":\"rgb(36,36,36)\"},\"type\":\"carpet\"}],\"choropleth\":[{\"colorbar\":{\"outlinewidth\":1,\"tickcolor\":\"rgb(36,36,36)\",\"ticks\":\"outside\"},\"type\":\"choropleth\"}],\"contourcarpet\":[{\"colorbar\":{\"outlinewidth\":1,\"tickcolor\":\"rgb(36,36,36)\",\"ticks\":\"outside\"},\"type\":\"contourcarpet\"}],\"contour\":[{\"colorbar\":{\"outlinewidth\":1,\"tickcolor\":\"rgb(36,36,36)\",\"ticks\":\"outside\"},\"colorscale\":[[0.0,\"#440154\"],[0.1111111111111111,\"#482878\"],[0.2222222222222222,\"#3e4989\"],[0.3333333333333333,\"#31688e\"],[0.4444444444444444,\"#26828e\"],[0.5555555555555556,\"#1f9e89\"],[0.6666666666666666,\"#35b779\"],[0.7777777777777778,\"#6ece58\"],[0.8888888888888888,\"#b5de2b\"],[1.0,\"#fde725\"]],\"type\":\"contour\"}],\"heatmapgl\":[{\"colorbar\":{\"outlinewidth\":1,\"tickcolor\":\"rgb(36,36,36)\",\"ticks\":\"outside\"},\"colorscale\":[[0.0,\"#440154\"],[0.1111111111111111,\"#482878\"],[0.2222222222222222,\"#3e4989\"],[0.3333333333333333,\"#31688e\"],[0.4444444444444444,\"#26828e\"],[0.5555555555555556,\"#1f9e89\"],[0.6666666666666666,\"#35b779\"],[0.7777777777777778,\"#6ece58\"],[0.8888888888888888,\"#b5de2b\"],[1.0,\"#fde725\"]],\"type\":\"heatmapgl\"}],\"heatmap\":[{\"colorbar\":{\"outlinewidth\":1,\"tickcolor\":\"rgb(36,36,36)\",\"ticks\":\"outside\"},\"colorscale\":[[0.0,\"#440154\"],[0.1111111111111111,\"#482878\"],[0.2222222222222222,\"#3e4989\"],[0.3333333333333333,\"#31688e\"],[0.4444444444444444,\"#26828e\"],[0.5555555555555556,\"#1f9e89\"],[0.6666666666666666,\"#35b779\"],[0.7777777777777778,\"#6ece58\"],[0.8888888888888888,\"#b5de2b\"],[1.0,\"#fde725\"]],\"type\":\"heatmap\"}],\"histogram2dcontour\":[{\"colorbar\":{\"outlinewidth\":1,\"tickcolor\":\"rgb(36,36,36)\",\"ticks\":\"outside\"},\"colorscale\":[[0.0,\"#440154\"],[0.1111111111111111,\"#482878\"],[0.2222222222222222,\"#3e4989\"],[0.3333333333333333,\"#31688e\"],[0.4444444444444444,\"#26828e\"],[0.5555555555555556,\"#1f9e89\"],[0.6666666666666666,\"#35b779\"],[0.7777777777777778,\"#6ece58\"],[0.8888888888888888,\"#b5de2b\"],[1.0,\"#fde725\"]],\"type\":\"histogram2dcontour\"}],\"histogram2d\":[{\"colorbar\":{\"outlinewidth\":1,\"tickcolor\":\"rgb(36,36,36)\",\"ticks\":\"outside\"},\"colorscale\":[[0.0,\"#440154\"],[0.1111111111111111,\"#482878\"],[0.2222222222222222,\"#3e4989\"],[0.3333333333333333,\"#31688e\"],[0.4444444444444444,\"#26828e\"],[0.5555555555555556,\"#1f9e89\"],[0.6666666666666666,\"#35b779\"],[0.7777777777777778,\"#6ece58\"],[0.8888888888888888,\"#b5de2b\"],[1.0,\"#fde725\"]],\"type\":\"histogram2d\"}],\"histogram\":[{\"marker\":{\"line\":{\"color\":\"white\",\"width\":0.6}},\"type\":\"histogram\"}],\"mesh3d\":[{\"colorbar\":{\"outlinewidth\":1,\"tickcolor\":\"rgb(36,36,36)\",\"ticks\":\"outside\"},\"type\":\"mesh3d\"}],\"parcoords\":[{\"line\":{\"colorbar\":{\"outlinewidth\":1,\"tickcolor\":\"rgb(36,36,36)\",\"ticks\":\"outside\"}},\"type\":\"parcoords\"}],\"pie\":[{\"automargin\":true,\"type\":\"pie\"}],\"scatter3d\":[{\"line\":{\"colorbar\":{\"outlinewidth\":1,\"tickcolor\":\"rgb(36,36,36)\",\"ticks\":\"outside\"}},\"marker\":{\"colorbar\":{\"outlinewidth\":1,\"tickcolor\":\"rgb(36,36,36)\",\"ticks\":\"outside\"}},\"type\":\"scatter3d\"}],\"scattercarpet\":[{\"marker\":{\"colorbar\":{\"outlinewidth\":1,\"tickcolor\":\"rgb(36,36,36)\",\"ticks\":\"outside\"}},\"type\":\"scattercarpet\"}],\"scattergeo\":[{\"marker\":{\"colorbar\":{\"outlinewidth\":1,\"tickcolor\":\"rgb(36,36,36)\",\"ticks\":\"outside\"}},\"type\":\"scattergeo\"}],\"scattergl\":[{\"marker\":{\"colorbar\":{\"outlinewidth\":1,\"tickcolor\":\"rgb(36,36,36)\",\"ticks\":\"outside\"}},\"type\":\"scattergl\"}],\"scattermapbox\":[{\"marker\":{\"colorbar\":{\"outlinewidth\":1,\"tickcolor\":\"rgb(36,36,36)\",\"ticks\":\"outside\"}},\"type\":\"scattermapbox\"}],\"scatterpolargl\":[{\"marker\":{\"colorbar\":{\"outlinewidth\":1,\"tickcolor\":\"rgb(36,36,36)\",\"ticks\":\"outside\"}},\"type\":\"scatterpolargl\"}],\"scatterpolar\":[{\"marker\":{\"colorbar\":{\"outlinewidth\":1,\"tickcolor\":\"rgb(36,36,36)\",\"ticks\":\"outside\"}},\"type\":\"scatterpolar\"}],\"scatter\":[{\"fillpattern\":{\"fillmode\":\"overlay\",\"size\":10,\"solidity\":0.2},\"type\":\"scatter\"}],\"scatterternary\":[{\"marker\":{\"colorbar\":{\"outlinewidth\":1,\"tickcolor\":\"rgb(36,36,36)\",\"ticks\":\"outside\"}},\"type\":\"scatterternary\"}],\"surface\":[{\"colorbar\":{\"outlinewidth\":1,\"tickcolor\":\"rgb(36,36,36)\",\"ticks\":\"outside\"},\"colorscale\":[[0.0,\"#440154\"],[0.1111111111111111,\"#482878\"],[0.2222222222222222,\"#3e4989\"],[0.3333333333333333,\"#31688e\"],[0.4444444444444444,\"#26828e\"],[0.5555555555555556,\"#1f9e89\"],[0.6666666666666666,\"#35b779\"],[0.7777777777777778,\"#6ece58\"],[0.8888888888888888,\"#b5de2b\"],[1.0,\"#fde725\"]],\"type\":\"surface\"}],\"table\":[{\"cells\":{\"fill\":{\"color\":\"rgb(237,237,237)\"},\"line\":{\"color\":\"white\"}},\"header\":{\"fill\":{\"color\":\"rgb(217,217,217)\"},\"line\":{\"color\":\"white\"}},\"type\":\"table\"}]},\"layout\":{\"annotationdefaults\":{\"arrowhead\":0,\"arrowwidth\":1},\"autotypenumbers\":\"strict\",\"coloraxis\":{\"colorbar\":{\"outlinewidth\":1,\"tickcolor\":\"rgb(36,36,36)\",\"ticks\":\"outside\"}},\"colorscale\":{\"diverging\":[[0.0,\"rgb(103,0,31)\"],[0.1,\"rgb(178,24,43)\"],[0.2,\"rgb(214,96,77)\"],[0.3,\"rgb(244,165,130)\"],[0.4,\"rgb(253,219,199)\"],[0.5,\"rgb(247,247,247)\"],[0.6,\"rgb(209,229,240)\"],[0.7,\"rgb(146,197,222)\"],[0.8,\"rgb(67,147,195)\"],[0.9,\"rgb(33,102,172)\"],[1.0,\"rgb(5,48,97)\"]],\"sequential\":[[0.0,\"#440154\"],[0.1111111111111111,\"#482878\"],[0.2222222222222222,\"#3e4989\"],[0.3333333333333333,\"#31688e\"],[0.4444444444444444,\"#26828e\"],[0.5555555555555556,\"#1f9e89\"],[0.6666666666666666,\"#35b779\"],[0.7777777777777778,\"#6ece58\"],[0.8888888888888888,\"#b5de2b\"],[1.0,\"#fde725\"]],\"sequentialminus\":[[0.0,\"#440154\"],[0.1111111111111111,\"#482878\"],[0.2222222222222222,\"#3e4989\"],[0.3333333333333333,\"#31688e\"],[0.4444444444444444,\"#26828e\"],[0.5555555555555556,\"#1f9e89\"],[0.6666666666666666,\"#35b779\"],[0.7777777777777778,\"#6ece58\"],[0.8888888888888888,\"#b5de2b\"],[1.0,\"#fde725\"]]},\"colorway\":[\"#1F77B4\",\"#FF7F0E\",\"#2CA02C\",\"#D62728\",\"#9467BD\",\"#8C564B\",\"#E377C2\",\"#7F7F7F\",\"#BCBD22\",\"#17BECF\"],\"font\":{\"color\":\"rgb(36,36,36)\"},\"geo\":{\"bgcolor\":\"white\",\"lakecolor\":\"white\",\"landcolor\":\"white\",\"showlakes\":true,\"showland\":true,\"subunitcolor\":\"white\"},\"hoverlabel\":{\"align\":\"left\"},\"hovermode\":\"closest\",\"mapbox\":{\"style\":\"light\"},\"paper_bgcolor\":\"white\",\"plot_bgcolor\":\"white\",\"polar\":{\"angularaxis\":{\"gridcolor\":\"rgb(232,232,232)\",\"linecolor\":\"rgb(36,36,36)\",\"showgrid\":false,\"showline\":true,\"ticks\":\"outside\"},\"bgcolor\":\"white\",\"radialaxis\":{\"gridcolor\":\"rgb(232,232,232)\",\"linecolor\":\"rgb(36,36,36)\",\"showgrid\":false,\"showline\":true,\"ticks\":\"outside\"}},\"scene\":{\"xaxis\":{\"backgroundcolor\":\"white\",\"gridcolor\":\"rgb(232,232,232)\",\"gridwidth\":2,\"linecolor\":\"rgb(36,36,36)\",\"showbackground\":true,\"showgrid\":false,\"showline\":true,\"ticks\":\"outside\",\"zeroline\":false,\"zerolinecolor\":\"rgb(36,36,36)\"},\"yaxis\":{\"backgroundcolor\":\"white\",\"gridcolor\":\"rgb(232,232,232)\",\"gridwidth\":2,\"linecolor\":\"rgb(36,36,36)\",\"showbackground\":true,\"showgrid\":false,\"showline\":true,\"ticks\":\"outside\",\"zeroline\":false,\"zerolinecolor\":\"rgb(36,36,36)\"},\"zaxis\":{\"backgroundcolor\":\"white\",\"gridcolor\":\"rgb(232,232,232)\",\"gridwidth\":2,\"linecolor\":\"rgb(36,36,36)\",\"showbackground\":true,\"showgrid\":false,\"showline\":true,\"ticks\":\"outside\",\"zeroline\":false,\"zerolinecolor\":\"rgb(36,36,36)\"}},\"shapedefaults\":{\"fillcolor\":\"black\",\"line\":{\"width\":0},\"opacity\":0.3},\"ternary\":{\"aaxis\":{\"gridcolor\":\"rgb(232,232,232)\",\"linecolor\":\"rgb(36,36,36)\",\"showgrid\":false,\"showline\":true,\"ticks\":\"outside\"},\"baxis\":{\"gridcolor\":\"rgb(232,232,232)\",\"linecolor\":\"rgb(36,36,36)\",\"showgrid\":false,\"showline\":true,\"ticks\":\"outside\"},\"bgcolor\":\"white\",\"caxis\":{\"gridcolor\":\"rgb(232,232,232)\",\"linecolor\":\"rgb(36,36,36)\",\"showgrid\":false,\"showline\":true,\"ticks\":\"outside\"}},\"title\":{\"x\":0.05},\"xaxis\":{\"automargin\":true,\"gridcolor\":\"rgb(232,232,232)\",\"linecolor\":\"rgb(36,36,36)\",\"showgrid\":false,\"showline\":true,\"ticks\":\"outside\",\"title\":{\"standoff\":15},\"zeroline\":false,\"zerolinecolor\":\"rgb(36,36,36)\"},\"yaxis\":{\"automargin\":true,\"gridcolor\":\"rgb(232,232,232)\",\"linecolor\":\"rgb(36,36,36)\",\"showgrid\":false,\"showline\":true,\"ticks\":\"outside\",\"title\":{\"standoff\":15},\"zeroline\":false,\"zerolinecolor\":\"rgb(36,36,36)\"}}},\"xaxis\":{\"anchor\":\"y\",\"domain\":[0.0,1.0],\"title\":{\"text\":\"Sales Value(in Millions)\",\"font\":{\"color\":\"black\"}},\"tickfont\":{\"family\":\"Arial Black\"}},\"yaxis\":{\"anchor\":\"x\",\"domain\":[0.0,1.0],\"title\":{\"text\":\"Commercial Area\",\"font\":{\"color\":\"black\"}},\"categoryorder\":\"array\",\"categoryarray\":[\"Nagpur Mh\",\"Jalgaon\",\"Nanded\",\"Solapur\",\"Aurangabad\",\"Nagpur Mp\",\"Amravati\",\"Gujarat\",\"Pune\",\"Nasik\"],\"tickfont\":{\"family\":\"Arial Black\"}},\"legend\":{\"title\":{\"text\":\"CommercialArea\",\"font\":{\"color\":\"black\"}},\"tracegroupgap\":0,\"font\":{\"size\":10}},\"title\":{\"text\":\" Sales Value by CA-WEST in 2022\",\"font\":{\"family\":\"Times New Roman\",\"size\":30,\"color\":\"red\"}},\"barmode\":\"relative\",\"font\":{\"family\":\"Arial Black\",\"color\":\"darkcyan\",\"size\":15}},                        {\"responsive\": true}                    ).then(function(){\n",
       "                            \n",
       "var gd = document.getElementById('7919fbb0-d57f-4e08-ae43-74b4bc20488c');\n",
       "var x = new MutationObserver(function (mutations, observer) {{\n",
       "        var display = window.getComputedStyle(gd).display;\n",
       "        if (!display || display === 'none') {{\n",
       "            console.log([gd, 'removed!']);\n",
       "            Plotly.purge(gd);\n",
       "            observer.disconnect();\n",
       "        }}\n",
       "}});\n",
       "\n",
       "// Listen for the removal of the full notebook cells\n",
       "var notebookContainer = gd.closest('#notebook-container');\n",
       "if (notebookContainer) {{\n",
       "    x.observe(notebookContainer, {childList: true});\n",
       "}}\n",
       "\n",
       "// Listen for the clearing of the current output cell\n",
       "var outputEl = gd.closest('.output');\n",
       "if (outputEl) {{\n",
       "    x.observe(outputEl, {childList: true});\n",
       "}}\n",
       "\n",
       "                        })                };                });            </script>        </div>"
      ]
     },
     "metadata": {},
     "output_type": "display_data"
    }
   ],
   "source": [
    "import plotly.express as px\n",
    "#color_discrete_map = {'Arize': 'rgb(255,0,0)'}\n",
    "fig=px.bar(CU_total, x=\"Sales\", y=\"CommercialArea\",\n",
    "           labels={\"Sales\": \"Sales Value(in Millions)\"},\n",
    "           title=\" Sales Value by CA-WEST in 2022\", \n",
    "           text=\"Sales\", color=\"CommercialArea\",# color_discrete_map = color_discrete_map,\n",
    "           template=\"simple_white\")\n",
    "#fig.update_layout(autosize=True,width=1000,height=800)\n",
    "fig.update_layout(\n",
    "    xaxis_title=\"Sales Value(in Millions)\",\n",
    "    yaxis_title=\"Commercial Area\",\n",
    "    font_family=\"Arial Black\",\n",
    "    #font_family=\"Courier New\",\n",
    "    font_color=\"darkcyan\",\n",
    "    font_size=15,\n",
    "    title_font_family=\"Times New Roman\",\n",
    "    title_font_size=30,\n",
    "    title_font_color=\"red\",\n",
    "    legend_title_font_color=\"black\",\n",
    "    legend_font_size=10\n",
    ")\n",
    "layout = go.Layout(title='<b>Bold</b> <i>CA Sales Value by CA-WEST in 2022</i>')\n",
    "fig.update_traces(textfont=dict(size=8), textposition=\"outside\")\n",
    "#fig.update_traces(line_color='pink', line_width=5)\n",
    "fig.update_yaxes(title_font_color=\"black\")\n",
    "fig.update_xaxes(title_font_color=\"black\")\n",
    "fig.update_yaxes(tickfont_family=\"Arial Black\")\n",
    "fig.update_xaxes(tickfont_family=\"Arial Black\")\n",
    "fig.show()\n",
    "fig.write_html(\"C:/krish workspace/Indian Advisors/2022/interactiveplots_2022/CA Sales Value by CA-WEST in 2022.html\")"
   ]
  },
  {
   "cell_type": "markdown",
   "id": "ba9cc41b",
   "metadata": {},
   "source": [
    "# Using dash boards"
   ]
  },
  {
   "cell_type": "code",
   "execution_count": 138,
   "id": "e22452d0",
   "metadata": {},
   "outputs": [
    {
     "name": "stdout",
     "output_type": "stream",
     "text": [
      "Requirement already satisfied: plotly in c:\\users\\efnym\\anaconda3\\lib\\site-packages (5.9.0)\n",
      "Requirement already satisfied: tenacity>=6.2.0 in c:\\users\\efnym\\anaconda3\\lib\\site-packages (from plotly) (8.0.1)\n",
      "Note: you may need to restart the kernel to use updated packages.\n"
     ]
    }
   ],
   "source": [
    "pip install plotly"
   ]
  },
  {
   "cell_type": "code",
   "execution_count": 153,
   "id": "73ee3744",
   "metadata": {},
   "outputs": [
    {
     "name": "stdout",
     "output_type": "stream",
     "text": [
      "Note: you may need to restart the kernel to use updated packages.\n"
     ]
    },
    {
     "name": "stderr",
     "output_type": "stream",
     "text": [
      "WARNING: Retrying (Retry(total=4, connect=None, read=None, redirect=None, status=None)) after connection broken by 'NewConnectionError('<pip._vendor.urllib3.connection.HTTPSConnection object at 0x000002675D8A7D60>: Failed to establish a new connection: [Errno 11001] getaddrinfo failed')': /simple/jupyter-dash/\n",
      "WARNING: Retrying (Retry(total=3, connect=None, read=None, redirect=None, status=None)) after connection broken by 'NewConnectionError('<pip._vendor.urllib3.connection.HTTPSConnection object at 0x000002675D8A7FD0>: Failed to establish a new connection: [Errno 11001] getaddrinfo failed')': /simple/jupyter-dash/\n",
      "WARNING: Retrying (Retry(total=2, connect=None, read=None, redirect=None, status=None)) after connection broken by 'NewConnectionError('<pip._vendor.urllib3.connection.HTTPSConnection object at 0x000002675D8CD3D0>: Failed to establish a new connection: [Errno 11001] getaddrinfo failed')': /simple/jupyter-dash/\n",
      "WARNING: Retrying (Retry(total=1, connect=None, read=None, redirect=None, status=None)) after connection broken by 'NewConnectionError('<pip._vendor.urllib3.connection.HTTPSConnection object at 0x000002675D8CD580>: Failed to establish a new connection: [Errno 11001] getaddrinfo failed')': /simple/jupyter-dash/\n",
      "WARNING: Retrying (Retry(total=0, connect=None, read=None, redirect=None, status=None)) after connection broken by 'NewConnectionError('<pip._vendor.urllib3.connection.HTTPSConnection object at 0x000002675D8CD730>: Failed to establish a new connection: [Errno 11001] getaddrinfo failed')': /simple/jupyter-dash/\n",
      "ERROR: Could not find a version that satisfies the requirement jupyter-dash (from versions: none)\n",
      "ERROR: No matching distribution found for jupyter-dash\n"
     ]
    }
   ],
   "source": [
    "pip install jupyter-dashp"
   ]
  },
  {
   "cell_type": "code",
   "execution_count": 152,
   "id": "f01997b7",
   "metadata": {},
   "outputs": [
    {
     "ename": "ModuleNotFoundError",
     "evalue": "No module named 'jupyter_dash'",
     "output_type": "error",
     "traceback": [
      "\u001b[1;31m---------------------------------------------------------------------------\u001b[0m",
      "\u001b[1;31mModuleNotFoundError\u001b[0m                       Traceback (most recent call last)",
      "\u001b[1;32m~\\AppData\\Local\\Temp\\ipykernel_19136\\3313387406.py\u001b[0m in \u001b[0;36m<module>\u001b[1;34m\u001b[0m\n\u001b[0;32m      3\u001b[0m \u001b[1;32mimport\u001b[0m \u001b[0mplotly\u001b[0m\u001b[1;33m.\u001b[0m\u001b[0mexpress\u001b[0m \u001b[1;32mas\u001b[0m \u001b[0mpx\u001b[0m\u001b[1;33m\u001b[0m\u001b[1;33m\u001b[0m\u001b[0m\n\u001b[0;32m      4\u001b[0m \u001b[1;32mimport\u001b[0m \u001b[0mplotly\u001b[0m\u001b[1;33m.\u001b[0m\u001b[0mgraph_objects\u001b[0m \u001b[1;32mas\u001b[0m \u001b[0mgo\u001b[0m\u001b[1;33m\u001b[0m\u001b[1;33m\u001b[0m\u001b[0m\n\u001b[1;32m----> 5\u001b[1;33m \u001b[1;32mfrom\u001b[0m \u001b[0mjupyter_dash\u001b[0m \u001b[1;32mimport\u001b[0m \u001b[0mJupyterDash\u001b[0m\u001b[1;33m\u001b[0m\u001b[1;33m\u001b[0m\u001b[0m\n\u001b[0m\u001b[0;32m      6\u001b[0m \u001b[1;32mimport\u001b[0m \u001b[0mdash_core_components\u001b[0m \u001b[1;32mas\u001b[0m \u001b[0mdcc\u001b[0m\u001b[1;33m\u001b[0m\u001b[1;33m\u001b[0m\u001b[0m\n\u001b[0;32m      7\u001b[0m \u001b[1;32mimport\u001b[0m \u001b[0mdash_html_components\u001b[0m \u001b[1;32mas\u001b[0m \u001b[0mhtml\u001b[0m\u001b[1;33m\u001b[0m\u001b[1;33m\u001b[0m\u001b[0m\n",
      "\u001b[1;31mModuleNotFoundError\u001b[0m: No module named 'jupyter_dash'"
     ]
    }
   ],
   "source": [
    "import pandas as pd\n",
    "import numpy as np\n",
    "import plotly.express as px\n",
    "import plotly.graph_objects as go\n",
    "from jupyter_dash import JupyterDash\n",
    "import dash_core_components as dcc\n",
    "import dash_html_components as html\n",
    "from dash.dependencies import Input, Output"
   ]
  },
  {
   "cell_type": "markdown",
   "id": "7b144a26",
   "metadata": {},
   "source": [
    "# using count to find no of advisors in 2021"
   ]
  },
  {
   "cell_type": "code",
   "execution_count": 90,
   "id": "e1fbfe7d",
   "metadata": {},
   "outputs": [
    {
     "data": {
      "text/html": [
       "<div>\n",
       "<style scoped>\n",
       "    .dataframe tbody tr th:only-of-type {\n",
       "        vertical-align: middle;\n",
       "    }\n",
       "\n",
       "    .dataframe tbody tr th {\n",
       "        vertical-align: top;\n",
       "    }\n",
       "\n",
       "    .dataframe thead th {\n",
       "        text-align: right;\n",
       "    }\n",
       "</style>\n",
       "<table border=\"1\" class=\"dataframe\">\n",
       "  <thead>\n",
       "    <tr style=\"text-align: right;\">\n",
       "      <th></th>\n",
       "      <th>index</th>\n",
       "      <th>Advisor name</th>\n",
       "      <th>Retailer Name</th>\n",
       "      <th>Retailer ID</th>\n",
       "      <th>Advisor ID</th>\n",
       "      <th>Month of Order Intent Created Date</th>\n",
       "      <th>Advisor Phone Number</th>\n",
       "      <th>Country Code</th>\n",
       "      <th>Hierarchy Level 3</th>\n",
       "      <th>Hierarchy Level 2</th>\n",
       "      <th>...</th>\n",
       "      <th>Volume Cancelled</th>\n",
       "      <th>Volume Purchased</th>\n",
       "      <th>Returned Volume</th>\n",
       "      <th>Avg Volume Sold per Farmers</th>\n",
       "      <th>Total Intent Value</th>\n",
       "      <th>Cancelled Order Value</th>\n",
       "      <th>Sales Value</th>\n",
       "      <th>Avg Sales per Farmer</th>\n",
       "      <th>Actual Commission</th>\n",
       "      <th>Intended Commission</th>\n",
       "    </tr>\n",
       "  </thead>\n",
       "  <tbody>\n",
       "    <tr>\n",
       "      <th>0</th>\n",
       "      <td>1</td>\n",
       "      <td>A Nagaraju</td>\n",
       "      <td>NaN</td>\n",
       "      <td>NaN</td>\n",
       "      <td>47071 IN</td>\n",
       "      <td>August</td>\n",
       "      <td>9000696331</td>\n",
       "      <td>IN</td>\n",
       "      <td>NaN</td>\n",
       "      <td>NaN</td>\n",
       "      <td>...</td>\n",
       "      <td>0.0</td>\n",
       "      <td>0.0</td>\n",
       "      <td>0.0</td>\n",
       "      <td>0.0</td>\n",
       "      <td>4140.0</td>\n",
       "      <td>0.0</td>\n",
       "      <td>0.0</td>\n",
       "      <td>NaN</td>\n",
       "      <td>0.0</td>\n",
       "      <td>102.0</td>\n",
       "    </tr>\n",
       "    <tr>\n",
       "      <th>1</th>\n",
       "      <td>2</td>\n",
       "      <td>A Nagaraju</td>\n",
       "      <td>NaN</td>\n",
       "      <td>NaN</td>\n",
       "      <td>47071 IN</td>\n",
       "      <td>August</td>\n",
       "      <td>9000696331</td>\n",
       "      <td>IN</td>\n",
       "      <td>NaN</td>\n",
       "      <td>NaN</td>\n",
       "      <td>...</td>\n",
       "      <td>3.0</td>\n",
       "      <td>0.0</td>\n",
       "      <td>0.0</td>\n",
       "      <td>0.0</td>\n",
       "      <td>6294.0</td>\n",
       "      <td>6294.0</td>\n",
       "      <td>0.0</td>\n",
       "      <td>NaN</td>\n",
       "      <td>0.0</td>\n",
       "      <td>156.0</td>\n",
       "    </tr>\n",
       "    <tr>\n",
       "      <th>2</th>\n",
       "      <td>3</td>\n",
       "      <td>A Nagaraju</td>\n",
       "      <td>NaN</td>\n",
       "      <td>NaN</td>\n",
       "      <td>47071 IN</td>\n",
       "      <td>August</td>\n",
       "      <td>9000696331</td>\n",
       "      <td>IN</td>\n",
       "      <td>NaN</td>\n",
       "      <td>NaN</td>\n",
       "      <td>...</td>\n",
       "      <td>0.0</td>\n",
       "      <td>0.0</td>\n",
       "      <td>0.0</td>\n",
       "      <td>0.0</td>\n",
       "      <td>1062.0</td>\n",
       "      <td>0.0</td>\n",
       "      <td>0.0</td>\n",
       "      <td>NaN</td>\n",
       "      <td>0.0</td>\n",
       "      <td>26.0</td>\n",
       "    </tr>\n",
       "    <tr>\n",
       "      <th>3</th>\n",
       "      <td>4</td>\n",
       "      <td>A Nagaraju</td>\n",
       "      <td>NaN</td>\n",
       "      <td>NaN</td>\n",
       "      <td>47071 IN</td>\n",
       "      <td>September</td>\n",
       "      <td>9000696331</td>\n",
       "      <td>IN</td>\n",
       "      <td>NaN</td>\n",
       "      <td>NaN</td>\n",
       "      <td>...</td>\n",
       "      <td>0.0</td>\n",
       "      <td>0.0</td>\n",
       "      <td>0.0</td>\n",
       "      <td>0.0</td>\n",
       "      <td>4140.0</td>\n",
       "      <td>0.0</td>\n",
       "      <td>0.0</td>\n",
       "      <td>NaN</td>\n",
       "      <td>0.0</td>\n",
       "      <td>102.0</td>\n",
       "    </tr>\n",
       "    <tr>\n",
       "      <th>4</th>\n",
       "      <td>5</td>\n",
       "      <td>A Nagaraju</td>\n",
       "      <td>NaN</td>\n",
       "      <td>NaN</td>\n",
       "      <td>47071 IN</td>\n",
       "      <td>October</td>\n",
       "      <td>9000696331</td>\n",
       "      <td>IN</td>\n",
       "      <td>NaN</td>\n",
       "      <td>NaN</td>\n",
       "      <td>...</td>\n",
       "      <td>0.0</td>\n",
       "      <td>0.0</td>\n",
       "      <td>0.0</td>\n",
       "      <td>0.0</td>\n",
       "      <td>10490.0</td>\n",
       "      <td>0.0</td>\n",
       "      <td>0.0</td>\n",
       "      <td>NaN</td>\n",
       "      <td>0.0</td>\n",
       "      <td>260.0</td>\n",
       "    </tr>\n",
       "  </tbody>\n",
       "</table>\n",
       "<p>5 rows × 35 columns</p>\n",
       "</div>"
      ],
      "text/plain": [
       "  index Advisor name Retailer Name Retailer ID Advisor ID  \\\n",
       "0     1   A Nagaraju           NaN         NaN   47071 IN   \n",
       "1     2   A Nagaraju           NaN         NaN   47071 IN   \n",
       "2     3   A Nagaraju           NaN         NaN   47071 IN   \n",
       "3     4   A Nagaraju           NaN         NaN   47071 IN   \n",
       "4     5   A Nagaraju           NaN         NaN   47071 IN   \n",
       "\n",
       "  Month of Order Intent Created Date  Advisor Phone Number Country Code   \\\n",
       "0                             August            9000696331            IN   \n",
       "1                             August            9000696331            IN   \n",
       "2                             August            9000696331            IN   \n",
       "3                          September            9000696331            IN   \n",
       "4                            October            9000696331            IN   \n",
       "\n",
       "  Hierarchy Level 3 Hierarchy Level 2  ... Volume Cancelled Volume Purchased  \\\n",
       "0               NaN               NaN  ...              0.0              0.0   \n",
       "1               NaN               NaN  ...              3.0              0.0   \n",
       "2               NaN               NaN  ...              0.0              0.0   \n",
       "3               NaN               NaN  ...              0.0              0.0   \n",
       "4               NaN               NaN  ...              0.0              0.0   \n",
       "\n",
       "  Returned Volume Avg Volume Sold per Farmers Total Intent Value  \\\n",
       "0             0.0                         0.0             4140.0   \n",
       "1             0.0                         0.0             6294.0   \n",
       "2             0.0                         0.0             1062.0   \n",
       "3             0.0                         0.0             4140.0   \n",
       "4             0.0                         0.0            10490.0   \n",
       "\n",
       "  Cancelled Order Value  Sales Value  Avg Sales per Farmer  Actual Commission  \\\n",
       "0                   0.0          0.0                   NaN                0.0   \n",
       "1                6294.0          0.0                   NaN                0.0   \n",
       "2                   0.0          0.0                   NaN                0.0   \n",
       "3                   0.0          0.0                   NaN                0.0   \n",
       "4                   0.0          0.0                   NaN                0.0   \n",
       "\n",
       "   Intended Commission  \n",
       "0                102.0  \n",
       "1                156.0  \n",
       "2                 26.0  \n",
       "3                102.0  \n",
       "4                260.0  \n",
       "\n",
       "[5 rows x 35 columns]"
      ]
     },
     "execution_count": 90,
     "metadata": {},
     "output_type": "execute_result"
    }
   ],
   "source": [
    "data1.head()"
   ]
  },
  {
   "cell_type": "code",
   "execution_count": 94,
   "id": "026f73ab",
   "metadata": {},
   "outputs": [],
   "source": [
    "N=data1.groupby(['Advisor name', 'Advisor ID'])['Advisor Phone Number'].nunique()"
   ]
  },
  {
   "cell_type": "code",
   "execution_count": 95,
   "id": "b14704fd",
   "metadata": {},
   "outputs": [
    {
     "data": {
      "text/plain": [
       "Advisor name            Advisor ID\n",
       "A Nagaraju              47071 IN      1\n",
       "ABHISEK MANDAL          56762 IN      1\n",
       "ADESH BALASAHEB SARODE  42270 IN      1\n",
       "ADINARAYANA K           98363 IN      1\n",
       "ADURI AKHIL TEJA        184616 IN     1\n",
       "                                     ..\n",
       "vikas Thakur            43615 IN      1\n",
       "vikas chaudhary         56611 IN      1\n",
       "vishnu Makwana          48333 IN      1\n",
       "vishnu jat              58345 IN      1\n",
       "vli mohmad Mohammad     43611 IN      1\n",
       "Name: Advisor Phone Number, Length: 1842, dtype: int64"
      ]
     },
     "execution_count": 95,
     "metadata": {},
     "output_type": "execute_result"
    }
   ],
   "source": [
    "N"
   ]
  },
  {
   "cell_type": "code",
   "execution_count": 96,
   "id": "dab85f17",
   "metadata": {},
   "outputs": [
    {
     "data": {
      "text/plain": [
       "1842"
      ]
     },
     "execution_count": 96,
     "metadata": {},
     "output_type": "execute_result"
    }
   ],
   "source": [
    "N.count()"
   ]
  },
  {
   "cell_type": "code",
   "execution_count": 97,
   "id": "2301e09a",
   "metadata": {},
   "outputs": [],
   "source": [
    "#saving no of advisors data in 2021 \n",
    "file_name4='ADVISORS2021_total.xlsx'\n",
    "N.to_excel(file_name4)"
   ]
  },
  {
   "cell_type": "code",
   "execution_count": 5,
   "id": "b3f58eaf",
   "metadata": {},
   "outputs": [
    {
     "name": "stdout",
     "output_type": "stream",
     "text": [
      "Requirement already satisfied: pandas-profiling in c:\\users\\efnym\\anaconda3\\lib\\site-packages (3.6.1)\n",
      "Requirement already satisfied: statsmodels<0.14,>=0.13.2 in c:\\users\\efnym\\anaconda3\\lib\\site-packages (from pandas-profiling) (0.13.2)\n",
      "Requirement already satisfied: requests<2.29,>=2.24.0 in c:\\users\\efnym\\anaconda3\\lib\\site-packages (from pandas-profiling) (2.28.1)\n",
      "Requirement already satisfied: pydantic<1.11,>=1.8.1 in c:\\users\\efnym\\anaconda3\\lib\\site-packages (from pandas-profiling) (1.10.2)\n",
      "Requirement already satisfied: matplotlib<3.7,>=3.2 in c:\\users\\efnym\\anaconda3\\lib\\site-packages (from pandas-profiling) (3.5.2)\n",
      "Requirement already satisfied: visions[type_image_path]==0.7.5 in c:\\users\\efnym\\anaconda3\\lib\\site-packages (from pandas-profiling) (0.7.5)\n",
      "Requirement already satisfied: scipy<1.10,>=1.4.1 in c:\\users\\efnym\\anaconda3\\lib\\site-packages (from pandas-profiling) (1.9.1)\n",
      "Requirement already satisfied: PyYAML<6.1,>=5.0.0 in c:\\users\\efnym\\anaconda3\\lib\\site-packages (from pandas-profiling) (6.0)\n",
      "Requirement already satisfied: htmlmin==0.1.12 in c:\\users\\efnym\\anaconda3\\lib\\site-packages (from pandas-profiling) (0.1.12)\n",
      "Requirement already satisfied: jinja2<3.2,>=2.11.1 in c:\\users\\efnym\\anaconda3\\lib\\site-packages (from pandas-profiling) (2.11.3)\n",
      "Requirement already satisfied: tqdm<4.65,>=4.48.2 in c:\\users\\efnym\\anaconda3\\lib\\site-packages (from pandas-profiling) (4.64.1)\n",
      "Requirement already satisfied: typeguard<2.14,>=2.13.2 in c:\\users\\efnym\\anaconda3\\lib\\site-packages (from pandas-profiling) (2.13.3)\n",
      "Requirement already satisfied: pandas!=1.4.0,<1.6,>1.1 in c:\\users\\efnym\\anaconda3\\lib\\site-packages (from pandas-profiling) (1.4.4)\n",
      "Requirement already satisfied: numpy<1.24,>=1.16.0 in c:\\users\\efnym\\anaconda3\\lib\\site-packages (from pandas-profiling) (1.21.5)\n",
      "Requirement already satisfied: multimethod<1.10,>=1.4 in c:\\users\\efnym\\anaconda3\\lib\\site-packages (from pandas-profiling) (1.9.1)\n",
      "Requirement already satisfied: seaborn<0.13,>=0.10.1 in c:\\users\\efnym\\anaconda3\\lib\\site-packages (from pandas-profiling) (0.11.2)\n",
      "Requirement already satisfied: phik<0.13,>=0.11.1 in c:\\users\\efnym\\anaconda3\\lib\\site-packages (from pandas-profiling) (0.12.3)\n",
      "Requirement already satisfied: networkx>=2.4 in c:\\users\\efnym\\anaconda3\\lib\\site-packages (from visions[type_image_path]==0.7.5->pandas-profiling) (2.8.4)\n",
      "Requirement already satisfied: tangled-up-in-unicode>=0.0.4 in c:\\users\\efnym\\anaconda3\\lib\\site-packages (from visions[type_image_path]==0.7.5->pandas-profiling) (0.2.0)\n",
      "Requirement already satisfied: attrs>=19.3.0 in c:\\users\\efnym\\anaconda3\\lib\\site-packages (from visions[type_image_path]==0.7.5->pandas-profiling) (21.4.0)\n",
      "Requirement already satisfied: Pillow in c:\\users\\efnym\\anaconda3\\lib\\site-packages (from visions[type_image_path]==0.7.5->pandas-profiling) (9.2.0)\n",
      "Requirement already satisfied: imagehash in c:\\users\\efnym\\anaconda3\\lib\\site-packages (from visions[type_image_path]==0.7.5->pandas-profiling) (4.3.1)\n",
      "Requirement already satisfied: MarkupSafe>=0.23 in c:\\users\\efnym\\anaconda3\\lib\\site-packages (from jinja2<3.2,>=2.11.1->pandas-profiling) (2.0.1)\n",
      "Requirement already satisfied: cycler>=0.10 in c:\\users\\efnym\\anaconda3\\lib\\site-packages (from matplotlib<3.7,>=3.2->pandas-profiling) (0.11.0)\n",
      "Requirement already satisfied: packaging>=20.0 in c:\\users\\efnym\\anaconda3\\lib\\site-packages (from matplotlib<3.7,>=3.2->pandas-profiling) (21.3)\n",
      "Requirement already satisfied: fonttools>=4.22.0 in c:\\users\\efnym\\anaconda3\\lib\\site-packages (from matplotlib<3.7,>=3.2->pandas-profiling) (4.25.0)\n",
      "Requirement already satisfied: pyparsing>=2.2.1 in c:\\users\\efnym\\anaconda3\\lib\\site-packages (from matplotlib<3.7,>=3.2->pandas-profiling) (3.0.9)\n",
      "Requirement already satisfied: kiwisolver>=1.0.1 in c:\\users\\efnym\\anaconda3\\lib\\site-packages (from matplotlib<3.7,>=3.2->pandas-profiling) (1.4.2)\n",
      "Requirement already satisfied: python-dateutil>=2.7 in c:\\users\\efnym\\anaconda3\\lib\\site-packages (from matplotlib<3.7,>=3.2->pandas-profiling) (2.8.2)\n",
      "Requirement already satisfied: pytz>=2020.1 in c:\\users\\efnym\\anaconda3\\lib\\site-packages (from pandas!=1.4.0,<1.6,>1.1->pandas-profiling) (2022.1)\n",
      "Requirement already satisfied: joblib>=0.14.1 in c:\\users\\efnym\\anaconda3\\lib\\site-packages (from phik<0.13,>=0.11.1->pandas-profiling) (1.1.0)\n",
      "Requirement already satisfied: typing-extensions>=4.1.0 in c:\\users\\efnym\\anaconda3\\lib\\site-packages (from pydantic<1.11,>=1.8.1->pandas-profiling) (4.3.0)\n",
      "Requirement already satisfied: certifi>=2017.4.17 in c:\\users\\efnym\\anaconda3\\lib\\site-packages (from requests<2.29,>=2.24.0->pandas-profiling) (2022.9.14)\n",
      "Requirement already satisfied: idna<4,>=2.5 in c:\\users\\efnym\\anaconda3\\lib\\site-packages (from requests<2.29,>=2.24.0->pandas-profiling) (3.3)\n",
      "Requirement already satisfied: urllib3<1.27,>=1.21.1 in c:\\users\\efnym\\anaconda3\\lib\\site-packages (from requests<2.29,>=2.24.0->pandas-profiling) (1.26.11)\n",
      "Requirement already satisfied: charset-normalizer<3,>=2 in c:\\users\\efnym\\anaconda3\\lib\\site-packages (from requests<2.29,>=2.24.0->pandas-profiling) (2.0.4)\n",
      "Requirement already satisfied: patsy>=0.5.2 in c:\\users\\efnym\\anaconda3\\lib\\site-packages (from statsmodels<0.14,>=0.13.2->pandas-profiling) (0.5.2)\n",
      "Requirement already satisfied: colorama in c:\\users\\efnym\\anaconda3\\lib\\site-packages (from tqdm<4.65,>=4.48.2->pandas-profiling) (0.4.5)\n",
      "Requirement already satisfied: six in c:\\users\\efnym\\anaconda3\\lib\\site-packages (from patsy>=0.5.2->statsmodels<0.14,>=0.13.2->pandas-profiling) (1.16.0)\n",
      "Requirement already satisfied: PyWavelets in c:\\users\\efnym\\anaconda3\\lib\\site-packages (from imagehash->visions[type_image_path]==0.7.5->pandas-profiling) (1.3.0)\n",
      "Note: you may need to restart the kernel to use updated packages.\n"
     ]
    }
   ],
   "source": [
    "pip install pandas-profiling"
   ]
  },
  {
   "cell_type": "code",
   "execution_count": null,
   "id": "42fba727",
   "metadata": {},
   "outputs": [],
   "source": []
  },
  {
   "cell_type": "code",
   "execution_count": null,
   "id": "39aaae60",
   "metadata": {},
   "outputs": [],
   "source": [
    "#profile=ProfileReport(df, title='Pandas Profiling Report', explorative=True)\n",
    "#profile.to_notebook_iframe()\n",
    "#profile.to_file(\"EDA_report_Advisors.html\")"
   ]
  }
 ],
 "metadata": {
  "kernelspec": {
   "display_name": "Python 3 (ipykernel)",
   "language": "python",
   "name": "python3"
  },
  "language_info": {
   "codemirror_mode": {
    "name": "ipython",
    "version": 3
   },
   "file_extension": ".py",
   "mimetype": "text/x-python",
   "name": "python",
   "nbconvert_exporter": "python",
   "pygments_lexer": "ipython3",
   "version": "3.9.13"
  }
 },
 "nbformat": 4,
 "nbformat_minor": 5
}
